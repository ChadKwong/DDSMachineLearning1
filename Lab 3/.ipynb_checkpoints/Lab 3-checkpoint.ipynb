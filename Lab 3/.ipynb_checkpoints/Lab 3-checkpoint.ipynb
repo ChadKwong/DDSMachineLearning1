{
 "cells": [
  {
   "cell_type": "markdown",
   "id": "ff687ea3",
   "metadata": {},
   "source": [
    "# Lab 3\n",
    "\n",
    "### Team Members:\n",
    " - Alex Lopez\n",
    " - Chris Haub\n",
    " - Erin McClure-Price\n",
    " - Chad Kwong"
   ]
  },
  {
   "cell_type": "markdown",
   "id": "0a3f66b8",
   "metadata": {},
   "source": [
    "#### Library Imports"
   ]
  },
  {
   "cell_type": "code",
   "execution_count": 1,
   "id": "a725e35e",
   "metadata": {},
   "outputs": [
    {
     "ename": "ModuleNotFoundError",
     "evalue": "No module named 'turicreate'",
     "output_type": "error",
     "traceback": [
      "\u001b[1;31m---------------------------------------------------------------------------\u001b[0m",
      "\u001b[1;31mModuleNotFoundError\u001b[0m                       Traceback (most recent call last)",
      "\u001b[1;32m~\\AppData\\Local\\Temp\\ipykernel_13124\\4051344229.py\u001b[0m in \u001b[0;36m<module>\u001b[1;34m\u001b[0m\n\u001b[0;32m      3\u001b[0m \u001b[1;32mimport\u001b[0m \u001b[0mmatplotlib\u001b[0m\u001b[1;33m.\u001b[0m\u001b[0mpyplot\u001b[0m \u001b[1;32mas\u001b[0m \u001b[0mplt\u001b[0m\u001b[1;33m\u001b[0m\u001b[1;33m\u001b[0m\u001b[0m\n\u001b[0;32m      4\u001b[0m \u001b[1;32mimport\u001b[0m \u001b[0mseaborn\u001b[0m \u001b[1;32mas\u001b[0m \u001b[0msns\u001b[0m\u001b[1;33m\u001b[0m\u001b[1;33m\u001b[0m\u001b[0m\n\u001b[1;32m----> 5\u001b[1;33m \u001b[1;32mimport\u001b[0m \u001b[0mturicreate\u001b[0m \u001b[1;32mas\u001b[0m \u001b[0mtc\u001b[0m\u001b[1;33m\u001b[0m\u001b[1;33m\u001b[0m\u001b[0m\n\u001b[0m\u001b[0;32m      6\u001b[0m \u001b[1;32mimport\u001b[0m \u001b[0mwarnings\u001b[0m\u001b[1;33m\u001b[0m\u001b[1;33m\u001b[0m\u001b[0m\n",
      "\u001b[1;31mModuleNotFoundError\u001b[0m: No module named 'turicreate'"
     ]
    }
   ],
   "source": [
    "import pandas as pd\n",
    "import numpy as np\n",
    "import matplotlib.pyplot as plt\n",
    "import seaborn as sns\n",
    "import turicreate as tc\n",
    "import warnings\n"
   ]
  },
  {
   "cell_type": "markdown",
   "id": "45bd9a18",
   "metadata": {},
   "source": [
    "#### Data Import"
   ]
  },
  {
   "cell_type": "code",
   "execution_count": null,
   "id": "ce513607",
   "metadata": {},
   "outputs": [],
   "source": [
    "%%time\n",
    "\n",
    "#Loading all data file separately \n",
    "vle = pd.read_csv('vle.csv')\n",
    "assessments = pd.read_csv('assessments.csv')\n",
    "courses = pd.read_csv('courses.csv')\n",
    "studentAssessments = pd.read_csv('studentAssessment.csv')\n",
    "studentInfo = pd.read_csv('studentInfo.csv')\n",
    "studentRegistration = pd.read_csv('studentRegistration.csv')\n",
    "studentVle = pd.read_csv('studentVle.csv')"
   ]
  },
  {
   "cell_type": "code",
   "execution_count": null,
   "id": "b4583f14",
   "metadata": {},
   "outputs": [],
   "source": [
    "print('studentVle: \\n',studentVle.head())\n",
    "print('studentVle shape: ',studentVle.shape,'\\n\\n')\n",
    "\n",
    "print('assessments: \\n',assessments.head())\n",
    "print('assessments shape: ', assessments.shape, '\\n\\n')\n",
    "\n",
    "print('courses: \\n',courses.head())\n",
    "print('courses shape', courses.shape, '\\n\\n')\n",
    "\n",
    "print('studentAssessments: \\n', studentAssessments.head())\n",
    "print('studentAssessments shape: ', studentAssessments.shape,'\\n\\n')\n",
    "\n",
    "print('studentInfo: \\n', studentInfo.head())\n",
    "print('studentInfo shape', studentInfo.shape,'\\n\\n')\n",
    "\n",
    "print('studentRegistration: \\n', studentRegistration.head())\n",
    "print('studentRegistration shape: ', studentRegistration.shape,'\\n\\n')\n",
    "\n",
    "print('vle: \\n', vle.head())\n",
    "print('vle shape: ', vle.shape,'\\n\\n')"
   ]
  },
  {
   "cell_type": "code",
   "execution_count": null,
   "id": "dc15762f",
   "metadata": {},
   "outputs": [],
   "source": [
    "%%time\n",
    "dfFull = pd.merge(studentVle, studentInfo, on=['code_module', 'code_presentation', 'id_student'])\n",
    "print(dfFull.shape)\n",
    "dfFull.head()"
   ]
  },
  {
   "cell_type": "markdown",
   "id": "946add74",
   "metadata": {},
   "source": [
    "# Business Understanding 1 #\n",
    "*Describe the purpose of the data set you selected (i.e., why was this data collected in the first place?). How will you measure the effectiveness of a good algorithm? Why does your chosen validation method make sense for this specific dataset and the stakeholders needs?*"
   ]
  },
  {
   "cell_type": "markdown",
   "id": "d0992a3b",
   "metadata": {},
   "source": [
    "# Data Understanding 1 #\n",
    "*Describe the meaning and type of data (scale, values, etc.) for each attribute in the data file. Verify data quality: Are there missing values? Duplicate data? Outliers? Are those mistakes? How do you deal with these problems?*"
   ]
  },
  {
   "cell_type": "markdown",
   "id": "d5a0e39c",
   "metadata": {},
   "source": [
    " - VLE stands for Virtual Learning Environment\n",
    " - VLE table records interactions with VLE \n",
    " - 32,593 students\n",
    " - 22 courses\n",
    " "
   ]
  },
  {
   "cell_type": "code",
   "execution_count": null,
   "id": "54a0b5fc",
   "metadata": {},
   "outputs": [],
   "source": [
    "%%time\n",
    "# Randomly sampling 30,000 records StudentVle Table with Million Rows.\n",
    "studentVleSample = studentVle.sample(n=35000, random_state = 777)\n",
    "print(studentVleSample.shape)\n",
    "\n",
    "# vle\n",
    "# assessments\n",
    "# courses\n",
    "# studentAssessments\n",
    "# studentInfo\n",
    "# studentRegistration\n",
    "# studentVleSample\n",
    "\n",
    "df = pd.merge(studentVleSample, studentInfo, on=['code_module', 'code_presentation', 'id_student'])\n",
    "df2 = pd.merge(studentAssessments, assessments, on='id_assessment')\n",
    "df = pd.merge(df, df2, on=['code_module', 'code_presentation', 'id_student'])\n",
    "print(df.shape)\n",
    "df.head()"
   ]
  },
  {
   "cell_type": "markdown",
   "id": "9edba66b",
   "metadata": {},
   "source": [
    "# Data Understanding 2 #\n",
    "*Visualize the any important attributes appropriately. Important: Provide an interpretation for any charts or graphs.*"
   ]
  },
  {
   "cell_type": "markdown",
   "id": "c694dbac",
   "metadata": {},
   "source": [
    "# Modeling and Evaluation 1 #\n",
    "*Train and adjust parameters*"
   ]
  },
  {
   "cell_type": "markdown",
   "id": "e9ff4d53",
   "metadata": {},
   "source": [
    "# Modeling and Evaluation 2\t#\n",
    "*Evaluate and Compare*"
   ]
  },
  {
   "cell_type": "markdown",
   "id": "78f96566",
   "metadata": {},
   "source": [
    "# Modeling and Evaluation 3 #\n",
    "*Visualize Results*"
   ]
  },
  {
   "cell_type": "markdown",
   "id": "c497ac65",
   "metadata": {},
   "source": [
    "# Modeling and Evaluation 4 #\n",
    "*Summarize the Ramifications*"
   ]
  },
  {
   "cell_type": "markdown",
   "id": "80334583",
   "metadata": {},
   "source": [
    "# Deployment #\n",
    "*Be critical of your performance and tell the reader how you current model might be usable by other parties. Did you achieve your goals? If not, can you reign in the utility of your modeling? How useful is your model for interested parties (i.e., the companies or organizations that might want to use it)? How would your deploy your model for interested parties? What other data should be collected? How often would the model need to be updated, etc.?*"
   ]
  },
  {
   "cell_type": "markdown",
   "id": "a3a9f190",
   "metadata": {},
   "source": [
    "# Exceptional Work #"
   ]
  }
 ],
 "metadata": {
  "kernelspec": {
   "display_name": "Python 3 (ipykernel)",
   "language": "python",
   "name": "python3"
  },
  "language_info": {
   "codemirror_mode": {
    "name": "ipython",
    "version": 3
   },
   "file_extension": ".py",
   "mimetype": "text/x-python",
   "name": "python",
   "nbconvert_exporter": "python",
   "pygments_lexer": "ipython3",
   "version": "3.9.13"
  }
 },
 "nbformat": 4,
 "nbformat_minor": 5
}
