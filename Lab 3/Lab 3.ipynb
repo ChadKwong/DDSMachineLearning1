{
 "cells": [
  {
   "cell_type": "markdown",
   "id": "ff687ea3",
   "metadata": {},
   "source": [
    "# Lab 3\n",
    "\n",
    "### Team Members:\n",
    " - Alex Lopez\n",
    " - Chris Haub\n",
    " - Erin McClure-Price\n",
    " - Chad Kwong"
   ]
  },
  {
   "cell_type": "markdown",
   "id": "0a3f66b8",
   "metadata": {},
   "source": [
    "#### Library Imports"
   ]
  },
  {
   "cell_type": "code",
   "execution_count": 1,
   "id": "a725e35e",
   "metadata": {},
   "outputs": [],
   "source": [
    "import pandas as pd\n",
    "import numpy as np\n",
    "import matplotlib.pyplot as plt\n",
    "import seaborn as sns\n",
    "import warnings\n",
    "#import turicreate as tc\n",
    "from sklearn.preprocessing import StandardScaler\n",
    "import plotly.express as px #EMP used for some outlier stuff\n",
    "from scipy import stats #EMP used for some outlier stuff\n",
    "\n",
    "# Setting Random State for replicability\n",
    "randomState = 777"
   ]
  },
  {
   "cell_type": "markdown",
   "id": "45bd9a18",
   "metadata": {},
   "source": [
    "#### Data Import"
   ]
  },
  {
   "cell_type": "code",
   "execution_count": 2,
   "id": "ce513607",
   "metadata": {},
   "outputs": [
    {
     "name": "stdout",
     "output_type": "stream",
     "text": [
      "CPU times: user 4.57 s, sys: 697 ms, total: 5.26 s\n",
      "Wall time: 5.3 s\n"
     ]
    }
   ],
   "source": [
    "%%time\n",
    "\n",
    "#Loading all data file separately \n",
    "vle = pd.read_csv('./anonymiseddata/vle.csv')\n",
    "assessments = pd.read_csv('./anonymiseddata/assessments.csv')\n",
    "courses = pd.read_csv('./anonymiseddata/courses.csv')\n",
    "studentAssessments = pd.read_csv('./anonymiseddata/studentAssessment.csv')\n",
    "studentInfo = pd.read_csv('./anonymiseddata/studentInfo.csv')\n",
    "studentRegistration = pd.read_csv('./anonymiseddata/studentRegistration.csv')\n",
    "studentVle = pd.read_csv('./anonymiseddata/studentVle.csv')"
   ]
  },
  {
   "cell_type": "markdown",
   "id": "946add74",
   "metadata": {},
   "source": [
    "# Business Understanding 1 #\n",
    "*Describe the purpose of the data set you selected (i.e., why was this data collected in the first place?). How will you measure the effectiveness of a good algorithm? Why does your chosen validation method make sense for this specific dataset and the stakeholders needs?*\n",
    "\n",
    "For Lab 3 we chose to use the \"Open University Learning Analytics Dataset\" (OULAD) which is an anonymized collection of information acquired from online students who were enrolled in the Open University (Milton Keynes, England) in 2013-2014. The data includes student demographic and registration information, as well as assessment results and interactions with the Virtual Learning Environment (VLE). There are multiple ways that the OULAD can be utilized, including prediction of grade results, better understanding of the factors that influence online student outcomes, or to compare online student results to in-person student results. The reason why this dataset is important is because it can be used by educators and universities to increase student success within an online learning environment. \n",
    "\n",
    "Our goal for Lab 3 was to explore the OULAD using K-Means clustering in order to find trends and insight into student learning styles. We chose K-Means clustering because it is an unsupervised algorithm that is straightforward to carry out, scalable, and can be used for large datasets. We chose to evaluate the clustering model using the **Dunn Index..?**, which calculates the closest distance between two clusters divided by the largest distance between two clusers. The Dunn Index has a range of 0 to 1, wherein the closer the value is to 1 the better the clustering. We felt that the Dunn Index was ideal because it provides a numeric value to the fitness of a cluster rather than through visual analysis.\n",
    "\n",
    "\n",
    "##### References\n",
    "[Kaggle: OULAD](https://www.kaggle.com/datasets/rocki37/open-university-learning-analytics-dataset)\n",
    "\n",
    "[K-Means Clustering and Dunn Index Implementaion \n",
    "From Scratch]( https://mayankdw.medium.com/k-means-clustering-and-dunn-index-implementaion-from-scratch-9c66573bfe90)\n",
    "\n",
    "[Dunn Index for K-Means Clustering Evaluation](https://python-bloggers.com/2022/03/dunn-index-for-k-means-clustering-evaluation/)\n",
    "\n",
    "[A Simple Explanation of K-Means Clustering](https://www.analyticsvidhya.com/blog/2020/10/a-simple-explanation-of-k-means-clustering/)"
   ]
  },
  {
   "cell_type": "markdown",
   "id": "05d06c26",
   "metadata": {},
   "source": [
    "# Data Understanding 1 #\n",
    "*Describe the meaning and type of data (scale, values, etc.) for each attribute in the data file. Verify data quality: Are there missing values? Duplicate data? Outliers? Are those mistakes? How do you deal with these problems?*"
   ]
  },
  {
   "cell_type": "markdown",
   "id": "64a069ac",
   "metadata": {},
   "source": [
    "### Data Description\n",
    "\n",
    "The OULAD dataset is derived from a relational database schema, and contains seven CSV files that encompasses data collected from 32,593 students that were enrolled in 22 courses. There are a total of 43 variables and over **X** million instances. The CSV files and their contents are described below, information regarding each variable was taken from [HERE](https://analyse.kmi.open.ac.uk/open_dataset). It should be noted that \"modules\" refer to university courses and VLE refers to \"virtual learning environment\".\n",
    "\n",
    "#### Courses:\n",
    "* code_module **(categorical)** - code for the module, which serves as the identifier\n",
    "* code_presentation  **(categorical)**– code name of the presentation. It consists of the year and “B” for the presentation starting in February and “J” for the presentation starting in October.\n",
    "* length **(numeric)** - length of the module-presentation in days.\n",
    "\n",
    "#### Assessments\n",
    "* code_module **(categorical)** – identification code of the module, to which the assessment belongs.\n",
    "* code_presentation **(categorical)** - identification code of the presentation, to which the assessment belongs.\n",
    "* id_assessment **(numeric)** – identification number of the assessment.\n",
    "* assessment_type **(categorical)** – type of assessment. Three types of assessments exist: Tutor Marked Assessment (TMA), Computer Marked Assessment (CMA) and Final Exam (Exam).\n",
    "* date **(numeric)** – information about the final submission date of the assessment calculated as the number of days since the start of the module-presentation. The starting date of the presentation has number 0 (zero).\n",
    "* weight **(numeric)** - weight of the assessment in %. Typically, Exams are treated separately and have the weight 100%; the sum of all other assessments is 100%.\n",
    "\n",
    "#### VLE\n",
    "* id_site **(numeric)** – an identification number of the material.\n",
    "* code_module **(categorical)** – an identification code for module.\n",
    "* code_presentation **(categorical)** - the identification code of presentation.\n",
    "* activity_type **(categorical)** – the role associated with the module material.\n",
    "* week_from **(numeric)** – the week from which the material is planned to be used.\n",
    "* week_to **(numeric)** – week until which the material is planned to be used.;\n",
    "\n",
    "#### StudentInfo\n",
    "* code_module **(categorical)** – an identification code for a module on which the student is registered.\n",
    "* code_presentation **(categorical)** - the identification code of the presentation during which the student is registered on the module.\n",
    "* id_student **(numeric)** – a unique identification number for the student.\n",
    "* gender **(categorical)** – the student’s gender.\n",
    "* region **(categorical)** – identifies the geographic region, where the student lived while taking the module-presentation.\n",
    "* highest_education **(categorical)** – highest student education level on entry to the module presentation.\n",
    "* imd_band **(categorical)** – specifies the Index of Multiple Depravation band of the place where the student lived during the module-presentation.\n",
    "* age_band **(numeric)** – band of the student’s age.\n",
    "* num_of_prev_attempts **(numeric)** – the number times the student has attempted this module.\n",
    "* studied_credits **(numeric)** – the total number of credits for the modules the student is currently studying.\n",
    "* disability **(categorical)**  – indicates whether the student has declared a disability.\n",
    "* final_result **(categorical)** – student’s final result in the module-presentation.\n",
    "\n",
    "#### StudentRegistragion\n",
    "* code_module **(categorical)** – an identification code for a module.\n",
    "* code_presentation **(categorical)** - the identification code of the presentation.\n",
    "* id_student **(numeric)** – a unique identification number for the student.\n",
    "* date_registration **(numeric)** – the date of student’s registration on the module presentation, this is the number of days measured relative to the start of the module-presentation (e.g. the negative value -30 means that the student registered to module presentation 30 days before it started).\n",
    "* date_unregistration **(numeric)** – date of student unregistration from the module presentation, this is the number of days measured relative to the start of the module-presentation. Students, who completed the course have this field empty. Students who unregistered have Withdrawal as the value of the final_result column in the studentInfo.csv file.\n",
    "\n",
    "#### StudentAssessment\n",
    "* id_assessment **(numeric)** – the identification number of the assessment.\n",
    "* id_student **(numeric)** – a unique identification number for the student.\n",
    "* date_submitted **(numeric)** – the date of student submission, measured as the number of days since the start of the module presentation.\n",
    "* is_banked **(numeric)** – a status flag indicating that the assessment result has been transferred from a previous presentation.\n",
    "* score **(numeric)** – the student’s score in this assessment. The range is from 0 to 100. The score lower than 40 is interpreted as Fail. The marks are in the range from 0 to 100.\n",
    "\n",
    "#### StudentVLE\n",
    "* code_module **(categorical)** – an identification code for a module.\n",
    "* code_presentation **(categorical)** - the identification code of the module presentation.\n",
    "* id_student **(numeric)** – a unique identification number for the student.\n",
    "* id_site **(numeric)** - an identification number for the VLE material.\n",
    "* date **(numeric)** – the date of student’s interaction with the material measured as the number of days since the start of the module-presentation.\n",
    "* sum_click **(numeric)** – the number of times a student interacts with the material in that day.\n",
    "\n"
   ]
  },
  {
   "cell_type": "markdown",
   "id": "d5a0e39c",
   "metadata": {},
   "source": [
    "We found that using all of the 32000 students was too intensive, so we sampled 750 random students to bring down the size of the dataset"
   ]
  },
  {
   "cell_type": "code",
   "execution_count": 3,
   "id": "cc52205b",
   "metadata": {
    "scrolled": false
   },
   "outputs": [
    {
     "name": "stdout",
     "output_type": "stream",
     "text": [
      "(750, 12)\n",
      "(1941647, 28)\n",
      "CPU times: user 4.3 s, sys: 1.04 s, total: 5.34 s\n",
      "Wall time: 5.36 s\n"
     ]
    },
    {
     "data": {
      "text/html": [
       "<div>\n",
       "<style scoped>\n",
       "    .dataframe tbody tr th:only-of-type {\n",
       "        vertical-align: middle;\n",
       "    }\n",
       "\n",
       "    .dataframe tbody tr th {\n",
       "        vertical-align: top;\n",
       "    }\n",
       "\n",
       "    .dataframe thead th {\n",
       "        text-align: right;\n",
       "    }\n",
       "</style>\n",
       "<table border=\"1\" class=\"dataframe\">\n",
       "  <thead>\n",
       "    <tr style=\"text-align: right;\">\n",
       "      <th></th>\n",
       "      <th>code_module</th>\n",
       "      <th>code_presentation</th>\n",
       "      <th>id_student</th>\n",
       "      <th>gender</th>\n",
       "      <th>region</th>\n",
       "      <th>highest_education</th>\n",
       "      <th>imd_band</th>\n",
       "      <th>age_band</th>\n",
       "      <th>num_of_prev_attempts</th>\n",
       "      <th>studied_credits</th>\n",
       "      <th>...</th>\n",
       "      <th>score</th>\n",
       "      <th>assessment_type</th>\n",
       "      <th>date_y</th>\n",
       "      <th>weight</th>\n",
       "      <th>module_presentation_length</th>\n",
       "      <th>date_registration</th>\n",
       "      <th>date_unregistration</th>\n",
       "      <th>activity_type</th>\n",
       "      <th>week_from</th>\n",
       "      <th>week_to</th>\n",
       "    </tr>\n",
       "  </thead>\n",
       "  <tbody>\n",
       "    <tr>\n",
       "      <th>0</th>\n",
       "      <td>CCC</td>\n",
       "      <td>2014J</td>\n",
       "      <td>134190</td>\n",
       "      <td>F</td>\n",
       "      <td>Scotland</td>\n",
       "      <td>A Level or Equivalent</td>\n",
       "      <td>30-40%</td>\n",
       "      <td>0-35</td>\n",
       "      <td>0</td>\n",
       "      <td>120</td>\n",
       "      <td>...</td>\n",
       "      <td>78.0</td>\n",
       "      <td>CMA</td>\n",
       "      <td>18.0</td>\n",
       "      <td>2.0</td>\n",
       "      <td>269</td>\n",
       "      <td>-70.0</td>\n",
       "      <td>32.0</td>\n",
       "      <td>homepage</td>\n",
       "      <td>NaN</td>\n",
       "      <td>NaN</td>\n",
       "    </tr>\n",
       "    <tr>\n",
       "      <th>1</th>\n",
       "      <td>CCC</td>\n",
       "      <td>2014J</td>\n",
       "      <td>134190</td>\n",
       "      <td>F</td>\n",
       "      <td>Scotland</td>\n",
       "      <td>A Level or Equivalent</td>\n",
       "      <td>30-40%</td>\n",
       "      <td>0-35</td>\n",
       "      <td>0</td>\n",
       "      <td>120</td>\n",
       "      <td>...</td>\n",
       "      <td>78.0</td>\n",
       "      <td>CMA</td>\n",
       "      <td>18.0</td>\n",
       "      <td>2.0</td>\n",
       "      <td>269</td>\n",
       "      <td>-70.0</td>\n",
       "      <td>32.0</td>\n",
       "      <td>resource</td>\n",
       "      <td>NaN</td>\n",
       "      <td>NaN</td>\n",
       "    </tr>\n",
       "    <tr>\n",
       "      <th>2</th>\n",
       "      <td>CCC</td>\n",
       "      <td>2014J</td>\n",
       "      <td>134190</td>\n",
       "      <td>F</td>\n",
       "      <td>Scotland</td>\n",
       "      <td>A Level or Equivalent</td>\n",
       "      <td>30-40%</td>\n",
       "      <td>0-35</td>\n",
       "      <td>0</td>\n",
       "      <td>120</td>\n",
       "      <td>...</td>\n",
       "      <td>78.0</td>\n",
       "      <td>CMA</td>\n",
       "      <td>18.0</td>\n",
       "      <td>2.0</td>\n",
       "      <td>269</td>\n",
       "      <td>-70.0</td>\n",
       "      <td>32.0</td>\n",
       "      <td>forumng</td>\n",
       "      <td>NaN</td>\n",
       "      <td>NaN</td>\n",
       "    </tr>\n",
       "    <tr>\n",
       "      <th>3</th>\n",
       "      <td>CCC</td>\n",
       "      <td>2014J</td>\n",
       "      <td>134190</td>\n",
       "      <td>F</td>\n",
       "      <td>Scotland</td>\n",
       "      <td>A Level or Equivalent</td>\n",
       "      <td>30-40%</td>\n",
       "      <td>0-35</td>\n",
       "      <td>0</td>\n",
       "      <td>120</td>\n",
       "      <td>...</td>\n",
       "      <td>78.0</td>\n",
       "      <td>CMA</td>\n",
       "      <td>18.0</td>\n",
       "      <td>2.0</td>\n",
       "      <td>269</td>\n",
       "      <td>-70.0</td>\n",
       "      <td>32.0</td>\n",
       "      <td>forumng</td>\n",
       "      <td>NaN</td>\n",
       "      <td>NaN</td>\n",
       "    </tr>\n",
       "    <tr>\n",
       "      <th>4</th>\n",
       "      <td>CCC</td>\n",
       "      <td>2014J</td>\n",
       "      <td>134190</td>\n",
       "      <td>F</td>\n",
       "      <td>Scotland</td>\n",
       "      <td>A Level or Equivalent</td>\n",
       "      <td>30-40%</td>\n",
       "      <td>0-35</td>\n",
       "      <td>0</td>\n",
       "      <td>120</td>\n",
       "      <td>...</td>\n",
       "      <td>78.0</td>\n",
       "      <td>CMA</td>\n",
       "      <td>18.0</td>\n",
       "      <td>2.0</td>\n",
       "      <td>269</td>\n",
       "      <td>-70.0</td>\n",
       "      <td>32.0</td>\n",
       "      <td>homepage</td>\n",
       "      <td>NaN</td>\n",
       "      <td>NaN</td>\n",
       "    </tr>\n",
       "  </tbody>\n",
       "</table>\n",
       "<p>5 rows × 28 columns</p>\n",
       "</div>"
      ],
      "text/plain": [
       "  code_module code_presentation  id_student gender    region  \\\n",
       "0         CCC             2014J      134190      F  Scotland   \n",
       "1         CCC             2014J      134190      F  Scotland   \n",
       "2         CCC             2014J      134190      F  Scotland   \n",
       "3         CCC             2014J      134190      F  Scotland   \n",
       "4         CCC             2014J      134190      F  Scotland   \n",
       "\n",
       "       highest_education imd_band age_band  num_of_prev_attempts  \\\n",
       "0  A Level or Equivalent   30-40%     0-35                     0   \n",
       "1  A Level or Equivalent   30-40%     0-35                     0   \n",
       "2  A Level or Equivalent   30-40%     0-35                     0   \n",
       "3  A Level or Equivalent   30-40%     0-35                     0   \n",
       "4  A Level or Equivalent   30-40%     0-35                     0   \n",
       "\n",
       "   studied_credits  ... score assessment_type  date_y  weight  \\\n",
       "0              120  ...  78.0             CMA    18.0     2.0   \n",
       "1              120  ...  78.0             CMA    18.0     2.0   \n",
       "2              120  ...  78.0             CMA    18.0     2.0   \n",
       "3              120  ...  78.0             CMA    18.0     2.0   \n",
       "4              120  ...  78.0             CMA    18.0     2.0   \n",
       "\n",
       "   module_presentation_length  date_registration  date_unregistration  \\\n",
       "0                         269              -70.0                 32.0   \n",
       "1                         269              -70.0                 32.0   \n",
       "2                         269              -70.0                 32.0   \n",
       "3                         269              -70.0                 32.0   \n",
       "4                         269              -70.0                 32.0   \n",
       "\n",
       "   activity_type  week_from week_to  \n",
       "0       homepage        NaN     NaN  \n",
       "1       resource        NaN     NaN  \n",
       "2        forumng        NaN     NaN  \n",
       "3        forumng        NaN     NaN  \n",
       "4       homepage        NaN     NaN  \n",
       "\n",
       "[5 rows x 28 columns]"
      ]
     },
     "execution_count": 3,
     "metadata": {},
     "output_type": "execute_result"
    }
   ],
   "source": [
    "%%time\n",
    "# Randomly sampling 4,000 records StudentVle Table with Million Rows.\n",
    "studentSample = studentInfo.sample(n=750, random_state = randomState)\n",
    "print(studentSample.shape)\n",
    "\n",
    "# vle\n",
    "# assessments X\n",
    "# courses X\n",
    "# studentAssessments X\n",
    "# studentInfo X\n",
    "# studentRegistration X\n",
    "# studentVleSample X\n",
    "\n",
    "df = pd.merge(studentSample, studentVle, on=['code_module', 'code_presentation', 'id_student'])\n",
    "df2 = pd.merge(studentAssessments, assessments, on='id_assessment')\n",
    "df = pd.merge(df, df2, on=['code_module', 'code_presentation', 'id_student'], how='left')\n",
    "df = pd.merge(df, courses, on= ['code_module', 'code_presentation'], how='left')\n",
    "df = pd.merge(df, studentRegistration, on=['code_module', 'code_presentation', 'id_student'], how='left')\n",
    "df = pd.merge(df, vle, on=['id_site', 'code_module', 'code_presentation'], how='left')\n",
    "print(df.shape)\n",
    "df.head()"
   ]
  },
  {
   "cell_type": "markdown",
   "id": "af9d3839",
   "metadata": {},
   "source": [
    "### Missing Values"
   ]
  },
  {
   "cell_type": "markdown",
   "id": "c4a7b2ee",
   "metadata": {},
   "source": [
    "From the cell below, we saw that date_unregistration had null entries in over 96% of the data, and both week_from and week_to had null entries for over 86% of the data. Since these columns seemed to be unnecessary, we chose to drop all three as they consisted mostly of missing values. These columns could be used to analyze the population of the data that are not registered. **I don't understand this last sentence**\n",
    "\n",
    "Running the same code on the dataset after dropping the three columns showed that the percentages of missing values in the remaining columns were less than 5%."
   ]
  },
  {
   "cell_type": "code",
   "execution_count": 4,
   "id": "16d385d8",
   "metadata": {},
   "outputs": [
    {
     "name": "stdout",
     "output_type": "stream",
     "text": [
      "Missing values: \n",
      " code_module                    0.000000\n",
      "code_presentation              0.000000\n",
      "id_student                     0.000000\n",
      "gender                         0.000000\n",
      "region                         0.000000\n",
      "highest_education              0.000000\n",
      "imd_band                       6.024885\n",
      "age_band                       0.000000\n",
      "num_of_prev_attempts           0.000000\n",
      "studied_credits                0.000000\n",
      "disability                     0.000000\n",
      "final_result                   0.000000\n",
      "id_site                        0.000000\n",
      "date_x                         0.000000\n",
      "sum_click                      0.000000\n",
      "id_assessment                  0.147040\n",
      "date_submitted                 0.147040\n",
      "is_banked                      0.147040\n",
      "score                          0.193650\n",
      "assessment_type                0.147040\n",
      "date_y                         2.112536\n",
      "weight                         0.147040\n",
      "module_presentation_length     0.000000\n",
      "date_registration              0.000000\n",
      "date_unregistration           95.788060\n",
      "activity_type                  0.000000\n",
      "week_from                     85.627923\n",
      "week_to                       85.627923\n",
      "dtype: float64 \n",
      "\n",
      "\n",
      "Missing values after dopping columns: \n",
      " code_module                   0.000000\n",
      "code_presentation             0.000000\n",
      "id_student                    0.000000\n",
      "gender                        0.000000\n",
      "region                        0.000000\n",
      "highest_education             0.000000\n",
      "imd_band                      6.024885\n",
      "age_band                      0.000000\n",
      "num_of_prev_attempts          0.000000\n",
      "studied_credits               0.000000\n",
      "disability                    0.000000\n",
      "final_result                  0.000000\n",
      "id_site                       0.000000\n",
      "date_x                        0.000000\n",
      "sum_click                     0.000000\n",
      "id_assessment                 0.147040\n",
      "date_submitted                0.147040\n",
      "is_banked                     0.147040\n",
      "score                         0.193650\n",
      "assessment_type               0.147040\n",
      "date_y                        2.112536\n",
      "weight                        0.147040\n",
      "module_presentation_length    0.000000\n",
      "date_registration             0.000000\n",
      "activity_type                 0.000000\n",
      "dtype: float64\n"
     ]
    }
   ],
   "source": [
    "print('Missing values: \\n', df.isnull().sum() * 100 / len(df),'\\n\\n')\n",
    "df = df.drop(columns = ['week_from', 'week_to', 'date_unregistration'])\n",
    "print('Missing values after dopping columns: \\n', df.isnull().sum() * 100 / len(df))"
   ]
  },
  {
   "cell_type": "markdown",
   "id": "dcbc3b66",
   "metadata": {},
   "source": [
    "From the code below, we can see that the missing values within the IMD Band variable come from the Northern Region and Ireland. The next step was to choose how best to deal with the missing values within the dataset."
   ]
  },
  {
   "cell_type": "code",
   "execution_count": 5,
   "id": "5e74b64c",
   "metadata": {},
   "outputs": [
    {
     "name": "stdout",
     "output_type": "stream",
     "text": [
      "North Region    62.260861\n",
      "Ireland         27.604247\n",
      "South Region    10.134893\n",
      "Name: region, dtype: float64\n",
      "\n",
      "\n",
      "counts per region: \n",
      " North Region    72834\n",
      "Ireland         32292\n",
      "South Region    11856\n",
      "Name: region, dtype: int64 \n",
      "\n",
      "\n",
      "percentage breakdown per region: \n",
      " North Region    62.260861\n",
      "Ireland         27.604247\n",
      "South Region    10.134893\n",
      "Name: region, dtype: float64 \n",
      "\n",
      "\n",
      "North Region percent of total:  0.6317789112105756\n",
      "Ireland percent of total:  0.44861838540726023\n",
      "South Region percent of total:  0.0622091162380695\n"
     ]
    }
   ],
   "source": [
    "missingIMDBand = df[df['imd_band'].isnull()]\n",
    "print(missingIMDBand.region.value_counts() * 100 / len(missingIMDBand))\n",
    "\n",
    "print('\\n\\ncounts per region: \\n',missingIMDBand.region.value_counts(),'\\n\\n')\n",
    "print('percentage breakdown per region: \\n',missingIMDBand.region.value_counts() * 100 / len(missingIMDBand), '\\n\\n')\n",
    "\n",
    "northRegionMV = missingIMDBand.region.value_counts()[0]\n",
    "irelandMV = missingIMDBand.region.value_counts()[1]\n",
    "southRegionMV = missingIMDBand.region.value_counts()[2]\n",
    "\n",
    "print('North Region percent of total: ',northRegionMV/len(df.region[df.region=='North Region']))\n",
    "print('Ireland percent of total: ',irelandMV/len(df.region[df.region=='Ireland']))\n",
    "print('South Region percent of total: ',southRegionMV/len(df.region[df.region=='South Region']))"
   ]
  },
  {
   "cell_type": "code",
   "execution_count": 6,
   "id": "a14b38df",
   "metadata": {},
   "outputs": [
    {
     "name": "stdout",
     "output_type": "stream",
     "text": [
      "50-60%     227488\n",
      "40-50%     219633\n",
      "70-80%     207558\n",
      "30-40%     191471\n",
      "90-100%    188235\n",
      "20-30%     183785\n",
      "60-70%     179316\n",
      "10-20      166002\n",
      "0-10%      131874\n",
      "80-90%     129303\n",
      "Name: imd_band, dtype: int64 \n",
      "\n",
      "\n",
      "0-10%     25465\n",
      "60-70%    15650\n",
      "30-40%    14445\n",
      "10-20      9445\n",
      "80-90%     7324\n",
      "70-80%     5780\n",
      "40-50%     2738\n",
      "20-30%     1292\n",
      "Name: imd_band, dtype: int64\n"
     ]
    }
   ],
   "source": [
    "print(df.imd_band.value_counts(),\"\\n\\n\")\n",
    "\n",
    "print(df[(df.region=='North Region') | (df.region=='Ireland')].imd_band.value_counts())"
   ]
  },
  {
   "cell_type": "markdown",
   "id": "32e90488",
   "metadata": {},
   "source": [
    "If we were particularly interested in examining regional differences, we theorized that we could calculate the most likely IMD_band value per region and fill in the missing values to match that distribution. However since the missing values only accounted for less than 10% of the total data, we chose to drop all the rows containing missing values, as data size requirements were still more than satisfied."
   ]
  },
  {
   "cell_type": "code",
   "execution_count": 7,
   "id": "07718173",
   "metadata": {},
   "outputs": [],
   "source": [
    "df.dropna(inplace=True)\n",
    "try:\n",
    "    df.drop(columns=['id_student','id_assessment','id_site','code_module','code_presentation'],inplace=True)\n",
    "except:\n",
    "    print(\"These columns have already been dropped\")"
   ]
  },
  {
   "cell_type": "markdown",
   "id": "7c1deef1",
   "metadata": {},
   "source": [
    "### One Hot Encoding"
   ]
  },
  {
   "cell_type": "markdown",
   "id": "f313fa14",
   "metadata": {},
   "source": [
    "As shown in the code output below, many of the variables in the OULAD were categorical making it necessary to One Hot Encode the data in order to analyze it."
   ]
  },
  {
   "cell_type": "code",
   "execution_count": 8,
   "id": "3b008c96",
   "metadata": {
    "scrolled": false
   },
   "outputs": [
    {
     "data": {
      "text/plain": [
       "gender                         object\n",
       "region                         object\n",
       "highest_education              object\n",
       "imd_band                       object\n",
       "age_band                       object\n",
       "num_of_prev_attempts            int64\n",
       "studied_credits                 int64\n",
       "disability                     object\n",
       "final_result                   object\n",
       "date_x                          int64\n",
       "sum_click                       int64\n",
       "date_submitted                float64\n",
       "is_banked                     float64\n",
       "score                         float64\n",
       "assessment_type                object\n",
       "date_y                        float64\n",
       "weight                        float64\n",
       "module_presentation_length      int64\n",
       "date_registration             float64\n",
       "activity_type                  object\n",
       "dtype: object"
      ]
     },
     "execution_count": 8,
     "metadata": {},
     "output_type": "execute_result"
    }
   ],
   "source": [
    "df.dtypes"
   ]
  },
  {
   "cell_type": "code",
   "execution_count": 9,
   "id": "a36fe757",
   "metadata": {},
   "outputs": [],
   "source": [
    "# View unique values in each column\n",
    "# for col in df:\n",
    "#   print(df[col].unique())"
   ]
  },
  {
   "cell_type": "code",
   "execution_count": 10,
   "id": "694f922b",
   "metadata": {},
   "outputs": [],
   "source": [
    "#Creating variables for indexing continuous and categorical variables\n",
    "conCol = ['date_x', 'sum_click', 'num_of_prev_attempts', \n",
    "          'studied_credits', 'date_submitted', 'is_banked', 'score', 'date_y', 'weight']\n",
    "\n",
    "catCol = ['gender', 'region', 'highest_education', \n",
    "          'imd_band', 'age_band', 'disability', 'final_result', 'assessment_type' ]"
   ]
  },
  {
   "cell_type": "code",
   "execution_count": 11,
   "id": "8a73c4a1",
   "metadata": {},
   "outputs": [
    {
     "name": "stdout",
     "output_type": "stream",
     "text": [
      "CPU times: user 1.94 s, sys: 538 ms, total: 2.48 s\n",
      "Wall time: 2.48 s\n"
     ]
    },
    {
     "data": {
      "text/html": [
       "<div>\n",
       "<style scoped>\n",
       "    .dataframe tbody tr th:only-of-type {\n",
       "        vertical-align: middle;\n",
       "    }\n",
       "\n",
       "    .dataframe tbody tr th {\n",
       "        vertical-align: top;\n",
       "    }\n",
       "\n",
       "    .dataframe thead th {\n",
       "        text-align: right;\n",
       "    }\n",
       "</style>\n",
       "<table border=\"1\" class=\"dataframe\">\n",
       "  <thead>\n",
       "    <tr style=\"text-align: right;\">\n",
       "      <th></th>\n",
       "      <th>num_of_prev_attempts</th>\n",
       "      <th>studied_credits</th>\n",
       "      <th>date_x</th>\n",
       "      <th>sum_click</th>\n",
       "      <th>date_submitted</th>\n",
       "      <th>is_banked</th>\n",
       "      <th>score</th>\n",
       "      <th>date_y</th>\n",
       "      <th>weight</th>\n",
       "      <th>module_presentation_length</th>\n",
       "      <th>...</th>\n",
       "      <th>age_band_55&lt;=</th>\n",
       "      <th>disability_N</th>\n",
       "      <th>disability_Y</th>\n",
       "      <th>final_result_Distinction</th>\n",
       "      <th>final_result_Fail</th>\n",
       "      <th>final_result_Pass</th>\n",
       "      <th>final_result_Withdrawn</th>\n",
       "      <th>assessment_type_CMA</th>\n",
       "      <th>assessment_type_Exam</th>\n",
       "      <th>assessment_type_TMA</th>\n",
       "    </tr>\n",
       "  </thead>\n",
       "  <tbody>\n",
       "    <tr>\n",
       "      <th>0</th>\n",
       "      <td>-0.293024</td>\n",
       "      <td>0.985133</td>\n",
       "      <td>-1.529799</td>\n",
       "      <td>-0.352009</td>\n",
       "      <td>-1.378612</td>\n",
       "      <td>-0.061204</td>\n",
       "      <td>-0.124339</td>\n",
       "      <td>-1.549011</td>\n",
       "      <td>-0.680997</td>\n",
       "      <td>0.932829</td>\n",
       "      <td>...</td>\n",
       "      <td>0</td>\n",
       "      <td>1</td>\n",
       "      <td>0</td>\n",
       "      <td>0</td>\n",
       "      <td>0</td>\n",
       "      <td>0</td>\n",
       "      <td>1</td>\n",
       "      <td>1</td>\n",
       "      <td>0</td>\n",
       "      <td>0</td>\n",
       "    </tr>\n",
       "    <tr>\n",
       "      <th>1</th>\n",
       "      <td>-0.293024</td>\n",
       "      <td>0.985133</td>\n",
       "      <td>-1.529799</td>\n",
       "      <td>-0.352009</td>\n",
       "      <td>-1.378612</td>\n",
       "      <td>-0.061204</td>\n",
       "      <td>-0.124339</td>\n",
       "      <td>-1.549011</td>\n",
       "      <td>-0.680997</td>\n",
       "      <td>0.932829</td>\n",
       "      <td>...</td>\n",
       "      <td>0</td>\n",
       "      <td>1</td>\n",
       "      <td>0</td>\n",
       "      <td>0</td>\n",
       "      <td>0</td>\n",
       "      <td>0</td>\n",
       "      <td>1</td>\n",
       "      <td>1</td>\n",
       "      <td>0</td>\n",
       "      <td>0</td>\n",
       "    </tr>\n",
       "    <tr>\n",
       "      <th>2</th>\n",
       "      <td>-0.293024</td>\n",
       "      <td>0.985133</td>\n",
       "      <td>-1.294156</td>\n",
       "      <td>-0.352009</td>\n",
       "      <td>-1.378612</td>\n",
       "      <td>-0.061204</td>\n",
       "      <td>-0.124339</td>\n",
       "      <td>-1.549011</td>\n",
       "      <td>-0.680997</td>\n",
       "      <td>0.932829</td>\n",
       "      <td>...</td>\n",
       "      <td>0</td>\n",
       "      <td>1</td>\n",
       "      <td>0</td>\n",
       "      <td>0</td>\n",
       "      <td>0</td>\n",
       "      <td>0</td>\n",
       "      <td>1</td>\n",
       "      <td>1</td>\n",
       "      <td>0</td>\n",
       "      <td>0</td>\n",
       "    </tr>\n",
       "    <tr>\n",
       "      <th>3</th>\n",
       "      <td>-0.293024</td>\n",
       "      <td>0.985133</td>\n",
       "      <td>-1.294156</td>\n",
       "      <td>-0.227136</td>\n",
       "      <td>-1.378612</td>\n",
       "      <td>-0.061204</td>\n",
       "      <td>-0.124339</td>\n",
       "      <td>-1.549011</td>\n",
       "      <td>-0.680997</td>\n",
       "      <td>0.932829</td>\n",
       "      <td>...</td>\n",
       "      <td>0</td>\n",
       "      <td>1</td>\n",
       "      <td>0</td>\n",
       "      <td>0</td>\n",
       "      <td>0</td>\n",
       "      <td>0</td>\n",
       "      <td>1</td>\n",
       "      <td>1</td>\n",
       "      <td>0</td>\n",
       "      <td>0</td>\n",
       "    </tr>\n",
       "    <tr>\n",
       "      <th>4</th>\n",
       "      <td>-0.293024</td>\n",
       "      <td>0.985133</td>\n",
       "      <td>-1.294156</td>\n",
       "      <td>0.272359</td>\n",
       "      <td>-1.378612</td>\n",
       "      <td>-0.061204</td>\n",
       "      <td>-0.124339</td>\n",
       "      <td>-1.549011</td>\n",
       "      <td>-0.680997</td>\n",
       "      <td>0.932829</td>\n",
       "      <td>...</td>\n",
       "      <td>0</td>\n",
       "      <td>1</td>\n",
       "      <td>0</td>\n",
       "      <td>0</td>\n",
       "      <td>0</td>\n",
       "      <td>0</td>\n",
       "      <td>1</td>\n",
       "      <td>1</td>\n",
       "      <td>0</td>\n",
       "      <td>0</td>\n",
       "    </tr>\n",
       "  </tbody>\n",
       "</table>\n",
       "<p>5 rows × 53 columns</p>\n",
       "</div>"
      ],
      "text/plain": [
       "   num_of_prev_attempts  studied_credits    date_x  sum_click  date_submitted  \\\n",
       "0             -0.293024         0.985133 -1.529799  -0.352009       -1.378612   \n",
       "1             -0.293024         0.985133 -1.529799  -0.352009       -1.378612   \n",
       "2             -0.293024         0.985133 -1.294156  -0.352009       -1.378612   \n",
       "3             -0.293024         0.985133 -1.294156  -0.227136       -1.378612   \n",
       "4             -0.293024         0.985133 -1.294156   0.272359       -1.378612   \n",
       "\n",
       "   is_banked     score    date_y    weight  module_presentation_length  ...  \\\n",
       "0  -0.061204 -0.124339 -1.549011 -0.680997                    0.932829  ...   \n",
       "1  -0.061204 -0.124339 -1.549011 -0.680997                    0.932829  ...   \n",
       "2  -0.061204 -0.124339 -1.549011 -0.680997                    0.932829  ...   \n",
       "3  -0.061204 -0.124339 -1.549011 -0.680997                    0.932829  ...   \n",
       "4  -0.061204 -0.124339 -1.549011 -0.680997                    0.932829  ...   \n",
       "\n",
       "   age_band_55<=  disability_N  disability_Y  final_result_Distinction  \\\n",
       "0              0             1             0                         0   \n",
       "1              0             1             0                         0   \n",
       "2              0             1             0                         0   \n",
       "3              0             1             0                         0   \n",
       "4              0             1             0                         0   \n",
       "\n",
       "   final_result_Fail  final_result_Pass  final_result_Withdrawn  \\\n",
       "0                  0                  0                       1   \n",
       "1                  0                  0                       1   \n",
       "2                  0                  0                       1   \n",
       "3                  0                  0                       1   \n",
       "4                  0                  0                       1   \n",
       "\n",
       "   assessment_type_CMA  assessment_type_Exam  assessment_type_TMA  \n",
       "0                    1                     0                    0  \n",
       "1                    1                     0                    0  \n",
       "2                    1                     0                    0  \n",
       "3                    1                     0                    0  \n",
       "4                    1                     0                    0  \n",
       "\n",
       "[5 rows x 53 columns]"
      ]
     },
     "execution_count": 11,
     "metadata": {},
     "output_type": "execute_result"
    }
   ],
   "source": [
    "%%time\n",
    "#Declaring Scalar object\n",
    "scl_obj = StandardScaler()\n",
    "\n",
    "#One hot encoding of ALL categorical variables\n",
    "OneHotDF = pd.get_dummies(df[catCol],drop_first=False)\n",
    "\n",
    "#Scaling non-encoded data\n",
    "conVar = df.select_dtypes(exclude='object')\n",
    "colnames = pd.Series(conVar.columns)\n",
    "conVarScaled = scl_obj.fit_transform(conVar)\n",
    "conVarScaled = pd.DataFrame(data = conVarScaled, columns= colnames)\n",
    "\n",
    "#Combining with continuous variables from cleaned dataset\n",
    "OneHotDF = OneHotDF.reset_index()\n",
    "OneHotDF.pop('index')\n",
    "OneHotDF = pd.concat([conVarScaled,OneHotDF], axis = 1)\n",
    "OneHotDF.head()\n",
    "\n",
    "#https://github.com/jakemdrew/DataMiningNotebooks/blob/master/01.%20Pandas.ipynb\n"
   ]
  },
  {
   "cell_type": "markdown",
   "id": "5b7a3057",
   "metadata": {},
   "source": [
    "### Outliers\n",
    "\n",
    "Once the OULAD was entirely numeric, we could look through the data for outliers. "
   ]
  },
  {
   "cell_type": "code",
   "execution_count": 12,
   "id": "f7fcb568",
   "metadata": {
    "scrolled": false
   },
   "outputs": [
    {
     "data": {
      "text/html": [
       "<div>\n",
       "<style scoped>\n",
       "    .dataframe tbody tr th:only-of-type {\n",
       "        vertical-align: middle;\n",
       "    }\n",
       "\n",
       "    .dataframe tbody tr th {\n",
       "        vertical-align: top;\n",
       "    }\n",
       "\n",
       "    .dataframe thead th {\n",
       "        text-align: right;\n",
       "    }\n",
       "</style>\n",
       "<table border=\"1\" class=\"dataframe\">\n",
       "  <thead>\n",
       "    <tr style=\"text-align: right;\">\n",
       "      <th></th>\n",
       "      <th>Q1</th>\n",
       "      <th>Q3</th>\n",
       "      <th>IQR</th>\n",
       "      <th>lowerGate</th>\n",
       "      <th>upperGate</th>\n",
       "    </tr>\n",
       "    <tr>\n",
       "      <th>Variable Name</th>\n",
       "      <th></th>\n",
       "      <th></th>\n",
       "      <th></th>\n",
       "      <th></th>\n",
       "      <th></th>\n",
       "    </tr>\n",
       "  </thead>\n",
       "  <tbody>\n",
       "    <tr>\n",
       "      <th>date_y</th>\n",
       "      <td>-0.990630</td>\n",
       "      <td>1.039845</td>\n",
       "      <td>2.030476</td>\n",
       "      <td>-4.036344</td>\n",
       "      <td>4.085559</td>\n",
       "    </tr>\n",
       "    <tr>\n",
       "      <th>date_submitted</th>\n",
       "      <td>-0.934731</td>\n",
       "      <td>0.826475</td>\n",
       "      <td>1.761206</td>\n",
       "      <td>-3.576540</td>\n",
       "      <td>3.468283</td>\n",
       "    </tr>\n",
       "    <tr>\n",
       "      <th>date_x</th>\n",
       "      <td>-0.927600</td>\n",
       "      <td>0.813541</td>\n",
       "      <td>1.741141</td>\n",
       "      <td>-3.539311</td>\n",
       "      <td>3.425252</td>\n",
       "    </tr>\n",
       "    <tr>\n",
       "      <th>studied_credits</th>\n",
       "      <td>-0.570508</td>\n",
       "      <td>0.985133</td>\n",
       "      <td>1.555641</td>\n",
       "      <td>-2.903970</td>\n",
       "      <td>3.318595</td>\n",
       "    </tr>\n",
       "    <tr>\n",
       "      <th>weight</th>\n",
       "      <td>-0.823927</td>\n",
       "      <td>0.605371</td>\n",
       "      <td>1.429298</td>\n",
       "      <td>-2.967875</td>\n",
       "      <td>2.749318</td>\n",
       "    </tr>\n",
       "    <tr>\n",
       "      <th>score</th>\n",
       "      <td>-0.482434</td>\n",
       "      <td>0.770900</td>\n",
       "      <td>1.253334</td>\n",
       "      <td>-2.362436</td>\n",
       "      <td>2.650902</td>\n",
       "    </tr>\n",
       "    <tr>\n",
       "      <th>sum_click</th>\n",
       "      <td>-0.352009</td>\n",
       "      <td>0.022612</td>\n",
       "      <td>0.374621</td>\n",
       "      <td>-0.913941</td>\n",
       "      <td>0.584544</td>\n",
       "    </tr>\n",
       "    <tr>\n",
       "      <th>num_of_prev_attempts</th>\n",
       "      <td>-0.293024</td>\n",
       "      <td>-0.293024</td>\n",
       "      <td>0.000000</td>\n",
       "      <td>-0.293024</td>\n",
       "      <td>-0.293024</td>\n",
       "    </tr>\n",
       "    <tr>\n",
       "      <th>is_banked</th>\n",
       "      <td>-0.061204</td>\n",
       "      <td>-0.061204</td>\n",
       "      <td>0.000000</td>\n",
       "      <td>-0.061204</td>\n",
       "      <td>-0.061204</td>\n",
       "    </tr>\n",
       "  </tbody>\n",
       "</table>\n",
       "</div>"
      ],
      "text/plain": [
       "                            Q1        Q3       IQR  lowerGate  upperGate\n",
       "Variable Name                                                           \n",
       "date_y               -0.990630  1.039845  2.030476  -4.036344   4.085559\n",
       "date_submitted       -0.934731  0.826475  1.761206  -3.576540   3.468283\n",
       "date_x               -0.927600  0.813541  1.741141  -3.539311   3.425252\n",
       "studied_credits      -0.570508  0.985133  1.555641  -2.903970   3.318595\n",
       "weight               -0.823927  0.605371  1.429298  -2.967875   2.749318\n",
       "score                -0.482434  0.770900  1.253334  -2.362436   2.650902\n",
       "sum_click            -0.352009  0.022612  0.374621  -0.913941   0.584544\n",
       "num_of_prev_attempts -0.293024 -0.293024  0.000000  -0.293024  -0.293024\n",
       "is_banked            -0.061204 -0.061204  0.000000  -0.061204  -0.061204"
      ]
     },
     "execution_count": 12,
     "metadata": {},
     "output_type": "execute_result"
    }
   ],
   "source": [
    "Q1 = OneHotDF[conCol].quantile(0.25)\n",
    "Q3 = OneHotDF[conCol].quantile(0.75)\n",
    "IQR = Q3 - Q1\n",
    "# print(IQR)\n",
    "\n",
    "IQRDF = pd.DataFrame(data = {'Q1':Q1, 'Q3':Q3, 'IQR':IQR})\n",
    "IQRDF.index.name = 'Variable Name'\n",
    "IQRDF['lowerGate'] = Q1-1.5*IQR\n",
    "IQRDF['upperGate'] = Q3+1.5*IQR\n",
    "IQRDF.sort_values(by='IQR', ascending=False)"
   ]
  },
  {
   "cell_type": "markdown",
   "id": "5187bbcc",
   "metadata": {},
   "source": [
    "Below I am going to see how many rows are outside the range of the lower and upper gates"
   ]
  },
  {
   "cell_type": "code",
   "execution_count": 41,
   "id": "bf3632dc",
   "metadata": {},
   "outputs": [
    {
     "name": "stdout",
     "output_type": "stream",
     "text": [
      "There are no outliers for the date_x variable.\n",
      "There are no outliers for the sum_click variable.\n",
      "There are no outliers for the num_of_prev_attempts variable.\n",
      "There are no outliers for the studied_credits variable.\n",
      "There are no outliers for the date_submitted variable.\n",
      "There are no outliers for the is_banked variable.\n",
      "There are no outliers for the score variable.\n",
      "There are no outliers for the date_y variable.\n",
      "There are no outliers for the weight variable.\n"
     ]
    }
   ],
   "source": [
    "for i in range(0,len(IQRDF.index)):\n",
    "    lowerCount = len((OneHotDF[OneHotDF[IQRDF.index[i]] < IQRDF.lowerGate[i]]))\n",
    "    upperCount = len((OneHotDF[OneHotDF[IQRDF.index[i]] > IQRDF.upperGate[i]]))\n",
    "\n",
    "    if ((lowerCount !=0) & (upperCount !=0)):\n",
    "        print('The number of outliers outside the lower and upper gates for the '+ \n",
    "              IQRDF.index[i] + 'variable is', lowerCount + upperCount)\n",
    "    else:\n",
    "        print('There are no outliers for the ' + IQRDF.index[i] + ' variable.')"
   ]
  },
  {
   "cell_type": "markdown",
   "id": "c49722fa",
   "metadata": {},
   "source": [
    "according to the results above, there are no outliers of concern within our dataset"
   ]
  },
  {
   "cell_type": "markdown",
   "id": "9edba66b",
   "metadata": {},
   "source": [
    "# Data Understanding 2 #\n",
    "*Visualize the any important attributes appropriately. Important: Provide an interpretation for any charts or graphs.*"
   ]
  },
  {
   "cell_type": "markdown",
   "id": "c694dbac",
   "metadata": {},
   "source": [
    "# Modeling and Evaluation 1 #\n",
    "*Train and adjust parameters*"
   ]
  },
  {
   "cell_type": "code",
   "execution_count": 14,
   "id": "4d0dba41",
   "metadata": {},
   "outputs": [
    {
     "name": "stdout",
     "output_type": "stream",
     "text": [
      "Average accuracy =  60.48476251134443 +- 5.2136668618796085\n"
     ]
    }
   ],
   "source": [
    "from sklearn.model_selection import StratifiedKFold, cross_val_score\n",
    "from sklearn.ensemble import RandomForestClassifier\n",
    "\n",
    "y = OneHotDF['final_result_Pass']\n",
    "X = OneHotDF[['num_of_prev_attempts','studied_credits','disability_N']]\n",
    "cv = StratifiedKFold(n_splits=10)\n",
    "# run at n =100\n",
    "clf = RandomForestClassifier(n_estimators=2,random_state= randomState)\n",
    "\n",
    "acc = cross_val_score(clf,X,y=y,cv=cv)\n",
    "\n",
    "print (\"Average accuracy = \", acc.mean()*100, \"+-\", acc.std()*100)"
   ]
  },
  {
   "cell_type": "markdown",
   "id": "5df4d855",
   "metadata": {},
   "source": [
    "The following cell runs a K Means clustering model using the **Number of Previous Attempts** and the **Final Result** variables"
   ]
  },
  {
   "cell_type": "code",
   "execution_count": 15,
   "id": "5160085f",
   "metadata": {},
   "outputs": [],
   "source": [
    "from sklearn.cluster import KMeans\n",
    "import numpy as np\n",
    "import pandas as pd\n",
    "\n",
    "# Creating list of variables to create clusters with\n",
    "clusterVars = ['num_of_prev_attempts', 'final_result_Pass']\n",
    "\n",
    "X1 = OneHotDF[clusterVars]\n",
    "#X1 = OneHotDF\n",
    "nClusters = 4\n",
    "cls = KMeans(n_clusters=nClusters, init='k-means++',random_state=randomState)\n",
    "cls.fit(X1)\n",
    "newfeature = cls.labels_ # the labels from kmeans clustering\n",
    "\n",
    "# y = OneHotDF['Survived']\n",
    "# X = OneHotDF[['Age','IsMale','Parch','SibSp']]\n",
    "# X = np.column_stack((X,pd.get_dummies(newfeature)))\n",
    "# acc = cross_val_score(cls,X,y=y,cv=cv)\n",
    "# print (\"Average accuracy (with kmeans for class/fare)= \", acc.mean()*100, \"+-\", acc.std()*100)"
   ]
  },
  {
   "cell_type": "markdown",
   "id": "e9ff4d53",
   "metadata": {},
   "source": [
    "# Modeling and Evaluation 2\t#\n",
    "*Evaluate and Compare*"
   ]
  },
  {
   "cell_type": "markdown",
   "id": "de25c012",
   "metadata": {},
   "source": [
    "The following cell produces value counts and visualizations of the clusters for the variables used to calculate the clusters. We can use these visualizations to verify that the clusters are calculated properly"
   ]
  },
  {
   "cell_type": "code",
   "execution_count": 38,
   "id": "b8333c95",
   "metadata": {
    "scrolled": false
   },
   "outputs": [
    {
     "name": "stdout",
     "output_type": "stream",
     "text": [
      "Cluster 1\n",
      "num_of_prev_attempts : \n",
      " 1    147295\n",
      "2     27761\n",
      "Name: num_of_prev_attempts, dtype: int64 \n",
      "\n"
     ]
    },
    {
     "data": {
      "image/png": "[encoded data removed]",
      "text/plain": [
       "<Figure size 432x288 with 1 Axes>"
      ]
     },
     "metadata": {
      "needs_background": "light"
     },
     "output_type": "display_data"
    },
    {
     "name": "stdout",
     "output_type": "stream",
     "text": [
      "final_result : \n",
      " Pass           93055\n",
      "Fail           36720\n",
      "Distinction    27896\n",
      "Withdrawn      17385\n",
      "Name: final_result, dtype: int64 \n",
      "\n"
     ]
    },
    {
     "data": {
      "image/png": "[encoded data removed]",
      "text/plain": [
       "<Figure size 432x288 with 1 Axes>"
      ]
     },
     "metadata": {
      "needs_background": "light"
     },
     "output_type": "display_data"
    },
    {
     "name": "stdout",
     "output_type": "stream",
     "text": [
      "\n",
      "\n",
      "\n",
      "\n",
      "Cluster 2\n",
      "num_of_prev_attempts : \n",
      " 0    952000\n",
      "Name: num_of_prev_attempts, dtype: int64 \n",
      "\n"
     ]
    },
    {
     "data": {
      "image/png": "[encoded data removed]",
      "text/plain": [
       "<Figure size 432x288 with 1 Axes>"
      ]
     },
     "metadata": {
      "needs_background": "light"
     },
     "output_type": "display_data"
    },
    {
     "name": "stdout",
     "output_type": "stream",
     "text": [
      "final_result : \n",
      " Pass    952000\n",
      "Name: final_result, dtype: int64 \n",
      "\n"
     ]
    },
    {
     "data": {
      "image/png": "[encoded data removed]",
      "text/plain": [
       "<Figure size 432x288 with 1 Axes>"
      ]
     },
     "metadata": {
      "needs_background": "light"
     },
     "output_type": "display_data"
    },
    {
     "name": "stdout",
     "output_type": "stream",
     "text": [
      "\n",
      "\n",
      "\n",
      "\n",
      "Cluster 3\n",
      "num_of_prev_attempts : \n",
      " 0    646461\n",
      "Name: num_of_prev_attempts, dtype: int64 \n",
      "\n"
     ]
    },
    {
     "data": {
      "image/png": "[encoded data removed]",
      "text/plain": [
       "<Figure size 432x288 with 1 Axes>"
      ]
     },
     "metadata": {
      "needs_background": "light"
     },
     "output_type": "display_data"
    },
    {
     "name": "stdout",
     "output_type": "stream",
     "text": [
      "final_result : \n",
      " Distinction    461534\n",
      "Fail           124798\n",
      "Withdrawn       60129\n",
      "Name: final_result, dtype: int64 \n",
      "\n"
     ]
    },
    {
     "data": {
      "image/png": "[encoded data removed]",
      "text/plain": [
       "<Figure size 432x288 with 1 Axes>"
      ]
     },
     "metadata": {
      "needs_background": "light"
     },
     "output_type": "display_data"
    },
    {
     "name": "stdout",
     "output_type": "stream",
     "text": [
      "\n",
      "\n",
      "\n",
      "\n",
      "Cluster 4\n",
      "num_of_prev_attempts : \n",
      " 4    10380\n",
      "3      979\n",
      "Name: num_of_prev_attempts, dtype: int64 \n",
      "\n"
     ]
    },
    {
     "data": {
      "image/png": "[encoded data removed]",
      "text/plain": [
       "<Figure size 432x288 with 1 Axes>"
      ]
     },
     "metadata": {
      "needs_background": "light"
     },
     "output_type": "display_data"
    },
    {
     "name": "stdout",
     "output_type": "stream",
     "text": [
      "final_result : \n",
      " Pass    10380\n",
      "Fail      979\n",
      "Name: final_result, dtype: int64 \n",
      "\n"
     ]
    },
    {
     "data": {
      "image/png": "[encoded data removed]",
      "text/plain": [
       "<Figure size 432x288 with 1 Axes>"
      ]
     },
     "metadata": {
      "needs_background": "light"
     },
     "output_type": "display_data"
    },
    {
     "name": "stdout",
     "output_type": "stream",
     "text": [
      "\n",
      "\n",
      "\n",
      "\n"
     ]
    }
   ],
   "source": [
    "#Adding in cluster ID to dataframe to analyze\n",
    "df2 = pd.DataFrame(df)\n",
    "df2['cluster_ID'] = newfeature\n",
    "\n",
    "# translating variables used to generate clusters to analyze clustering in initial non-OneHotEncoded dataset\n",
    "checkVars = ['num_of_prev_attempts','final_result']\n",
    "\n",
    "#For loop to iterate through clusters and generate value counts\n",
    "for j in range(0,nClusters):\n",
    "    dataFrame = df2[df2['cluster_ID']==j]\n",
    "    print('Cluster', j + 1)\n",
    "    for i in checkVars:\n",
    "        # Numerical interpretation of clusters\n",
    "        print(i,': \\n',dataFrame[i].value_counts().sort_values(ascending=False),'\\n')\n",
    "        \n",
    "        #Graph interpretation of clusters\n",
    "        plt.hist(x = dataFrame[i].sort_values(ascending = False), label = 'cluster_ID')\n",
    "        plt.title('Value Count Per Cluster for ' + i)\n",
    "        plt.show()\n",
    "    # Printing extra lines for visual separation between clusters\n",
    "    print('\\n\\n\\n')\n"
   ]
  },
  {
   "cell_type": "markdown",
   "id": "78f96566",
   "metadata": {},
   "source": [
    "# Modeling and Evaluation 3 #\n",
    "*Visualize Results*"
   ]
  },
  {
   "cell_type": "markdown",
   "id": "c497ac65",
   "metadata": {},
   "source": [
    "# Modeling and Evaluation 4 #\n",
    "*Summarize the Ramifications*"
   ]
  },
  {
   "cell_type": "markdown",
   "id": "80334583",
   "metadata": {},
   "source": [
    "# Deployment #\n",
    "*Be critical of your performance and tell the reader how you current model might be usable by other parties. Did you achieve your goals? If not, can you reign in the utility of your modeling? How useful is your model for interested parties (i.e., the companies or organizations that might want to use it)? How would your deploy your model for interested parties? What other data should be collected? How often would the model need to be updated, etc.?*"
   ]
  },
  {
   "cell_type": "markdown",
   "id": "a3a9f190",
   "metadata": {},
   "source": [
    "# Exceptional Work #"
   ]
  }
 ],
 "metadata": {
  "kernelspec": {
   "display_name": "Python 3",
   "language": "python",
   "name": "python3"
  },
  "language_info": {
   "codemirror_mode": {
    "name": "ipython",
    "version": 3
   },
   "file_extension": ".py",
   "mimetype": "text/x-python",
   "name": "python",
   "nbconvert_exporter": "python",
   "pygments_lexer": "ipython3",
   "version": "3.8.8"
  }
 },
 "nbformat": 4,
 "nbformat_minor": 5
}
