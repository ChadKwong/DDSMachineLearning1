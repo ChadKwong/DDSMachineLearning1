{
 "cells": [
  {
   "cell_type": "markdown",
   "id": "ff687ea3",
   "metadata": {},
   "source": [
    "# Lab 3\n",
    "\n",
    "### Team Members:\n",
    " - Alex Lopez\n",
    " - Chris Haub\n",
    " - Erin McClure-Price\n",
    " - Chad Kwong"
   ]
  },
  {
   "cell_type": "markdown",
   "id": "0a3f66b8",
   "metadata": {},
   "source": [
    "#### Library Imports"
   ]
  },
  {
   "cell_type": "code",
   "execution_count": 1,
   "id": "a725e35e",
   "metadata": {},
   "outputs": [],
   "source": [
    "import pandas as pd\n",
    "import numpy as np\n",
    "import matplotlib.pyplot as plt\n",
    "import seaborn as sns\n",
    "# import graphlab as gl\n",
    "import warnings\n",
    "import turicreate as tc\n"
   ]
  },
  {
   "cell_type": "markdown",
   "id": "45bd9a18",
   "metadata": {},
   "source": [
    "#### Data Import"
   ]
  },
  {
   "cell_type": "code",
   "execution_count": 2,
   "id": "ce513607",
   "metadata": {},
   "outputs": [
    {
     "name": "stdout",
     "output_type": "stream",
     "text": [
      "CPU times: user 3.61 s, sys: 594 ms, total: 4.2 s\n",
      "Wall time: 4.27 s\n"
     ]
    }
   ],
   "source": [
    "%%time\n",
    "\n",
    "#Loading all data file separately \n",
    "vle = pd.read_csv('./anonymiseddata/vle.csv')\n",
    "assessments = pd.read_csv('./anonymiseddata/assessments.csv')\n",
    "courses = pd.read_csv('./anonymiseddata/courses.csv')\n",
    "studentAssessments = pd.read_csv('./anonymiseddata/studentAssessment.csv')\n",
    "studentInfo = pd.read_csv('./anonymiseddata/studentInfo.csv')\n",
    "studentRegistration = pd.read_csv('./anonymiseddata/studentRegistration.csv')\n",
    "studentVle = pd.read_csv('./anonymiseddata/studentVle.csv')"
   ]
  },
  {
   "cell_type": "code",
   "execution_count": 9,
   "id": "3966dd10",
   "metadata": {},
   "outputs": [
    {
     "data": {
      "text/plain": [
       "(10655280, 6)"
      ]
     },
     "execution_count": 9,
     "metadata": {},
     "output_type": "execute_result"
    }
   ],
   "source": [
    "studentVle.shape"
   ]
  },
  {
   "cell_type": "markdown",
   "id": "946add74",
   "metadata": {},
   "source": [
    "# Business Understanding 1 #\n",
    "*Describe the purpose of the data set you selected (i.e., why was this data collected in the first place?). How will you measure the effectiveness of a good algorithm? Why does your chosen validation method make sense for this specific dataset and the stakeholders needs?*"
   ]
  },
  {
   "cell_type": "markdown",
   "id": "d0992a3b",
   "metadata": {},
   "source": [
    "# Data Understanding 1 #\n",
    "*Describe the meaning and type of data (scale, values, etc.) for each attribute in the data file. Verify data quality: Are there missing values? Duplicate data? Outliers? Are those mistakes? How do you deal with these problems?*"
   ]
  },
  {
   "cell_type": "markdown",
   "id": "d5a0e39c",
   "metadata": {},
   "source": [
    " - VLE stands for Virtual Learning Environment\n",
    " - VLE table records interactions with VLE \n",
    " - 32,593 students\n",
    " - 22 courses\n",
    " "
   ]
  },
  {
   "cell_type": "code",
   "execution_count": 22,
   "id": "54a0b5fc",
   "metadata": {},
   "outputs": [
    {
     "name": "stdout",
     "output_type": "stream",
     "text": [
      "(4000, 12)\n",
      "(10744851, 28)\n",
      "CPU times: user 14 s, sys: 5.24 s, total: 19.2 s\n",
      "Wall time: 20 s\n"
     ]
    },
    {
     "data": {
      "text/html": [
       "<div>\n",
       "<style scoped>\n",
       "    .dataframe tbody tr th:only-of-type {\n",
       "        vertical-align: middle;\n",
       "    }\n",
       "\n",
       "    .dataframe tbody tr th {\n",
       "        vertical-align: top;\n",
       "    }\n",
       "\n",
       "    .dataframe thead th {\n",
       "        text-align: right;\n",
       "    }\n",
       "</style>\n",
       "<table border=\"1\" class=\"dataframe\">\n",
       "  <thead>\n",
       "    <tr style=\"text-align: right;\">\n",
       "      <th></th>\n",
       "      <th>code_module</th>\n",
       "      <th>code_presentation</th>\n",
       "      <th>id_student</th>\n",
       "      <th>gender</th>\n",
       "      <th>region</th>\n",
       "      <th>highest_education</th>\n",
       "      <th>imd_band</th>\n",
       "      <th>age_band</th>\n",
       "      <th>num_of_prev_attempts</th>\n",
       "      <th>studied_credits</th>\n",
       "      <th>...</th>\n",
       "      <th>score</th>\n",
       "      <th>assessment_type</th>\n",
       "      <th>date_y</th>\n",
       "      <th>weight</th>\n",
       "      <th>date_registration</th>\n",
       "      <th>date_unregistration</th>\n",
       "      <th>module_presentation_length</th>\n",
       "      <th>activity_type</th>\n",
       "      <th>week_from</th>\n",
       "      <th>week_to</th>\n",
       "    </tr>\n",
       "  </thead>\n",
       "  <tbody>\n",
       "    <tr>\n",
       "      <th>0</th>\n",
       "      <td>CCC</td>\n",
       "      <td>2014J</td>\n",
       "      <td>134190</td>\n",
       "      <td>F</td>\n",
       "      <td>Scotland</td>\n",
       "      <td>A Level or Equivalent</td>\n",
       "      <td>30-40%</td>\n",
       "      <td>0-35</td>\n",
       "      <td>0</td>\n",
       "      <td>120</td>\n",
       "      <td>...</td>\n",
       "      <td>78.0</td>\n",
       "      <td>CMA</td>\n",
       "      <td>18.0</td>\n",
       "      <td>2.0</td>\n",
       "      <td>-70.0</td>\n",
       "      <td>32.0</td>\n",
       "      <td>269</td>\n",
       "      <td>homepage</td>\n",
       "      <td>NaN</td>\n",
       "      <td>NaN</td>\n",
       "    </tr>\n",
       "    <tr>\n",
       "      <th>1</th>\n",
       "      <td>CCC</td>\n",
       "      <td>2014J</td>\n",
       "      <td>134190</td>\n",
       "      <td>F</td>\n",
       "      <td>Scotland</td>\n",
       "      <td>A Level or Equivalent</td>\n",
       "      <td>30-40%</td>\n",
       "      <td>0-35</td>\n",
       "      <td>0</td>\n",
       "      <td>120</td>\n",
       "      <td>...</td>\n",
       "      <td>78.0</td>\n",
       "      <td>CMA</td>\n",
       "      <td>18.0</td>\n",
       "      <td>2.0</td>\n",
       "      <td>-70.0</td>\n",
       "      <td>32.0</td>\n",
       "      <td>269</td>\n",
       "      <td>resource</td>\n",
       "      <td>NaN</td>\n",
       "      <td>NaN</td>\n",
       "    </tr>\n",
       "    <tr>\n",
       "      <th>2</th>\n",
       "      <td>CCC</td>\n",
       "      <td>2014J</td>\n",
       "      <td>134190</td>\n",
       "      <td>F</td>\n",
       "      <td>Scotland</td>\n",
       "      <td>A Level or Equivalent</td>\n",
       "      <td>30-40%</td>\n",
       "      <td>0-35</td>\n",
       "      <td>0</td>\n",
       "      <td>120</td>\n",
       "      <td>...</td>\n",
       "      <td>78.0</td>\n",
       "      <td>CMA</td>\n",
       "      <td>18.0</td>\n",
       "      <td>2.0</td>\n",
       "      <td>-70.0</td>\n",
       "      <td>32.0</td>\n",
       "      <td>269</td>\n",
       "      <td>forumng</td>\n",
       "      <td>NaN</td>\n",
       "      <td>NaN</td>\n",
       "    </tr>\n",
       "    <tr>\n",
       "      <th>3</th>\n",
       "      <td>CCC</td>\n",
       "      <td>2014J</td>\n",
       "      <td>134190</td>\n",
       "      <td>F</td>\n",
       "      <td>Scotland</td>\n",
       "      <td>A Level or Equivalent</td>\n",
       "      <td>30-40%</td>\n",
       "      <td>0-35</td>\n",
       "      <td>0</td>\n",
       "      <td>120</td>\n",
       "      <td>...</td>\n",
       "      <td>78.0</td>\n",
       "      <td>CMA</td>\n",
       "      <td>18.0</td>\n",
       "      <td>2.0</td>\n",
       "      <td>-70.0</td>\n",
       "      <td>32.0</td>\n",
       "      <td>269</td>\n",
       "      <td>forumng</td>\n",
       "      <td>NaN</td>\n",
       "      <td>NaN</td>\n",
       "    </tr>\n",
       "    <tr>\n",
       "      <th>4</th>\n",
       "      <td>CCC</td>\n",
       "      <td>2014J</td>\n",
       "      <td>134190</td>\n",
       "      <td>F</td>\n",
       "      <td>Scotland</td>\n",
       "      <td>A Level or Equivalent</td>\n",
       "      <td>30-40%</td>\n",
       "      <td>0-35</td>\n",
       "      <td>0</td>\n",
       "      <td>120</td>\n",
       "      <td>...</td>\n",
       "      <td>78.0</td>\n",
       "      <td>CMA</td>\n",
       "      <td>18.0</td>\n",
       "      <td>2.0</td>\n",
       "      <td>-70.0</td>\n",
       "      <td>32.0</td>\n",
       "      <td>269</td>\n",
       "      <td>homepage</td>\n",
       "      <td>NaN</td>\n",
       "      <td>NaN</td>\n",
       "    </tr>\n",
       "  </tbody>\n",
       "</table>\n",
       "<p>5 rows × 28 columns</p>\n",
       "</div>"
      ],
      "text/plain": [
       "  code_module code_presentation  id_student gender    region  \\\n",
       "0         CCC             2014J      134190      F  Scotland   \n",
       "1         CCC             2014J      134190      F  Scotland   \n",
       "2         CCC             2014J      134190      F  Scotland   \n",
       "3         CCC             2014J      134190      F  Scotland   \n",
       "4         CCC             2014J      134190      F  Scotland   \n",
       "\n",
       "       highest_education imd_band age_band  num_of_prev_attempts  \\\n",
       "0  A Level or Equivalent   30-40%     0-35                     0   \n",
       "1  A Level or Equivalent   30-40%     0-35                     0   \n",
       "2  A Level or Equivalent   30-40%     0-35                     0   \n",
       "3  A Level or Equivalent   30-40%     0-35                     0   \n",
       "4  A Level or Equivalent   30-40%     0-35                     0   \n",
       "\n",
       "   studied_credits  ... score assessment_type  date_y  weight  \\\n",
       "0              120  ...  78.0             CMA    18.0     2.0   \n",
       "1              120  ...  78.0             CMA    18.0     2.0   \n",
       "2              120  ...  78.0             CMA    18.0     2.0   \n",
       "3              120  ...  78.0             CMA    18.0     2.0   \n",
       "4              120  ...  78.0             CMA    18.0     2.0   \n",
       "\n",
       "   date_registration  date_unregistration  module_presentation_length  \\\n",
       "0              -70.0                 32.0                         269   \n",
       "1              -70.0                 32.0                         269   \n",
       "2              -70.0                 32.0                         269   \n",
       "3              -70.0                 32.0                         269   \n",
       "4              -70.0                 32.0                         269   \n",
       "\n",
       "   activity_type  week_from week_to  \n",
       "0       homepage        NaN     NaN  \n",
       "1       resource        NaN     NaN  \n",
       "2        forumng        NaN     NaN  \n",
       "3        forumng        NaN     NaN  \n",
       "4       homepage        NaN     NaN  \n",
       "\n",
       "[5 rows x 28 columns]"
      ]
     },
     "execution_count": 22,
     "metadata": {},
     "output_type": "execute_result"
    }
   ],
   "source": [
    "%%time\n",
    "# Randomly sampling 4,000 students to reduce size of dataset.\n",
    "studentSample = studentInfo.sample(n=4000, random_state = 777)\n",
    "print(studentSample.shape)\n",
    "\n",
    "# vle \n",
    "# assessments X\n",
    "# courses \n",
    "# studentAssessments X\n",
    "# studentInfo X\n",
    "# studentRegistration X\n",
    "# studentVleSample X\n",
    "\n",
    "df = studentSample.merge(studentVle, on=['code_module', 'code_presentation', 'id_student'], how = 'left')\n",
    "df2 = pd.merge(studentAssessments, assessments, on='id_assessment')\n",
    "df = df.merge(df2, on=['code_module', 'code_presentation', 'id_student'], how = 'left')\n",
    "df = df.merge(studentRegistration, on=['code_module', 'code_presentation', 'id_student'], how = 'left')\n",
    "df = df.merge(courses, on=['code_module', 'code_presentation'], how = 'left')\n",
    "df = df.merge(vle, on=['code_module', 'code_presentation', 'id_site'], how = 'left')\n",
    "allCol = df\n",
    "print(allCol.shape)\n",
    "allCol.head()"
   ]
  },
  {
   "cell_type": "code",
   "execution_count": 24,
   "id": "3b008c96",
   "metadata": {
    "scrolled": false
   },
   "outputs": [
    {
     "data": {
      "text/plain": [
       "code_module                    0.000000\n",
       "code_presentation              0.000000\n",
       "id_student                     0.000000\n",
       "gender                         0.000000\n",
       "region                         0.000000\n",
       "highest_education              0.000000\n",
       "imd_band                       6.063863\n",
       "age_band                       0.000000\n",
       "num_of_prev_attempts           0.000000\n",
       "studied_credits                0.000000\n",
       "disability                     0.000000\n",
       "final_result                   0.000000\n",
       "id_site                        0.004021\n",
       "date_x                         0.004021\n",
       "sum_click                      0.004021\n",
       "id_assessment                  0.121118\n",
       "date_submitted                 0.121118\n",
       "is_banked                      0.121118\n",
       "score                          0.164842\n",
       "assessment_type                0.121118\n",
       "date_y                         1.883209\n",
       "weight                         0.121118\n",
       "date_registration              0.001936\n",
       "date_unregistration           95.705729\n",
       "module_presentation_length     0.000000\n",
       "activity_type                  0.004021\n",
       "week_from                     86.059444\n",
       "week_to                       86.059444\n",
       "dtype: float64"
      ]
     },
     "execution_count": 24,
     "metadata": {},
     "output_type": "execute_result"
    }
   ],
   "source": [
    "allCol.isnull().sum()*100/len(allCol)"
   ]
  },
  {
   "cell_type": "code",
   "execution_count": 29,
   "id": "a36fe757",
   "metadata": {},
   "outputs": [
    {
     "data": {
      "text/plain": [
       "code_module                   0.000000\n",
       "code_presentation             0.000000\n",
       "id_student                    0.000000\n",
       "gender                        0.000000\n",
       "region                        0.000000\n",
       "highest_education             0.000000\n",
       "imd_band                      6.063863\n",
       "age_band                      0.000000\n",
       "num_of_prev_attempts          0.000000\n",
       "studied_credits               0.000000\n",
       "disability                    0.000000\n",
       "final_result                  0.000000\n",
       "id_site                       0.004021\n",
       "date_x                        0.004021\n",
       "sum_click                     0.004021\n",
       "id_assessment                 0.121118\n",
       "date_submitted                0.121118\n",
       "is_banked                     0.121118\n",
       "score                         0.164842\n",
       "assessment_type               0.121118\n",
       "date_y                        1.883209\n",
       "weight                        0.121118\n",
       "date_registration             0.001936\n",
       "module_presentation_length    0.000000\n",
       "activity_type                 0.004021\n",
       "dtype: float64"
      ]
     },
     "execution_count": 29,
     "metadata": {},
     "output_type": "execute_result"
    }
   ],
   "source": [
    "allCol = allCol.drop(columns=['date_unregistration','week_from','week_to'])\n",
    "allCol.isnull().sum()*100/len(allCol)"
   ]
  },
  {
   "cell_type": "code",
   "execution_count": 34,
   "id": "694f922b",
   "metadata": {},
   "outputs": [
    {
     "ename": "TypeError",
     "evalue": "'Series' objects are mutable, thus they cannot be hashed",
     "output_type": "error",
     "traceback": [
      "\u001b[0;31m---------------------------------------------------------------------------\u001b[0m",
      "\u001b[0;31mTypeError\u001b[0m                                 Traceback (most recent call last)",
      "\u001b[0;32m<ipython-input-34-9c229f99d57b>\u001b[0m in \u001b[0;36m<module>\u001b[0;34m\u001b[0m\n\u001b[0;32m----> 1\u001b[0;31m \u001b[0mallCol\u001b[0m\u001b[0;34m.\u001b[0m\u001b[0mloc\u001b[0m\u001b[0;34m(\u001b[0m\u001b[0mallCol\u001b[0m\u001b[0;34m.\u001b[0m\u001b[0mimd_band\u001b[0m\u001b[0;34m==\u001b[0m\u001b[0;34m'NaN'\u001b[0m\u001b[0;34m)\u001b[0m\u001b[0;34m\u001b[0m\u001b[0;34m\u001b[0m\u001b[0m\n\u001b[0m",
      "\u001b[0;32m~/opt/anaconda3/lib/python3.8/site-packages/pandas/core/indexing.py\u001b[0m in \u001b[0;36m__call__\u001b[0;34m(self, axis)\u001b[0m\n\u001b[1;32m    605\u001b[0m \u001b[0;34m\u001b[0m\u001b[0m\n\u001b[1;32m    606\u001b[0m         \u001b[0;32mif\u001b[0m \u001b[0maxis\u001b[0m \u001b[0;32mis\u001b[0m \u001b[0;32mnot\u001b[0m \u001b[0;32mNone\u001b[0m\u001b[0;34m:\u001b[0m\u001b[0;34m\u001b[0m\u001b[0;34m\u001b[0m\u001b[0m\n\u001b[0;32m--> 607\u001b[0;31m             \u001b[0maxis\u001b[0m \u001b[0;34m=\u001b[0m \u001b[0mself\u001b[0m\u001b[0;34m.\u001b[0m\u001b[0mobj\u001b[0m\u001b[0;34m.\u001b[0m\u001b[0m_get_axis_number\u001b[0m\u001b[0;34m(\u001b[0m\u001b[0maxis\u001b[0m\u001b[0;34m)\u001b[0m\u001b[0;34m\u001b[0m\u001b[0;34m\u001b[0m\u001b[0m\n\u001b[0m\u001b[1;32m    608\u001b[0m         \u001b[0mnew_self\u001b[0m\u001b[0;34m.\u001b[0m\u001b[0maxis\u001b[0m \u001b[0;34m=\u001b[0m \u001b[0maxis\u001b[0m\u001b[0;34m\u001b[0m\u001b[0;34m\u001b[0m\u001b[0m\n\u001b[1;32m    609\u001b[0m         \u001b[0;32mreturn\u001b[0m \u001b[0mnew_self\u001b[0m\u001b[0;34m\u001b[0m\u001b[0;34m\u001b[0m\u001b[0m\n",
      "\u001b[0;32m~/opt/anaconda3/lib/python3.8/site-packages/pandas/core/generic.py\u001b[0m in \u001b[0;36m_get_axis_number\u001b[0;34m(cls, axis)\u001b[0m\n\u001b[1;32m    458\u001b[0m     \u001b[0;32mdef\u001b[0m \u001b[0m_get_axis_number\u001b[0m\u001b[0;34m(\u001b[0m\u001b[0mcls\u001b[0m\u001b[0;34m,\u001b[0m \u001b[0maxis\u001b[0m\u001b[0;34m:\u001b[0m \u001b[0mAxis\u001b[0m\u001b[0;34m)\u001b[0m \u001b[0;34m->\u001b[0m \u001b[0mint\u001b[0m\u001b[0;34m:\u001b[0m\u001b[0;34m\u001b[0m\u001b[0;34m\u001b[0m\u001b[0m\n\u001b[1;32m    459\u001b[0m         \u001b[0;32mtry\u001b[0m\u001b[0;34m:\u001b[0m\u001b[0;34m\u001b[0m\u001b[0;34m\u001b[0m\u001b[0m\n\u001b[0;32m--> 460\u001b[0;31m             \u001b[0;32mreturn\u001b[0m \u001b[0mcls\u001b[0m\u001b[0;34m.\u001b[0m\u001b[0m_AXIS_TO_AXIS_NUMBER\u001b[0m\u001b[0;34m[\u001b[0m\u001b[0maxis\u001b[0m\u001b[0;34m]\u001b[0m\u001b[0;34m\u001b[0m\u001b[0;34m\u001b[0m\u001b[0m\n\u001b[0m\u001b[1;32m    461\u001b[0m         \u001b[0;32mexcept\u001b[0m \u001b[0mKeyError\u001b[0m\u001b[0;34m:\u001b[0m\u001b[0;34m\u001b[0m\u001b[0;34m\u001b[0m\u001b[0m\n\u001b[1;32m    462\u001b[0m             \u001b[0;32mraise\u001b[0m \u001b[0mValueError\u001b[0m\u001b[0;34m(\u001b[0m\u001b[0;34mf\"No axis named {axis} for object type {cls.__name__}\"\u001b[0m\u001b[0;34m)\u001b[0m\u001b[0;34m\u001b[0m\u001b[0;34m\u001b[0m\u001b[0m\n",
      "\u001b[0;32m~/opt/anaconda3/lib/python3.8/site-packages/pandas/core/generic.py\u001b[0m in \u001b[0;36m__hash__\u001b[0;34m(self)\u001b[0m\n\u001b[1;32m   1783\u001b[0m \u001b[0;34m\u001b[0m\u001b[0m\n\u001b[1;32m   1784\u001b[0m     \u001b[0;32mdef\u001b[0m \u001b[0m__hash__\u001b[0m\u001b[0;34m(\u001b[0m\u001b[0mself\u001b[0m\u001b[0;34m)\u001b[0m \u001b[0;34m->\u001b[0m \u001b[0mint\u001b[0m\u001b[0;34m:\u001b[0m\u001b[0;34m\u001b[0m\u001b[0;34m\u001b[0m\u001b[0m\n\u001b[0;32m-> 1785\u001b[0;31m         raise TypeError(\n\u001b[0m\u001b[1;32m   1786\u001b[0m             \u001b[0;34mf\"{repr(type(self).__name__)} objects are mutable, \"\u001b[0m\u001b[0;34m\u001b[0m\u001b[0;34m\u001b[0m\u001b[0m\n\u001b[1;32m   1787\u001b[0m             \u001b[0;34mf\"thus they cannot be hashed\"\u001b[0m\u001b[0;34m\u001b[0m\u001b[0;34m\u001b[0m\u001b[0m\n",
      "\u001b[0;31mTypeError\u001b[0m: 'Series' objects are mutable, thus they cannot be hashed"
     ]
    }
   ],
   "source": [
    "allCol.loc(allCol.imd_band=='NaN')"
   ]
  },
  {
   "cell_type": "markdown",
   "id": "9edba66b",
   "metadata": {},
   "source": [
    "# Data Understanding 2 #\n",
    "*Visualize the any important attributes appropriately. Important: Provide an interpretation for any charts or graphs.*"
   ]
  },
  {
   "cell_type": "markdown",
   "id": "c694dbac",
   "metadata": {},
   "source": [
    "# Modeling and Evaluation 1 #\n",
    "*Train and adjust parameters*"
   ]
  },
  {
   "cell_type": "markdown",
   "id": "e9ff4d53",
   "metadata": {},
   "source": [
    "# Modeling and Evaluation 2\t#\n",
    "*Evaluate and Compare*"
   ]
  },
  {
   "cell_type": "markdown",
   "id": "78f96566",
   "metadata": {},
   "source": [
    "# Modeling and Evaluation 3 #\n",
    "*Visualize Results*"
   ]
  },
  {
   "cell_type": "markdown",
   "id": "c497ac65",
   "metadata": {},
   "source": [
    "# Modeling and Evaluation 4 #\n",
    "*Summarize the Ramifications*"
   ]
  },
  {
   "cell_type": "markdown",
   "id": "80334583",
   "metadata": {},
   "source": [
    "# Deployment #\n",
    "*Be critical of your performance and tell the reader how you current model might be usable by other parties. Did you achieve your goals? If not, can you reign in the utility of your modeling? How useful is your model for interested parties (i.e., the companies or organizations that might want to use it)? How would your deploy your model for interested parties? What other data should be collected? How often would the model need to be updated, etc.?*"
   ]
  },
  {
   "cell_type": "markdown",
   "id": "a3a9f190",
   "metadata": {},
   "source": [
    "# Exceptional Work #"
   ]
  },
  {
   "cell_type": "code",
   "execution_count": 6,
   "id": "321de13d",
   "metadata": {},
   "outputs": [
    {
     "data": {
      "text/html": [
       "<pre>Finished parsing file /Users/chadkwong/Desktop/SMU/GitHub/ChadKwong.github.io/DDSMachineLearning1/Lab 3/anonymiseddata/vle.csv</pre>"
      ],
      "text/plain": [
       "Finished parsing file /Users/chadkwong/Desktop/SMU/GitHub/ChadKwong.github.io/DDSMachineLearning1/Lab 3/anonymiseddata/vle.csv"
      ]
     },
     "metadata": {},
     "output_type": "display_data"
    },
    {
     "data": {
      "text/html": [
       "<pre>Parsing completed. Parsed 100 lines in 0.015546 secs.</pre>"
      ],
      "text/plain": [
       "Parsing completed. Parsed 100 lines in 0.015546 secs."
      ]
     },
     "metadata": {},
     "output_type": "display_data"
    },
    {
     "name": "stdout",
     "output_type": "stream",
     "text": [
      "------------------------------------------------------\n",
      "Inferred types from first 100 line(s) of file as \n",
      "column_type_hints=[int,str,str,str,str,str]\n",
      "If parsing fails due to incorrect types, you can correct\n",
      "the inferred type list above and pass it to read_csv in\n",
      "the column_type_hints argument\n",
      "------------------------------------------------------\n"
     ]
    },
    {
     "data": {
      "text/html": [
       "<pre>Finished parsing file /Users/chadkwong/Desktop/SMU/GitHub/ChadKwong.github.io/DDSMachineLearning1/Lab 3/anonymiseddata/vle.csv</pre>"
      ],
      "text/plain": [
       "Finished parsing file /Users/chadkwong/Desktop/SMU/GitHub/ChadKwong.github.io/DDSMachineLearning1/Lab 3/anonymiseddata/vle.csv"
      ]
     },
     "metadata": {},
     "output_type": "display_data"
    },
    {
     "data": {
      "text/html": [
       "<pre>Parsing completed. Parsed 6364 lines in 0.019102 secs.</pre>"
      ],
      "text/plain": [
       "Parsing completed. Parsed 6364 lines in 0.019102 secs."
      ]
     },
     "metadata": {},
     "output_type": "display_data"
    },
    {
     "data": {
      "text/html": [
       "<pre>Finished parsing file /Users/chadkwong/Desktop/SMU/GitHub/ChadKwong.github.io/DDSMachineLearning1/Lab 3/anonymiseddata/assessments.csv</pre>"
      ],
      "text/plain": [
       "Finished parsing file /Users/chadkwong/Desktop/SMU/GitHub/ChadKwong.github.io/DDSMachineLearning1/Lab 3/anonymiseddata/assessments.csv"
      ]
     },
     "metadata": {},
     "output_type": "display_data"
    },
    {
     "data": {
      "text/html": [
       "<pre>Parsing completed. Parsed 100 lines in 0.007191 secs.</pre>"
      ],
      "text/plain": [
       "Parsing completed. Parsed 100 lines in 0.007191 secs."
      ]
     },
     "metadata": {},
     "output_type": "display_data"
    },
    {
     "name": "stdout",
     "output_type": "stream",
     "text": [
      "------------------------------------------------------\n",
      "Inferred types from first 100 line(s) of file as \n",
      "column_type_hints=[str,str,int,str,str,float]\n",
      "If parsing fails due to incorrect types, you can correct\n",
      "the inferred type list above and pass it to read_csv in\n",
      "the column_type_hints argument\n",
      "------------------------------------------------------\n"
     ]
    },
    {
     "data": {
      "text/html": [
       "<pre>Finished parsing file /Users/chadkwong/Desktop/SMU/GitHub/ChadKwong.github.io/DDSMachineLearning1/Lab 3/anonymiseddata/assessments.csv</pre>"
      ],
      "text/plain": [
       "Finished parsing file /Users/chadkwong/Desktop/SMU/GitHub/ChadKwong.github.io/DDSMachineLearning1/Lab 3/anonymiseddata/assessments.csv"
      ]
     },
     "metadata": {},
     "output_type": "display_data"
    },
    {
     "data": {
      "text/html": [
       "<pre>Parsing completed. Parsed 206 lines in 0.005566 secs.</pre>"
      ],
      "text/plain": [
       "Parsing completed. Parsed 206 lines in 0.005566 secs."
      ]
     },
     "metadata": {},
     "output_type": "display_data"
    },
    {
     "data": {
      "text/html": [
       "<pre>Finished parsing file /Users/chadkwong/Desktop/SMU/GitHub/ChadKwong.github.io/DDSMachineLearning1/Lab 3/anonymiseddata/courses.csv</pre>"
      ],
      "text/plain": [
       "Finished parsing file /Users/chadkwong/Desktop/SMU/GitHub/ChadKwong.github.io/DDSMachineLearning1/Lab 3/anonymiseddata/courses.csv"
      ]
     },
     "metadata": {},
     "output_type": "display_data"
    },
    {
     "data": {
      "text/html": [
       "<pre>Parsing completed. Parsed 22 lines in 0.005667 secs.</pre>"
      ],
      "text/plain": [
       "Parsing completed. Parsed 22 lines in 0.005667 secs."
      ]
     },
     "metadata": {},
     "output_type": "display_data"
    },
    {
     "name": "stdout",
     "output_type": "stream",
     "text": [
      "------------------------------------------------------\n",
      "Inferred types from first 100 line(s) of file as \n",
      "column_type_hints=[str,str,int]\n",
      "If parsing fails due to incorrect types, you can correct\n",
      "the inferred type list above and pass it to read_csv in\n",
      "the column_type_hints argument\n",
      "------------------------------------------------------\n"
     ]
    },
    {
     "data": {
      "text/html": [
       "<pre>Finished parsing file /Users/chadkwong/Desktop/SMU/GitHub/ChadKwong.github.io/DDSMachineLearning1/Lab 3/anonymiseddata/courses.csv</pre>"
      ],
      "text/plain": [
       "Finished parsing file /Users/chadkwong/Desktop/SMU/GitHub/ChadKwong.github.io/DDSMachineLearning1/Lab 3/anonymiseddata/courses.csv"
      ]
     },
     "metadata": {},
     "output_type": "display_data"
    },
    {
     "data": {
      "text/html": [
       "<pre>Parsing completed. Parsed 22 lines in 0.005364 secs.</pre>"
      ],
      "text/plain": [
       "Parsing completed. Parsed 22 lines in 0.005364 secs."
      ]
     },
     "metadata": {},
     "output_type": "display_data"
    },
    {
     "data": {
      "text/html": [
       "<pre>Finished parsing file /Users/chadkwong/Desktop/SMU/GitHub/ChadKwong.github.io/DDSMachineLearning1/Lab 3/anonymiseddata/studentAssessment.csv</pre>"
      ],
      "text/plain": [
       "Finished parsing file /Users/chadkwong/Desktop/SMU/GitHub/ChadKwong.github.io/DDSMachineLearning1/Lab 3/anonymiseddata/studentAssessment.csv"
      ]
     },
     "metadata": {},
     "output_type": "display_data"
    },
    {
     "data": {
      "text/html": [
       "<pre>Parsing completed. Parsed 100 lines in 0.122944 secs.</pre>"
      ],
      "text/plain": [
       "Parsing completed. Parsed 100 lines in 0.122944 secs."
      ]
     },
     "metadata": {},
     "output_type": "display_data"
    },
    {
     "name": "stdout",
     "output_type": "stream",
     "text": [
      "------------------------------------------------------\n",
      "Inferred types from first 100 line(s) of file as \n",
      "column_type_hints=[int,int,int,int,int]\n",
      "If parsing fails due to incorrect types, you can correct\n",
      "the inferred type list above and pass it to read_csv in\n",
      "the column_type_hints argument\n",
      "------------------------------------------------------\n"
     ]
    },
    {
     "data": {
      "text/html": [
       "<pre>Unable to interpret \"\"\"\" as a integer\n",
       "Parse failed at token ending at: \n",
       "\t\"1752\",\"721259\",\"22\",\"0\",\"\"\u001b[1;31m^\u001b[0m\n",
       "Successfully parsed 4 tokens: \n",
       "\t0: 1752\n",
       "\t1: 721259\n",
       "\t2: 22\n",
       "\t3: 0</pre>"
      ],
      "text/plain": [
       "Unable to interpret \"\"\"\" as a integer\n",
       "Parse failed at token ending at: \n",
       "\t\"1752\",\"721259\",\"22\",\"0\",\"\"\u001b[1;31m^\u001b[0m\n",
       "Successfully parsed 4 tokens: \n",
       "\t0: 1752\n",
       "\t1: 721259\n",
       "\t2: 22\n",
       "\t3: 0"
      ]
     },
     "metadata": {},
     "output_type": "display_data"
    },
    {
     "data": {
      "text/html": [
       "<pre>Unable to interpret \"\"\"\" as a integer\n",
       "Parse failed at token ending at: \n",
       "\t\"30715\",\"624469\",\"69\",\"0\",\"\"\u001b[1;31m^\u001b[0m\n",
       "Successfully parsed 4 tokens: \n",
       "\t0: 30715\n",
       "\t1: 624469\n",
       "\t2: 69\n",
       "\t3: 0</pre>"
      ],
      "text/plain": [
       "Unable to interpret \"\"\"\" as a integer\n",
       "Parse failed at token ending at: \n",
       "\t\"30715\",\"624469\",\"69\",\"0\",\"\"\u001b[1;31m^\u001b[0m\n",
       "Successfully parsed 4 tokens: \n",
       "\t0: 30715\n",
       "\t1: 624469\n",
       "\t2: 69\n",
       "\t3: 0"
      ]
     },
     "metadata": {},
     "output_type": "display_data"
    },
    {
     "data": {
      "text/html": [
       "<pre>Unable to interpret \"\"\"\" as a integer\n",
       "Parse failed at token ending at: \n",
       "\t\"1754\",\"260355\",\"127\",\"0\",\"\"\u001b[1;31m^\u001b[0m\n",
       "Successfully parsed 4 tokens: \n",
       "\t0: 1754\n",
       "\t1: 260355\n",
       "\t2: 127\n",
       "\t3: 0</pre>"
      ],
      "text/plain": [
       "Unable to interpret \"\"\"\" as a integer\n",
       "Parse failed at token ending at: \n",
       "\t\"1754\",\"260355\",\"127\",\"0\",\"\"\u001b[1;31m^\u001b[0m\n",
       "Successfully parsed 4 tokens: \n",
       "\t0: 1754\n",
       "\t1: 260355\n",
       "\t2: 127\n",
       "\t3: 0"
      ]
     },
     "metadata": {},
     "output_type": "display_data"
    },
    {
     "data": {
      "text/html": [
       "<pre>Unable to interpret \"\"\"\" as a integer\n",
       "Parse failed at token ending at: \n",
       "\t\"30719\",\"694548\",\"45\",\"0\",\"\"\u001b[1;31m^\u001b[0m\n",
       "Successfully parsed 4 tokens: \n",
       "\t0: 30719\n",
       "\t1: 694548\n",
       "\t2: 45\n",
       "\t3: 0</pre>"
      ],
      "text/plain": [
       "Unable to interpret \"\"\"\" as a integer\n",
       "Parse failed at token ending at: \n",
       "\t\"30719\",\"694548\",\"45\",\"0\",\"\"\u001b[1;31m^\u001b[0m\n",
       "Successfully parsed 4 tokens: \n",
       "\t0: 30719\n",
       "\t1: 694548\n",
       "\t2: 45\n",
       "\t3: 0"
      ]
     },
     "metadata": {},
     "output_type": "display_data"
    },
    {
     "data": {
      "text/html": [
       "<pre>Unable to interpret \"\"\"\" as a integer\n",
       "Parse failed at token ending at: \n",
       "\t\"25348\",\"427248\",\"25\",\"0\",\"\"\u001b[1;31m^\u001b[0m\n",
       "Successfully parsed 4 tokens: \n",
       "\t0: 25348\n",
       "\t1: 427248\n",
       "\t2: 25\n",
       "\t3: 0</pre>"
      ],
      "text/plain": [
       "Unable to interpret \"\"\"\" as a integer\n",
       "Parse failed at token ending at: \n",
       "\t\"25348\",\"427248\",\"25\",\"0\",\"\"\u001b[1;31m^\u001b[0m\n",
       "Successfully parsed 4 tokens: \n",
       "\t0: 25348\n",
       "\t1: 427248\n",
       "\t2: 25\n",
       "\t3: 0"
      ]
     },
     "metadata": {},
     "output_type": "display_data"
    },
    {
     "data": {
      "text/html": [
       "<pre>Unable to interpret \"\"\"\" as a integer\n",
       "Parse failed at token ending at: \n",
       "\t\"25348\",\"557247\",\"96\",\"0\",\"\"\u001b[1;31m^\u001b[0m\n",
       "Successfully parsed 4 tokens: \n",
       "\t0: 25348\n",
       "\t1: 557247\n",
       "\t2: 96\n",
       "\t3: 0</pre>"
      ],
      "text/plain": [
       "Unable to interpret \"\"\"\" as a integer\n",
       "Parse failed at token ending at: \n",
       "\t\"25348\",\"557247\",\"96\",\"0\",\"\"\u001b[1;31m^\u001b[0m\n",
       "Successfully parsed 4 tokens: \n",
       "\t0: 25348\n",
       "\t1: 557247\n",
       "\t2: 96\n",
       "\t3: 0"
      ]
     },
     "metadata": {},
     "output_type": "display_data"
    },
    {
     "data": {
      "text/html": [
       "<pre>Unable to interpret \"\"\"\" as a integer\n",
       "Parse failed at token ending at: \n",
       "\t\"1760\",\"2606802\",\"180\",\"0\",\"\"\u001b[1;31m^\u001b[0m\n",
       "Successfully parsed 4 tokens: \n",
       "\t0: 1760\n",
       "\t1: 2606802\n",
       "\t2: 180\n",
       "\t3: 0</pre>"
      ],
      "text/plain": [
       "Unable to interpret \"\"\"\" as a integer\n",
       "Parse failed at token ending at: \n",
       "\t\"1760\",\"2606802\",\"180\",\"0\",\"\"\u001b[1;31m^\u001b[0m\n",
       "Successfully parsed 4 tokens: \n",
       "\t0: 1760\n",
       "\t1: 2606802\n",
       "\t2: 180\n",
       "\t3: 0"
      ]
     },
     "metadata": {},
     "output_type": "display_data"
    },
    {
     "data": {
      "text/html": [
       "<pre>Unable to interpret \"\"\"\" as a integer\n",
       "Parse failed at token ending at: \n",
       "\t\"25349\",\"588293\",\"101\",\"0\",\"\"\u001b[1;31m^\u001b[0m\n",
       "Successfully parsed 4 tokens: \n",
       "\t0: 25349\n",
       "\t1: 588293\n",
       "\t2: 101\n",
       "\t3: 0</pre>"
      ],
      "text/plain": [
       "Unable to interpret \"\"\"\" as a integer\n",
       "Parse failed at token ending at: \n",
       "\t\"25349\",\"588293\",\"101\",\"0\",\"\"\u001b[1;31m^\u001b[0m\n",
       "Successfully parsed 4 tokens: \n",
       "\t0: 25349\n",
       "\t1: 588293\n",
       "\t2: 101\n",
       "\t3: 0"
      ]
     },
     "metadata": {},
     "output_type": "display_data"
    },
    {
     "data": {
      "text/html": [
       "<pre>Unable to interpret \"\"\"\" as a integer\n",
       "Parse failed at token ending at: \n",
       "\t\"25349\",\"603498\",\"177\",\"0\",\"\"\u001b[1;31m^\u001b[0m\n",
       "Successfully parsed 4 tokens: \n",
       "\t0: 25349\n",
       "\t1: 603498\n",
       "\t2: 177\n",
       "\t3: 0</pre>"
      ],
      "text/plain": [
       "Unable to interpret \"\"\"\" as a integer\n",
       "Parse failed at token ending at: \n",
       "\t\"25349\",\"603498\",\"177\",\"0\",\"\"\u001b[1;31m^\u001b[0m\n",
       "Successfully parsed 4 tokens: \n",
       "\t0: 25349\n",
       "\t1: 603498\n",
       "\t2: 177\n",
       "\t3: 0"
      ]
     },
     "metadata": {},
     "output_type": "display_data"
    },
    {
     "data": {
      "text/html": [
       "<pre>Unable to interpret \"\"\"\" as a integer\n",
       "Parse failed at token ending at: \n",
       "\t\"25350\",\"77241\",\"115\",\"0\",\"\"\u001b[1;31m^\u001b[0m\n",
       "Successfully parsed 4 tokens: \n",
       "\t0: 25350\n",
       "\t1: 77241\n",
       "\t2: 115\n",
       "\t3: 0</pre>"
      ],
      "text/plain": [
       "Unable to interpret \"\"\"\" as a integer\n",
       "Parse failed at token ending at: \n",
       "\t\"25350\",\"77241\",\"115\",\"0\",\"\"\u001b[1;31m^\u001b[0m\n",
       "Successfully parsed 4 tokens: \n",
       "\t0: 25350\n",
       "\t1: 77241\n",
       "\t2: 115\n",
       "\t3: 0"
      ]
     },
     "metadata": {},
     "output_type": "display_data"
    },
    {
     "data": {
      "text/html": [
       "<pre>173 lines failed to parse correctly</pre>"
      ],
      "text/plain": [
       "173 lines failed to parse correctly"
      ]
     },
     "metadata": {},
     "output_type": "display_data"
    },
    {
     "data": {
      "text/html": [
       "<pre>Finished parsing file /Users/chadkwong/Desktop/SMU/GitHub/ChadKwong.github.io/DDSMachineLearning1/Lab 3/anonymiseddata/studentAssessment.csv</pre>"
      ],
      "text/plain": [
       "Finished parsing file /Users/chadkwong/Desktop/SMU/GitHub/ChadKwong.github.io/DDSMachineLearning1/Lab 3/anonymiseddata/studentAssessment.csv"
      ]
     },
     "metadata": {},
     "output_type": "display_data"
    },
    {
     "data": {
      "text/html": [
       "<pre>Parsing completed. Parsed 173739 lines in 0.102286 secs.</pre>"
      ],
      "text/plain": [
       "Parsing completed. Parsed 173739 lines in 0.102286 secs."
      ]
     },
     "metadata": {},
     "output_type": "display_data"
    },
    {
     "data": {
      "text/html": [
       "<pre>Finished parsing file /Users/chadkwong/Desktop/SMU/GitHub/ChadKwong.github.io/DDSMachineLearning1/Lab 3/anonymiseddata/studentInfo.csv</pre>"
      ],
      "text/plain": [
       "Finished parsing file /Users/chadkwong/Desktop/SMU/GitHub/ChadKwong.github.io/DDSMachineLearning1/Lab 3/anonymiseddata/studentInfo.csv"
      ]
     },
     "metadata": {},
     "output_type": "display_data"
    },
    {
     "data": {
      "text/html": [
       "<pre>Parsing completed. Parsed 100 lines in 0.061964 secs.</pre>"
      ],
      "text/plain": [
       "Parsing completed. Parsed 100 lines in 0.061964 secs."
      ]
     },
     "metadata": {},
     "output_type": "display_data"
    },
    {
     "name": "stdout",
     "output_type": "stream",
     "text": [
      "------------------------------------------------------\n",
      "Inferred types from first 100 line(s) of file as \n",
      "column_type_hints=[str,str,int,str,str,str,str,str,int,int,str,str]\n",
      "If parsing fails due to incorrect types, you can correct\n",
      "the inferred type list above and pass it to read_csv in\n",
      "the column_type_hints argument\n",
      "------------------------------------------------------\n"
     ]
    },
    {
     "data": {
      "text/html": [
       "<pre>Finished parsing file /Users/chadkwong/Desktop/SMU/GitHub/ChadKwong.github.io/DDSMachineLearning1/Lab 3/anonymiseddata/studentInfo.csv</pre>"
      ],
      "text/plain": [
       "Finished parsing file /Users/chadkwong/Desktop/SMU/GitHub/ChadKwong.github.io/DDSMachineLearning1/Lab 3/anonymiseddata/studentInfo.csv"
      ]
     },
     "metadata": {},
     "output_type": "display_data"
    },
    {
     "data": {
      "text/html": [
       "<pre>Parsing completed. Parsed 32593 lines in 0.044663 secs.</pre>"
      ],
      "text/plain": [
       "Parsing completed. Parsed 32593 lines in 0.044663 secs."
      ]
     },
     "metadata": {},
     "output_type": "display_data"
    },
    {
     "data": {
      "text/html": [
       "<pre>Finished parsing file /Users/chadkwong/Desktop/SMU/GitHub/ChadKwong.github.io/DDSMachineLearning1/Lab 3/anonymiseddata/studentRegistration.csv</pre>"
      ],
      "text/plain": [
       "Finished parsing file /Users/chadkwong/Desktop/SMU/GitHub/ChadKwong.github.io/DDSMachineLearning1/Lab 3/anonymiseddata/studentRegistration.csv"
      ]
     },
     "metadata": {},
     "output_type": "display_data"
    },
    {
     "data": {
      "text/html": [
       "<pre>Parsing completed. Parsed 100 lines in 0.025225 secs.</pre>"
      ],
      "text/plain": [
       "Parsing completed. Parsed 100 lines in 0.025225 secs."
      ]
     },
     "metadata": {},
     "output_type": "display_data"
    },
    {
     "name": "stdout",
     "output_type": "stream",
     "text": [
      "------------------------------------------------------\n",
      "Inferred types from first 100 line(s) of file as \n",
      "column_type_hints=[str,str,int,int,str]\n",
      "If parsing fails due to incorrect types, you can correct\n",
      "the inferred type list above and pass it to read_csv in\n",
      "the column_type_hints argument\n",
      "------------------------------------------------------\n"
     ]
    },
    {
     "data": {
      "text/html": [
       "<pre>Unable to interpret \"\"\"\" as a integer\n",
       "Parse failed at token ending at: \n",
       "\t\"CCC\",\"2014B\",\"575419\",\"\",\u001b[1;31m^\u001b[0m\"-24\"\n",
       "Successfully parsed 3 tokens: \n",
       "\t0: CCC\n",
       "\t1: 2014B\n",
       "\t2: 575419</pre>"
      ],
      "text/plain": [
       "Unable to interpret \"\"\"\" as a integer\n",
       "Parse failed at token ending at: \n",
       "\t\"CCC\",\"2014B\",\"575419\",\"\",\u001b[1;31m^\u001b[0m\"-24\"\n",
       "Successfully parsed 3 tokens: \n",
       "\t0: CCC\n",
       "\t1: 2014B\n",
       "\t2: 575419"
      ]
     },
     "metadata": {},
     "output_type": "display_data"
    },
    {
     "data": {
      "text/html": [
       "<pre>Unable to interpret \"\"\"\" as a integer\n",
       "Parse failed at token ending at: \n",
       "\t\"DDD\",\"2013B\",\"2707979\",\"\",\u001b[1;31m^\u001b[0m\"\"\n",
       "Successfully parsed 3 tokens: \n",
       "\t0: DDD\n",
       "\t1: 2013B\n",
       "\t2: 2707979</pre>"
      ],
      "text/plain": [
       "Unable to interpret \"\"\"\" as a integer\n",
       "Parse failed at token ending at: \n",
       "\t\"DDD\",\"2013B\",\"2707979\",\"\",\u001b[1;31m^\u001b[0m\"\"\n",
       "Successfully parsed 3 tokens: \n",
       "\t0: DDD\n",
       "\t1: 2013B\n",
       "\t2: 2707979"
      ]
     },
     "metadata": {},
     "output_type": "display_data"
    },
    {
     "data": {
      "text/html": [
       "<pre>Unable to interpret \"\"\"\" as a integer\n",
       "Parse failed at token ending at: \n",
       "\t\"DDD\",\"2014J\",\"2716795\",\"\",\u001b[1;31m^\u001b[0m\"5\"\n",
       "Successfully parsed 3 tokens: \n",
       "\t0: DDD\n",
       "\t1: 2014J\n",
       "\t2: 2716795</pre>"
      ],
      "text/plain": [
       "Unable to interpret \"\"\"\" as a integer\n",
       "Parse failed at token ending at: \n",
       "\t\"DDD\",\"2014J\",\"2716795\",\"\",\u001b[1;31m^\u001b[0m\"5\"\n",
       "Successfully parsed 3 tokens: \n",
       "\t0: DDD\n",
       "\t1: 2014J\n",
       "\t2: 2716795"
      ]
     },
     "metadata": {},
     "output_type": "display_data"
    },
    {
     "data": {
      "text/html": [
       "<pre>Unable to interpret \"\"\"\" as a integer\n",
       "Parse failed at token ending at: \n",
       "\t\"CCC\",\"2014B\",\"604480\",\"\",\u001b[1;31m^\u001b[0m\"-168\"\n",
       "Successfully parsed 3 tokens: \n",
       "\t0: CCC\n",
       "\t1: 2014B\n",
       "\t2: 604480</pre>"
      ],
      "text/plain": [
       "Unable to interpret \"\"\"\" as a integer\n",
       "Parse failed at token ending at: \n",
       "\t\"CCC\",\"2014B\",\"604480\",\"\",\u001b[1;31m^\u001b[0m\"-168\"\n",
       "Successfully parsed 3 tokens: \n",
       "\t0: CCC\n",
       "\t1: 2014B\n",
       "\t2: 604480"
      ]
     },
     "metadata": {},
     "output_type": "display_data"
    },
    {
     "data": {
      "text/html": [
       "<pre>Unable to interpret \"\"\"\" as a integer\n",
       "Parse failed at token ending at: \n",
       "\t\"DDD\",\"2013B\",\"2710343\",\"\",\u001b[1;31m^\u001b[0m\"\"\n",
       "Successfully parsed 3 tokens: \n",
       "\t0: DDD\n",
       "\t1: 2013B\n",
       "\t2: 2710343</pre>"
      ],
      "text/plain": [
       "Unable to interpret \"\"\"\" as a integer\n",
       "Parse failed at token ending at: \n",
       "\t\"DDD\",\"2013B\",\"2710343\",\"\",\u001b[1;31m^\u001b[0m\"\"\n",
       "Successfully parsed 3 tokens: \n",
       "\t0: DDD\n",
       "\t1: 2013B\n",
       "\t2: 2710343"
      ]
     },
     "metadata": {},
     "output_type": "display_data"
    },
    {
     "data": {
      "text/html": [
       "<pre>Unable to interpret \"\"\"\" as a integer\n",
       "Parse failed at token ending at: \n",
       "\t\"CCC\",\"2014B\",\"607703\",\"\",\u001b[1;31m^\u001b[0m\"-156\"\n",
       "Successfully parsed 3 tokens: \n",
       "\t0: CCC\n",
       "\t1: 2014B\n",
       "\t2: 607703</pre>"
      ],
      "text/plain": [
       "Unable to interpret \"\"\"\" as a integer\n",
       "Parse failed at token ending at: \n",
       "\t\"CCC\",\"2014B\",\"607703\",\"\",\u001b[1;31m^\u001b[0m\"-156\"\n",
       "Successfully parsed 3 tokens: \n",
       "\t0: CCC\n",
       "\t1: 2014B\n",
       "\t2: 607703"
      ]
     },
     "metadata": {},
     "output_type": "display_data"
    },
    {
     "data": {
      "text/html": [
       "<pre>Unable to interpret \"\"\"\" as a integer\n",
       "Parse failed at token ending at: \n",
       "\t\"DDD\",\"2013J\",\"250456\",\"\",\u001b[1;31m^\u001b[0m\"-40\"\n",
       "Successfully parsed 3 tokens: \n",
       "\t0: DDD\n",
       "\t1: 2013J\n",
       "\t2: 250456</pre>"
      ],
      "text/plain": [
       "Unable to interpret \"\"\"\" as a integer\n",
       "Parse failed at token ending at: \n",
       "\t\"DDD\",\"2013J\",\"250456\",\"\",\u001b[1;31m^\u001b[0m\"-40\"\n",
       "Successfully parsed 3 tokens: \n",
       "\t0: DDD\n",
       "\t1: 2013J\n",
       "\t2: 250456"
      ]
     },
     "metadata": {},
     "output_type": "display_data"
    },
    {
     "data": {
      "text/html": [
       "<pre>Unable to interpret \"\"\"\" as a integer\n",
       "Parse failed at token ending at: \n",
       "\t\"BBB\",\"2014B\",\"582496\",\"\",\u001b[1;31m^\u001b[0m\"-126\"\n",
       "Successfully parsed 3 tokens: \n",
       "\t0: BBB\n",
       "\t1: 2014B\n",
       "\t2: 582496</pre>"
      ],
      "text/plain": [
       "Unable to interpret \"\"\"\" as a integer\n",
       "Parse failed at token ending at: \n",
       "\t\"BBB\",\"2014B\",\"582496\",\"\",\u001b[1;31m^\u001b[0m\"-126\"\n",
       "Successfully parsed 3 tokens: \n",
       "\t0: BBB\n",
       "\t1: 2014B\n",
       "\t2: 582496"
      ]
     },
     "metadata": {},
     "output_type": "display_data"
    },
    {
     "data": {
      "text/html": [
       "<pre>Unable to interpret \"\"\"\" as a integer\n",
       "Parse failed at token ending at: \n",
       "\t\"EEE\",\"2013J\",\"568751\",\"\",\u001b[1;31m^\u001b[0m\"146\"\n",
       "Successfully parsed 3 tokens: \n",
       "\t0: EEE\n",
       "\t1: 2013J\n",
       "\t2: 568751</pre>"
      ],
      "text/plain": [
       "Unable to interpret \"\"\"\" as a integer\n",
       "Parse failed at token ending at: \n",
       "\t\"EEE\",\"2013J\",\"568751\",\"\",\u001b[1;31m^\u001b[0m\"146\"\n",
       "Successfully parsed 3 tokens: \n",
       "\t0: EEE\n",
       "\t1: 2013J\n",
       "\t2: 568751"
      ]
     },
     "metadata": {},
     "output_type": "display_data"
    },
    {
     "data": {
      "text/html": [
       "<pre>Unable to interpret \"\"\"\" as a integer\n",
       "Parse failed at token ending at: \n",
       "\t\"BBB\",\"2014B\",\"607646\",\"\",\u001b[1;31m^\u001b[0m\"-38\"\n",
       "Successfully parsed 3 tokens: \n",
       "\t0: BBB\n",
       "\t1: 2014B\n",
       "\t2: 607646</pre>"
      ],
      "text/plain": [
       "Unable to interpret \"\"\"\" as a integer\n",
       "Parse failed at token ending at: \n",
       "\t\"BBB\",\"2014B\",\"607646\",\"\",\u001b[1;31m^\u001b[0m\"-38\"\n",
       "Successfully parsed 3 tokens: \n",
       "\t0: BBB\n",
       "\t1: 2014B\n",
       "\t2: 607646"
      ]
     },
     "metadata": {},
     "output_type": "display_data"
    },
    {
     "data": {
      "text/html": [
       "<pre>Unable to interpret \"\"\"\" as a integer\n",
       "Parse failed at token ending at: \n",
       "\t\"FFF\",\"2013B\",\"2102658\",\"\",\u001b[1;31m^\u001b[0m\"\"\n",
       "Successfully parsed 3 tokens: \n",
       "\t0: FFF\n",
       "\t1: 2013B\n",
       "\t2: 2102658</pre>"
      ],
      "text/plain": [
       "Unable to interpret \"\"\"\" as a integer\n",
       "Parse failed at token ending at: \n",
       "\t\"FFF\",\"2013B\",\"2102658\",\"\",\u001b[1;31m^\u001b[0m\"\"\n",
       "Successfully parsed 3 tokens: \n",
       "\t0: FFF\n",
       "\t1: 2013B\n",
       "\t2: 2102658"
      ]
     },
     "metadata": {},
     "output_type": "display_data"
    },
    {
     "data": {
      "text/html": [
       "<pre>45 lines failed to parse correctly</pre>"
      ],
      "text/plain": [
       "45 lines failed to parse correctly"
      ]
     },
     "metadata": {},
     "output_type": "display_data"
    },
    {
     "data": {
      "text/html": [
       "<pre>Finished parsing file /Users/chadkwong/Desktop/SMU/GitHub/ChadKwong.github.io/DDSMachineLearning1/Lab 3/anonymiseddata/studentRegistration.csv</pre>"
      ],
      "text/plain": [
       "Finished parsing file /Users/chadkwong/Desktop/SMU/GitHub/ChadKwong.github.io/DDSMachineLearning1/Lab 3/anonymiseddata/studentRegistration.csv"
      ]
     },
     "metadata": {},
     "output_type": "display_data"
    },
    {
     "data": {
      "text/html": [
       "<pre>Parsing completed. Parsed 32548 lines in 0.023947 secs.</pre>"
      ],
      "text/plain": [
       "Parsing completed. Parsed 32548 lines in 0.023947 secs."
      ]
     },
     "metadata": {},
     "output_type": "display_data"
    },
    {
     "data": {
      "text/html": [
       "<pre>Finished parsing file /Users/chadkwong/Desktop/SMU/GitHub/ChadKwong.github.io/DDSMachineLearning1/Lab 3/anonymiseddata/studentVle.csv</pre>"
      ],
      "text/plain": [
       "Finished parsing file /Users/chadkwong/Desktop/SMU/GitHub/ChadKwong.github.io/DDSMachineLearning1/Lab 3/anonymiseddata/studentVle.csv"
      ]
     },
     "metadata": {},
     "output_type": "display_data"
    },
    {
     "data": {
      "text/html": [
       "<pre>Parsing completed. Parsed 100 lines in 0.935726 secs.</pre>"
      ],
      "text/plain": [
       "Parsing completed. Parsed 100 lines in 0.935726 secs."
      ]
     },
     "metadata": {},
     "output_type": "display_data"
    },
    {
     "name": "stdout",
     "output_type": "stream",
     "text": [
      "------------------------------------------------------\n",
      "Inferred types from first 100 line(s) of file as \n",
      "column_type_hints=[str,str,int,int,int,int]\n",
      "If parsing fails due to incorrect types, you can correct\n",
      "the inferred type list above and pass it to read_csv in\n",
      "the column_type_hints argument\n",
      "------------------------------------------------------\n"
     ]
    },
    {
     "data": {
      "text/html": [
       "<pre>Read 1231287 lines. Lines per second: 1.21817e+06</pre>"
      ],
      "text/plain": [
       "Read 1231287 lines. Lines per second: 1.21817e+06"
      ]
     },
     "metadata": {},
     "output_type": "display_data"
    },
    {
     "data": {
      "text/html": [
       "<pre>Finished parsing file /Users/chadkwong/Desktop/SMU/GitHub/ChadKwong.github.io/DDSMachineLearning1/Lab 3/anonymiseddata/studentVle.csv</pre>"
      ],
      "text/plain": [
       "Finished parsing file /Users/chadkwong/Desktop/SMU/GitHub/ChadKwong.github.io/DDSMachineLearning1/Lab 3/anonymiseddata/studentVle.csv"
      ]
     },
     "metadata": {},
     "output_type": "display_data"
    },
    {
     "data": {
      "text/html": [
       "<pre>Parsing completed. Parsed 10655280 lines in 4.17804 secs.</pre>"
      ],
      "text/plain": [
       "Parsing completed. Parsed 10655280 lines in 4.17804 secs."
      ]
     },
     "metadata": {},
     "output_type": "display_data"
    },
    {
     "ename": "NameError",
     "evalue": "name 'actions' is not defined",
     "output_type": "error",
     "traceback": [
      "\u001b[0;31m---------------------------------------------------------------------------\u001b[0m",
      "\u001b[0;31mNameError\u001b[0m                                 Traceback (most recent call last)",
      "\u001b[0;32m<ipython-input-6-16abadd5ba7c>\u001b[0m in \u001b[0;36m<module>\u001b[0;34m\u001b[0m\n\u001b[1;32m     17\u001b[0m \u001b[0mstudentVle2\u001b[0m \u001b[0;34m=\u001b[0m \u001b[0mtc\u001b[0m\u001b[0;34m.\u001b[0m\u001b[0mSFrame\u001b[0m\u001b[0;34m.\u001b[0m\u001b[0mread_csv\u001b[0m\u001b[0;34m(\u001b[0m\u001b[0;34m'./anonymiseddata/studentVle.csv'\u001b[0m\u001b[0;34m)\u001b[0m\u001b[0;34m\u001b[0m\u001b[0;34m\u001b[0m\u001b[0m\n\u001b[1;32m     18\u001b[0m \u001b[0;34m\u001b[0m\u001b[0m\n\u001b[0;32m---> 19\u001b[0;31m \u001b[0mtraining_data\u001b[0m\u001b[0;34m,\u001b[0m \u001b[0mvalidation_data\u001b[0m \u001b[0;34m=\u001b[0m \u001b[0mtc\u001b[0m\u001b[0;34m.\u001b[0m\u001b[0mrecommender\u001b[0m\u001b[0;34m.\u001b[0m\u001b[0mutil\u001b[0m\u001b[0;34m.\u001b[0m\u001b[0mrandom_split_by_user\u001b[0m\u001b[0;34m(\u001b[0m\u001b[0mactions\u001b[0m\u001b[0;34m,\u001b[0m \u001b[0;34m'userId'\u001b[0m\u001b[0;34m,\u001b[0m \u001b[0;34m'movieId'\u001b[0m\u001b[0;34m)\u001b[0m\u001b[0;34m\u001b[0m\u001b[0;34m\u001b[0m\u001b[0m\n\u001b[0m\u001b[1;32m     20\u001b[0m \u001b[0mmodel\u001b[0m \u001b[0;34m=\u001b[0m \u001b[0mtc\u001b[0m\u001b[0;34m.\u001b[0m\u001b[0mrecommender\u001b[0m\u001b[0;34m.\u001b[0m\u001b[0mcreate\u001b[0m\u001b[0;34m(\u001b[0m\u001b[0mtraining_data\u001b[0m\u001b[0;34m,\u001b[0m \u001b[0;34m'userId'\u001b[0m\u001b[0;34m,\u001b[0m \u001b[0;34m'movieId'\u001b[0m\u001b[0;34m)\u001b[0m\u001b[0;34m\u001b[0m\u001b[0;34m\u001b[0m\u001b[0m\n",
      "\u001b[0;31mNameError\u001b[0m: name 'actions' is not defined"
     ]
    }
   ],
   "source": [
    "# Turi Create Cell\n",
    "\n",
    "# vle = pd.read_csv('vle.csv')\n",
    "# assessments = pd.read_csv('assessments.csv')\n",
    "# courses = pd.read_csv('courses.csv')\n",
    "# studentAssessments = pd.read_csv('studentAssessment.csv')\n",
    "# studentInfo = pd.read_csv('studentInfo.csv')\n",
    "# studentRegistration = pd.read_csv('studentRegistration.csv')\n",
    "# studentVle = pd.read_csv('studentVle.csv')\n",
    "\n",
    "vle2 = tc.SFrame.read_csv('./anonymiseddata/vle.csv')\n",
    "assessments2 = tc.SFrame.read_csv('./anonymiseddata/assessments.csv')\n",
    "courses2 = tc.SFrame.read_csv('./anonymiseddata/courses.csv')\n",
    "studentAssessment2 = tc.SFrame.read_csv('./anonymiseddata/studentAssessment.csv')\n",
    "studentInfo2 = tc.SFrame.read_csv('./anonymiseddata/studentInfo.csv')\n",
    "studentRegistration2 = tc.SFrame.read_csv('./anonymiseddata/studentRegistration.csv')\n",
    "studentVle2 = tc.SFrame.read_csv('./anonymiseddata/studentVle.csv')\n",
    "\n",
    "training_data, validation_data = tc.recommender.util.random_split_by_user(actions, 'userId', 'movieId')\n",
    "model = tc.recommender.create(training_data, 'userId', 'movieId')"
   ]
  }
 ],
 "metadata": {
  "kernelspec": {
   "display_name": "Python 3",
   "language": "python",
   "name": "python3"
  },
  "language_info": {
   "codemirror_mode": {
    "name": "ipython",
    "version": 3
   },
   "file_extension": ".py",
   "mimetype": "text/x-python",
   "name": "python",
   "nbconvert_exporter": "python",
   "pygments_lexer": "ipython3",
   "version": "3.8.8"
  }
 },
 "nbformat": 4,
 "nbformat_minor": 5
}
