{
 "cells": [
  {
   "cell_type": "markdown",
   "id": "ff687ea3",
   "metadata": {},
   "source": [
    "# Lab 3\n",
    "\n",
    "### Team Members:\n",
    " - Alex Lopez\n",
    " - Chris Haub\n",
    " - Erin McClure-Price\n",
    " - Chad Kwong"
   ]
  },
  {
   "cell_type": "markdown",
   "id": "0a3f66b8",
   "metadata": {},
   "source": [
    "#### Library Imports"
   ]
  },
  {
   "cell_type": "code",
   "execution_count": 1,
   "id": "a725e35e",
   "metadata": {},
   "outputs": [],
   "source": [
    "import pandas as pd\n",
    "import numpy as np\n",
    "import matplotlib.pyplot as plt\n",
    "import seaborn as sns\n",
    "# import graphlab as gl\n",
    "import warnings\n",
    "#import turicreate as tc\n"
   ]
  },
  {
   "cell_type": "markdown",
   "id": "45bd9a18",
   "metadata": {},
   "source": [
    "#### Data Import"
   ]
  },
  {
   "cell_type": "code",
   "execution_count": 2,
   "id": "ce513607",
   "metadata": {},
   "outputs": [
    {
     "name": "stdout",
     "output_type": "stream",
     "text": [
      "CPU times: total: 2.55 s\n",
      "Wall time: 3.87 s\n"
     ]
    }
   ],
   "source": [
    "%%time\n",
    "\n",
    "#Loading all data file separately \n",
    "vle = pd.read_csv('vle.csv')\n",
    "assessments = pd.read_csv('assessments.csv')\n",
    "courses = pd.read_csv('courses.csv')\n",
    "studentAssessments = pd.read_csv('studentAssessment.csv')\n",
    "studentInfo = pd.read_csv('studentInfo.csv')\n",
    "studentRegistration = pd.read_csv('studentRegistration.csv')\n",
    "studentVle = pd.read_csv('studentVle.csv')"
   ]
  },
  {
   "cell_type": "code",
   "execution_count": 55,
   "id": "3966dd10",
   "metadata": {},
   "outputs": [
    {
     "name": "stdout",
     "output_type": "stream",
     "text": [
      "(10655280, 15)\n",
      "Wall time: 4.86 s\n"
     ]
    },
    {
     "data": {
      "text/html": [
       "<div>\n",
       "<style scoped>\n",
       "    .dataframe tbody tr th:only-of-type {\n",
       "        vertical-align: middle;\n",
       "    }\n",
       "\n",
       "    .dataframe tbody tr th {\n",
       "        vertical-align: top;\n",
       "    }\n",
       "\n",
       "    .dataframe thead th {\n",
       "        text-align: right;\n",
       "    }\n",
       "</style>\n",
       "<table border=\"1\" class=\"dataframe\">\n",
       "  <thead>\n",
       "    <tr style=\"text-align: right;\">\n",
       "      <th></th>\n",
       "      <th>code_module</th>\n",
       "      <th>code_presentation</th>\n",
       "      <th>id_student</th>\n",
       "      <th>id_site</th>\n",
       "      <th>date</th>\n",
       "      <th>sum_click</th>\n",
       "      <th>gender</th>\n",
       "      <th>region</th>\n",
       "      <th>highest_education</th>\n",
       "      <th>imd_band</th>\n",
       "      <th>age_band</th>\n",
       "      <th>num_of_prev_attempts</th>\n",
       "      <th>studied_credits</th>\n",
       "      <th>disability</th>\n",
       "      <th>final_result</th>\n",
       "    </tr>\n",
       "  </thead>\n",
       "  <tbody>\n",
       "    <tr>\n",
       "      <th>0</th>\n",
       "      <td>AAA</td>\n",
       "      <td>2013J</td>\n",
       "      <td>28400</td>\n",
       "      <td>546652</td>\n",
       "      <td>-10</td>\n",
       "      <td>4</td>\n",
       "      <td>F</td>\n",
       "      <td>Scotland</td>\n",
       "      <td>HE Qualification</td>\n",
       "      <td>20-30%</td>\n",
       "      <td>35-55</td>\n",
       "      <td>0</td>\n",
       "      <td>60</td>\n",
       "      <td>N</td>\n",
       "      <td>Pass</td>\n",
       "    </tr>\n",
       "    <tr>\n",
       "      <th>1</th>\n",
       "      <td>AAA</td>\n",
       "      <td>2013J</td>\n",
       "      <td>28400</td>\n",
       "      <td>546652</td>\n",
       "      <td>-10</td>\n",
       "      <td>1</td>\n",
       "      <td>F</td>\n",
       "      <td>Scotland</td>\n",
       "      <td>HE Qualification</td>\n",
       "      <td>20-30%</td>\n",
       "      <td>35-55</td>\n",
       "      <td>0</td>\n",
       "      <td>60</td>\n",
       "      <td>N</td>\n",
       "      <td>Pass</td>\n",
       "    </tr>\n",
       "    <tr>\n",
       "      <th>2</th>\n",
       "      <td>AAA</td>\n",
       "      <td>2013J</td>\n",
       "      <td>28400</td>\n",
       "      <td>546652</td>\n",
       "      <td>-10</td>\n",
       "      <td>1</td>\n",
       "      <td>F</td>\n",
       "      <td>Scotland</td>\n",
       "      <td>HE Qualification</td>\n",
       "      <td>20-30%</td>\n",
       "      <td>35-55</td>\n",
       "      <td>0</td>\n",
       "      <td>60</td>\n",
       "      <td>N</td>\n",
       "      <td>Pass</td>\n",
       "    </tr>\n",
       "    <tr>\n",
       "      <th>3</th>\n",
       "      <td>AAA</td>\n",
       "      <td>2013J</td>\n",
       "      <td>28400</td>\n",
       "      <td>546614</td>\n",
       "      <td>-10</td>\n",
       "      <td>11</td>\n",
       "      <td>F</td>\n",
       "      <td>Scotland</td>\n",
       "      <td>HE Qualification</td>\n",
       "      <td>20-30%</td>\n",
       "      <td>35-55</td>\n",
       "      <td>0</td>\n",
       "      <td>60</td>\n",
       "      <td>N</td>\n",
       "      <td>Pass</td>\n",
       "    </tr>\n",
       "    <tr>\n",
       "      <th>4</th>\n",
       "      <td>AAA</td>\n",
       "      <td>2013J</td>\n",
       "      <td>28400</td>\n",
       "      <td>546714</td>\n",
       "      <td>-10</td>\n",
       "      <td>1</td>\n",
       "      <td>F</td>\n",
       "      <td>Scotland</td>\n",
       "      <td>HE Qualification</td>\n",
       "      <td>20-30%</td>\n",
       "      <td>35-55</td>\n",
       "      <td>0</td>\n",
       "      <td>60</td>\n",
       "      <td>N</td>\n",
       "      <td>Pass</td>\n",
       "    </tr>\n",
       "  </tbody>\n",
       "</table>\n",
       "</div>"
      ],
      "text/plain": [
       "  code_module code_presentation  id_student  id_site  date  sum_click gender  \\\n",
       "0         AAA             2013J       28400   546652   -10          4      F   \n",
       "1         AAA             2013J       28400   546652   -10          1      F   \n",
       "2         AAA             2013J       28400   546652   -10          1      F   \n",
       "3         AAA             2013J       28400   546614   -10         11      F   \n",
       "4         AAA             2013J       28400   546714   -10          1      F   \n",
       "\n",
       "     region highest_education imd_band age_band  num_of_prev_attempts  \\\n",
       "0  Scotland  HE Qualification   20-30%    35-55                     0   \n",
       "1  Scotland  HE Qualification   20-30%    35-55                     0   \n",
       "2  Scotland  HE Qualification   20-30%    35-55                     0   \n",
       "3  Scotland  HE Qualification   20-30%    35-55                     0   \n",
       "4  Scotland  HE Qualification   20-30%    35-55                     0   \n",
       "\n",
       "   studied_credits disability final_result  \n",
       "0               60          N         Pass  \n",
       "1               60          N         Pass  \n",
       "2               60          N         Pass  \n",
       "3               60          N         Pass  \n",
       "4               60          N         Pass  "
      ]
     },
     "execution_count": 55,
     "metadata": {},
     "output_type": "execute_result"
    }
   ],
   "source": [
    "%%time\n",
    "dfFull = pd.merge(studentVle, studentInfo, on=['code_module', 'code_presentation', 'id_student'])\n",
    "print(dfFull.shape)\n",
    "dfFull.head()"
   ]
  },
  {
   "cell_type": "markdown",
   "id": "946add74",
   "metadata": {},
   "source": [
    "# Business Understanding 1 #\n",
    "*Describe the purpose of the data set you selected (i.e., why was this data collected in the first place?). How will you measure the effectiveness of a good algorithm? Why does your chosen validation method make sense for this specific dataset and the stakeholders needs?*"
   ]
  },
  {
   "cell_type": "markdown",
   "id": "d0992a3b",
   "metadata": {},
   "source": [
    "# Data Understanding 1 #\n",
    "*Describe the meaning and type of data (scale, values, etc.) for each attribute in the data file. Verify data quality: Are there missing values? Duplicate data? Outliers? Are those mistakes? How do you deal with these problems?*"
   ]
  },
  {
   "cell_type": "markdown",
   "id": "d5a0e39c",
   "metadata": {},
   "source": [
    " - VLE stands for Virtual Learning Environment\n",
    " - VLE table records interactions with VLE \n",
    " - 32,593 students\n",
    " - 22 courses\n",
    " "
   ]
  },
  {
   "cell_type": "code",
   "execution_count": 3,
   "id": "54a0b5fc",
   "metadata": {},
   "outputs": [
    {
     "name": "stdout",
     "output_type": "stream",
     "text": [
      "(4000, 12)\n",
      "(10744851, 28)\n",
      "CPU times: total: 10.9 s\n",
      "Wall time: 34.8 s\n"
     ]
    },
    {
     "data": {
      "text/html": [
       "<div>\n",
       "<style scoped>\n",
       "    .dataframe tbody tr th:only-of-type {\n",
       "        vertical-align: middle;\n",
       "    }\n",
       "\n",
       "    .dataframe tbody tr th {\n",
       "        vertical-align: top;\n",
       "    }\n",
       "\n",
       "    .dataframe thead th {\n",
       "        text-align: right;\n",
       "    }\n",
       "</style>\n",
       "<table border=\"1\" class=\"dataframe\">\n",
       "  <thead>\n",
       "    <tr style=\"text-align: right;\">\n",
       "      <th></th>\n",
       "      <th>code_module</th>\n",
       "      <th>code_presentation</th>\n",
       "      <th>id_student</th>\n",
       "      <th>id_site</th>\n",
       "      <th>date_x</th>\n",
       "      <th>sum_click</th>\n",
       "      <th>gender</th>\n",
       "      <th>region</th>\n",
       "      <th>highest_education</th>\n",
       "      <th>imd_band</th>\n",
       "      <th>...</th>\n",
       "      <th>studied_credits</th>\n",
       "      <th>disability</th>\n",
       "      <th>final_result</th>\n",
       "      <th>id_assessment</th>\n",
       "      <th>date_submitted</th>\n",
       "      <th>is_banked</th>\n",
       "      <th>score</th>\n",
       "      <th>assessment_type</th>\n",
       "      <th>date_y</th>\n",
       "      <th>weight</th>\n",
       "    </tr>\n",
       "  </thead>\n",
       "  <tbody>\n",
       "    <tr>\n",
       "      <th>0</th>\n",
       "      <td>BBB</td>\n",
       "      <td>2014J</td>\n",
       "      <td>584539</td>\n",
       "      <td>913685</td>\n",
       "      <td>17</td>\n",
       "      <td>1</td>\n",
       "      <td>F</td>\n",
       "      <td>Scotland</td>\n",
       "      <td>HE Qualification</td>\n",
       "      <td>10-20</td>\n",
       "      <td>...</td>\n",
       "      <td>60</td>\n",
       "      <td>N</td>\n",
       "      <td>Pass</td>\n",
       "      <td>15020</td>\n",
       "      <td>17</td>\n",
       "      <td>0</td>\n",
       "      <td>100.0</td>\n",
       "      <td>TMA</td>\n",
       "      <td>19.0</td>\n",
       "      <td>0.0</td>\n",
       "    </tr>\n",
       "    <tr>\n",
       "      <th>1</th>\n",
       "      <td>BBB</td>\n",
       "      <td>2014J</td>\n",
       "      <td>584539</td>\n",
       "      <td>913685</td>\n",
       "      <td>17</td>\n",
       "      <td>1</td>\n",
       "      <td>F</td>\n",
       "      <td>Scotland</td>\n",
       "      <td>HE Qualification</td>\n",
       "      <td>10-20</td>\n",
       "      <td>...</td>\n",
       "      <td>60</td>\n",
       "      <td>N</td>\n",
       "      <td>Pass</td>\n",
       "      <td>15021</td>\n",
       "      <td>51</td>\n",
       "      <td>0</td>\n",
       "      <td>70.0</td>\n",
       "      <td>TMA</td>\n",
       "      <td>54.0</td>\n",
       "      <td>10.0</td>\n",
       "    </tr>\n",
       "    <tr>\n",
       "      <th>2</th>\n",
       "      <td>BBB</td>\n",
       "      <td>2014J</td>\n",
       "      <td>584539</td>\n",
       "      <td>913685</td>\n",
       "      <td>17</td>\n",
       "      <td>1</td>\n",
       "      <td>F</td>\n",
       "      <td>Scotland</td>\n",
       "      <td>HE Qualification</td>\n",
       "      <td>10-20</td>\n",
       "      <td>...</td>\n",
       "      <td>60</td>\n",
       "      <td>N</td>\n",
       "      <td>Pass</td>\n",
       "      <td>15022</td>\n",
       "      <td>107</td>\n",
       "      <td>0</td>\n",
       "      <td>72.0</td>\n",
       "      <td>TMA</td>\n",
       "      <td>110.0</td>\n",
       "      <td>20.0</td>\n",
       "    </tr>\n",
       "    <tr>\n",
       "      <th>3</th>\n",
       "      <td>BBB</td>\n",
       "      <td>2014J</td>\n",
       "      <td>584539</td>\n",
       "      <td>913685</td>\n",
       "      <td>17</td>\n",
       "      <td>1</td>\n",
       "      <td>F</td>\n",
       "      <td>Scotland</td>\n",
       "      <td>HE Qualification</td>\n",
       "      <td>10-20</td>\n",
       "      <td>...</td>\n",
       "      <td>60</td>\n",
       "      <td>N</td>\n",
       "      <td>Pass</td>\n",
       "      <td>15023</td>\n",
       "      <td>152</td>\n",
       "      <td>0</td>\n",
       "      <td>60.0</td>\n",
       "      <td>TMA</td>\n",
       "      <td>152.0</td>\n",
       "      <td>35.0</td>\n",
       "    </tr>\n",
       "    <tr>\n",
       "      <th>4</th>\n",
       "      <td>BBB</td>\n",
       "      <td>2014J</td>\n",
       "      <td>584539</td>\n",
       "      <td>913685</td>\n",
       "      <td>17</td>\n",
       "      <td>1</td>\n",
       "      <td>F</td>\n",
       "      <td>Scotland</td>\n",
       "      <td>HE Qualification</td>\n",
       "      <td>10-20</td>\n",
       "      <td>...</td>\n",
       "      <td>60</td>\n",
       "      <td>N</td>\n",
       "      <td>Pass</td>\n",
       "      <td>15024</td>\n",
       "      <td>206</td>\n",
       "      <td>0</td>\n",
       "      <td>63.0</td>\n",
       "      <td>TMA</td>\n",
       "      <td>201.0</td>\n",
       "      <td>35.0</td>\n",
       "    </tr>\n",
       "  </tbody>\n",
       "</table>\n",
       "<p>5 rows × 22 columns</p>\n",
       "</div>"
      ],
      "text/plain": [
       "  code_module code_presentation  id_student  id_site  date_x  sum_click  \\\n",
       "0         BBB             2014J      584539   913685      17          1   \n",
       "1         BBB             2014J      584539   913685      17          1   \n",
       "2         BBB             2014J      584539   913685      17          1   \n",
       "3         BBB             2014J      584539   913685      17          1   \n",
       "4         BBB             2014J      584539   913685      17          1   \n",
       "\n",
       "  gender    region highest_education imd_band  ... studied_credits  \\\n",
       "0      F  Scotland  HE Qualification    10-20  ...              60   \n",
       "1      F  Scotland  HE Qualification    10-20  ...              60   \n",
       "2      F  Scotland  HE Qualification    10-20  ...              60   \n",
       "3      F  Scotland  HE Qualification    10-20  ...              60   \n",
       "4      F  Scotland  HE Qualification    10-20  ...              60   \n",
       "\n",
       "   disability  final_result id_assessment date_submitted  is_banked  score  \\\n",
       "0           N          Pass         15020             17          0  100.0   \n",
       "1           N          Pass         15021             51          0   70.0   \n",
       "2           N          Pass         15022            107          0   72.0   \n",
       "3           N          Pass         15023            152          0   60.0   \n",
       "4           N          Pass         15024            206          0   63.0   \n",
       "\n",
       "   assessment_type  date_y weight  \n",
       "0              TMA    19.0    0.0  \n",
       "1              TMA    54.0   10.0  \n",
       "2              TMA   110.0   20.0  \n",
       "3              TMA   152.0   35.0  \n",
       "4              TMA   201.0   35.0  \n",
       "\n",
       "[5 rows x 22 columns]"
      ]
     },
     "execution_count": 3,
     "metadata": {},
     "output_type": "execute_result"
    }
   ],
   "source": [
    "%%time\n",
    "# Randomly sampling 4,000 records StudentVle Table with Million Rows.\n",
    "studentVleSample = studentVle.sample(n=4000, random_state = 777)\n",
    "print(studentVleSample.shape)\n",
    "\n",
    "# vle\n",
    "# assessments\n",
    "# courses\n",
    "# studentAssessments\n",
    "# studentInfo\n",
    "# studentRegistration\n",
    "# studentVleSample\n",
    "\n",
    "df = pd.merge(studentVleSample, studentInfo, on=['code_module', 'code_presentation', 'id_student'])\n",
    "df2 = pd.merge(studentAssessments, assessments, on='id_assessment')\n",
    "df = pd.merge(df, df2, on=['code_module', 'code_presentation', 'id_student'])\n",
    "print(df.shape)\n",
    "df.head()"
   ]
  },
  {
   "cell_type": "code",
   "execution_count": 6,
   "id": "3b008c96",
   "metadata": {
    "scrolled": false
   },
   "outputs": [
    {
     "data": {
      "text/plain": [
       "code_module              object\n",
       "code_presentation        object\n",
       "id_student                int64\n",
       "id_site                   int64\n",
       "date_x                    int64\n",
       "sum_click                 int64\n",
       "gender                   object\n",
       "region                   object\n",
       "highest_education        object\n",
       "imd_band                 object\n",
       "age_band                 object\n",
       "num_of_prev_attempts      int64\n",
       "studied_credits           int64\n",
       "disability               object\n",
       "final_result             object\n",
       "id_assessment             int64\n",
       "date_submitted            int64\n",
       "is_banked                 int64\n",
       "score                   float64\n",
       "assessment_type          object\n",
       "date_y                  float64\n",
       "weight                  float64\n",
       "dtype: object"
      ]
     },
     "execution_count": 6,
     "metadata": {},
     "output_type": "execute_result"
    }
   ],
   "source": [
    "df.dtypes"
   ]
  },
  {
   "cell_type": "code",
   "execution_count": 7,
   "id": "a36fe757",
   "metadata": {},
   "outputs": [
    {
     "data": {
      "text/plain": [
       "code_module                   0.000000\n",
       "code_presentation             0.000000\n",
       "id_student                    0.000000\n",
       "gender                        0.000000\n",
       "region                        0.000000\n",
       "highest_education             0.000000\n",
       "imd_band                      6.063863\n",
       "age_band                      0.000000\n",
       "num_of_prev_attempts          0.000000\n",
       "studied_credits               0.000000\n",
       "disability                    0.000000\n",
       "final_result                  0.000000\n",
       "id_site                       0.004021\n",
       "date_x                        0.004021\n",
       "sum_click                     0.004021\n",
       "id_assessment                 0.121118\n",
       "date_submitted                0.121118\n",
       "is_banked                     0.121118\n",
       "score                         0.164842\n",
       "assessment_type               0.121118\n",
       "date_y                        1.883209\n",
       "weight                        0.121118\n",
       "date_registration             0.001936\n",
       "module_presentation_length    0.000000\n",
       "activity_type                 0.004021\n",
       "dtype: float64"
      ]
     },
     "execution_count": 7,
     "metadata": {},
     "output_type": "execute_result"
    }
   ],
   "source": [
    "# View unique values in each column\n",
    "# for col in df:\n",
    "#   print(df[col].unique())"
   ]
  },
  {
   "cell_type": "code",
   "execution_count": 10,
   "id": "c5a3abd5",
   "metadata": {},
   "outputs": [
    {
     "name": "stdout",
     "output_type": "stream",
     "text": [
      "<class 'pandas.core.frame.DataFrame'>\n",
      "Int64Index: 10744851 entries, 0 to 10744850\n",
      "Data columns (total 25 columns):\n",
      " #   Column                      Dtype  \n",
      "---  ------                      -----  \n",
      " 0   code_module                 object \n",
      " 1   code_presentation           object \n",
      " 2   id_student                  int64  \n",
      " 3   gender                      object \n",
      " 4   region                      object \n",
      " 5   highest_education           object \n",
      " 6   imd_band                    object \n",
      " 7   age_band                    object \n",
      " 8   num_of_prev_attempts        int64  \n",
      " 9   studied_credits             int64  \n",
      " 10  disability                  object \n",
      " 11  final_result                object \n",
      " 12  id_site                     float64\n",
      " 13  date_x                      float64\n",
      " 14  sum_click                   float64\n",
      " 15  id_assessment               float64\n",
      " 16  date_submitted              float64\n",
      " 17  is_banked                   float64\n",
      " 18  score                       float64\n",
      " 19  assessment_type             object \n",
      " 20  date_y                      float64\n",
      " 21  weight                      float64\n",
      " 22  date_registration           float64\n",
      " 23  module_presentation_length  int64  \n",
      " 24  activity_type               object \n",
      "dtypes: float64(10), int64(4), object(11)\n",
      "memory usage: 2.1+ GB\n"
     ]
    }
   ],
   "source": [
    "allCol.info()"
   ]
  },
  {
   "cell_type": "code",
   "execution_count": null,
   "id": "c05cbbee",
   "metadata": {},
   "outputs": [],
   "source": []
  },
  {
   "cell_type": "code",
   "execution_count": 8,
   "id": "694f922b",
   "metadata": {},
   "outputs": [
    {
     "ename": "TypeError",
     "evalue": "unhashable type: 'Series'",
     "output_type": "error",
     "traceback": [
      "\u001b[1;31m---------------------------------------------------------------------------\u001b[0m",
      "\u001b[1;31mTypeError\u001b[0m                                 Traceback (most recent call last)",
      "Input \u001b[1;32mIn [8]\u001b[0m, in \u001b[0;36m<cell line: 1>\u001b[1;34m()\u001b[0m\n\u001b[1;32m----> 1\u001b[0m \u001b[43mallCol\u001b[49m\u001b[38;5;241;43m.\u001b[39;49m\u001b[43mloc\u001b[49m\u001b[43m(\u001b[49m\u001b[43mallCol\u001b[49m\u001b[38;5;241;43m.\u001b[39;49m\u001b[43mimd_band\u001b[49m\u001b[38;5;241;43m==\u001b[39;49m\u001b[38;5;124;43m'\u001b[39;49m\u001b[38;5;124;43mNaN\u001b[39;49m\u001b[38;5;124;43m'\u001b[39;49m\u001b[43m)\u001b[49m\n",
      "File \u001b[1;32m~\\anaconda3\\envs\\DS-7331\\lib\\site-packages\\pandas\\core\\indexing.py:668\u001b[0m, in \u001b[0;36m_LocationIndexer.__call__\u001b[1;34m(self, axis)\u001b[0m\n\u001b[0;32m    665\u001b[0m new_self \u001b[38;5;241m=\u001b[39m \u001b[38;5;28mtype\u001b[39m(\u001b[38;5;28mself\u001b[39m)(\u001b[38;5;28mself\u001b[39m\u001b[38;5;241m.\u001b[39mname, \u001b[38;5;28mself\u001b[39m\u001b[38;5;241m.\u001b[39mobj)\n\u001b[0;32m    667\u001b[0m \u001b[38;5;28;01mif\u001b[39;00m axis \u001b[38;5;129;01mis\u001b[39;00m \u001b[38;5;129;01mnot\u001b[39;00m \u001b[38;5;28;01mNone\u001b[39;00m:\n\u001b[1;32m--> 668\u001b[0m     axis \u001b[38;5;241m=\u001b[39m \u001b[38;5;28;43mself\u001b[39;49m\u001b[38;5;241;43m.\u001b[39;49m\u001b[43mobj\u001b[49m\u001b[38;5;241;43m.\u001b[39;49m\u001b[43m_get_axis_number\u001b[49m\u001b[43m(\u001b[49m\u001b[43maxis\u001b[49m\u001b[43m)\u001b[49m\n\u001b[0;32m    669\u001b[0m new_self\u001b[38;5;241m.\u001b[39maxis \u001b[38;5;241m=\u001b[39m axis\n\u001b[0;32m    670\u001b[0m \u001b[38;5;28;01mreturn\u001b[39;00m new_self\n",
      "File \u001b[1;32m~\\anaconda3\\envs\\DS-7331\\lib\\site-packages\\pandas\\core\\generic.py:554\u001b[0m, in \u001b[0;36mNDFrame._get_axis_number\u001b[1;34m(cls, axis)\u001b[0m\n\u001b[0;32m    550\u001b[0m \u001b[38;5;129m@final\u001b[39m\n\u001b[0;32m    551\u001b[0m \u001b[38;5;129m@classmethod\u001b[39m\n\u001b[0;32m    552\u001b[0m \u001b[38;5;28;01mdef\u001b[39;00m \u001b[38;5;21m_get_axis_number\u001b[39m(\u001b[38;5;28mcls\u001b[39m, axis: Axis) \u001b[38;5;241m-\u001b[39m\u001b[38;5;241m>\u001b[39m \u001b[38;5;28mint\u001b[39m:\n\u001b[0;32m    553\u001b[0m     \u001b[38;5;28;01mtry\u001b[39;00m:\n\u001b[1;32m--> 554\u001b[0m         \u001b[38;5;28;01mreturn\u001b[39;00m \u001b[38;5;28;43mcls\u001b[39;49m\u001b[38;5;241;43m.\u001b[39;49m\u001b[43m_AXIS_TO_AXIS_NUMBER\u001b[49m\u001b[43m[\u001b[49m\u001b[43maxis\u001b[49m\u001b[43m]\u001b[49m\n\u001b[0;32m    555\u001b[0m     \u001b[38;5;28;01mexcept\u001b[39;00m \u001b[38;5;167;01mKeyError\u001b[39;00m:\n\u001b[0;32m    556\u001b[0m         \u001b[38;5;28;01mraise\u001b[39;00m \u001b[38;5;167;01mValueError\u001b[39;00m(\u001b[38;5;124mf\u001b[39m\u001b[38;5;124m\"\u001b[39m\u001b[38;5;124mNo axis named \u001b[39m\u001b[38;5;132;01m{\u001b[39;00maxis\u001b[38;5;132;01m}\u001b[39;00m\u001b[38;5;124m for object type \u001b[39m\u001b[38;5;132;01m{\u001b[39;00m\u001b[38;5;28mcls\u001b[39m\u001b[38;5;241m.\u001b[39m\u001b[38;5;18m__name__\u001b[39m\u001b[38;5;132;01m}\u001b[39;00m\u001b[38;5;124m\"\u001b[39m)\n",
      "\u001b[1;31mTypeError\u001b[0m: unhashable type: 'Series'"
     ]
    }
   ],
   "source": [
    "#Creating variables for indexing continuous and categorical variables\n",
    "conCol = ['id_student', 'id_site', 'date_x', 'sum_click', 'num_of_prev_attempts', \n",
    "          'studied_credits', 'id_assessment ', 'date_submitted', 'is_banked', 'score', 'date_y', 'weight']\n",
    "\n",
    "catCol = ['code_module ', 'code_presentation', 'gender', 'region', 'highest_education', \n",
    "          'imd_band', 'age_band', 'disability', 'final_result', 'assessment_type' ]"
   ]
  },
  {
   "cell_type": "code",
   "execution_count": null,
   "id": "8a73c4a1",
   "metadata": {},
   "outputs": [],
   "source": []
  },
  {
   "cell_type": "markdown",
   "id": "9edba66b",
   "metadata": {},
   "source": [
    "# Data Understanding 2 #\n",
    "*Visualize the any important attributes appropriately. Important: Provide an interpretation for any charts or graphs.*"
   ]
  },
  {
   "cell_type": "markdown",
   "id": "c694dbac",
   "metadata": {},
   "source": [
    "# Modeling and Evaluation 1 #\n",
    "*Train and adjust parameters*"
   ]
  },
  {
   "cell_type": "markdown",
   "id": "e9ff4d53",
   "metadata": {},
   "source": [
    "# Modeling and Evaluation 2\t#\n",
    "*Evaluate and Compare*"
   ]
  },
  {
   "cell_type": "markdown",
   "id": "78f96566",
   "metadata": {},
   "source": [
    "# Modeling and Evaluation 3 #\n",
    "*Visualize Results*"
   ]
  },
  {
   "cell_type": "markdown",
   "id": "c497ac65",
   "metadata": {},
   "source": [
    "# Modeling and Evaluation 4 #\n",
    "*Summarize the Ramifications*"
   ]
  },
  {
   "cell_type": "markdown",
   "id": "80334583",
   "metadata": {},
   "source": [
    "# Deployment #\n",
    "*Be critical of your performance and tell the reader how you current model might be usable by other parties. Did you achieve your goals? If not, can you reign in the utility of your modeling? How useful is your model for interested parties (i.e., the companies or organizations that might want to use it)? How would your deploy your model for interested parties? What other data should be collected? How often would the model need to be updated, etc.?*"
   ]
  },
  {
   "cell_type": "markdown",
   "id": "a3a9f190",
   "metadata": {},
   "source": [
    "# Exceptional Work #"
   ]
  }
 ],
 "metadata": {
  "kernelspec": {
   "display_name": "Python 3",
   "language": "python",
   "name": "python3"
  },
  "language_info": {
   "codemirror_mode": {
    "name": "ipython",
    "version": 3
   },
   "file_extension": ".py",
   "mimetype": "text/x-python",
   "name": "python",
   "nbconvert_exporter": "python",
   "pygments_lexer": "ipython3",

   "version": "3.8.8"
  }
 },
 "nbformat": 4,
 "nbformat_minor": 5
}
