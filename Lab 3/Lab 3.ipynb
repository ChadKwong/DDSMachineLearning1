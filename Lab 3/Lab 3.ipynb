{
 "cells": [
  {
   "cell_type": "markdown",
   "id": "ff687ea3",
   "metadata": {},
   "source": [
    "# Lab 3\n",
    "\n",
    "### Team Members:\n",
    " - Alex Lopez\n",
    " - Chris Haub\n",
    " - Erin McClure-Price\n",
    " - Chad Kwong"
   ]
  },
  {
   "cell_type": "markdown",
   "id": "0a3f66b8",
   "metadata": {},
   "source": [
    "#### Library Imports"
   ]
  },
  {
   "cell_type": "code",
   "execution_count": 1,
   "id": "a725e35e",
   "metadata": {},
   "outputs": [],
   "source": [
    "import pandas as pd\n",
    "import numpy as np\n",
    "import matplotlib.pyplot as plt\n",
    "import seaborn as sns\n",
    "import warnings"
   ]
  },
  {
   "cell_type": "markdown",
   "id": "45bd9a18",
   "metadata": {},
   "source": [
    "#### Data Import"
   ]
  },
  {
   "cell_type": "code",
   "execution_count": 2,
   "id": "ce513607",
   "metadata": {},
   "outputs": [],
   "source": [
    "#Loading all data file separately \n",
    "vle = pd.read_csv('vle.csv')\n",
    "assessments = pd.read_csv('assessments.csv')\n",
    "courses = pd.read_csv('courses.csv')\n",
    "studentAssessments = pd.read_csv('studentAssessment.csv')\n",
    "studentInfo = pd.read_csv('studentInfo.csv')\n",
    "studentRegistration = pd.read_csv('studentRegistration.csv')\n",
    "studentVle = pd.read_csv('studentVle.csv')"
   ]
  },
  {
   "cell_type": "code",
   "execution_count": 9,
   "id": "b4583f14",
   "metadata": {},
   "outputs": [
    {
     "name": "stdout",
     "output_type": "stream",
     "text": [
      "studentVle: \n",
      "   code_module code_presentation  id_student  id_site  date  sum_click\n",
      "0         AAA             2013J       28400   546652   -10          4\n",
      "1         AAA             2013J       28400   546652   -10          1\n",
      "2         AAA             2013J       28400   546652   -10          1\n",
      "3         AAA             2013J       28400   546614   -10         11\n",
      "4         AAA             2013J       28400   546714   -10          1\n",
      "studentVle shape:  (10655280, 6) \n",
      "\n",
      "\n",
      "assessments: \n",
      "   code_module code_presentation  id_assessment assessment_type   date  weight\n",
      "0         AAA             2013J           1752             TMA   19.0    10.0\n",
      "1         AAA             2013J           1753             TMA   54.0    20.0\n",
      "2         AAA             2013J           1754             TMA  117.0    20.0\n",
      "3         AAA             2013J           1755             TMA  166.0    20.0\n",
      "4         AAA             2013J           1756             TMA  215.0    30.0\n",
      "assessments shape:  (206, 6) \n",
      "\n",
      "\n",
      "courses: \n",
      "   code_module code_presentation  module_presentation_length\n",
      "0         AAA             2013J                         268\n",
      "1         AAA             2014J                         269\n",
      "2         BBB             2013J                         268\n",
      "3         BBB             2014J                         262\n",
      "4         BBB             2013B                         240\n",
      "courses shape (22, 3) \n",
      "\n",
      "\n",
      "studentAssessments: \n",
      "    id_assessment  id_student  date_submitted  is_banked  score\n",
      "0           1752       11391              18          0   78.0\n",
      "1           1752       28400              22          0   70.0\n",
      "2           1752       31604              17          0   72.0\n",
      "3           1752       32885              26          0   69.0\n",
      "4           1752       38053              19          0   79.0\n",
      "studentAssessments shape:  (173912, 5) \n",
      "\n",
      "\n",
      "studentInfo: \n",
      "   code_module code_presentation  id_student gender                region  \\\n",
      "0         AAA             2013J       11391      M   East Anglian Region   \n",
      "1         AAA             2013J       28400      F              Scotland   \n",
      "2         AAA             2013J       30268      F  North Western Region   \n",
      "3         AAA             2013J       31604      F     South East Region   \n",
      "4         AAA             2013J       32885      F  West Midlands Region   \n",
      "\n",
      "       highest_education imd_band age_band  num_of_prev_attempts  \\\n",
      "0       HE Qualification  90-100%     55<=                     0   \n",
      "1       HE Qualification   20-30%    35-55                     0   \n",
      "2  A Level or Equivalent   30-40%    35-55                     0   \n",
      "3  A Level or Equivalent   50-60%    35-55                     0   \n",
      "4     Lower Than A Level   50-60%     0-35                     0   \n",
      "\n",
      "   studied_credits disability final_result  \n",
      "0              240          N         Pass  \n",
      "1               60          N         Pass  \n",
      "2               60          Y    Withdrawn  \n",
      "3               60          N         Pass  \n",
      "4               60          N         Pass  \n",
      "studentInfo shape (32593, 12) \n",
      "\n",
      "\n",
      "studentRegistration: \n",
      "   code_module code_presentation  id_student  date_registration  \\\n",
      "0         AAA             2013J       11391             -159.0   \n",
      "1         AAA             2013J       28400              -53.0   \n",
      "2         AAA             2013J       30268              -92.0   \n",
      "3         AAA             2013J       31604              -52.0   \n",
      "4         AAA             2013J       32885             -176.0   \n",
      "\n",
      "   date_unregistration  \n",
      "0                  NaN  \n",
      "1                  NaN  \n",
      "2                 12.0  \n",
      "3                  NaN  \n",
      "4                  NaN  \n",
      "studentRegistration shape:  (32593, 5) \n",
      "\n",
      "\n",
      "vle: \n",
      "    id_site code_module code_presentation activity_type  week_from  week_to\n",
      "0   546943         AAA             2013J      resource        NaN      NaN\n",
      "1   546712         AAA             2013J     oucontent        NaN      NaN\n",
      "2   546998         AAA             2013J      resource        NaN      NaN\n",
      "3   546888         AAA             2013J           url        NaN      NaN\n",
      "4   547035         AAA             2013J      resource        NaN      NaN\n",
      "vle shape:  (6364, 6) \n",
      "\n",
      "\n",
      "CPU times: user 29.2 ms, sys: 3.96 ms, total: 33.2 ms\n",
      "Wall time: 30.6 ms\n"
     ]
    }
   ],
   "source": [
    "%%time\n",
    "\n",
    "print('studentVle: \\n',studentVle.head())\n",
    "print('studentVle shape: ',studentVle.shape,'\\n\\n')\n",
    "\n",
    "print('assessments: \\n',assessments.head())\n",
    "print('assessments shape: ', assessments.shape, '\\n\\n')\n",
    "\n",
    "print('courses: \\n',courses.head())\n",
    "print('courses shape', courses.shape, '\\n\\n')\n",
    "\n",
    "print('studentAssessments: \\n', studentAssessments.head())\n",
    "print('studentAssessments shape: ', studentAssessments.shape,'\\n\\n')\n",
    "\n",
    "print('studentInfo: \\n', studentInfo.head())\n",
    "print('studentInfo shape', studentInfo.shape,'\\n\\n')\n",
    "\n",
    "print('studentRegistration: \\n', studentRegistration.head())\n",
    "print('studentRegistration shape: ', studentRegistration.shape,'\\n\\n')\n",
    "\n",
    "print('vle: \\n', vle.head())\n",
    "print('vle shape: ', vle.shape,'\\n\\n')"
   ]
  },
  {
   "cell_type": "code",
   "execution_count": null,
   "id": "dc15762f",
   "metadata": {},
   "outputs": [],
   "source": [
    "#df = pd.merge(vle, , on=['code_module', 'code_presentation'])"
   ]
  }
 ],
 "metadata": {
  "kernelspec": {
   "display_name": "Python 3",
   "language": "python",
   "name": "python3"
  },
  "language_info": {
   "codemirror_mode": {
    "name": "ipython",
    "version": 3
   },
   "file_extension": ".py",
   "mimetype": "text/x-python",
   "name": "python",
   "nbconvert_exporter": "python",
   "pygments_lexer": "ipython3",
   "version": "3.8.8"
  }
 },
 "nbformat": 4,
 "nbformat_minor": 5
}
