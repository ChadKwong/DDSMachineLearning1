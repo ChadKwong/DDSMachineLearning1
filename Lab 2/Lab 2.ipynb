{
 "cells": [
  {
   "cell_type": "markdown",
   "id": "f07c2778",
   "metadata": {},
   "source": [
    "# Lab 2\n",
    "\n",
    "##### Team Members: Alex Lopez, Chris Haub, Erin McClure-Price"
   ]
  },
  {
   "cell_type": "markdown",
   "id": "d860ac35",
   "metadata": {},
   "source": [
    "Loading packages needed for the project."
   ]
  },
  {
   "cell_type": "code",
   "execution_count": 1,
   "id": "7f63f164",
   "metadata": {},
   "outputs": [],
   "source": [
    "# Importing all packages and modules\n",
    "import pandas as pd\n",
    "import numpy as np\n",
    "import matplotlib.pyplot as plt\n",
    "import seaborn as sns\n",
    "import warnings\n",
    "from sklearn import linear_model\n",
    "from sklearn.linear_model import LogisticRegression\n",
    "from sklearn.preprocessing import StandardScaler\n",
    "from sklearn.model_selection import ShuffleSplit\n",
    "from sklearn.model_selection import ShuffleSplit\n",
    "from sklearn import metrics as mt\n",
    "from sklearn.metrics import mean_absolute_error, make_scorer, mean_squared_error\n",
    "from sklearn.preprocessing import StandardScaler\n",
    "from sklearn import svm\n",
    "from sklearn.svm import SVC\n",
    "from sklearn.metrics import log_loss\n",
    "from sklearn.model_selection import cross_val_score\n",
    "import glob\n",
    "import os\n",
    "import seaborn as sns #may not use\n",
    "from sklearn.model_selection import StratifiedKFold\n",
    "from sklearn.ensemble import GradientBoostingClassifier\n",
    "from sklearn.model_selection import KFold\n",
    "from sklearn.neighbors import KNeighborsClassifier\n",
    "from sklearn.ensemble import RandomForestClassifier\n",
    "from xgboost import XGBClassifier\n",
    "from sklearn.pipeline import Pipeline\n",
    "from sklearn.decomposition import PCA \n",
    "\n",
    "#Suppress futurewarnings\n",
    "warnings.simplefilter(action='ignore', category=FutureWarning)\n",
    "\n",
    "#Suppress convergence warnings\n",
    "from sklearn.exceptions import ConvergenceWarning\n",
    "warnings.simplefilter(action='ignore', category=ConvergenceWarning)\n",
    "\n",
    "#Set Figure Size\n",
    "plt.rcParams[\"figure.figsize\"] = (20,10)"
   ]
  },
  {
   "cell_type": "markdown",
   "id": "60f8b6d4",
   "metadata": {},
   "source": [
    "The following cell establishes functions to be used in the file:"
   ]
  },
  {
   "cell_type": "code",
   "execution_count": 2,
   "id": "dbcaedda",
   "metadata": {},
   "outputs": [],
   "source": [
    "## setting up function to create confusion matrix\n",
    "def make_confusion_matrix(model,y_actual, x_test, labels=[1, 0]):\n",
    "    '''\n",
    "    model : classifier to predict values of X\n",
    "    y_actual : ground truth  \n",
    "    \n",
    "    '''\n",
    "    y_predict = model.predict(x_test)\n",
    "    cm=mt.confusion_matrix( y_actual, y_predict, labels=labels)\n",
    "    df_cm = pd.DataFrame(cm, index = [i for i in [\"Actual - No\",\"Actual - Yes\"]],\n",
    "                  columns = [i for i in ['Predicted - No','Predicted - Yes']])\n",
    "    group_counts = [\"{0:0.0f}\".format(value) for value in\n",
    "                cm.flatten()]\n",
    "    group_percentages = [\"{0:.2%}\".format(value) for value in\n",
    "                         cm.flatten()/np.sum(cm)]\n",
    "    labels = [f\"{v1}\\n{v2}\" for v1, v2 in\n",
    "              zip(group_counts,group_percentages)]\n",
    "    labels = np.asarray(labels).reshape(2,2)\n",
    "    plt.figure(figsize = (10,7))\n",
    "    sns.heatmap(df_cm, annot=labels,fmt='')\n",
    "    plt.ylabel('True label')\n",
    "    plt.xlabel('Predicted label')\n",
    "\n",
    "#Function for generating metric scores\n",
    "def get_metrics_score(model,flag=True):    #model : classifier to predict values of X\n",
    "    \n",
    "    # defining an empty list to store train and test results\n",
    "    score_list=[]\n",
    "    \n",
    "    #Predicting on train and tests\n",
    "    pred_train = model.predict(xTrain)\n",
    "    pred_test = model.predict(xTest)\n",
    "    \n",
    "    #Accuracy of the model\n",
    "    train_acc = model.score(xTrain,yTrain)\n",
    "    test_acc = model.score(xTest,yTest)\n",
    "    \n",
    "    #Recall of the model\n",
    "    train_recall = mt.recall_score(yTrain,pred_train,pos_label=\"no\")\n",
    "    test_recall = mt.recall_score(yTest,pred_test,pos_label=\"no\")\n",
    "    \n",
    "    #Precision of the model\n",
    "    train_precision = mt.precision_score(yTrain,pred_train,pos_label=\"no\")\n",
    "    test_precision = mt.precision_score(yTest,pred_test,pos_label=\"no\")\n",
    "\n",
    "    \n",
    "    score_list.extend((train_acc,test_acc,train_recall,test_recall,train_precision,test_precision))\n",
    "        \n",
    "    # If the flag is set to True then only the following print statements will be dispayed. The default value is set to True.\n",
    "    if flag == True:\n",
    "        print(\"Accuracy on training set : \",model.score(xTrain,yTrain))\n",
    "        print(\"Accuracy on test set : \",model.score(xTest,yTest))\n",
    "        print(\"\\nRecall on training set : \",mt.recall_score(yTrain,pred_train,pos_label=\"no\"))\n",
    "        print(\"Recall on test set : \",mt.recall_score(yTest,pred_test,pos_label=\"no\"))\n",
    "        print(\"\\nPrecision on training set : \",mt.precision_score(yTrain,pred_train,pos_label=\"no\"))\n",
    "        print(\"Precision on test set : \",mt.precision_score(yTest,pred_test,pos_label=\"no\"))\n",
    "    \n",
    "    return score_list # returning the list with train and test scores\n",
    "\n",
    "def getCP(column):\n",
    "    xCount = column.value_counts()\n",
    "    xPercentages = xCount/len(column)\n",
    "    outData = pd.DataFrame()\n",
    "    outData['Counts'] = xCount\n",
    "    outData['Percent of Total'] = xPercentages\n",
    "    return outData"
   ]
  },
  {
   "cell_type": "markdown",
   "id": "3912e85b",
   "metadata": {},
   "source": [
    "## Data Preparation"
   ]
  },
  {
   "cell_type": "markdown",
   "id": "5db728c1",
   "metadata": {},
   "source": [
    "### Part 1\n",
    "\n",
    "***Define and prepare your class variables. Use proper variable representations (int, float, one-hot, etc.). Use pre-processing methods (as needed) for dimensionality reduction, scaling, etc. Remove variables that are not needed/useful for the analysis.***"
   ]
  },
  {
   "cell_type": "markdown",
   "id": "d4828ca4",
   "metadata": {},
   "source": [
    "The first step was to load necessary packages and our dataset, UCI's \"Bank Marketing Data Set\" (https://archive.ics.uci.edu/ml/datasets/bank+marketing). In addition, we created variables for indexing both the continuous and categorical variables within the dataset."
   ]
  },
  {
   "cell_type": "code",
   "execution_count": 3,
   "id": "492e9c34",
   "metadata": {},
   "outputs": [],
   "source": [
    "#Import Dataset from github repo\n",
    "bankData = pd.read_csv('bank-additional-full.csv', sep=';', na_values=\"unknown\")\n",
    "#Optional: Add in index column\n",
    "#bankData.insert(0, 'Sample_ID', range(1,len(bankData)+1))\n",
    "\n",
    "#Creating variables for indexing continuous and categorical variables\n",
    "conCol = ['age', 'duration', 'campaign', 'previous', 'emp.var.rate', \n",
    "          'cons.price.idx', 'cons.conf.idx', 'euribor3m', 'nr.employed']\n",
    "\n",
    "catCol = ['job', 'marital', 'education', 'housing', 'loan', \n",
    "          'contact', 'month', 'day_of_week'] # Default is removed from this list because it is not used "
   ]
  },
  {
   "cell_type": "markdown",
   "id": "8c67bc1e",
   "metadata": {},
   "source": [
    "The next step was to drop entries with missing values, this removed 10,701 rows leaving 30,488 rows which, as discussed in previous assignments, was sufficient for the analysis requirements. In addition, we removed those columns that were unbalanced or appeared to have little to no importance within the model. The removed columns included 'duration', 'default', and 'pdays'.\n",
    "\n",
    "The reasoning for removing the 'duration' and 'default' columns was that the former's distribution was highly skewed and just describes the time spent on the call, which cannot be known until after the call is ended. Obviously, those callers who take out a long-term deposit will naturally spend more time on a call, which indicates that this variable is likely to bias the results of a model. The latter was removed due to its consisting of almost entirely \"no\" responses with a total of 3 \"yes\" responses, making it highly unbalanced which infers that it would also bias any results. We ultimately chose to remove 'pdays' because it refers to how many days had passed since a customer had been contacted during the previous campaign, and did not appear to be relevant. In addition, the dataset is skewed since the majority of the customers in this dataset chose \"no\" to a short term deposit and we wanted to dedicate our resources to those customers who had said \"yes\".\n",
    "\n",
    "Finally, we chose to refine the 'poutcome' variable by excluding those customers who had never been contacted in a previous campaign. Our reasoning was that we would want to focus our resources on those customers who had previously been contacted since we knew their responses.\n"
   ]
  },
  {
   "cell_type": "code",
   "execution_count": 4,
   "id": "8296d5b0",
   "metadata": {
    "scrolled": false
   },
   "outputs": [
    {
     "name": "stdout",
     "output_type": "stream",
     "text": [
      "             Counts  Percent of Total\n",
      "nonexistent   25836          0.847415\n",
      "failure        3461          0.113520\n",
      "success        1191          0.039065\n",
      "             Counts  Percent of Total\n",
      "nonexistent   25836               1.0\n",
      "(25836, 17)\n"
     ]
    },
    {
     "data": {
      "text/html": [
       "<div>\n",
       "<style scoped>\n",
       "    .dataframe tbody tr th:only-of-type {\n",
       "        vertical-align: middle;\n",
       "    }\n",
       "\n",
       "    .dataframe tbody tr th {\n",
       "        vertical-align: top;\n",
       "    }\n",
       "\n",
       "    .dataframe thead th {\n",
       "        text-align: right;\n",
       "    }\n",
       "</style>\n",
       "<table border=\"1\" class=\"dataframe\">\n",
       "  <thead>\n",
       "    <tr style=\"text-align: right;\">\n",
       "      <th></th>\n",
       "      <th>age</th>\n",
       "      <th>job</th>\n",
       "      <th>marital</th>\n",
       "      <th>education</th>\n",
       "      <th>housing</th>\n",
       "      <th>loan</th>\n",
       "      <th>contact</th>\n",
       "      <th>month</th>\n",
       "      <th>day_of_week</th>\n",
       "      <th>campaign</th>\n",
       "      <th>previous</th>\n",
       "      <th>emp.var.rate</th>\n",
       "      <th>cons.price.idx</th>\n",
       "      <th>cons.conf.idx</th>\n",
       "      <th>euribor3m</th>\n",
       "      <th>nr.employed</th>\n",
       "      <th>y</th>\n",
       "    </tr>\n",
       "  </thead>\n",
       "  <tbody>\n",
       "    <tr>\n",
       "      <th>0</th>\n",
       "      <td>56</td>\n",
       "      <td>housemaid</td>\n",
       "      <td>married</td>\n",
       "      <td>basic.4y</td>\n",
       "      <td>no</td>\n",
       "      <td>no</td>\n",
       "      <td>telephone</td>\n",
       "      <td>may</td>\n",
       "      <td>mon</td>\n",
       "      <td>1</td>\n",
       "      <td>0</td>\n",
       "      <td>1.1</td>\n",
       "      <td>93.994</td>\n",
       "      <td>-36.4</td>\n",
       "      <td>4.857</td>\n",
       "      <td>5191.0</td>\n",
       "      <td>no</td>\n",
       "    </tr>\n",
       "    <tr>\n",
       "      <th>2</th>\n",
       "      <td>37</td>\n",
       "      <td>services</td>\n",
       "      <td>married</td>\n",
       "      <td>high.school</td>\n",
       "      <td>yes</td>\n",
       "      <td>no</td>\n",
       "      <td>telephone</td>\n",
       "      <td>may</td>\n",
       "      <td>mon</td>\n",
       "      <td>1</td>\n",
       "      <td>0</td>\n",
       "      <td>1.1</td>\n",
       "      <td>93.994</td>\n",
       "      <td>-36.4</td>\n",
       "      <td>4.857</td>\n",
       "      <td>5191.0</td>\n",
       "      <td>no</td>\n",
       "    </tr>\n",
       "    <tr>\n",
       "      <th>3</th>\n",
       "      <td>40</td>\n",
       "      <td>admin.</td>\n",
       "      <td>married</td>\n",
       "      <td>basic.6y</td>\n",
       "      <td>no</td>\n",
       "      <td>no</td>\n",
       "      <td>telephone</td>\n",
       "      <td>may</td>\n",
       "      <td>mon</td>\n",
       "      <td>1</td>\n",
       "      <td>0</td>\n",
       "      <td>1.1</td>\n",
       "      <td>93.994</td>\n",
       "      <td>-36.4</td>\n",
       "      <td>4.857</td>\n",
       "      <td>5191.0</td>\n",
       "      <td>no</td>\n",
       "    </tr>\n",
       "    <tr>\n",
       "      <th>4</th>\n",
       "      <td>56</td>\n",
       "      <td>services</td>\n",
       "      <td>married</td>\n",
       "      <td>high.school</td>\n",
       "      <td>no</td>\n",
       "      <td>yes</td>\n",
       "      <td>telephone</td>\n",
       "      <td>may</td>\n",
       "      <td>mon</td>\n",
       "      <td>1</td>\n",
       "      <td>0</td>\n",
       "      <td>1.1</td>\n",
       "      <td>93.994</td>\n",
       "      <td>-36.4</td>\n",
       "      <td>4.857</td>\n",
       "      <td>5191.0</td>\n",
       "      <td>no</td>\n",
       "    </tr>\n",
       "    <tr>\n",
       "      <th>6</th>\n",
       "      <td>59</td>\n",
       "      <td>admin.</td>\n",
       "      <td>married</td>\n",
       "      <td>professional.course</td>\n",
       "      <td>no</td>\n",
       "      <td>no</td>\n",
       "      <td>telephone</td>\n",
       "      <td>may</td>\n",
       "      <td>mon</td>\n",
       "      <td>1</td>\n",
       "      <td>0</td>\n",
       "      <td>1.1</td>\n",
       "      <td>93.994</td>\n",
       "      <td>-36.4</td>\n",
       "      <td>4.857</td>\n",
       "      <td>5191.0</td>\n",
       "      <td>no</td>\n",
       "    </tr>\n",
       "  </tbody>\n",
       "</table>\n",
       "</div>"
      ],
      "text/plain": [
       "   age        job  marital            education housing loan    contact month  \\\n",
       "0   56  housemaid  married             basic.4y      no   no  telephone   may   \n",
       "2   37   services  married          high.school     yes   no  telephone   may   \n",
       "3   40     admin.  married             basic.6y      no   no  telephone   may   \n",
       "4   56   services  married          high.school      no  yes  telephone   may   \n",
       "6   59     admin.  married  professional.course      no   no  telephone   may   \n",
       "\n",
       "  day_of_week  campaign  previous  emp.var.rate  cons.price.idx  \\\n",
       "0         mon         1         0           1.1          93.994   \n",
       "2         mon         1         0           1.1          93.994   \n",
       "3         mon         1         0           1.1          93.994   \n",
       "4         mon         1         0           1.1          93.994   \n",
       "6         mon         1         0           1.1          93.994   \n",
       "\n",
       "   cons.conf.idx  euribor3m  nr.employed   y  \n",
       "0          -36.4      4.857       5191.0  no  \n",
       "2          -36.4      4.857       5191.0  no  \n",
       "3          -36.4      4.857       5191.0  no  \n",
       "4          -36.4      4.857       5191.0  no  \n",
       "6          -36.4      4.857       5191.0  no  "
      ]
     },
     "execution_count": 4,
     "metadata": {},
     "output_type": "execute_result"
    }
   ],
   "source": [
    "#Removing missing values\n",
    "bankData2 = bankData.dropna()\n",
    "\n",
    "print(getCP(bankData2.poutcome))\n",
    "\n",
    "#Refining dataframe to focus on population that has no previous campaigns\n",
    "bankData2 = bankData2.drop(bankData2[(bankData2.poutcome!='nonexistent') ].index)\n",
    "print(getCP(bankData2.poutcome))\n",
    "\n",
    "#Creating df of removed rows for optional analysis\n",
    "previousCampaigns = bankData2.drop(bankData2[(bankData2.poutcome == 'nonexistent') ].index)\n",
    "\n",
    "#Removing default, duration, pdays, and poutcome columns\n",
    "bankData2 = bankData2.drop(['default','duration', 'pdays', 'poutcome'], axis=1)\n",
    "print(bankData2.shape)\n",
    "bankData2.head()"
   ]
  },
  {
   "cell_type": "markdown",
   "id": "0d3e23e1",
   "metadata": {},
   "source": [
    "We looked at the simple statistics of the continuous variables and noted that the means were close to the median, indicating that their distributions were fairly symmetrical and would not require any mathematical treatments prior to analysis."
   ]
  },
  {
   "cell_type": "code",
   "execution_count": 5,
   "id": "037546ac",
   "metadata": {},
   "outputs": [
    {
     "data": {
      "text/html": [
       "<div>\n",
       "<style scoped>\n",
       "    .dataframe tbody tr th:only-of-type {\n",
       "        vertical-align: middle;\n",
       "    }\n",
       "\n",
       "    .dataframe tbody tr th {\n",
       "        vertical-align: top;\n",
       "    }\n",
       "\n",
       "    .dataframe thead th {\n",
       "        text-align: right;\n",
       "    }\n",
       "</style>\n",
       "<table border=\"1\" class=\"dataframe\">\n",
       "  <thead>\n",
       "    <tr style=\"text-align: right;\">\n",
       "      <th></th>\n",
       "      <th>age</th>\n",
       "      <th>campaign</th>\n",
       "      <th>previous</th>\n",
       "      <th>emp.var.rate</th>\n",
       "      <th>cons.price.idx</th>\n",
       "      <th>cons.conf.idx</th>\n",
       "      <th>euribor3m</th>\n",
       "      <th>nr.employed</th>\n",
       "    </tr>\n",
       "  </thead>\n",
       "  <tbody>\n",
       "    <tr>\n",
       "      <th>count</th>\n",
       "      <td>25836.000000</td>\n",
       "      <td>25836.000000</td>\n",
       "      <td>25836.0</td>\n",
       "      <td>25836.000000</td>\n",
       "      <td>25836.000000</td>\n",
       "      <td>25836.000000</td>\n",
       "      <td>25836.000000</td>\n",
       "      <td>25836.000000</td>\n",
       "    </tr>\n",
       "    <tr>\n",
       "      <th>mean</th>\n",
       "      <td>38.842081</td>\n",
       "      <td>2.624361</td>\n",
       "      <td>0.0</td>\n",
       "      <td>0.238470</td>\n",
       "      <td>93.592630</td>\n",
       "      <td>-40.452427</td>\n",
       "      <td>3.814680</td>\n",
       "      <td>5176.048192</td>\n",
       "    </tr>\n",
       "    <tr>\n",
       "      <th>std</th>\n",
       "      <td>9.904549</td>\n",
       "      <td>2.880938</td>\n",
       "      <td>0.0</td>\n",
       "      <td>1.512054</td>\n",
       "      <td>0.557312</td>\n",
       "      <td>4.458733</td>\n",
       "      <td>1.643046</td>\n",
       "      <td>66.103034</td>\n",
       "    </tr>\n",
       "    <tr>\n",
       "      <th>min</th>\n",
       "      <td>18.000000</td>\n",
       "      <td>1.000000</td>\n",
       "      <td>0.0</td>\n",
       "      <td>-3.400000</td>\n",
       "      <td>92.201000</td>\n",
       "      <td>-50.800000</td>\n",
       "      <td>0.634000</td>\n",
       "      <td>4963.600000</td>\n",
       "    </tr>\n",
       "    <tr>\n",
       "      <th>25%</th>\n",
       "      <td>31.000000</td>\n",
       "      <td>1.000000</td>\n",
       "      <td>0.0</td>\n",
       "      <td>-1.800000</td>\n",
       "      <td>93.200000</td>\n",
       "      <td>-42.700000</td>\n",
       "      <td>1.410000</td>\n",
       "      <td>5099.100000</td>\n",
       "    </tr>\n",
       "    <tr>\n",
       "      <th>50%</th>\n",
       "      <td>37.000000</td>\n",
       "      <td>2.000000</td>\n",
       "      <td>0.0</td>\n",
       "      <td>1.100000</td>\n",
       "      <td>93.876000</td>\n",
       "      <td>-41.800000</td>\n",
       "      <td>4.858000</td>\n",
       "      <td>5195.800000</td>\n",
       "    </tr>\n",
       "    <tr>\n",
       "      <th>75%</th>\n",
       "      <td>45.000000</td>\n",
       "      <td>3.000000</td>\n",
       "      <td>0.0</td>\n",
       "      <td>1.400000</td>\n",
       "      <td>93.994000</td>\n",
       "      <td>-36.400000</td>\n",
       "      <td>4.962000</td>\n",
       "      <td>5228.100000</td>\n",
       "    </tr>\n",
       "    <tr>\n",
       "      <th>max</th>\n",
       "      <td>95.000000</td>\n",
       "      <td>43.000000</td>\n",
       "      <td>0.0</td>\n",
       "      <td>1.400000</td>\n",
       "      <td>94.767000</td>\n",
       "      <td>-26.900000</td>\n",
       "      <td>5.045000</td>\n",
       "      <td>5228.100000</td>\n",
       "    </tr>\n",
       "  </tbody>\n",
       "</table>\n",
       "</div>"
      ],
      "text/plain": [
       "                age      campaign  previous  emp.var.rate  cons.price.idx  \\\n",
       "count  25836.000000  25836.000000   25836.0  25836.000000    25836.000000   \n",
       "mean      38.842081      2.624361       0.0      0.238470       93.592630   \n",
       "std        9.904549      2.880938       0.0      1.512054        0.557312   \n",
       "min       18.000000      1.000000       0.0     -3.400000       92.201000   \n",
       "25%       31.000000      1.000000       0.0     -1.800000       93.200000   \n",
       "50%       37.000000      2.000000       0.0      1.100000       93.876000   \n",
       "75%       45.000000      3.000000       0.0      1.400000       93.994000   \n",
       "max       95.000000     43.000000       0.0      1.400000       94.767000   \n",
       "\n",
       "       cons.conf.idx     euribor3m   nr.employed  \n",
       "count   25836.000000  25836.000000  25836.000000  \n",
       "mean      -40.452427      3.814680   5176.048192  \n",
       "std         4.458733      1.643046     66.103034  \n",
       "min       -50.800000      0.634000   4963.600000  \n",
       "25%       -42.700000      1.410000   5099.100000  \n",
       "50%       -41.800000      4.858000   5195.800000  \n",
       "75%       -36.400000      4.962000   5228.100000  \n",
       "max       -26.900000      5.045000   5228.100000  "
      ]
     },
     "execution_count": 5,
     "metadata": {},
     "output_type": "execute_result"
    }
   ],
   "source": [
    "#Getting basic statistical overview of continuous variables using the describe function\n",
    "bankData2.describe()"
   ]
  },
  {
   "cell_type": "markdown",
   "id": "1e1b7fec",
   "metadata": {},
   "source": [
    "Looking at the first target variable, y, we see that it is remarkably unbalanced with over 25,000 \"no\" responses and less than 5,000 \"yes\" responses. While we could balance the target variable to even out the responses, we felt that increasing the \"yes\" answers would bias the outcomes of the models. Since the \"no\" responses are real we chose not to balance the variable in order to obtain more realistic models."
   ]
  },
  {
   "cell_type": "code",
   "execution_count": 6,
   "id": "e5bd655a",
   "metadata": {},
   "outputs": [
    {
     "name": "stdout",
     "output_type": "stream",
     "text": [
      "Percentages for  Y  : \n",
      "      Counts  Percent of Total\n",
      "no    23264          0.900449\n",
      "yes    2572          0.099551 \n",
      "\n",
      "\n"
     ]
    },
    {
     "data": {
      "text/plain": [
       "<seaborn.axisgrid.FacetGrid at 0x7ff3cb53bc70>"
      ]
     },
     "execution_count": 6,
     "metadata": {},
     "output_type": "execute_result"
    },
    {
     "data": {
      "image/png": "[encoded data removed]",
      "text/plain": [
       "<Figure size 360x360 with 1 Axes>"
      ]
     },
     "metadata": {
      "needs_background": "light"
     },
     "output_type": "display_data"
    }
   ],
   "source": [
    "print(\"Percentages for \",'Y',\" : \\n\",getCP(bankData2['y']),\"\\n\\n\")\n",
    "sns.catplot(x='y', data = bankData2, kind = 'count')"
   ]
  },
  {
   "cell_type": "markdown",
   "id": "2cc0c1c4",
   "metadata": {},
   "source": [
    "Our second target variable, education, consists of seven levels: illiterate, basic 4, 6, and 9 years, highschool, university degree, and professional course. We noted that the majority of customers had a university degree (34%), followed by highschool (25%). The basic 9 year (14%) and professional course (14.1%) were fairly close followed by basic 4 year (8%) and then basic 6 year (5%). The illiterate level was 0.0004%. Since the diferences between the levels was less than 30%, with the exception of 'illiterate', we chose to keep the data as is."
   ]
  },
  {
   "cell_type": "code",
   "execution_count": 7,
   "id": "4887f140",
   "metadata": {},
   "outputs": [
    {
     "name": "stdout",
     "output_type": "stream",
     "text": [
      "The following is a breakdown of the class counts of the Education Variable:\n",
      "\n",
      " university.degree      8777\n",
      "high.school            6458\n",
      "professional.course    3699\n",
      "basic.9y               3682\n",
      "basic.4y               2008\n",
      "basic.6y               1202\n",
      "illiterate               10\n",
      "Name: education, dtype: int64\n"
     ]
    },
    {
     "data": {
      "text/plain": [
       "<seaborn.axisgrid.FacetGrid at 0x7ff3c73a99a0>"
      ]
     },
     "execution_count": 7,
     "metadata": {},
     "output_type": "execute_result"
    },
    {
     "data": {
      "image/png": "[encoded data removed]",
      "text/plain": [
       "<Figure size 713.035x504 with 1 Axes>"
      ]
     },
     "metadata": {},
     "output_type": "display_data"
    }
   ],
   "source": [
    "print(\"The following is a breakdown of the class counts of the Education Variable:\\n\\n\",bankData2.education.value_counts())\n",
    "sns.set(rc={'figure.figsize':(11.7,8.27)})\n",
    "sns.catplot(x='education', data = bankData2, kind = 'count', height=7, aspect=11.7/8.27)"
   ]
  },
  {
   "cell_type": "markdown",
   "id": "6672317a",
   "metadata": {},
   "source": [
    "The code below returns the counts and percentages of each level in the categorical variables. For jobs, most customers are in admin (28%) followed by blue-collar (19%) and technician (18%). The marital status for the majority of customers is married (57%), followed by single (31%), and divorced (12%). There were more customers with university degrees (34%) than all other levels of education, while the those customers who had housing loans (54%) were close to those without housing loans (46%).\n",
    "\n",
    "From looking at the loan variable, we noted that only 16% of customers had taken out a personal loan, and from the contact variable we saw that the majority of customers used cellphones (67%) over telephones.\n",
    "\n",
    "Interestingly, significantly more customers were contacted in the month of May (32%) than any other month, though we cannot make any inferences about why this would be the case since it is likely due to the bank's protocols. The day of the week did not appear to have any influence on customer count, while the variable for outcome of the previous marketing campaign, poutcome, did show that the majority of customers had nonexistent outcomes (85%).\n"
   ]
  },
  {
   "cell_type": "code",
   "execution_count": 8,
   "id": "7d85f5d6",
   "metadata": {},
   "outputs": [
    {
     "name": "stdout",
     "output_type": "stream",
     "text": [
      "Percentages for  job  : \n",
      "                Counts  Percent of Total\n",
      "admin.           7368          0.285183\n",
      "blue-collar      4944          0.191361\n",
      "technician       4739          0.183426\n",
      "services         2439          0.094403\n",
      "management       1945          0.075283\n",
      "self-employed     943          0.036499\n",
      "entrepreneur      941          0.036422\n",
      "retired           895          0.034642\n",
      "unemployed        607          0.023494\n",
      "housemaid         600          0.023223\n",
      "student           415          0.016063 \n",
      "\n",
      "\n",
      "Percentages for  marital  : \n",
      "           Counts  Percent of Total\n",
      "married    14969          0.579385\n",
      "single      7838          0.303375\n",
      "divorced    3029          0.117240 \n",
      "\n",
      "\n",
      "Percentages for  education  : \n",
      "                      Counts  Percent of Total\n",
      "university.degree      8777          0.339720\n",
      "high.school            6458          0.249961\n",
      "professional.course    3699          0.143172\n",
      "basic.9y               3682          0.142514\n",
      "basic.4y               2008          0.077721\n",
      "basic.6y               1202          0.046524\n",
      "illiterate               10          0.000387 \n",
      "\n",
      "\n",
      "Percentages for  housing  : \n",
      "      Counts  Percent of Total\n",
      "yes   13863          0.536577\n",
      "no    11973          0.463423 \n",
      "\n",
      "\n",
      "Percentages for  loan  : \n",
      "      Counts  Percent of Total\n",
      "no    21793          0.843513\n",
      "yes    4043          0.156487 \n",
      "\n",
      "\n",
      "Percentages for  contact  : \n",
      "            Counts  Percent of Total\n",
      "cellular    16133          0.624439\n",
      "telephone    9703          0.375561 \n",
      "\n",
      "\n",
      "Percentages for  month  : \n",
      "      Counts  Percent of Total\n",
      "may    8140          0.315064\n",
      "jul    4878          0.188806\n",
      "aug    4273          0.165389\n",
      "jun    3338          0.129200\n",
      "nov    2632          0.101873\n",
      "apr    1523          0.058949\n",
      "oct     374          0.014476\n",
      "mar     336          0.013005\n",
      "sep     255          0.009870\n",
      "dec      87          0.003367 \n",
      "\n",
      "\n",
      "Percentages for  day_of_week  : \n",
      "      Counts  Percent of Total\n",
      "thu    5411          0.209436\n",
      "mon    5338          0.206611\n",
      "wed    5224          0.202198\n",
      "tue    5045          0.195270\n",
      "fri    4818          0.186484 \n",
      "\n",
      "\n"
     ]
    }
   ],
   "source": [
    "for i in catCol:\n",
    "    print(\"Percentages for \",i,\" : \\n\",getCP(bankData2[i]),\"\\n\\n\")"
   ]
  },
  {
   "cell_type": "markdown",
   "id": "ee28989c",
   "metadata": {},
   "source": [
    "We performed a One Hot encoding on the categorical variables and stored the resulting dataset as a separate dataset before concatenating it with the continuous variables from the cleaned dataset."
   ]
  },
  {
   "cell_type": "code",
   "execution_count": 9,
   "id": "f4f27f28",
   "metadata": {
    "scrolled": false
   },
   "outputs": [
    {
     "data": {
      "text/html": [
       "<div>\n",
       "<style scoped>\n",
       "    .dataframe tbody tr th:only-of-type {\n",
       "        vertical-align: middle;\n",
       "    }\n",
       "\n",
       "    .dataframe tbody tr th {\n",
       "        vertical-align: top;\n",
       "    }\n",
       "\n",
       "    .dataframe thead th {\n",
       "        text-align: right;\n",
       "    }\n",
       "</style>\n",
       "<table border=\"1\" class=\"dataframe\">\n",
       "  <thead>\n",
       "    <tr style=\"text-align: right;\">\n",
       "      <th></th>\n",
       "      <th>age</th>\n",
       "      <th>campaign</th>\n",
       "      <th>previous</th>\n",
       "      <th>emp.var.rate</th>\n",
       "      <th>cons.price.idx</th>\n",
       "      <th>cons.conf.idx</th>\n",
       "      <th>euribor3m</th>\n",
       "      <th>nr.employed</th>\n",
       "      <th>job_admin.</th>\n",
       "      <th>job_blue-collar</th>\n",
       "      <th>...</th>\n",
       "      <th>month_mar</th>\n",
       "      <th>month_may</th>\n",
       "      <th>month_nov</th>\n",
       "      <th>month_oct</th>\n",
       "      <th>month_sep</th>\n",
       "      <th>day_of_week_fri</th>\n",
       "      <th>day_of_week_mon</th>\n",
       "      <th>day_of_week_thu</th>\n",
       "      <th>day_of_week_tue</th>\n",
       "      <th>day_of_week_wed</th>\n",
       "    </tr>\n",
       "  </thead>\n",
       "  <tbody>\n",
       "    <tr>\n",
       "      <th>0</th>\n",
       "      <td>1.732361</td>\n",
       "      <td>-0.563842</td>\n",
       "      <td>0.0</td>\n",
       "      <td>0.569786</td>\n",
       "      <td>0.720204</td>\n",
       "      <td>0.908892</td>\n",
       "      <td>0.634395</td>\n",
       "      <td>0.226194</td>\n",
       "      <td>0</td>\n",
       "      <td>0</td>\n",
       "      <td>...</td>\n",
       "      <td>0</td>\n",
       "      <td>1</td>\n",
       "      <td>0</td>\n",
       "      <td>0</td>\n",
       "      <td>0</td>\n",
       "      <td>0</td>\n",
       "      <td>1</td>\n",
       "      <td>0</td>\n",
       "      <td>0</td>\n",
       "      <td>0</td>\n",
       "    </tr>\n",
       "    <tr>\n",
       "      <th>1</th>\n",
       "      <td>-0.185987</td>\n",
       "      <td>-0.563842</td>\n",
       "      <td>0.0</td>\n",
       "      <td>0.569786</td>\n",
       "      <td>0.720204</td>\n",
       "      <td>0.908892</td>\n",
       "      <td>0.634395</td>\n",
       "      <td>0.226194</td>\n",
       "      <td>0</td>\n",
       "      <td>0</td>\n",
       "      <td>...</td>\n",
       "      <td>0</td>\n",
       "      <td>1</td>\n",
       "      <td>0</td>\n",
       "      <td>0</td>\n",
       "      <td>0</td>\n",
       "      <td>0</td>\n",
       "      <td>1</td>\n",
       "      <td>0</td>\n",
       "      <td>0</td>\n",
       "      <td>0</td>\n",
       "    </tr>\n",
       "    <tr>\n",
       "      <th>2</th>\n",
       "      <td>0.116910</td>\n",
       "      <td>-0.563842</td>\n",
       "      <td>0.0</td>\n",
       "      <td>0.569786</td>\n",
       "      <td>0.720204</td>\n",
       "      <td>0.908892</td>\n",
       "      <td>0.634395</td>\n",
       "      <td>0.226194</td>\n",
       "      <td>1</td>\n",
       "      <td>0</td>\n",
       "      <td>...</td>\n",
       "      <td>0</td>\n",
       "      <td>1</td>\n",
       "      <td>0</td>\n",
       "      <td>0</td>\n",
       "      <td>0</td>\n",
       "      <td>0</td>\n",
       "      <td>1</td>\n",
       "      <td>0</td>\n",
       "      <td>0</td>\n",
       "      <td>0</td>\n",
       "    </tr>\n",
       "    <tr>\n",
       "      <th>3</th>\n",
       "      <td>1.732361</td>\n",
       "      <td>-0.563842</td>\n",
       "      <td>0.0</td>\n",
       "      <td>0.569786</td>\n",
       "      <td>0.720204</td>\n",
       "      <td>0.908892</td>\n",
       "      <td>0.634395</td>\n",
       "      <td>0.226194</td>\n",
       "      <td>0</td>\n",
       "      <td>0</td>\n",
       "      <td>...</td>\n",
       "      <td>0</td>\n",
       "      <td>1</td>\n",
       "      <td>0</td>\n",
       "      <td>0</td>\n",
       "      <td>0</td>\n",
       "      <td>0</td>\n",
       "      <td>1</td>\n",
       "      <td>0</td>\n",
       "      <td>0</td>\n",
       "      <td>0</td>\n",
       "    </tr>\n",
       "    <tr>\n",
       "      <th>4</th>\n",
       "      <td>2.035258</td>\n",
       "      <td>-0.563842</td>\n",
       "      <td>0.0</td>\n",
       "      <td>0.569786</td>\n",
       "      <td>0.720204</td>\n",
       "      <td>0.908892</td>\n",
       "      <td>0.634395</td>\n",
       "      <td>0.226194</td>\n",
       "      <td>1</td>\n",
       "      <td>0</td>\n",
       "      <td>...</td>\n",
       "      <td>0</td>\n",
       "      <td>1</td>\n",
       "      <td>0</td>\n",
       "      <td>0</td>\n",
       "      <td>0</td>\n",
       "      <td>0</td>\n",
       "      <td>1</td>\n",
       "      <td>0</td>\n",
       "      <td>0</td>\n",
       "      <td>0</td>\n",
       "    </tr>\n",
       "  </tbody>\n",
       "</table>\n",
       "<p>5 rows × 50 columns</p>\n",
       "</div>"
      ],
      "text/plain": [
       "        age  campaign  previous  emp.var.rate  cons.price.idx  cons.conf.idx  \\\n",
       "0  1.732361 -0.563842       0.0      0.569786        0.720204       0.908892   \n",
       "1 -0.185987 -0.563842       0.0      0.569786        0.720204       0.908892   \n",
       "2  0.116910 -0.563842       0.0      0.569786        0.720204       0.908892   \n",
       "3  1.732361 -0.563842       0.0      0.569786        0.720204       0.908892   \n",
       "4  2.035258 -0.563842       0.0      0.569786        0.720204       0.908892   \n",
       "\n",
       "   euribor3m  nr.employed  job_admin.  job_blue-collar  ...  month_mar  \\\n",
       "0   0.634395     0.226194           0                0  ...          0   \n",
       "1   0.634395     0.226194           0                0  ...          0   \n",
       "2   0.634395     0.226194           1                0  ...          0   \n",
       "3   0.634395     0.226194           0                0  ...          0   \n",
       "4   0.634395     0.226194           1                0  ...          0   \n",
       "\n",
       "   month_may  month_nov  month_oct  month_sep  day_of_week_fri  \\\n",
       "0          1          0          0          0                0   \n",
       "1          1          0          0          0                0   \n",
       "2          1          0          0          0                0   \n",
       "3          1          0          0          0                0   \n",
       "4          1          0          0          0                0   \n",
       "\n",
       "   day_of_week_mon  day_of_week_thu  day_of_week_tue  day_of_week_wed  \n",
       "0                1                0                0                0  \n",
       "1                1                0                0                0  \n",
       "2                1                0                0                0  \n",
       "3                1                0                0                0  \n",
       "4                1                0                0                0  \n",
       "\n",
       "[5 rows x 50 columns]"
      ]
     },
     "execution_count": 9,
     "metadata": {},
     "output_type": "execute_result"
    }
   ],
   "source": [
    "#Declaring Scalar object\n",
    "scl_obj = StandardScaler()\n",
    "\n",
    "#One hot encoding of ALL categorical variables\n",
    "OneHotDF = pd.get_dummies(bankData2[catCol],drop_first=False)\n",
    "\n",
    "#Scaling non-encoded data\n",
    "conVar = bankData2.select_dtypes(exclude='object')\n",
    "colnames = pd.Series(conVar.columns)\n",
    "conVarScaled = scl_obj.fit_transform(conVar)\n",
    "conVarScaled = pd.DataFrame(data = conVarScaled, columns= colnames)\n",
    "\n",
    "#Combining with continuous variables from cleaned dataset\n",
    "OneHotDF = OneHotDF.reset_index()\n",
    "OneHotDF.pop('index')\n",
    "OneHotDF = pd.concat([conVarScaled,OneHotDF], axis = 1)\n",
    "OneHotDF.head()\n",
    "\n",
    "#https://github.com/jakemdrew/DataMiningNotebooks/blob/master/01.%20Pandas.ipynb"
   ]
  },
  {
   "cell_type": "markdown",
   "id": "60f2bad1",
   "metadata": {},
   "source": [
    "The next step was to normalize and finalize preparing the dataset. We used SciKit's StandardScaler, which would fix any non-Gaussian curves to center around zero and force all standard deviations to one.\n",
    "\n",
    "https://scikit-learn.org/stable/modules/generated/sklearn.preprocessing.StandardScaler.html"
   ]
  },
  {
   "cell_type": "markdown",
   "id": "2c21f6c2",
   "metadata": {},
   "source": [
    "### Part 2\n",
    "\n",
    "***Describe the final dataset that is used for classification/regression (include a description of any newly formed variables you created).***"
   ]
  },
  {
   "cell_type": "markdown",
   "id": "5b1f7261",
   "metadata": {},
   "source": [
    "As previously stated, the final, cleaned, dataset we used had all rows with missing data removed removed mainly because the large size of the original data set allowed us to do so while maintaining the assignment's requirements. This meant that rather than trying to impute categorical variables, we could simply remove those rows while still meeting our instance size requirements.\n",
    "\n",
    "After the missing variables were removed, we one-hot-encoded the categorical features so that we could work with only numeric features. This format is required for certain modeling algorithms that we planned to utilize for the analyses.\n",
    "\n",
    "Next, the data set was converted from a data frame to a list format. This was done in order to satisfy the cross validation training algorithim that requires this type of data input.\n",
    "\n",
    "Finally, the numeric, list format data set was scaled. This is required for many classifiers including, but not limited to, Random Forest and k-Nearest Neighbor."
   ]
  },
  {
   "cell_type": "markdown",
   "id": "4dd0422c",
   "metadata": {},
   "source": [
    "## Modeling and Evaluation"
   ]
  },
  {
   "cell_type": "markdown",
   "id": "2602296d",
   "metadata": {},
   "source": [
    "### Part 1\n",
    "\n",
    "***Choose and explain your evaluation metrics that you will use (i.e., accuracy,\n",
    "precision, recall, F-measure, or any metric we have discussed). Why are the measure(s) appropriate for analyzing the results of your modeling? Give a detailed explanation backing up any assertions.***"
   ]
  },
  {
   "cell_type": "markdown",
   "id": "357065e2",
   "metadata": {},
   "source": [
    "For the goal of predicting the target variable, \"y\", we chose to focus on precision because our goal was to minimize the number of false positives which, in turn, means minimizing the potential loss of funds spend towards marketing. This last point is especially important because, we would not want to direct a client to waste resources on customers who we predict will say \"yes\" to a loan when they will actually just say \"no\". Alternatively, if the marketing budget of a client was not a concern, focusing on recall would maximize potential customers saying \"yes\". In short, precision focuses on those customers who are most likely to choose \"yes\" to a short term loan, while recall focuses on maximizing potential returns. The reason why we chose precision over accuracy for this goal was because, as we previously showed, our target variable is unbalanced with approximately 87% \"no\" responses which infers that the accuracy of the model would be high but would also be biased towards over-predicting \"no\" responses.\n",
    "\n",
    "For the goal of predicting the level of education a customer has that will make them more likely to say \"yes\" to a loan we chose to use accuracy. Our reasoning for using accuracy was that the target variable in this case, education, was not greatly unbalanced with a reasonable differences between levels. Since we did not have to worry about unbalanced data, we chose accuracy because we wanted to know the percentage of correct predictions.\n"
   ]
  },
  {
   "cell_type": "markdown",
   "id": "bf7a6dde",
   "metadata": {},
   "source": [
    "### Part 2\n",
    "\n",
    "***Choose the method you will use for dividing your data into training and\n",
    "testing splits (i.e., are you using Stratified 10-fold cross validation? Why?). Explain why\n",
    "your chosen method is appropriate or use more than one method as appropriate. For example, if you are using time series data then you should be using continuous training and testing sets across time.***"
   ]
  },
  {
   "cell_type": "markdown",
   "id": "baaf353d",
   "metadata": {},
   "source": [
    "An important aspect of choosing our method for training/testing splitting was analyzing the balance of our target variable. We did so by comparing the number of responses of each level within the target variable."
   ]
  },
  {
   "cell_type": "code",
   "execution_count": 10,
   "id": "f0b93d87",
   "metadata": {},
   "outputs": [
    {
     "name": "stdout",
     "output_type": "stream",
     "text": [
      "Percentages for Target variable, Y: \n",
      "\n",
      "      Counts  Percent of Total\n",
      "no    23264          0.900449\n",
      "yes    2572          0.099551 \n",
      "\n",
      "\n"
     ]
    }
   ],
   "source": [
    "def getCP(column):\n",
    "    xCount = column.value_counts()\n",
    "    xPercentages = xCount/len(column)\n",
    "    outData = pd.DataFrame()\n",
    "    outData['Counts'] = xCount\n",
    "    outData['Percent of Total'] = xPercentages\n",
    "    return outData\n",
    "\n",
    "print(\"Percentages for Target variable, Y: \\n\\n\",getCP(bankData2['y']),\"\\n\\n\")"
   ]
  },
  {
   "cell_type": "markdown",
   "id": "104773f9",
   "metadata": {},
   "source": [
    "As seen above, the target variable of our data set is imbalanced with ~87% \"no\" responses. With this imbalance in mind, we chose to proceed with stratified sampling which allows for a uniform distribution of the target variable between the training and test splits. In combination with this splitting strategy, we chose to perform stratified k-fold cross validation.\n",
    "\n",
    "\n",
    "https://towardsdatascience.com/stratified-sampling-you-may-have-been-splitting-your-dataset-all-wrong-8cfdd0d32502"
   ]
  },
  {
   "cell_type": "code",
   "execution_count": 11,
   "id": "ec9def30",
   "metadata": {},
   "outputs": [
    {
     "name": "stdout",
     "output_type": "stream",
     "text": [
      "                  Counts  Percent of Total\n",
      "Bellow College     13360          0.517108\n",
      "College or Above   12476          0.482892\n"
     ]
    },
    {
     "name": "stderr",
     "output_type": "stream",
     "text": [
      "/Users/chadkwong/opt/anaconda3/lib/python3.8/site-packages/pandas/core/indexing.py:1637: SettingWithCopyWarning: \n",
      "A value is trying to be set on a copy of a slice from a DataFrame\n",
      "\n",
      "See the caveats in the documentation: https://pandas.pydata.org/pandas-docs/stable/user_guide/indexing.html#returning-a-view-versus-a-copy\n",
      "  self._setitem_single_block(indexer, value, name)\n"
     ]
    },
    {
     "data": {
      "text/html": [
       "<div>\n",
       "<style scoped>\n",
       "    .dataframe tbody tr th:only-of-type {\n",
       "        vertical-align: middle;\n",
       "    }\n",
       "\n",
       "    .dataframe tbody tr th {\n",
       "        vertical-align: top;\n",
       "    }\n",
       "\n",
       "    .dataframe thead th {\n",
       "        text-align: right;\n",
       "    }\n",
       "</style>\n",
       "<table border=\"1\" class=\"dataframe\">\n",
       "  <thead>\n",
       "    <tr style=\"text-align: right;\">\n",
       "      <th></th>\n",
       "      <th>age</th>\n",
       "      <th>campaign</th>\n",
       "      <th>previous</th>\n",
       "      <th>emp.var.rate</th>\n",
       "      <th>cons.price.idx</th>\n",
       "      <th>cons.conf.idx</th>\n",
       "      <th>euribor3m</th>\n",
       "      <th>nr.employed</th>\n",
       "      <th>index</th>\n",
       "      <th>job_admin.</th>\n",
       "      <th>...</th>\n",
       "      <th>month_nov</th>\n",
       "      <th>month_oct</th>\n",
       "      <th>month_sep</th>\n",
       "      <th>day_of_week_fri</th>\n",
       "      <th>day_of_week_mon</th>\n",
       "      <th>day_of_week_thu</th>\n",
       "      <th>day_of_week_tue</th>\n",
       "      <th>day_of_week_wed</th>\n",
       "      <th>y_no</th>\n",
       "      <th>y_yes</th>\n",
       "    </tr>\n",
       "  </thead>\n",
       "  <tbody>\n",
       "    <tr>\n",
       "      <th>0</th>\n",
       "      <td>1.732361</td>\n",
       "      <td>-0.563842</td>\n",
       "      <td>0.0</td>\n",
       "      <td>0.569786</td>\n",
       "      <td>0.720204</td>\n",
       "      <td>0.908892</td>\n",
       "      <td>0.634395</td>\n",
       "      <td>0.226194</td>\n",
       "      <td>0</td>\n",
       "      <td>0</td>\n",
       "      <td>...</td>\n",
       "      <td>0</td>\n",
       "      <td>0</td>\n",
       "      <td>0</td>\n",
       "      <td>0</td>\n",
       "      <td>1</td>\n",
       "      <td>0</td>\n",
       "      <td>0</td>\n",
       "      <td>0</td>\n",
       "      <td>1</td>\n",
       "      <td>0</td>\n",
       "    </tr>\n",
       "    <tr>\n",
       "      <th>1</th>\n",
       "      <td>-0.185987</td>\n",
       "      <td>-0.563842</td>\n",
       "      <td>0.0</td>\n",
       "      <td>0.569786</td>\n",
       "      <td>0.720204</td>\n",
       "      <td>0.908892</td>\n",
       "      <td>0.634395</td>\n",
       "      <td>0.226194</td>\n",
       "      <td>2</td>\n",
       "      <td>0</td>\n",
       "      <td>...</td>\n",
       "      <td>0</td>\n",
       "      <td>0</td>\n",
       "      <td>0</td>\n",
       "      <td>0</td>\n",
       "      <td>1</td>\n",
       "      <td>0</td>\n",
       "      <td>0</td>\n",
       "      <td>0</td>\n",
       "      <td>1</td>\n",
       "      <td>0</td>\n",
       "    </tr>\n",
       "    <tr>\n",
       "      <th>2</th>\n",
       "      <td>0.116910</td>\n",
       "      <td>-0.563842</td>\n",
       "      <td>0.0</td>\n",
       "      <td>0.569786</td>\n",
       "      <td>0.720204</td>\n",
       "      <td>0.908892</td>\n",
       "      <td>0.634395</td>\n",
       "      <td>0.226194</td>\n",
       "      <td>3</td>\n",
       "      <td>1</td>\n",
       "      <td>...</td>\n",
       "      <td>0</td>\n",
       "      <td>0</td>\n",
       "      <td>0</td>\n",
       "      <td>0</td>\n",
       "      <td>1</td>\n",
       "      <td>0</td>\n",
       "      <td>0</td>\n",
       "      <td>0</td>\n",
       "      <td>1</td>\n",
       "      <td>0</td>\n",
       "    </tr>\n",
       "    <tr>\n",
       "      <th>3</th>\n",
       "      <td>1.732361</td>\n",
       "      <td>-0.563842</td>\n",
       "      <td>0.0</td>\n",
       "      <td>0.569786</td>\n",
       "      <td>0.720204</td>\n",
       "      <td>0.908892</td>\n",
       "      <td>0.634395</td>\n",
       "      <td>0.226194</td>\n",
       "      <td>4</td>\n",
       "      <td>0</td>\n",
       "      <td>...</td>\n",
       "      <td>0</td>\n",
       "      <td>0</td>\n",
       "      <td>0</td>\n",
       "      <td>0</td>\n",
       "      <td>1</td>\n",
       "      <td>0</td>\n",
       "      <td>0</td>\n",
       "      <td>0</td>\n",
       "      <td>1</td>\n",
       "      <td>0</td>\n",
       "    </tr>\n",
       "    <tr>\n",
       "      <th>4</th>\n",
       "      <td>2.035258</td>\n",
       "      <td>-0.563842</td>\n",
       "      <td>0.0</td>\n",
       "      <td>0.569786</td>\n",
       "      <td>0.720204</td>\n",
       "      <td>0.908892</td>\n",
       "      <td>0.634395</td>\n",
       "      <td>0.226194</td>\n",
       "      <td>6</td>\n",
       "      <td>1</td>\n",
       "      <td>...</td>\n",
       "      <td>0</td>\n",
       "      <td>0</td>\n",
       "      <td>0</td>\n",
       "      <td>0</td>\n",
       "      <td>1</td>\n",
       "      <td>0</td>\n",
       "      <td>0</td>\n",
       "      <td>0</td>\n",
       "      <td>1</td>\n",
       "      <td>0</td>\n",
       "    </tr>\n",
       "  </tbody>\n",
       "</table>\n",
       "<p>5 rows × 46 columns</p>\n",
       "</div>"
      ],
      "text/plain": [
       "        age  campaign  previous  emp.var.rate  cons.price.idx  cons.conf.idx  \\\n",
       "0  1.732361 -0.563842       0.0      0.569786        0.720204       0.908892   \n",
       "1 -0.185987 -0.563842       0.0      0.569786        0.720204       0.908892   \n",
       "2  0.116910 -0.563842       0.0      0.569786        0.720204       0.908892   \n",
       "3  1.732361 -0.563842       0.0      0.569786        0.720204       0.908892   \n",
       "4  2.035258 -0.563842       0.0      0.569786        0.720204       0.908892   \n",
       "\n",
       "   euribor3m  nr.employed  index  job_admin.  ...  month_nov  month_oct  \\\n",
       "0   0.634395     0.226194      0           0  ...          0          0   \n",
       "1   0.634395     0.226194      2           0  ...          0          0   \n",
       "2   0.634395     0.226194      3           1  ...          0          0   \n",
       "3   0.634395     0.226194      4           0  ...          0          0   \n",
       "4   0.634395     0.226194      6           1  ...          0          0   \n",
       "\n",
       "   month_sep  day_of_week_fri  day_of_week_mon  day_of_week_thu  \\\n",
       "0          0                0                1                0   \n",
       "1          0                0                1                0   \n",
       "2          0                0                1                0   \n",
       "3          0                0                1                0   \n",
       "4          0                0                1                0   \n",
       "\n",
       "   day_of_week_tue  day_of_week_wed  y_no  y_yes  \n",
       "0                0                0     1      0  \n",
       "1                0                0     1      0  \n",
       "2                0                0     1      0  \n",
       "3                0                0     1      0  \n",
       "4                0                0     1      0  \n",
       "\n",
       "[5 rows x 46 columns]"
      ]
     },
     "execution_count": 11,
     "metadata": {},
     "output_type": "execute_result"
    }
   ],
   "source": [
    "# Creating separate dataset for predicting education\n",
    "educData = bankData2\n",
    "\n",
    "# Converting target to binary: 0 for below college education, 1 for above or =\n",
    "educTarget = educData.education\n",
    "educTarget.loc[educTarget=='university.degree'] = 'College or Above'\n",
    "educTarget.loc[educTarget=='professional.course'] = 'College or Above'\n",
    "educTarget.loc[educTarget != 'College or Above'] = 'Bellow College'\n",
    "print(getCP(educTarget))\n",
    "\n",
    "educData = educData.drop(columns='education')\n",
    "\n",
    "catCol = ['job', 'marital', 'housing', 'loan', \n",
    "          'contact', 'month', 'day_of_week','y']\n",
    "\n",
    "oneHotEduc = pd.get_dummies(educData[catCol],drop_first=False)\n",
    "oneHotEduc = oneHotEduc.reset_index()\n",
    "oneHotEduc = pd.concat([conVarScaled,oneHotEduc], axis = 1)\n",
    "oneHotEduc.head()\n"
   ]
  },
  {
   "cell_type": "markdown",
   "id": "64f2b444",
   "metadata": {},
   "source": [
    "The next step was to normalize and finalize preparing the dataset. We used SciKit's StandardScaler, which would fix any non-Gaussian curves to center around zero and force all standard deviations to one.\n",
    "\n",
    "https://scikit-learn.org/stable/modules/generated/sklearn.preprocessing.StandardScaler.html"
   ]
  },
  {
   "cell_type": "code",
   "execution_count": 42,
   "id": "76d402f3",
   "metadata": {},
   "outputs": [
    {
     "data": {
      "text/plain": [
       "0.38666666666666666"
      ]
     },
     "execution_count": 42,
     "metadata": {},
     "output_type": "execute_result"
    }
   ],
   "source": [
    "rf = RandomForestClassifier(random_state=randomState)\n",
    "rf.fit(xTrain, yTrainBin)\n",
    "yhat = rf.predict(xTest)\n",
    "mt.precision_score(yTestBin, yhat)"
   ]
  },
  {
   "cell_type": "code",
   "execution_count": 51,
   "id": "c4a7185a",
   "metadata": {
    "scrolled": false
   },
   "outputs": [
    {
     "name": "stdout",
     "output_type": "stream",
     "text": [
      "CPU times: user 3min 59s, sys: 8.13 s, total: 4min 8s\n",
      "Wall time: 1min 10s\n"
     ]
    },
    {
     "data": {
      "image/png": "[encoded data removed]",
      "text/plain": [
       "<Figure size 842.4x595.44 with 1 Axes>"
      ]
     },
     "metadata": {},
     "output_type": "display_data"
    }
   ],
   "source": [
    "%%time\n",
    "\n",
    "#Separating X values\n",
    "x = OneHotDF\n",
    "xVal = x.values\n",
    "\n",
    "#Setting Parameters\n",
    "randomState = 777\n",
    "splits = 15\n",
    "neighbors = 5\n",
    "\n",
    "#Declaring CV object\n",
    "cvStrat = StratifiedKFold(n_splits= splits, shuffle = True, random_state = randomState)\n",
    "\n",
    "#Setting up basic models\n",
    "knn = KNeighborsClassifier(n_neighbors = neighbors)\n",
    "rf = RandomForestClassifier(random_state=randomState)\n",
    "xgb = XGBClassifier(random_state=randomState, eval_metric='logloss')\n",
    "\n",
    "#Separating target variable\n",
    "y = bankData2['y']\n",
    "y = y.ravel()\n",
    "\n",
    "#Creating lists to store accuracy scores\n",
    "knnAccs = []\n",
    "rfAccs = []\n",
    "xgbAccs = []\n",
    "\n",
    "#Designating labels\n",
    "labels = ['no', 'yes']\n",
    "\n",
    "for trainIndices, testIndices in cvStrat.split(xVal,y): \n",
    "    \n",
    "    #Term Subscription Prediction Testing/Training Splits\n",
    "    xTrain = xVal[trainIndices]\n",
    "    yTrain = y[trainIndices]\n",
    "    yTrainBin = yTrain\n",
    "    yTrainBin = (yTrainBin=='yes').astype(int)\n",
    "    \n",
    "    xTest = xVal[testIndices]\n",
    "    yTest = y[testIndices]\n",
    "    yTestBin = yTest\n",
    "    yTestBin = (yTestBin=='yes').astype(int)\n",
    "    \n",
    "    #Scaled KNN training\n",
    "    knn.fit(xTrain, yTrain) \n",
    "    yHatKnn = knn.predict(xTest)\n",
    "    knnAccs.append(mt.precision_score(yTest,yHatKnn,pos_label='no'))\n",
    "    \n",
    "    #Scaled XGBoost training\n",
    "    xgb.fit(xTrain, yTrainBin)\n",
    "    yHatXgb = xgb.predict(xTest)\n",
    "    xgbAccs.append(mt.precision_score(yTestBin, yHatXgb))\n",
    "    \n",
    "    #Scaled Random Forrest Training\n",
    "    rf.fit(xTrain, yTrainBin)\n",
    "    yhat = rf.predict(xTest)\n",
    "    rfAccs.append(mt.precision_score(yTestBin, yhat))\n",
    "\n",
    "    \n",
    "with warnings.catch_warnings(record=True):\n",
    "    normalPlot = plt.figure(1)\n",
    "    \n",
    "    knnAccs = pd.Series(data = knnAccs)\n",
    "    knnAccs.plot()\n",
    "    \n",
    "    rfAccs = pd.Series(data = rfAccs)\n",
    "    rfAccs.plot()\n",
    "    \n",
    "    xgbAccs = pd.Series(data = xgbAccs)\n",
    "    xgbAccs.plot()\n",
    "    \n",
    "    plt.xticks(np.arange(0, splits, 1))\n",
    "    plt.title(\"Precision of Different Models\")\n",
    "    plt.legend(loc=\"upper left\", labels = ['k-NN', 'Random Forest','XGBoost'], prop={'size': 15})\n",
    "    \n",
    "    normalPlot.show()"
   ]
  },
  {
   "cell_type": "markdown",
   "id": "ac3e6176",
   "metadata": {},
   "source": [
    "The figure above indicated that accuracy for the XGBoost model was consistently higher than random forest and k-NN. "
   ]
  },
  {
   "cell_type": "markdown",
   "id": "6270b941",
   "metadata": {},
   "source": [
    "Given the performance shown in the figure above, it was clear that the scaled data"
   ]
  },
  {
   "cell_type": "code",
   "execution_count": 13,
   "id": "585a0a6f",
   "metadata": {},
   "outputs": [],
   "source": [
    "#get_metrics_score(lrClf, flag=True)"
   ]
  },
  {
   "cell_type": "code",
   "execution_count": 34,
   "id": "a41c8953",
   "metadata": {},
   "outputs": [
    {
     "data": {
      "image/png": "[encoded data removed]",
      "text/plain": [
       "<Figure size 720x504 with 2 Axes>"
      ]
     },
     "metadata": {},
     "output_type": "display_data"
    }
   ],
   "source": [
    "make_confusion_matrix(xgb, yTestBin, xTest, labels = [0, 1])"
   ]
  },
  {
   "cell_type": "code",
   "execution_count": 15,
   "id": "6ffdfe3b",
   "metadata": {},
   "outputs": [],
   "source": [
    "#make_confusion_matrix(knn, yTest, xTest, labels = ['no','yes'])"
   ]
  },
  {
   "cell_type": "code",
   "execution_count": 16,
   "id": "38a4c4f3",
   "metadata": {},
   "outputs": [
    {
     "name": "stdout",
     "output_type": "stream",
     "text": [
      "k-NN Mean Accuracy:  0.5745866371689172 \n",
      "Random Forest Mean Accuracy:  0.7707087885902489 \n",
      "XGBoost Mean Accuracy:  0.7678438803291938\n",
      "CPU times: user 4min 3s, sys: 7.82 s, total: 4min 11s\n",
      "Wall time: 1min 15s\n"
     ]
    },
    {
     "data": {
      "image/png": "[encoded data removed]",
      "text/plain": [
       "<Figure size 842.4x595.44 with 1 Axes>"
      ]
     },
     "metadata": {},
     "output_type": "display_data"
    }
   ],
   "source": [
    "%%time\n",
    "educVal = oneHotEduc.values\n",
    "educY = educTarget.ravel()\n",
    "\n",
    "#Creating lists to store accuracy scores\n",
    "knnAccs = []\n",
    "rfAccs = []\n",
    "xgbAccs = []\n",
    "\n",
    "#Creating Models for Multiclass\n",
    "knn = KNeighborsClassifier(n_neighbors = neighbors)\n",
    "rf = RandomForestClassifier(random_state=randomState)\n",
    "xgb = XGBClassifier(random_state=randomState, eval_metric='logloss')\n",
    "\n",
    "for trainIndices, testIndices in cvStrat.split(educVal,educY):     \n",
    "    #Education Prediction Testing/Training Splits\n",
    "    educXTrain = educVal[trainIndices]\n",
    "    educXTest = educVal[testIndices]\n",
    "\n",
    "    educYTrain = educY[trainIndices]\n",
    "    educYTest = educY[testIndices]\n",
    "    educYTrainBin = pd.get_dummies(educYTrain).values.argmax(1)\n",
    "    educYTestBin = pd.get_dummies(educYTest).values.argmax(1)\n",
    "    \n",
    "    #k-NN training\n",
    "    knn.fit(educXTrain, educYTrain) \n",
    "    yHatKnn = knn.predict(educXTest)\n",
    "    knnAccs.append(mt.accuracy_score(educYTest,yHatKnn))\n",
    "    \n",
    "    #XGBoost training\n",
    "    xgb.fit(educXTrain, educYTrainBin)\n",
    "    yHatXgb = xgb.predict(educXTest)\n",
    "    xgbAccs.append(mt.accuracy_score(educYTestBin, yHatXgb))\n",
    "    \n",
    "    #Random Forrest Training\n",
    "    rf.fit(educXTrain, educYTrainBin)\n",
    "    rfAccs.append(rf.score(educXTest, educYTestBin))\n",
    "    \n",
    "with warnings.catch_warnings(record=True):\n",
    "    print(\"k-NN Mean Accuracy: \", pd.Series(knnAccs).mean(),\n",
    "          \"\\nRandom Forest Mean Accuracy: \", pd.Series(rfAccs).mean(),\n",
    "          \"\\nXGBoost Mean Accuracy: \", pd.Series(xgbAccs).mean()\n",
    "         )\n",
    "    \n",
    "    normalPlot = plt.figure(1)\n",
    "    \n",
    "    knnAccs = pd.Series(data = knnAccs)\n",
    "    knnAccs.plot()\n",
    "    \n",
    "    rfAccs = pd.Series(data = rfAccs)\n",
    "    rfAccs.plot()\n",
    "    \n",
    "    xgbAccs = pd.Series(data = xgbAccs)\n",
    "    xgbAccs.plot()\n",
    "    \n",
    "    plt.xticks(np.arange(0, splits, 1))\n",
    "    plt.title(\"Accuracy of Different Models\")\n",
    "    plt.legend(loc=\"upper left\", labels = ['k-NN', 'Random Forest','XGBoost'], prop={'size': 15})\n",
    "    \n",
    "    normalPlot.show()"
   ]
  },
  {
   "cell_type": "code",
   "execution_count": null,
   "id": "4fa875c9",
   "metadata": {},
   "outputs": [],
   "source": []
  },
  {
   "cell_type": "markdown",
   "id": "6411803d",
   "metadata": {},
   "source": [
    "### Part 3\n",
    "\n",
    "***Create three different classification/regression models for each task (e.g., random forest, KNN, and SVM for task one and the same or different algorithms for task two). Two modeling techniques must be new (but the third could be SVM or logistic regression). Adjust parameters as appropriate to increase generalization performance using your chosen metric. You must investigate different parameters of the algorithms!***"
   ]
  },
  {
   "cell_type": "code",
   "execution_count": 17,
   "id": "124e4b67",
   "metadata": {},
   "outputs": [],
   "source": [
    "Y = np.where(y == 'yes', 1, 0)\n"
   ]
  },
  {
   "cell_type": "code",
   "execution_count": 18,
   "id": "c4cea9d5",
   "metadata": {},
   "outputs": [
    {
     "data": {
      "text/plain": [
       "(25836, 50)"
      ]
     },
     "execution_count": 18,
     "metadata": {},
     "output_type": "execute_result"
    }
   ],
   "source": [
    "xVal.shape"
   ]
  },
  {
   "cell_type": "markdown",
   "id": "c6ef86ee",
   "metadata": {},
   "source": [
    "#### Random Forest"
   ]
  },
  {
   "cell_type": "code",
   "execution_count": 35,
   "id": "cf5534cb",
   "metadata": {},
   "outputs": [
    {
     "name": "stdout",
     "output_type": "stream",
     "text": [
      "Standard Model Accuracy:  0.8970428858956495\n"
     ]
    },
    {
     "data": {
      "image/png": "[encoded data removed]",
      "text/plain": [
       "<Figure size 842.4x595.44 with 1 Axes>"
      ]
     },
     "metadata": {},
     "output_type": "display_data"
    },
    {
     "ename": "TypeError",
     "evalue": "'<=' not supported between instances of 'int' and 'ShuffleSplit'",
     "output_type": "error",
     "traceback": [
      "\u001b[0;31m---------------------------------------------------------------------------\u001b[0m",
      "\u001b[0;31mTypeError\u001b[0m                                 Traceback (most recent call last)",
      "\u001b[0;32m<ipython-input-35-89296ea85aff>\u001b[0m in \u001b[0;36m<module>\u001b[0;34m\u001b[0m\n\u001b[1;32m     51\u001b[0m \u001b[0;31m## predict_proba  returns a vector\u001b[0m\u001b[0;34m\u001b[0m\u001b[0;34m\u001b[0m\u001b[0;34m\u001b[0m\u001b[0m\n\u001b[1;32m     52\u001b[0m \u001b[0;32mfor\u001b[0m \u001b[0mtrain\u001b[0m\u001b[0;34m,\u001b[0m \u001b[0mtest\u001b[0m \u001b[0;32min\u001b[0m \u001b[0mcv\u001b[0m\u001b[0;34m.\u001b[0m\u001b[0msplit\u001b[0m\u001b[0;34m(\u001b[0m\u001b[0mX\u001b[0m\u001b[0;34m,\u001b[0m\u001b[0mY\u001b[0m\u001b[0;34m)\u001b[0m\u001b[0;34m:\u001b[0m\u001b[0;34m\u001b[0m\u001b[0;34m\u001b[0m\u001b[0m\n\u001b[0;32m---> 53\u001b[0;31m     \u001b[0mclf_pipe\u001b[0m\u001b[0;34m.\u001b[0m\u001b[0mfit\u001b[0m\u001b[0;34m(\u001b[0m\u001b[0mX\u001b[0m\u001b[0;34m[\u001b[0m\u001b[0mtrain\u001b[0m\u001b[0;34m]\u001b[0m\u001b[0;34m,\u001b[0m\u001b[0mY\u001b[0m\u001b[0;34m[\u001b[0m\u001b[0mtrain\u001b[0m\u001b[0;34m]\u001b[0m\u001b[0;34m)\u001b[0m\u001b[0;34m\u001b[0m\u001b[0;34m\u001b[0m\u001b[0m\n\u001b[0m\u001b[1;32m     54\u001b[0m     \u001b[0myhat\u001b[0m\u001b[0;34m[\u001b[0m\u001b[0mtest\u001b[0m\u001b[0;34m]\u001b[0m \u001b[0;34m=\u001b[0m \u001b[0mclf_pipe\u001b[0m\u001b[0;34m.\u001b[0m\u001b[0mpredict\u001b[0m\u001b[0;34m(\u001b[0m\u001b[0mX\u001b[0m\u001b[0;34m[\u001b[0m\u001b[0mtest\u001b[0m\u001b[0;34m]\u001b[0m\u001b[0;34m)\u001b[0m\u001b[0;34m\u001b[0m\u001b[0;34m\u001b[0m\u001b[0m\n\u001b[1;32m     55\u001b[0m     \u001b[0myhat_score\u001b[0m\u001b[0;34m[\u001b[0m\u001b[0mtest\u001b[0m\u001b[0;34m]\u001b[0m \u001b[0;34m=\u001b[0m \u001b[0mclf_pipe\u001b[0m\u001b[0;34m.\u001b[0m\u001b[0mpredict_proba\u001b[0m\u001b[0;34m(\u001b[0m\u001b[0mX\u001b[0m\u001b[0;34m[\u001b[0m\u001b[0mtest\u001b[0m\u001b[0;34m]\u001b[0m\u001b[0;34m)\u001b[0m\u001b[0;34m\u001b[0m\u001b[0;34m\u001b[0m\u001b[0m\n",
      "\u001b[0;32m~/opt/anaconda3/lib/python3.8/site-packages/sklearn/pipeline.py\u001b[0m in \u001b[0;36mfit\u001b[0;34m(self, X, y, **fit_params)\u001b[0m\n\u001b[1;32m    339\u001b[0m         \"\"\"\n\u001b[1;32m    340\u001b[0m         \u001b[0mfit_params_steps\u001b[0m \u001b[0;34m=\u001b[0m \u001b[0mself\u001b[0m\u001b[0;34m.\u001b[0m\u001b[0m_check_fit_params\u001b[0m\u001b[0;34m(\u001b[0m\u001b[0;34m**\u001b[0m\u001b[0mfit_params\u001b[0m\u001b[0;34m)\u001b[0m\u001b[0;34m\u001b[0m\u001b[0;34m\u001b[0m\u001b[0m\n\u001b[0;32m--> 341\u001b[0;31m         \u001b[0mXt\u001b[0m \u001b[0;34m=\u001b[0m \u001b[0mself\u001b[0m\u001b[0;34m.\u001b[0m\u001b[0m_fit\u001b[0m\u001b[0;34m(\u001b[0m\u001b[0mX\u001b[0m\u001b[0;34m,\u001b[0m \u001b[0my\u001b[0m\u001b[0;34m,\u001b[0m \u001b[0;34m**\u001b[0m\u001b[0mfit_params_steps\u001b[0m\u001b[0;34m)\u001b[0m\u001b[0;34m\u001b[0m\u001b[0;34m\u001b[0m\u001b[0m\n\u001b[0m\u001b[1;32m    342\u001b[0m         with _print_elapsed_time('Pipeline',\n\u001b[1;32m    343\u001b[0m                                  self._log_message(len(self.steps) - 1)):\n",
      "\u001b[0;32m~/opt/anaconda3/lib/python3.8/site-packages/sklearn/pipeline.py\u001b[0m in \u001b[0;36m_fit\u001b[0;34m(self, X, y, **fit_params_steps)\u001b[0m\n\u001b[1;32m    301\u001b[0m                 \u001b[0mcloned_transformer\u001b[0m \u001b[0;34m=\u001b[0m \u001b[0mclone\u001b[0m\u001b[0;34m(\u001b[0m\u001b[0mtransformer\u001b[0m\u001b[0;34m)\u001b[0m\u001b[0;34m\u001b[0m\u001b[0;34m\u001b[0m\u001b[0m\n\u001b[1;32m    302\u001b[0m             \u001b[0;31m# Fit or load from cache the current transformer\u001b[0m\u001b[0;34m\u001b[0m\u001b[0;34m\u001b[0m\u001b[0;34m\u001b[0m\u001b[0m\n\u001b[0;32m--> 303\u001b[0;31m             X, fitted_transformer = fit_transform_one_cached(\n\u001b[0m\u001b[1;32m    304\u001b[0m                 \u001b[0mcloned_transformer\u001b[0m\u001b[0;34m,\u001b[0m \u001b[0mX\u001b[0m\u001b[0;34m,\u001b[0m \u001b[0my\u001b[0m\u001b[0;34m,\u001b[0m \u001b[0;32mNone\u001b[0m\u001b[0;34m,\u001b[0m\u001b[0;34m\u001b[0m\u001b[0;34m\u001b[0m\u001b[0m\n\u001b[1;32m    305\u001b[0m                 \u001b[0mmessage_clsname\u001b[0m\u001b[0;34m=\u001b[0m\u001b[0;34m'Pipeline'\u001b[0m\u001b[0;34m,\u001b[0m\u001b[0;34m\u001b[0m\u001b[0;34m\u001b[0m\u001b[0m\n",
      "\u001b[0;32m~/opt/anaconda3/lib/python3.8/site-packages/joblib/memory.py\u001b[0m in \u001b[0;36m__call__\u001b[0;34m(self, *args, **kwargs)\u001b[0m\n\u001b[1;32m    350\u001b[0m \u001b[0;34m\u001b[0m\u001b[0m\n\u001b[1;32m    351\u001b[0m     \u001b[0;32mdef\u001b[0m \u001b[0m__call__\u001b[0m\u001b[0;34m(\u001b[0m\u001b[0mself\u001b[0m\u001b[0;34m,\u001b[0m \u001b[0;34m*\u001b[0m\u001b[0margs\u001b[0m\u001b[0;34m,\u001b[0m \u001b[0;34m**\u001b[0m\u001b[0mkwargs\u001b[0m\u001b[0;34m)\u001b[0m\u001b[0;34m:\u001b[0m\u001b[0;34m\u001b[0m\u001b[0;34m\u001b[0m\u001b[0m\n\u001b[0;32m--> 352\u001b[0;31m         \u001b[0;32mreturn\u001b[0m \u001b[0mself\u001b[0m\u001b[0;34m.\u001b[0m\u001b[0mfunc\u001b[0m\u001b[0;34m(\u001b[0m\u001b[0;34m*\u001b[0m\u001b[0margs\u001b[0m\u001b[0;34m,\u001b[0m \u001b[0;34m**\u001b[0m\u001b[0mkwargs\u001b[0m\u001b[0;34m)\u001b[0m\u001b[0;34m\u001b[0m\u001b[0;34m\u001b[0m\u001b[0m\n\u001b[0m\u001b[1;32m    353\u001b[0m \u001b[0;34m\u001b[0m\u001b[0m\n\u001b[1;32m    354\u001b[0m     \u001b[0;32mdef\u001b[0m \u001b[0mcall_and_shelve\u001b[0m\u001b[0;34m(\u001b[0m\u001b[0mself\u001b[0m\u001b[0;34m,\u001b[0m \u001b[0;34m*\u001b[0m\u001b[0margs\u001b[0m\u001b[0;34m,\u001b[0m \u001b[0;34m**\u001b[0m\u001b[0mkwargs\u001b[0m\u001b[0;34m)\u001b[0m\u001b[0;34m:\u001b[0m\u001b[0;34m\u001b[0m\u001b[0;34m\u001b[0m\u001b[0m\n",
      "\u001b[0;32m~/opt/anaconda3/lib/python3.8/site-packages/sklearn/pipeline.py\u001b[0m in \u001b[0;36m_fit_transform_one\u001b[0;34m(transformer, X, y, weight, message_clsname, message, **fit_params)\u001b[0m\n\u001b[1;32m    752\u001b[0m     \u001b[0;32mwith\u001b[0m \u001b[0m_print_elapsed_time\u001b[0m\u001b[0;34m(\u001b[0m\u001b[0mmessage_clsname\u001b[0m\u001b[0;34m,\u001b[0m \u001b[0mmessage\u001b[0m\u001b[0;34m)\u001b[0m\u001b[0;34m:\u001b[0m\u001b[0;34m\u001b[0m\u001b[0;34m\u001b[0m\u001b[0m\n\u001b[1;32m    753\u001b[0m         \u001b[0;32mif\u001b[0m \u001b[0mhasattr\u001b[0m\u001b[0;34m(\u001b[0m\u001b[0mtransformer\u001b[0m\u001b[0;34m,\u001b[0m \u001b[0;34m'fit_transform'\u001b[0m\u001b[0;34m)\u001b[0m\u001b[0;34m:\u001b[0m\u001b[0;34m\u001b[0m\u001b[0;34m\u001b[0m\u001b[0m\n\u001b[0;32m--> 754\u001b[0;31m             \u001b[0mres\u001b[0m \u001b[0;34m=\u001b[0m \u001b[0mtransformer\u001b[0m\u001b[0;34m.\u001b[0m\u001b[0mfit_transform\u001b[0m\u001b[0;34m(\u001b[0m\u001b[0mX\u001b[0m\u001b[0;34m,\u001b[0m \u001b[0my\u001b[0m\u001b[0;34m,\u001b[0m \u001b[0;34m**\u001b[0m\u001b[0mfit_params\u001b[0m\u001b[0;34m)\u001b[0m\u001b[0;34m\u001b[0m\u001b[0;34m\u001b[0m\u001b[0m\n\u001b[0m\u001b[1;32m    755\u001b[0m         \u001b[0;32melse\u001b[0m\u001b[0;34m:\u001b[0m\u001b[0;34m\u001b[0m\u001b[0;34m\u001b[0m\u001b[0m\n\u001b[1;32m    756\u001b[0m             \u001b[0mres\u001b[0m \u001b[0;34m=\u001b[0m \u001b[0mtransformer\u001b[0m\u001b[0;34m.\u001b[0m\u001b[0mfit\u001b[0m\u001b[0;34m(\u001b[0m\u001b[0mX\u001b[0m\u001b[0;34m,\u001b[0m \u001b[0my\u001b[0m\u001b[0;34m,\u001b[0m \u001b[0;34m**\u001b[0m\u001b[0mfit_params\u001b[0m\u001b[0;34m)\u001b[0m\u001b[0;34m.\u001b[0m\u001b[0mtransform\u001b[0m\u001b[0;34m(\u001b[0m\u001b[0mX\u001b[0m\u001b[0;34m)\u001b[0m\u001b[0;34m\u001b[0m\u001b[0;34m\u001b[0m\u001b[0m\n",
      "\u001b[0;32m~/opt/anaconda3/lib/python3.8/site-packages/sklearn/decomposition/_pca.py\u001b[0m in \u001b[0;36mfit_transform\u001b[0;34m(self, X, y)\u001b[0m\n\u001b[1;32m    374\u001b[0m         \u001b[0mC\u001b[0m\u001b[0;34m-\u001b[0m\u001b[0mordered\u001b[0m \u001b[0marray\u001b[0m\u001b[0;34m,\u001b[0m \u001b[0muse\u001b[0m \u001b[0;34m'np.ascontiguousarray'\u001b[0m\u001b[0;34m.\u001b[0m\u001b[0;34m\u001b[0m\u001b[0;34m\u001b[0m\u001b[0m\n\u001b[1;32m    375\u001b[0m         \"\"\"\n\u001b[0;32m--> 376\u001b[0;31m         \u001b[0mU\u001b[0m\u001b[0;34m,\u001b[0m \u001b[0mS\u001b[0m\u001b[0;34m,\u001b[0m \u001b[0mVt\u001b[0m \u001b[0;34m=\u001b[0m \u001b[0mself\u001b[0m\u001b[0;34m.\u001b[0m\u001b[0m_fit\u001b[0m\u001b[0;34m(\u001b[0m\u001b[0mX\u001b[0m\u001b[0;34m)\u001b[0m\u001b[0;34m\u001b[0m\u001b[0;34m\u001b[0m\u001b[0m\n\u001b[0m\u001b[1;32m    377\u001b[0m         \u001b[0mU\u001b[0m \u001b[0;34m=\u001b[0m \u001b[0mU\u001b[0m\u001b[0;34m[\u001b[0m\u001b[0;34m:\u001b[0m\u001b[0;34m,\u001b[0m \u001b[0;34m:\u001b[0m\u001b[0mself\u001b[0m\u001b[0;34m.\u001b[0m\u001b[0mn_components_\u001b[0m\u001b[0;34m]\u001b[0m\u001b[0;34m\u001b[0m\u001b[0;34m\u001b[0m\u001b[0m\n\u001b[1;32m    378\u001b[0m \u001b[0;34m\u001b[0m\u001b[0m\n",
      "\u001b[0;32m~/opt/anaconda3/lib/python3.8/site-packages/sklearn/decomposition/_pca.py\u001b[0m in \u001b[0;36m_fit\u001b[0;34m(self, X)\u001b[0m\n\u001b[1;32m    423\u001b[0m             \u001b[0;32mreturn\u001b[0m \u001b[0mself\u001b[0m\u001b[0;34m.\u001b[0m\u001b[0m_fit_full\u001b[0m\u001b[0;34m(\u001b[0m\u001b[0mX\u001b[0m\u001b[0;34m,\u001b[0m \u001b[0mn_components\u001b[0m\u001b[0;34m)\u001b[0m\u001b[0;34m\u001b[0m\u001b[0;34m\u001b[0m\u001b[0m\n\u001b[1;32m    424\u001b[0m         \u001b[0;32melif\u001b[0m \u001b[0mself\u001b[0m\u001b[0;34m.\u001b[0m\u001b[0m_fit_svd_solver\u001b[0m \u001b[0;32min\u001b[0m \u001b[0;34m[\u001b[0m\u001b[0;34m'arpack'\u001b[0m\u001b[0;34m,\u001b[0m \u001b[0;34m'randomized'\u001b[0m\u001b[0;34m]\u001b[0m\u001b[0;34m:\u001b[0m\u001b[0;34m\u001b[0m\u001b[0;34m\u001b[0m\u001b[0m\n\u001b[0;32m--> 425\u001b[0;31m             \u001b[0;32mreturn\u001b[0m \u001b[0mself\u001b[0m\u001b[0;34m.\u001b[0m\u001b[0m_fit_truncated\u001b[0m\u001b[0;34m(\u001b[0m\u001b[0mX\u001b[0m\u001b[0;34m,\u001b[0m \u001b[0mn_components\u001b[0m\u001b[0;34m,\u001b[0m \u001b[0mself\u001b[0m\u001b[0;34m.\u001b[0m\u001b[0m_fit_svd_solver\u001b[0m\u001b[0;34m)\u001b[0m\u001b[0;34m\u001b[0m\u001b[0;34m\u001b[0m\u001b[0m\n\u001b[0m\u001b[1;32m    426\u001b[0m         \u001b[0;32melse\u001b[0m\u001b[0;34m:\u001b[0m\u001b[0;34m\u001b[0m\u001b[0;34m\u001b[0m\u001b[0m\n\u001b[1;32m    427\u001b[0m             raise ValueError(\"Unrecognized svd_solver='{0}'\"\n",
      "\u001b[0;32m~/opt/anaconda3/lib/python3.8/site-packages/sklearn/decomposition/_pca.py\u001b[0m in \u001b[0;36m_fit_truncated\u001b[0;34m(self, X, n_components, svd_solver)\u001b[0m\n\u001b[1;32m    504\u001b[0m                              \u001b[0;34m\"with svd_solver='%s'\"\u001b[0m\u001b[0;34m\u001b[0m\u001b[0;34m\u001b[0m\u001b[0m\n\u001b[1;32m    505\u001b[0m                              % (n_components, svd_solver))\n\u001b[0;32m--> 506\u001b[0;31m         \u001b[0;32melif\u001b[0m \u001b[0;32mnot\u001b[0m \u001b[0;36m1\u001b[0m \u001b[0;34m<=\u001b[0m \u001b[0mn_components\u001b[0m \u001b[0;34m<=\u001b[0m \u001b[0mmin\u001b[0m\u001b[0;34m(\u001b[0m\u001b[0mn_samples\u001b[0m\u001b[0;34m,\u001b[0m \u001b[0mn_features\u001b[0m\u001b[0;34m)\u001b[0m\u001b[0;34m:\u001b[0m\u001b[0;34m\u001b[0m\u001b[0;34m\u001b[0m\u001b[0m\n\u001b[0m\u001b[1;32m    507\u001b[0m             raise ValueError(\"n_components=%r must be between 1 and \"\n\u001b[1;32m    508\u001b[0m                              \u001b[0;34m\"min(n_samples, n_features)=%r with \"\u001b[0m\u001b[0;34m\u001b[0m\u001b[0;34m\u001b[0m\u001b[0m\n",
      "\u001b[0;31mTypeError\u001b[0m: '<=' not supported between instances of 'int' and 'ShuffleSplit'"
     ]
    }
   ],
   "source": [
    "#Cross validation, using 80/20 train/test splitting\n",
    "splits = 3\n",
    "randomState=1\n",
    "cv = ShuffleSplit(n_splits=splits, test_size=0.20, random_state=randomState)\n",
    "\n",
    "# create variables we are more familiar with\n",
    "yhat = np.zeros(y.shape) # we will fill this with predictions\n",
    "\n",
    "# %%time\n",
    "from sklearn.ensemble import RandomForestClassifier\n",
    " \n",
    "clf_pipe = Pipeline(\n",
    "    [('PCA',PCA(n_components=cv, svd_solver='randomized')),\n",
    "     ('CLF',RandomForestClassifier(max_depth=50, n_estimators=150, n_jobs=-1))]\n",
    ")\n",
    "\n",
    "X = xVal\n",
    "\n",
    "## model and score them \n",
    "clf = RandomForestClassifier(max_depth=50, n_estimators=150, n_jobs=-1, oob_score=True)\n",
    "\n",
    "# now iterate through and get predictions, saved to the correct row in yhat\n",
    "for train, test in cv.split(X,Y):\n",
    "    clf.fit(X[train],Y[train])\n",
    "    yhat[test] = clf.predict(X[test])\n",
    "    \n",
    "def per_class_accuracy(ytrue,yhat):\n",
    "    conf = mt.confusion_matrix(ytrue,yhat)\n",
    "    norm_conf = conf.astype('float') / conf.sum(axis=1)[:, np.newaxis]\n",
    "    return np.diag(norm_conf)\n",
    "\n",
    "def plot_class_acc(ytrue,yhat, title=''):\n",
    "    acc_list = per_class_accuracy(ytrue,yhat)\n",
    "    plt.bar(range(len(acc_list)), acc_list)\n",
    "    plt.xlabel('Class value (made deposit)')\n",
    "    plt.ylabel('Accuracy within class')\n",
    "    plt.title(title+\", Total Acc=%.1f\"%(100*mt.accuracy_score(ytrue,yhat)))\n",
    "    plt.grid()\n",
    "    plt.ylim([0,1])\n",
    "    plt.show()\n",
    "    \n",
    "total_accuracy = mt.accuracy_score(Y, yhat)\n",
    "print ('Standard Model Accuracy: ', total_accuracy)\n",
    "plot_class_acc(Y,yhat,title=\"Basic Random Forest, Raw\")\n",
    "\n",
    "\n",
    "# added yhat_score for ROC curve\n",
    "yhat_score = np.zeros((y.shape[0],2))\n",
    "\n",
    "# now iterate through and get predictions, saved to the correct row in yhat\n",
    "## predict_proba  returns a vector \n",
    "for train, test in cv.split(X,Y):\n",
    "    clf_pipe.fit(X[train],Y[train])\n",
    "    yhat[test] = clf_pipe.predict(X[test])\n",
    "    yhat_score[test] = clf_pipe.predict_proba(X[test])\n",
    "\n",
    "total_accuracy = mt.accuracy_score(Y, yhat)\n",
    "print ('Model with PCA accuracy: ', total_accuracy)\n",
    "#plot_class_acc(Y,yhat,title=\"PCA Random Forest, Raw\")"
   ]
  },
  {
   "cell_type": "markdown",
   "id": "b567ec94",
   "metadata": {},
   "source": [
    "#### XGBoost"
   ]
  },
  {
   "cell_type": "code",
   "execution_count": null,
   "id": "41615b7b",
   "metadata": {},
   "outputs": [],
   "source": []
  },
  {
   "cell_type": "markdown",
   "id": "c168ef4b",
   "metadata": {},
   "source": [
    "#### KNN"
   ]
  },
  {
   "cell_type": "code",
   "execution_count": 25,
   "id": "095ecc31",
   "metadata": {},
   "outputs": [
    {
     "name": "stdout",
     "output_type": "stream",
     "text": [
      "\n"
     ]
    },
    {
     "data": {
      "text/plain": [
       "<AxesSubplot:title={'center':'Education: Accuracy vs k Neighbors'}>"
      ]
     },
     "execution_count": 25,
     "metadata": {},
     "output_type": "execute_result"
    },
    {
     "data": {
      "image/png": "[encoded data removed]",
      "text/plain": [
       "<Figure size 842.4x595.44 with 1 Axes>"
      ]
     },
     "metadata": {},
     "output_type": "display_data"
    }
   ],
   "source": [
    "# k-NN Model for Education Prediction\n",
    "knnAccs = []\n",
    "neighbors = 50\n",
    "\n",
    "for i in range(1,neighbors):\n",
    "    knn = KNeighborsClassifier(n_neighbors = i)\n",
    "    knn.fit(educXTrain, educYTrain) \n",
    "    yHatKnn = knn.predict(educXTest)\n",
    "    knnAccs.append(mt.accuracy_score(educYTest,yHatKnn))\n",
    "\n",
    "knnAccs = pd.Series(data = knnAccs)\n",
    "print()\n",
    "knnAccs.plot(title='Education: Accuracy vs k Neighbors')"
   ]
  },
  {
   "cell_type": "code",
   "execution_count": 26,
   "id": "ef5482c2",
   "metadata": {},
   "outputs": [
    {
     "name": "stdout",
     "output_type": "stream",
     "text": [
      "\n"
     ]
    },
    {
     "data": {
      "text/plain": [
       "<AxesSubplot:title={'center':'Term Deposit: Accuracy vs k Neighbors'}>"
      ]
     },
     "execution_count": 26,
     "metadata": {},
     "output_type": "execute_result"
    },
    {
     "data": {
      "image/png": "[encoded data removed]",
      "text/plain": [
       "<Figure size 842.4x595.44 with 1 Axes>"
      ]
     },
     "metadata": {},
     "output_type": "display_data"
    }
   ],
   "source": [
    "# k-NN Model for Y Prediction\n",
    "knnAccs = []\n",
    "neighbors = 50\n",
    "\n",
    "for i in range(1,neighbors):\n",
    "    knn = KNeighborsClassifier(n_neighbors = i)\n",
    "    knn.fit(xTrain, yTrain) \n",
    "    yHatKnn = knn.predict(xTest)\n",
    "    knnAccs.append(mt.accuracy_score(yTest,yHatKnn))\n",
    "\n",
    "knnAccs = pd.Series(data = knnAccs)\n",
    "print()\n",
    "knnAccs.plot(title='Term Deposit: Accuracy vs k Neighbors')"
   ]
  },
  {
   "cell_type": "markdown",
   "id": "a765eb98",
   "metadata": {},
   "source": [
    "### Part 4\n",
    "\n",
    "***Analyze the results using your chosen method of evaluation. Use visualizations of the results to bolster the analysis. Explain any visuals and analyze why they are interesting to someone that might use this model.***"
   ]
  },
  {
   "cell_type": "code",
   "execution_count": null,
   "id": "75138842",
   "metadata": {},
   "outputs": [],
   "source": []
  },
  {
   "cell_type": "markdown",
   "id": "75097d2a",
   "metadata": {},
   "source": [
    "### Part 5\n",
    "\n",
    "***Discuss the advantages of each model for each classification task, if any. If there are not advantages, explain why. Is any model better than another? Is the difference significant with 95% confidence? Use proper statistical comparison methods. You must use statistical comparison techniques—be sure they are appropriate for your chosen method of validation as discussed in unit 7 of the course.***"
   ]
  },
  {
   "cell_type": "markdown",
   "id": "30f99eee",
   "metadata": {},
   "source": [
    "\n",
    "because the data set is so skewed, a lot of people are not accepting short term deposit, we don't want all of the variables to be \"no\" answers because we only have a 10% \"yes\" rate."
   ]
  },
  {
   "cell_type": "markdown",
   "id": "5479830f",
   "metadata": {},
   "source": [
    "## Part 6\n",
    "\n",
    "***Which attributes from your analysis are most important? Use proper methods discussed in class to evaluate the importance of different attributes. Discuss the results and hypothesize about why certain attributes are more important than others for a given classification task.***"
   ]
  },
  {
   "cell_type": "code",
   "execution_count": null,
   "id": "01034c38",
   "metadata": {},
   "outputs": [],
   "source": []
  },
  {
   "cell_type": "markdown",
   "id": "72933e7e",
   "metadata": {},
   "source": [
    "## Deployment\n",
    "\n",
    "***How useful is your model for interested parties (i.e., the companies or organizations that might want to use it for prediction)? How would you measure the model's value if it was used by these parties? How would your deploy your model for interested parties? What other data should be collected? How often would the model need to be updated, etc.?***"
   ]
  },
  {
   "cell_type": "code",
   "execution_count": null,
   "id": "e06dcc3c",
   "metadata": {},
   "outputs": [],
   "source": []
  },
  {
   "cell_type": "markdown",
   "id": "49c47d47",
   "metadata": {},
   "source": [
    "## Exceptional Work\n",
    "\n",
    "You have free reign to provide additional analyses. One idea: grid search parameters in a parallelized fashion and visualize the performances across attributes. Which parameters are most significant for making a good model for each classification algorithm?"
   ]
  }
 ],
 "metadata": {
  "kernelspec": {
   "display_name": "Python 3",
   "language": "python",
   "name": "python3"
  },
  "language_info": {
   "codemirror_mode": {
    "name": "ipython",
    "version": 3
   },
   "file_extension": ".py",
   "mimetype": "text/x-python",
   "name": "python",
   "nbconvert_exporter": "python",
   "pygments_lexer": "ipython3",
   "version": "3.8.8"
  }
 },
 "nbformat": 4,
 "nbformat_minor": 5
}
