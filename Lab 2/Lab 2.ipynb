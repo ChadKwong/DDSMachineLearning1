{
 "cells": [
  {
   "cell_type": "markdown",
   "id": "f07c2778",
   "metadata": {},
   "source": [
    "# Lab 2\n",
    "\n",
    "##### Team Members: Chad Kwong, Alex Lopez, Chris Haub, Erin McClure-Price"
   ]
  },
  {
   "cell_type": "markdown",
   "id": "350e17f9",
   "metadata": {},
   "source": [
    "For this project, we chose to use the \"Bank Marketing Data Set\" that is stored in the Machine Learning Repository by the University of California, Irvine. The initial purpose of the data was to predict whether a customer would subscribe to a long-term deposit, which would allow the institution to better pursue those customers specifically. The data set contains 21 attributes and 41,188 instances collected via a telephone marketing campaign led by a “Portuguese banking institution” (Moro et al June 2014). While the data set only contains one prescribed target outcome (Long Term Deposits), we chose to additionally perform a second predicition. The second prediction we decided to create was what level of education (i.e., college and above, or highschool and below) is associated with increased potential of taking a long-term deposit. \n",
    "\n",
    "To predict our two desired outcomes, we constructed models using our chosen predictors from the available dataset. We hypothesized that success from our models would increase the efficiency of our telemarketing team regarding long-term deposits. In addition, the type of customer who is likely to take a long-term deposit can be readily distinguished and targeted, thereby increasing the number of long-term deposits held by the institution.\n",
    "\n",
    "(S. Moro, P. Cortez and P. Rita. A Data-Driven Approach to Predict the Success of Bank Telemarketing. Decision Support Systems, Elsevier, 62:22-31, June 2014)"
   ]
  },
  {
   "cell_type": "markdown",
   "id": "d860ac35",
   "metadata": {},
   "source": [
    "Loading packages needed for the project."
   ]
  },
  {
   "cell_type": "code",
   "execution_count": 1,
   "id": "7f63f164",
   "metadata": {},
   "outputs": [],
   "source": [
    "# Importing all packages and modules\n",
    "import pandas as pd\n",
    "import numpy as np\n",
    "import matplotlib.pyplot as plt\n",
    "import seaborn as sns\n",
    "import warnings\n",
    "from sklearn import linear_model\n",
    "from sklearn.linear_model import LogisticRegression\n",
    "from sklearn.preprocessing import StandardScaler\n",
    "from sklearn.model_selection import ShuffleSplit\n",
    "from sklearn.model_selection import ShuffleSplit\n",
    "from sklearn import metrics as mt\n",
    "from sklearn.metrics import mean_absolute_error, make_scorer, mean_squared_error\n",
    "from sklearn.preprocessing import StandardScaler\n",
    "from sklearn import svm\n",
    "from sklearn.svm import SVC\n",
    "from sklearn.metrics import log_loss\n",
    "from sklearn.model_selection import cross_val_score\n",
    "import glob\n",
    "import os\n",
    "import seaborn as sns #may not use\n",
    "from sklearn.model_selection import StratifiedKFold\n",
    "from sklearn.ensemble import GradientBoostingClassifier\n",
    "from sklearn.model_selection import KFold\n",
    "from sklearn.neighbors import KNeighborsClassifier\n",
    "from sklearn.ensemble import RandomForestClassifier\n",
    "from xgboost import XGBClassifier\n",
    "from sklearn.pipeline import Pipeline\n",
    "from sklearn.decomposition import PCA \n",
    "from sklearn.model_selection import GridSearchCV\n",
    "\n",
    "#Suppress futurewarnings\n",
    "warnings.simplefilter(action='ignore', category=FutureWarning)\n",
    "\n",
    "#Suppress convergence warnings\n",
    "from sklearn.exceptions import ConvergenceWarning\n",
    "warnings.simplefilter(action='ignore', category=ConvergenceWarning)\n",
    "\n",
    "#Set Figure Size\n",
    "plt.rcParams[\"figure.figsize\"] = (20,10)"
   ]
  },
  {
   "cell_type": "markdown",
   "id": "3912e85b",
   "metadata": {},
   "source": [
    "## Data Preparation"
   ]
  },
  {
   "cell_type": "markdown",
   "id": "5db728c1",
   "metadata": {},
   "source": [
    "### Part 1\n",
    "\n",
    "***Define and prepare your class variables. Use proper variable representations (int, float, one-hot, etc.). Use pre-processing methods (as needed) for dimensionality reduction, scaling, etc. Remove variables that are not needed/useful for the analysis.***"
   ]
  },
  {
   "cell_type": "markdown",
   "id": "d4828ca4",
   "metadata": {},
   "source": [
    "The first step was to load necessary packages and our dataset, UCI's \"Bank Marketing Data Set\" (https://archive.ics.uci.edu/ml/datasets/bank+marketing). In addition, we created variables for indexing both the continuous and categorical variables within the dataset."
   ]
  },
  {
   "cell_type": "code",
   "execution_count": 2,
   "id": "492e9c34",
   "metadata": {},
   "outputs": [],
   "source": [
    "#Import Dataset from github repo\n",
    "bankData = pd.read_csv('bank-additional-full.csv', sep=';', na_values=\"unknown\")\n",
    "#Optional: Add in index column\n",
    "#bankData.insert(0, 'Sample_ID', range(1,len(bankData)+1))\n",
    "\n",
    "#Creating variables for indexing continuous and categorical variables\n",
    "conCol = ['age', 'duration', 'campaign', 'previous', 'emp.var.rate', \n",
    "          'cons.price.idx', 'cons.conf.idx', 'euribor3m', 'nr.employed']\n",
    "\n",
    "catCol = ['job', 'marital', 'education', 'housing', 'loan', \n",
    "          'contact', 'month', 'day_of_week'] # Default is removed from this list because it is not used "
   ]
  },
  {
   "cell_type": "markdown",
   "id": "8c67bc1e",
   "metadata": {},
   "source": [
    "The next step was to drop entries with missing values, this removed 10,701 rows leaving 30,488 rows which, as discussed in previous assignments, was sufficient for the analysis requirements. In addition, we removed those columns that were imbalanced or appeared to have little to no importance within the model. The removed columns included 'duration', 'default', 'pdays', and 'poutcome'.\n",
    "\n",
    "The reasoning for removing the 'duration' and 'default' columns was that the former's distribution was highly skewed and just describes the time spent on the call, which cannot be known until after the call is ended. Obviously, those callers who take out a long-term deposit will naturally spend more time on a call, which indicates that this variable is likely to bias the results of a model. The latter was removed due to its consisting of almost entirely \"no\" responses with a total of 3 \"yes\" responses, making it highly imbalanced which infers that it would also bias any results. We ultimately chose to remove 'pdays' because it refers to how many days had passed since a customer had been contacted during the previous campaign, and did not appear to be relevant. In addition, the dataset is skewed since the majority of the customers in this dataset chose \"no\" to a term deposit and we wanted to dedicate our resources to those customers who had said \"yes\".\n",
    "\n",
    "Finally, we chose to remove the 'poutcome' variable. This was done because the variable had three levels, \"failure\", \"nonexistent\", and \"success\", which indicated that only a single level was relevant to our predictions. As we stated above, we chose to focus our resources on creating a model that was not heavily weighted towards those customers who either were not contacted or who said \"no\" to a term deposit.\n"
   ]
  },
  {
   "cell_type": "code",
   "execution_count": 3,
   "id": "8296d5b0",
   "metadata": {
    "scrolled": false
   },
   "outputs": [
    {
     "name": "stdout",
     "output_type": "stream",
     "text": [
      "             Counts  Percent of Total\n",
      "nonexistent   25836          0.847415\n",
      "failure        3461          0.113520\n",
      "success        1191          0.039065\n",
      "             Counts  Percent of Total\n",
      "nonexistent   25836               1.0\n",
      "(25836, 17)\n"
     ]
    },
    {
     "data": {
      "text/html": [
       "<div>\n",
       "<style scoped>\n",
       "    .dataframe tbody tr th:only-of-type {\n",
       "        vertical-align: middle;\n",
       "    }\n",
       "\n",
       "    .dataframe tbody tr th {\n",
       "        vertical-align: top;\n",
       "    }\n",
       "\n",
       "    .dataframe thead th {\n",
       "        text-align: right;\n",
       "    }\n",
       "</style>\n",
       "<table border=\"1\" class=\"dataframe\">\n",
       "  <thead>\n",
       "    <tr style=\"text-align: right;\">\n",
       "      <th></th>\n",
       "      <th>age</th>\n",
       "      <th>job</th>\n",
       "      <th>marital</th>\n",
       "      <th>education</th>\n",
       "      <th>housing</th>\n",
       "      <th>loan</th>\n",
       "      <th>contact</th>\n",
       "      <th>month</th>\n",
       "      <th>day_of_week</th>\n",
       "      <th>campaign</th>\n",
       "      <th>previous</th>\n",
       "      <th>emp.var.rate</th>\n",
       "      <th>cons.price.idx</th>\n",
       "      <th>cons.conf.idx</th>\n",
       "      <th>euribor3m</th>\n",
       "      <th>nr.employed</th>\n",
       "      <th>y</th>\n",
       "    </tr>\n",
       "  </thead>\n",
       "  <tbody>\n",
       "    <tr>\n",
       "      <th>0</th>\n",
       "      <td>56</td>\n",
       "      <td>housemaid</td>\n",
       "      <td>married</td>\n",
       "      <td>basic.4y</td>\n",
       "      <td>no</td>\n",
       "      <td>no</td>\n",
       "      <td>telephone</td>\n",
       "      <td>may</td>\n",
       "      <td>mon</td>\n",
       "      <td>1</td>\n",
       "      <td>0</td>\n",
       "      <td>1.1</td>\n",
       "      <td>93.994</td>\n",
       "      <td>-36.4</td>\n",
       "      <td>4.857</td>\n",
       "      <td>5191.0</td>\n",
       "      <td>no</td>\n",
       "    </tr>\n",
       "    <tr>\n",
       "      <th>2</th>\n",
       "      <td>37</td>\n",
       "      <td>services</td>\n",
       "      <td>married</td>\n",
       "      <td>high.school</td>\n",
       "      <td>yes</td>\n",
       "      <td>no</td>\n",
       "      <td>telephone</td>\n",
       "      <td>may</td>\n",
       "      <td>mon</td>\n",
       "      <td>1</td>\n",
       "      <td>0</td>\n",
       "      <td>1.1</td>\n",
       "      <td>93.994</td>\n",
       "      <td>-36.4</td>\n",
       "      <td>4.857</td>\n",
       "      <td>5191.0</td>\n",
       "      <td>no</td>\n",
       "    </tr>\n",
       "    <tr>\n",
       "      <th>3</th>\n",
       "      <td>40</td>\n",
       "      <td>admin.</td>\n",
       "      <td>married</td>\n",
       "      <td>basic.6y</td>\n",
       "      <td>no</td>\n",
       "      <td>no</td>\n",
       "      <td>telephone</td>\n",
       "      <td>may</td>\n",
       "      <td>mon</td>\n",
       "      <td>1</td>\n",
       "      <td>0</td>\n",
       "      <td>1.1</td>\n",
       "      <td>93.994</td>\n",
       "      <td>-36.4</td>\n",
       "      <td>4.857</td>\n",
       "      <td>5191.0</td>\n",
       "      <td>no</td>\n",
       "    </tr>\n",
       "    <tr>\n",
       "      <th>4</th>\n",
       "      <td>56</td>\n",
       "      <td>services</td>\n",
       "      <td>married</td>\n",
       "      <td>high.school</td>\n",
       "      <td>no</td>\n",
       "      <td>yes</td>\n",
       "      <td>telephone</td>\n",
       "      <td>may</td>\n",
       "      <td>mon</td>\n",
       "      <td>1</td>\n",
       "      <td>0</td>\n",
       "      <td>1.1</td>\n",
       "      <td>93.994</td>\n",
       "      <td>-36.4</td>\n",
       "      <td>4.857</td>\n",
       "      <td>5191.0</td>\n",
       "      <td>no</td>\n",
       "    </tr>\n",
       "    <tr>\n",
       "      <th>6</th>\n",
       "      <td>59</td>\n",
       "      <td>admin.</td>\n",
       "      <td>married</td>\n",
       "      <td>professional.course</td>\n",
       "      <td>no</td>\n",
       "      <td>no</td>\n",
       "      <td>telephone</td>\n",
       "      <td>may</td>\n",
       "      <td>mon</td>\n",
       "      <td>1</td>\n",
       "      <td>0</td>\n",
       "      <td>1.1</td>\n",
       "      <td>93.994</td>\n",
       "      <td>-36.4</td>\n",
       "      <td>4.857</td>\n",
       "      <td>5191.0</td>\n",
       "      <td>no</td>\n",
       "    </tr>\n",
       "  </tbody>\n",
       "</table>\n",
       "</div>"
      ],
      "text/plain": [
       "   age        job  marital            education housing loan    contact month  \\\n",
       "0   56  housemaid  married             basic.4y      no   no  telephone   may   \n",
       "2   37   services  married          high.school     yes   no  telephone   may   \n",
       "3   40     admin.  married             basic.6y      no   no  telephone   may   \n",
       "4   56   services  married          high.school      no  yes  telephone   may   \n",
       "6   59     admin.  married  professional.course      no   no  telephone   may   \n",
       "\n",
       "  day_of_week  campaign  previous  emp.var.rate  cons.price.idx  \\\n",
       "0         mon         1         0           1.1          93.994   \n",
       "2         mon         1         0           1.1          93.994   \n",
       "3         mon         1         0           1.1          93.994   \n",
       "4         mon         1         0           1.1          93.994   \n",
       "6         mon         1         0           1.1          93.994   \n",
       "\n",
       "   cons.conf.idx  euribor3m  nr.employed   y  \n",
       "0          -36.4      4.857       5191.0  no  \n",
       "2          -36.4      4.857       5191.0  no  \n",
       "3          -36.4      4.857       5191.0  no  \n",
       "4          -36.4      4.857       5191.0  no  \n",
       "6          -36.4      4.857       5191.0  no  "
      ]
     },
     "execution_count": 3,
     "metadata": {},
     "output_type": "execute_result"
    }
   ],
   "source": [
    "def getCP(column):\n",
    "    xCount = column.value_counts()\n",
    "    xPercentages = xCount/len(column)\n",
    "    outData = pd.DataFrame()\n",
    "    outData['Counts'] = xCount\n",
    "    outData['Percent of Total'] = xPercentages\n",
    "    return outData\n",
    "\n",
    "#Removing missing values\n",
    "bankData2 = bankData.dropna()\n",
    "\n",
    "print(getCP(bankData2.poutcome))\n",
    "\n",
    "#Refining dataframe to focus on population that has no previous campaigns\n",
    "bankData2 = bankData2.drop(bankData2[(bankData2.poutcome!='nonexistent') ].index)\n",
    "print(getCP(bankData2.poutcome))\n",
    "\n",
    "#Creating df of removed rows for optional analysis\n",
    "previousCampaigns = bankData2.drop(bankData2[(bankData2.poutcome == 'nonexistent') ].index)\n",
    "\n",
    "#Removing default, duration, pdays, and poutcome columns\n",
    "bankData2 = bankData2.drop(['default','duration', 'pdays', 'poutcome'], axis=1)\n",
    "print(bankData2.shape)\n",
    "bankData2.head()"
   ]
  },
  {
   "cell_type": "markdown",
   "id": "0d3e23e1",
   "metadata": {},
   "source": [
    "We looked at the simple statistics of the continuous variables and noted that the means were close to the medians, indicating that their distributions were fairly symmetrical and would not require any mathematical treatments prior to analysis."
   ]
  },
  {
   "cell_type": "code",
   "execution_count": 4,
   "id": "037546ac",
   "metadata": {},
   "outputs": [
    {
     "data": {
      "text/html": [
       "<div>\n",
       "<style scoped>\n",
       "    .dataframe tbody tr th:only-of-type {\n",
       "        vertical-align: middle;\n",
       "    }\n",
       "\n",
       "    .dataframe tbody tr th {\n",
       "        vertical-align: top;\n",
       "    }\n",
       "\n",
       "    .dataframe thead th {\n",
       "        text-align: right;\n",
       "    }\n",
       "</style>\n",
       "<table border=\"1\" class=\"dataframe\">\n",
       "  <thead>\n",
       "    <tr style=\"text-align: right;\">\n",
       "      <th></th>\n",
       "      <th>age</th>\n",
       "      <th>campaign</th>\n",
       "      <th>previous</th>\n",
       "      <th>emp.var.rate</th>\n",
       "      <th>cons.price.idx</th>\n",
       "      <th>cons.conf.idx</th>\n",
       "      <th>euribor3m</th>\n",
       "      <th>nr.employed</th>\n",
       "    </tr>\n",
       "  </thead>\n",
       "  <tbody>\n",
       "    <tr>\n",
       "      <th>count</th>\n",
       "      <td>25836.000000</td>\n",
       "      <td>25836.000000</td>\n",
       "      <td>25836.0</td>\n",
       "      <td>25836.000000</td>\n",
       "      <td>25836.000000</td>\n",
       "      <td>25836.000000</td>\n",
       "      <td>25836.000000</td>\n",
       "      <td>25836.000000</td>\n",
       "    </tr>\n",
       "    <tr>\n",
       "      <th>mean</th>\n",
       "      <td>38.842081</td>\n",
       "      <td>2.624361</td>\n",
       "      <td>0.0</td>\n",
       "      <td>0.238470</td>\n",
       "      <td>93.592630</td>\n",
       "      <td>-40.452427</td>\n",
       "      <td>3.814680</td>\n",
       "      <td>5176.048192</td>\n",
       "    </tr>\n",
       "    <tr>\n",
       "      <th>std</th>\n",
       "      <td>9.904549</td>\n",
       "      <td>2.880938</td>\n",
       "      <td>0.0</td>\n",
       "      <td>1.512054</td>\n",
       "      <td>0.557312</td>\n",
       "      <td>4.458733</td>\n",
       "      <td>1.643046</td>\n",
       "      <td>66.103034</td>\n",
       "    </tr>\n",
       "    <tr>\n",
       "      <th>min</th>\n",
       "      <td>18.000000</td>\n",
       "      <td>1.000000</td>\n",
       "      <td>0.0</td>\n",
       "      <td>-3.400000</td>\n",
       "      <td>92.201000</td>\n",
       "      <td>-50.800000</td>\n",
       "      <td>0.634000</td>\n",
       "      <td>4963.600000</td>\n",
       "    </tr>\n",
       "    <tr>\n",
       "      <th>25%</th>\n",
       "      <td>31.000000</td>\n",
       "      <td>1.000000</td>\n",
       "      <td>0.0</td>\n",
       "      <td>-1.800000</td>\n",
       "      <td>93.200000</td>\n",
       "      <td>-42.700000</td>\n",
       "      <td>1.410000</td>\n",
       "      <td>5099.100000</td>\n",
       "    </tr>\n",
       "    <tr>\n",
       "      <th>50%</th>\n",
       "      <td>37.000000</td>\n",
       "      <td>2.000000</td>\n",
       "      <td>0.0</td>\n",
       "      <td>1.100000</td>\n",
       "      <td>93.876000</td>\n",
       "      <td>-41.800000</td>\n",
       "      <td>4.858000</td>\n",
       "      <td>5195.800000</td>\n",
       "    </tr>\n",
       "    <tr>\n",
       "      <th>75%</th>\n",
       "      <td>45.000000</td>\n",
       "      <td>3.000000</td>\n",
       "      <td>0.0</td>\n",
       "      <td>1.400000</td>\n",
       "      <td>93.994000</td>\n",
       "      <td>-36.400000</td>\n",
       "      <td>4.962000</td>\n",
       "      <td>5228.100000</td>\n",
       "    </tr>\n",
       "    <tr>\n",
       "      <th>max</th>\n",
       "      <td>95.000000</td>\n",
       "      <td>43.000000</td>\n",
       "      <td>0.0</td>\n",
       "      <td>1.400000</td>\n",
       "      <td>94.767000</td>\n",
       "      <td>-26.900000</td>\n",
       "      <td>5.045000</td>\n",
       "      <td>5228.100000</td>\n",
       "    </tr>\n",
       "  </tbody>\n",
       "</table>\n",
       "</div>"
      ],
      "text/plain": [
       "                age      campaign  previous  emp.var.rate  cons.price.idx  \\\n",
       "count  25836.000000  25836.000000   25836.0  25836.000000    25836.000000   \n",
       "mean      38.842081      2.624361       0.0      0.238470       93.592630   \n",
       "std        9.904549      2.880938       0.0      1.512054        0.557312   \n",
       "min       18.000000      1.000000       0.0     -3.400000       92.201000   \n",
       "25%       31.000000      1.000000       0.0     -1.800000       93.200000   \n",
       "50%       37.000000      2.000000       0.0      1.100000       93.876000   \n",
       "75%       45.000000      3.000000       0.0      1.400000       93.994000   \n",
       "max       95.000000     43.000000       0.0      1.400000       94.767000   \n",
       "\n",
       "       cons.conf.idx     euribor3m   nr.employed  \n",
       "count   25836.000000  25836.000000  25836.000000  \n",
       "mean      -40.452427      3.814680   5176.048192  \n",
       "std         4.458733      1.643046     66.103034  \n",
       "min       -50.800000      0.634000   4963.600000  \n",
       "25%       -42.700000      1.410000   5099.100000  \n",
       "50%       -41.800000      4.858000   5195.800000  \n",
       "75%       -36.400000      4.962000   5228.100000  \n",
       "max       -26.900000      5.045000   5228.100000  "
      ]
     },
     "execution_count": 4,
     "metadata": {},
     "output_type": "execute_result"
    }
   ],
   "source": [
    "#Getting basic statistical overview of continuous variables using the describe function\n",
    "bankData2.describe()"
   ]
  },
  {
   "cell_type": "markdown",
   "id": "1e1b7fec",
   "metadata": {},
   "source": [
    "Looking at the first target variable, y, we see that it is remarkably imbalanced with over 25,000 \"no\" responses and less than 5,000 \"yes\" responses. While we could balance the target variable to even out the responses, we felt that increasing the \"yes\" answers would bias the outcomes of the models. Since the \"no\" responses are real we chose not to balance the variable in order to obtain more realistic models."
   ]
  },
  {
   "cell_type": "code",
   "execution_count": 5,
   "id": "e5bd655a",
   "metadata": {},
   "outputs": [
    {
     "name": "stdout",
     "output_type": "stream",
     "text": [
      "Percentages for  Y  : \n",
      "      Counts  Percent of Total\n",
      "no    23264          0.900449\n",
      "yes    2572          0.099551 \n",
      "\n",
      "\n"
     ]
    },
    {
     "data": {
      "text/plain": [
       "<seaborn.axisgrid.FacetGrid at 0x7fb03bba11f0>"
      ]
     },
     "execution_count": 5,
     "metadata": {},
     "output_type": "execute_result"
    },
    {
     "data": {
      "image/png": "[encoded data removed]",
      "text/plain": [
       "<Figure size 360x360 with 1 Axes>"
      ]
     },
     "metadata": {
      "needs_background": "light"
     },
     "output_type": "display_data"
    }
   ],
   "source": [
    "print(\"Percentages for \",'Y',\" : \\n\",getCP(bankData2['y']),\"\\n\\n\")\n",
    "sns.catplot(x='y', data = bankData2, kind = 'count')"
   ]
  },
  {
   "cell_type": "markdown",
   "id": "2cc0c1c4",
   "metadata": {},
   "source": [
    "Our second target variable, education, consists of seven levels: illiterate, basic 4, 6, and 9 years, highschool, university degree, and professional course. We noted that the majority of customers had a university degree (34%), followed by highschool (25%). The basic 9 year (14%) and professional course (14.1%) were fairly close followed by basic 4 year (8%) and then basic 6 year (5%). The illiterate level was 0.0004%. Since the differences were slightly imbalanced, especially true for the 'illiterate' level, we chose to divide this variable into 'College or Above' and 'Below College' in order to make it binary and to even out the responses *(code shown in Part 2)*. As shown in the figure below, this created roughly equal levels in the variable. \n"
   ]
  },
  {
   "cell_type": "code",
   "execution_count": 6,
   "id": "4887f140",
   "metadata": {},
   "outputs": [
    {
     "name": "stdout",
     "output_type": "stream",
     "text": [
      "The following is a breakdown of the class counts of the Education Variable:\n",
      "\n",
      " university.degree      8777\n",
      "high.school            6458\n",
      "professional.course    3699\n",
      "basic.9y               3682\n",
      "basic.4y               2008\n",
      "basic.6y               1202\n",
      "illiterate               10\n",
      "Name: education, dtype: int64\n"
     ]
    },
    {
     "data": {
      "text/plain": [
       "<seaborn.axisgrid.FacetGrid at 0x7fb03bba53d0>"
      ]
     },
     "execution_count": 6,
     "metadata": {},
     "output_type": "execute_result"
    },
    {
     "data": {
      "image/png": "[encoded data removed]",
      "text/plain": [
       "<Figure size 713.035x504 with 1 Axes>"
      ]
     },
     "metadata": {},
     "output_type": "display_data"
    }
   ],
   "source": [
    "print(\"The following is a breakdown of the class counts of the Education Variable:\\n\\n\",bankData2.education.value_counts())\n",
    "sns.set(rc={'figure.figsize':(11.7,8.27)})\n",
    "sns.catplot(x='education', data = bankData2, kind = 'count', height=7, aspect=11.7/8.27)"
   ]
  },
  {
   "cell_type": "markdown",
   "id": "6672317a",
   "metadata": {},
   "source": [
    "The code below returns the counts and percentages of each level in the categorical variables. For jobs, most customers are in admin (28%) followed by blue-collar (19%) and technician (18%). The marital status for the majority of customers is married (57%), followed by single (31%), and divorced (12%). There were more customers with university degrees (34%) than all other levels of education, while the those customers who had housing loans (54%) were close to those without housing loans (46%).\n",
    "\n",
    "From looking at the loan variable, we noted that only 16% of customers had taken out a personal loan, and from the contact variable we saw that the majority of customers used cellphones (67%) over telephones.\n",
    "\n",
    "Interestingly, significantly more customers were contacted in the month of May (32%) than any other month, though we cannot make any inferences about why this would be the case since it is likely due to the bank's protocols. The day of the week did not appear to have any influence on customer count, while the variable for outcome of the previous marketing campaign, poutcome, did show that the majority of customers had nonexistent outcomes (85%).\n"
   ]
  },
  {
   "cell_type": "code",
   "execution_count": 7,
   "id": "7d85f5d6",
   "metadata": {},
   "outputs": [],
   "source": [
    "# #Uncomment this code to see breakdowns of the variables in terms of class distribution\n",
    "# for i in catCol:\n",
    "#     print(\"Percentages for \",i,\" : \\n\",getCP(bankData2[i]),\"\\n\\n\")"
   ]
  },
  {
   "cell_type": "markdown",
   "id": "ee28989c",
   "metadata": {},
   "source": [
    "We performed one hot encoding on the categorical variables and stored the resulting dataset as a separate dataset before concatenating it with the continuous variables from the cleaned dataset.\n",
    "\n",
    "The next step was to normalize and finalize preparing the dataset. We used SciKit's StandardScaler, which would fix any non-Gaussian curves to center around zero and force all standard deviations to one.\n",
    "\n",
    "https://scikit-learn.org/stable/modules/generated/sklearn.preprocessing.StandardScaler.html"
   ]
  },
  {
   "cell_type": "code",
   "execution_count": 8,
   "id": "f4f27f28",
   "metadata": {
    "scrolled": false
   },
   "outputs": [
    {
     "data": {
      "text/html": [
       "<div>\n",
       "<style scoped>\n",
       "    .dataframe tbody tr th:only-of-type {\n",
       "        vertical-align: middle;\n",
       "    }\n",
       "\n",
       "    .dataframe tbody tr th {\n",
       "        vertical-align: top;\n",
       "    }\n",
       "\n",
       "    .dataframe thead th {\n",
       "        text-align: right;\n",
       "    }\n",
       "</style>\n",
       "<table border=\"1\" class=\"dataframe\">\n",
       "  <thead>\n",
       "    <tr style=\"text-align: right;\">\n",
       "      <th></th>\n",
       "      <th>age</th>\n",
       "      <th>campaign</th>\n",
       "      <th>previous</th>\n",
       "      <th>emp.var.rate</th>\n",
       "      <th>cons.price.idx</th>\n",
       "      <th>cons.conf.idx</th>\n",
       "      <th>euribor3m</th>\n",
       "      <th>nr.employed</th>\n",
       "      <th>job_admin.</th>\n",
       "      <th>job_blue-collar</th>\n",
       "      <th>...</th>\n",
       "      <th>month_mar</th>\n",
       "      <th>month_may</th>\n",
       "      <th>month_nov</th>\n",
       "      <th>month_oct</th>\n",
       "      <th>month_sep</th>\n",
       "      <th>day_of_week_fri</th>\n",
       "      <th>day_of_week_mon</th>\n",
       "      <th>day_of_week_thu</th>\n",
       "      <th>day_of_week_tue</th>\n",
       "      <th>day_of_week_wed</th>\n",
       "    </tr>\n",
       "  </thead>\n",
       "  <tbody>\n",
       "    <tr>\n",
       "      <th>0</th>\n",
       "      <td>1.732361</td>\n",
       "      <td>-0.563842</td>\n",
       "      <td>0.0</td>\n",
       "      <td>0.569786</td>\n",
       "      <td>0.720204</td>\n",
       "      <td>0.908892</td>\n",
       "      <td>0.634395</td>\n",
       "      <td>0.226194</td>\n",
       "      <td>0</td>\n",
       "      <td>0</td>\n",
       "      <td>...</td>\n",
       "      <td>0</td>\n",
       "      <td>1</td>\n",
       "      <td>0</td>\n",
       "      <td>0</td>\n",
       "      <td>0</td>\n",
       "      <td>0</td>\n",
       "      <td>1</td>\n",
       "      <td>0</td>\n",
       "      <td>0</td>\n",
       "      <td>0</td>\n",
       "    </tr>\n",
       "    <tr>\n",
       "      <th>1</th>\n",
       "      <td>-0.185987</td>\n",
       "      <td>-0.563842</td>\n",
       "      <td>0.0</td>\n",
       "      <td>0.569786</td>\n",
       "      <td>0.720204</td>\n",
       "      <td>0.908892</td>\n",
       "      <td>0.634395</td>\n",
       "      <td>0.226194</td>\n",
       "      <td>0</td>\n",
       "      <td>0</td>\n",
       "      <td>...</td>\n",
       "      <td>0</td>\n",
       "      <td>1</td>\n",
       "      <td>0</td>\n",
       "      <td>0</td>\n",
       "      <td>0</td>\n",
       "      <td>0</td>\n",
       "      <td>1</td>\n",
       "      <td>0</td>\n",
       "      <td>0</td>\n",
       "      <td>0</td>\n",
       "    </tr>\n",
       "    <tr>\n",
       "      <th>2</th>\n",
       "      <td>0.116910</td>\n",
       "      <td>-0.563842</td>\n",
       "      <td>0.0</td>\n",
       "      <td>0.569786</td>\n",
       "      <td>0.720204</td>\n",
       "      <td>0.908892</td>\n",
       "      <td>0.634395</td>\n",
       "      <td>0.226194</td>\n",
       "      <td>1</td>\n",
       "      <td>0</td>\n",
       "      <td>...</td>\n",
       "      <td>0</td>\n",
       "      <td>1</td>\n",
       "      <td>0</td>\n",
       "      <td>0</td>\n",
       "      <td>0</td>\n",
       "      <td>0</td>\n",
       "      <td>1</td>\n",
       "      <td>0</td>\n",
       "      <td>0</td>\n",
       "      <td>0</td>\n",
       "    </tr>\n",
       "    <tr>\n",
       "      <th>3</th>\n",
       "      <td>1.732361</td>\n",
       "      <td>-0.563842</td>\n",
       "      <td>0.0</td>\n",
       "      <td>0.569786</td>\n",
       "      <td>0.720204</td>\n",
       "      <td>0.908892</td>\n",
       "      <td>0.634395</td>\n",
       "      <td>0.226194</td>\n",
       "      <td>0</td>\n",
       "      <td>0</td>\n",
       "      <td>...</td>\n",
       "      <td>0</td>\n",
       "      <td>1</td>\n",
       "      <td>0</td>\n",
       "      <td>0</td>\n",
       "      <td>0</td>\n",
       "      <td>0</td>\n",
       "      <td>1</td>\n",
       "      <td>0</td>\n",
       "      <td>0</td>\n",
       "      <td>0</td>\n",
       "    </tr>\n",
       "    <tr>\n",
       "      <th>4</th>\n",
       "      <td>2.035258</td>\n",
       "      <td>-0.563842</td>\n",
       "      <td>0.0</td>\n",
       "      <td>0.569786</td>\n",
       "      <td>0.720204</td>\n",
       "      <td>0.908892</td>\n",
       "      <td>0.634395</td>\n",
       "      <td>0.226194</td>\n",
       "      <td>1</td>\n",
       "      <td>0</td>\n",
       "      <td>...</td>\n",
       "      <td>0</td>\n",
       "      <td>1</td>\n",
       "      <td>0</td>\n",
       "      <td>0</td>\n",
       "      <td>0</td>\n",
       "      <td>0</td>\n",
       "      <td>1</td>\n",
       "      <td>0</td>\n",
       "      <td>0</td>\n",
       "      <td>0</td>\n",
       "    </tr>\n",
       "  </tbody>\n",
       "</table>\n",
       "<p>5 rows × 50 columns</p>\n",
       "</div>"
      ],
      "text/plain": [
       "        age  campaign  previous  emp.var.rate  cons.price.idx  cons.conf.idx  \\\n",
       "0  1.732361 -0.563842       0.0      0.569786        0.720204       0.908892   \n",
       "1 -0.185987 -0.563842       0.0      0.569786        0.720204       0.908892   \n",
       "2  0.116910 -0.563842       0.0      0.569786        0.720204       0.908892   \n",
       "3  1.732361 -0.563842       0.0      0.569786        0.720204       0.908892   \n",
       "4  2.035258 -0.563842       0.0      0.569786        0.720204       0.908892   \n",
       "\n",
       "   euribor3m  nr.employed  job_admin.  job_blue-collar  ...  month_mar  \\\n",
       "0   0.634395     0.226194           0                0  ...          0   \n",
       "1   0.634395     0.226194           0                0  ...          0   \n",
       "2   0.634395     0.226194           1                0  ...          0   \n",
       "3   0.634395     0.226194           0                0  ...          0   \n",
       "4   0.634395     0.226194           1                0  ...          0   \n",
       "\n",
       "   month_may  month_nov  month_oct  month_sep  day_of_week_fri  \\\n",
       "0          1          0          0          0                0   \n",
       "1          1          0          0          0                0   \n",
       "2          1          0          0          0                0   \n",
       "3          1          0          0          0                0   \n",
       "4          1          0          0          0                0   \n",
       "\n",
       "   day_of_week_mon  day_of_week_thu  day_of_week_tue  day_of_week_wed  \n",
       "0                1                0                0                0  \n",
       "1                1                0                0                0  \n",
       "2                1                0                0                0  \n",
       "3                1                0                0                0  \n",
       "4                1                0                0                0  \n",
       "\n",
       "[5 rows x 50 columns]"
      ]
     },
     "execution_count": 8,
     "metadata": {},
     "output_type": "execute_result"
    }
   ],
   "source": [
    "#Declaring Scalar object\n",
    "scl_obj = StandardScaler()\n",
    "\n",
    "#One hot encoding of ALL categorical variables\n",
    "OneHotDF = pd.get_dummies(bankData2[catCol],drop_first=False)\n",
    "\n",
    "#Scaling non-encoded data\n",
    "conVar = bankData2.select_dtypes(exclude='object')\n",
    "colnames = pd.Series(conVar.columns)\n",
    "conVarScaled = scl_obj.fit_transform(conVar)\n",
    "conVarScaled = pd.DataFrame(data = conVarScaled, columns= colnames)\n",
    "\n",
    "#Combining with continuous variables from cleaned dataset\n",
    "OneHotDF = OneHotDF.reset_index()\n",
    "OneHotDF.pop('index')\n",
    "OneHotDF = pd.concat([conVarScaled,OneHotDF], axis = 1)\n",
    "OneHotDF.head()\n",
    "\n",
    "#https://github.com/jakemdrew/DataMiningNotebooks/blob/master/01.%20Pandas.ipynb"
   ]
  },
  {
   "cell_type": "markdown",
   "id": "1de9a93d",
   "metadata": {},
   "source": [
    "As stated in Part 1, the second target variable, 'education', had seven levels and we chose to convert it into a binary variable with two levels: 'College and Above', which included those customers with a university degree or professional experience, and 'Below College', which included those customers with a highschool diploma or less.\n",
    "\n",
    "After dividing the education variable, we one hot encoded it to contain numeric entries only."
   ]
  },
  {
   "cell_type": "code",
   "execution_count": 9,
   "id": "b99ec98a",
   "metadata": {},
   "outputs": [
    {
     "name": "stdout",
     "output_type": "stream",
     "text": [
      "                  Counts  Percent of Total\n",
      "Below College      13360          0.517108\n",
      "College or Above   12476          0.482892\n"
     ]
    }
   ],
   "source": [
    "with warnings.catch_warnings(record=True):\n",
    "    # Creating separate dataset for predicting education\n",
    "    educData = bankData2\n",
    "\n",
    "    # Converting target to binary: 0 for below college education, 1 for above or =\n",
    "    educTarget = educData.education\n",
    "    educTarget.loc[educTarget=='university.degree'] = 'College or Above'\n",
    "    educTarget.loc[educTarget=='professional.course'] = 'College or Above'\n",
    "    educTarget.loc[educTarget != 'College or Above'] = 'Below College'\n",
    "    print(getCP(educTarget))\n",
    "\n",
    "    educData = educData.drop(columns='education')\n",
    "\n",
    "    catCol = ['job', 'marital', 'housing', 'loan', \n",
    "              'contact', 'month', 'day_of_week','y']\n",
    "\n",
    "    oneHotEduc = pd.get_dummies(educData[catCol],drop_first=False)\n",
    "    oneHotEduc = oneHotEduc.reset_index()\n",
    "    oneHotEduc = pd.concat([conVarScaled,oneHotEduc], axis = 1)\n",
    "    oneHotEduc.head()\n"
   ]
  },
  {
   "cell_type": "markdown",
   "id": "2c21f6c2",
   "metadata": {},
   "source": [
    "### Part 2\n",
    "\n",
    "***Describe the final dataset that is used for classification/regression (include a description of any newly formed variables you created).***"
   ]
  },
  {
   "cell_type": "markdown",
   "id": "5b1f7261",
   "metadata": {},
   "source": [
    "As previously stated, the final and cleaned dataset we used had all rows with missing data removed removed mainly because the large size of the original data set allowed us to do so while maintaining the assignment's requirements. This meant that rather than trying to impute categorical variables, we could simply remove those rows while still meeting our instance size requirements. In addition, we removed four columns: 'duration', 'default', 'pdays', and 'poutcome' because they were either heavily imbalanced skewed with negative responses towards the campaign.\n",
    "\n",
    "After the missing instances and unnecessary variables were removed, we one hot encoded the categorical features so that we could work with only numeric features. This format is required for certain modeling algorithms that we planned to utilize for the analysis.\n",
    "\n",
    "Next, the data set was converted from a data frame to a list format. This was done in order to satisfy the cross validation training algorithim that requires this type of data input.\n",
    "\n",
    "Finally, the numeric and list formatted data set was scaled which is required for many classifiers including, but not limited to, random forest and k-nearest neighbors."
   ]
  },
  {
   "cell_type": "markdown",
   "id": "4dd0422c",
   "metadata": {},
   "source": [
    "## Modeling and Evaluation"
   ]
  },
  {
   "cell_type": "markdown",
   "id": "2602296d",
   "metadata": {},
   "source": [
    "### Part 1\n",
    "\n",
    "***Choose and explain your evaluation metrics that you will use (i.e., accuracy,\n",
    "precision, recall, F-measure, or any metric we have discussed). Why are the measure(s) appropriate for analyzing the results of your modeling? Give a detailed explanation backing up any assertions.***"
   ]
  },
  {
   "cell_type": "markdown",
   "id": "357065e2",
   "metadata": {},
   "source": [
    "For the goal of predicting the target variable, 'y', we chose to focus on precision because our goal was to minimize the number of false positives which, in turn, meant minimizing the potential loss of funds spent towards marketing. This last point is especially important because we would not want to direct a client to waste resources on customers who we predict will say \"yes\" to a loan when they will actually just say \"no\". Alternatively, if the marketing budget of a client was not a concern, focusing on recall would maximize potential customers saying \"yes\". In short, precision focuses on those customers who are most likely to choose \"yes\" to a term deposit, while recall focuses on maximizing potential returns. The reason why we chose precision over accuracy for this goal was because, as we previously showed, our target variable is imbalanced with approximately 87% \"no\" responses which infers that the accuracy of the model would be high but would also be biased towards over-predicting \"no\" responses.\n",
    "\n",
    "For the goal of predicting the level of education a customer has that will make them more likely to say \"yes\" to a loan we chose to use accuracy. Our reasoning for using accuracy was that the target variable in this case, education, was balanced due to our dividing the levels into \"College or Above\" and \"Below College\". Since we did not have to worry about an imbalanced target variable we chose accuracy because we wanted to know the percentage of correct predictions.\n"
   ]
  },
  {
   "cell_type": "markdown",
   "id": "bf7a6dde",
   "metadata": {},
   "source": [
    "### Part 2\n",
    "\n",
    "***Choose the method you will use for dividing your data into training and\n",
    "testing splits (i.e., are you using Stratified 10-fold cross validation? Why?). Explain why\n",
    "your chosen method is appropriate or use more than one method as appropriate. For example, if you are using time series data then you should be using continuous training and testing sets across time.***"
   ]
  },
  {
   "cell_type": "markdown",
   "id": "baaf353d",
   "metadata": {},
   "source": [
    "An important aspect of choosing our method for the training/testing split was to analyze the distribution of our target variable. We did so by comparing the number of responses of each level within the target variable."
   ]
  },
  {
   "cell_type": "code",
   "execution_count": 10,
   "id": "f0b93d87",
   "metadata": {},
   "outputs": [
    {
     "name": "stdout",
     "output_type": "stream",
     "text": [
      "Percentages for Target variable, Y: \n",
      "\n",
      "      Counts  Percent of Total\n",
      "no    23264          0.900449\n",
      "yes    2572          0.099551 \n",
      "\n",
      "\n"
     ]
    }
   ],
   "source": [
    "def getCP(column):\n",
    "    xCount = column.value_counts()\n",
    "    xPercentages = xCount/len(column)\n",
    "    outData = pd.DataFrame()\n",
    "    outData['Counts'] = xCount\n",
    "    outData['Percent of Total'] = xPercentages\n",
    "    return outData\n",
    "\n",
    "print(\"Percentages for Target variable, Y: \\n\\n\",getCP(bankData2['y']),\"\\n\\n\")"
   ]
  },
  {
   "cell_type": "markdown",
   "id": "86757e2e",
   "metadata": {},
   "source": [
    "As stated in Part 1, the second target variable, 'education', had seven levels and we chose to convert it into a binary variable with two levels: \"College and Above\", which included those customers with a university degree or professional experience, and \"Below College\", which included those customers with a highschool diploma or less.\n",
    "\n",
    "After dividing the education variable, we one hot encoded it to contain numeric entries only."
   ]
  },
  {
   "cell_type": "code",
   "execution_count": 10,
   "id": "ec9def30",
   "metadata": {},
   "outputs": [
    {
     "name": "stdout",
     "output_type": "stream",
     "text": [
      "                  Counts  Percent of Total\n",
      "Below College      13360          0.517108\n",
      "College or Above   12476          0.482892\n"
     ]
    }
   ],
   "source": [
    "with warnings.catch_warnings(record=True):\n",
    "    # Creating separate dataset for predicting education\n",
    "    educData = bankData2\n",
    "\n",
    "    # Converting target to binary: 0 for below college education, 1 for above or =\n",
    "    educTarget = educData.education\n",
    "    educTarget.loc[educTarget=='university.degree'] = 'College or Above'\n",
    "    educTarget.loc[educTarget=='professional.course'] = 'College or Above'\n",
    "    educTarget.loc[educTarget != 'College or Above'] = 'Below College'\n",
    "    print(getCP(educTarget))\n",
    "\n",
    "    educData = educData.drop(columns='education')\n",
    "\n",
    "    catCol = ['job', 'marital', 'housing', 'loan', \n",
    "              'contact', 'month', 'day_of_week','y']\n",
    "\n",
    "    oneHotEduc = pd.get_dummies(educData[catCol],drop_first=False)\n",
    "    oneHotEduc = oneHotEduc.reset_index()\n",
    "    oneHotEduc = pd.concat([conVarScaled,oneHotEduc], axis = 1)\n",
    "    oneHotEduc.head()\n"
   ]
  },
  {
   "cell_type": "markdown",
   "id": "21d7973c",
   "metadata": {},
   "source": [
    "The loop below sequentially trains and tests models for k-NN (neighbors = 5), random forest, and XGBoost. The plot below shows the results of the models via precision."
   ]
  },
  {
   "cell_type": "code",
   "execution_count": 11,
   "id": "c4a7185a",
   "metadata": {
    "scrolled": false
   },
   "outputs": [
    {
     "name": "stdout",
     "output_type": "stream",
     "text": [
      "k-NN Mean Precision:  0.40524310380829026 \n",
      "Random Forest Mean Precision:  0.4238559308254228 \n",
      "XGBoost Mean Precision:  0.47480684923819794\n",
      "CPU times: user 2min 36s, sys: 5.29 s, total: 2min 42s\n",
      "Wall time: 45.8 s\n"
     ]
    },
    {
     "data": {
      "image/png": "[encoded data removed]",
      "text/plain": [
       "<Figure size 842.4x595.44 with 1 Axes>"
      ]
     },
     "metadata": {},
     "output_type": "display_data"
    }
   ],
   "source": [
    "%%time\n",
    "\n",
    "#Separating X values\n",
    "x = OneHotDF\n",
    "xVal = x.values\n",
    "\n",
    "#Setting Parameters\n",
    "randomState = 777\n",
    "splits = 10\n",
    "neighbors = 5\n",
    "\n",
    "#Declaring CV object\n",
    "cvStrat = StratifiedKFold(n_splits= splits, shuffle = True, random_state = randomState)\n",
    "\n",
    "#Setting up basic models\n",
    "knn = KNeighborsClassifier(n_neighbors = neighbors)\n",
    "rf = RandomForestClassifier(random_state=randomState)\n",
    "xgb = XGBClassifier(random_state=randomState, eval_metric='logloss')\n",
    "\n",
    "#Separating target variable\n",
    "y = bankData2['y']\n",
    "y = y.ravel()\n",
    "\n",
    "#Creating lists to store accuracy scores\n",
    "knnAccs = []\n",
    "rfAccs = []\n",
    "xgbAccs = []\n",
    "\n",
    "#Designating labels\n",
    "labels = ['no', 'yes']\n",
    "\n",
    "for trainIndices, testIndices in cvStrat.split(xVal,y): \n",
    "    \n",
    "    #Term Subscription Prediction Testing/Training Splits\n",
    "    xTrain = xVal[trainIndices]\n",
    "    yTrain = y[trainIndices]\n",
    "    yTrainBin = yTrain\n",
    "    yTrainBin = (yTrainBin=='yes').astype(int)\n",
    "    \n",
    "    xTest = xVal[testIndices]\n",
    "    yTest = y[testIndices]\n",
    "    yTestBin = yTest\n",
    "    yTestBin = (yTestBin=='yes').astype(int)\n",
    "    \n",
    "    #Scaled KNN training\n",
    "    knn.fit(xTrain, yTrain) \n",
    "    yHatKnn = knn.predict(xTest)\n",
    "    knnAccs.append(mt.precision_score(yTest,yHatKnn,pos_label='yes'))\n",
    "    \n",
    "    #Scaled XGBoost training\n",
    "    xgb.fit(xTrain, yTrainBin)\n",
    "    yHatXgb = xgb.predict(xTest)\n",
    "    xgbAccs.append(mt.precision_score(yTestBin, yHatXgb, pos_label=1))\n",
    "    \n",
    "    #Scaled Random Forrest Training\n",
    "    rf.fit(xTrain, yTrainBin)\n",
    "    yhat = rf.predict(xTest)\n",
    "    rfAccs.append(mt.precision_score(yTestBin, yhat, pos_label=1))\n",
    "\n",
    "    \n",
    "with warnings.catch_warnings(record=True):\n",
    "    print(\"k-NN Mean Precision: \", pd.Series(knnAccs).mean(),\n",
    "          \"\\nRandom Forest Mean Precision: \", pd.Series(rfAccs).mean(),\n",
    "          \"\\nXGBoost Mean Precision: \", pd.Series(xgbAccs).mean()\n",
    "         )\n",
    "    normalPlot = plt.figure(1)\n",
    "    \n",
    "    knnAccs = pd.Series(data = knnAccs)\n",
    "    knnAccs.plot()\n",
    "    \n",
    "    rfAccs = pd.Series(data = rfAccs)\n",
    "    rfAccs.plot()\n",
    "    \n",
    "    xgbAccs = pd.Series(data = xgbAccs)\n",
    "    xgbAccs.plot()\n",
    "    \n",
    "    plt.xticks(np.arange(0, splits, 1))\n",
    "    plt.title(\"Precision of Different Models\")\n",
    "    plt.legend(loc=\"upper left\", labels = ['k-NN', 'Random Forest','XGBoost'], prop={'size': 15})\n",
    "    \n",
    "    normalPlot.show()"
   ]
  },
  {
   "cell_type": "markdown",
   "id": "ac3e6176",
   "metadata": {},
   "source": [
    "The figure above showed that precision for the XGBoost was consistently higher with a mean of 48% while the random forest model had a mean of 41% which was slightly higher than the mean precision of the k-NN model at 42%. This indicates that the XGBoost model performed better than the alternatives, though the precision was still less than 50% which infers that the model is producing an increased number of false positives. We worked to increase precision and decrease the number of false positives later on. \n",
    "\n",
    "The following code is a function for creating confusion matrices and printing performance metrics."
   ]
  },
  {
   "cell_type": "code",
   "execution_count": 12,
   "id": "a0cfb5a2",
   "metadata": {},
   "outputs": [],
   "source": [
    "## setting up function to create confusion matrix\n",
    "def make_confusion_matrix(model,y_actual, x_test, labels=[1, 0], noLabel = \"No\", yesLabel = \"Yes\"):\n",
    "    '''\n",
    "    model : classifier to predict values of X\n",
    "    y_actual : ground truth  \n",
    "    \n",
    "    '''\n",
    "    \n",
    "    actualNegative = \"Actual -\" + noLabel\n",
    "    actualPositive = \"Actual -\" + yesLabel\n",
    "    predictedNegative = \"Predicted -\" + noLabel\n",
    "    predictedPositive = \"Predicted -\" + yesLabel\n",
    "    \n",
    "    y_predict = model.predict(x_test)\n",
    "    cm=mt.confusion_matrix( y_actual, y_predict, labels=labels)\n",
    "    df_cm = pd.DataFrame(cm, index = [i for i in [actualNegative,actualPositive]],\n",
    "                  columns = [i for i in [predictedNegative,predictedPositive]])\n",
    "    group_counts = [\"{0:0.0f}\".format(value) for value in\n",
    "                cm.flatten()]\n",
    "    group_percentages = [\"{0:.2%}\".format(value) for value in\n",
    "                         cm.flatten()/np.sum(cm)]\n",
    "    labels = [f\"{v1}\\n{v2}\" for v1, v2 in\n",
    "              zip(group_counts,group_percentages)]\n",
    "    labels = np.asarray(labels).reshape(2,2)\n",
    "    plt.figure(figsize = (10,7))\n",
    "    sns.heatmap(df_cm, annot=labels,fmt='')\n",
    "    plt.ylabel('True label')\n",
    "    plt.xlabel('Predicted label')\n",
    "\n",
    "#Function for generating metric scores\n",
    "def get_metrics_score(model,flag=True, xTrainSet = xTrain, yTrainSet = yTrain, xTestSet = xTest, yTestSet = yTest, yesLabel = 'yes'):    #model : classifier to predict values of X\n",
    "    \n",
    "    # defining an empty list to store train and test results\n",
    "    score_list=[]\n",
    "    \n",
    "    #Predicting on train and tests\n",
    "    pred_train = model.predict(xTrainSet)\n",
    "    pred_test = model.predict(xTestSet)\n",
    "    \n",
    "    #Accuracy of the model\n",
    "    train_acc = model.score(xTrainSet,yTrainSet)\n",
    "    test_acc = model.score(xTestSet,yTestSet)\n",
    "    \n",
    "    #Recall of the model\n",
    "    train_recall = mt.recall_score(yTrainSet,pred_train,pos_label=yesLabel)\n",
    "    test_recall = mt.recall_score(yTestSet,pred_test,pos_label=yesLabel)\n",
    "    \n",
    "    #Precision of the model\n",
    "    train_precision = mt.precision_score(yTrainSet,pred_train,pos_label=yesLabel)\n",
    "    test_precision = mt.precision_score(yTestSet,pred_test,pos_label=yesLabel)\n",
    "\n",
    "    \n",
    "    score_list.extend((train_acc,test_acc,train_recall,test_recall,train_precision,test_precision))\n",
    "        \n",
    "    # If the flag is set to True then only the following print statements will be dispayed. The default value is set to True.\n",
    "    if flag == True:\n",
    "        print(\"Accuracy on training set : \",model.score(xTrainSet,yTrainSet))\n",
    "        print(\"Accuracy on test set : \",model.score(xTestSet,yTestSet))\n",
    "        print(\"\\nRecall on training set : \",mt.recall_score(yTrainSet,pred_train,pos_label=yesLabel))\n",
    "        print(\"Recall on test set : \",mt.recall_score(yTestSet,pred_test,pos_label=yesLabel))\n",
    "        print(\"\\nPrecision on training set : \",mt.precision_score(yTrainSet,pred_train,pos_label=yesLabel))\n",
    "        print(\"Precision on test set : \",mt.precision_score(yTestSet,pred_test,pos_label=yesLabel))\n",
    "    \n",
    "    return score_list # returning the list with train and test scores"
   ]
  },
  {
   "cell_type": "markdown",
   "id": "aeef7d17",
   "metadata": {},
   "source": [
    "We used the same loop that was created for analyzing the first target variable 'y' to analyze the the second target variable, 'education'."
   ]
  },
  {
   "cell_type": "code",
   "execution_count": 13,
   "id": "38a4c4f3",
   "metadata": {},
   "outputs": [
    {
     "name": "stdout",
     "output_type": "stream",
     "text": [
      "k-NN Mean Accuracy:  0.5737740753126239 \n",
      "Random Forest Mean Accuracy:  0.7699337415753635 \n",
      "XGBoost Mean Accuracy:  0.7695470593029682\n",
      "CPU times: user 2min 41s, sys: 5.45 s, total: 2min 46s\n",
      "Wall time: 51.3 s\n"
     ]
    },
    {
     "data": {
      "image/png": "[encoded data removed]",
      "text/plain": [
       "<Figure size 842.4x595.44 with 1 Axes>"
      ]
     },
     "metadata": {},
     "output_type": "display_data"
    }
   ],
   "source": [
    "%%time\n",
    "educVal = oneHotEduc.values\n",
    "educY = educTarget.ravel()\n",
    "\n",
    "#Creating lists to store accuracy scores\n",
    "knnAccs = []\n",
    "rfAccs = []\n",
    "xgbAccs = []\n",
    "\n",
    "#Creating Models for Multiclass\n",
    "knn = KNeighborsClassifier(n_neighbors = neighbors)\n",
    "rf = RandomForestClassifier(random_state=randomState)\n",
    "xgb = XGBClassifier(random_state=randomState, eval_metric='logloss')\n",
    "\n",
    "for trainIndices, testIndices in cvStrat.split(educVal,educY):     \n",
    "    #Education Prediction Testing/Training Splits\n",
    "    educXTrain = educVal[trainIndices]\n",
    "    educXTest = educVal[testIndices]\n",
    "\n",
    "    educYTrain = educY[trainIndices]\n",
    "    educYTest = educY[testIndices]\n",
    "    educYTrainBin = pd.get_dummies(educYTrain).values.argmax(1)\n",
    "    educYTestBin = pd.get_dummies(educYTest).values.argmax(1)\n",
    "    \n",
    "    #k-NN training\n",
    "    knn.fit(educXTrain, educYTrain) \n",
    "    yHatKnn = knn.predict(educXTest)\n",
    "    knnAccs.append(mt.accuracy_score(educYTest,yHatKnn))\n",
    "    \n",
    "    #XGBoost training\n",
    "    xgb.fit(educXTrain, educYTrainBin)\n",
    "    yHatXgb = xgb.predict(educXTest)\n",
    "    xgbAccs.append(mt.accuracy_score(educYTestBin, yHatXgb))\n",
    "    \n",
    "    #Random Forrest Training\n",
    "    rf.fit(educXTrain, educYTrainBin)\n",
    "    rfAccs.append(rf.score(educXTest, educYTestBin))\n",
    "    \n",
    "with warnings.catch_warnings(record=True):\n",
    "    print(\"k-NN Mean Accuracy: \", pd.Series(knnAccs).mean(),\n",
    "          \"\\nRandom Forest Mean Accuracy: \", pd.Series(rfAccs).mean(),\n",
    "          \"\\nXGBoost Mean Accuracy: \", pd.Series(xgbAccs).mean()\n",
    "         )\n",
    "    \n",
    "    normalPlot = plt.figure(1)\n",
    "    \n",
    "    knnAccs = pd.Series(data = knnAccs)\n",
    "    knnAccs.plot()\n",
    "    \n",
    "    rfAccs = pd.Series(data = rfAccs)\n",
    "    rfAccs.plot()\n",
    "    \n",
    "    xgbAccs = pd.Series(data = xgbAccs)\n",
    "    xgbAccs.plot()\n",
    "    \n",
    "    plt.xticks(np.arange(0, splits, 1))\n",
    "    plt.title(\"Accuracy of Different Models\")\n",
    "    plt.legend(loc=\"upper left\", labels = ['k-NN', 'Random Forest','XGBoost'], prop={'size': 15})\n",
    "    \n",
    "    normalPlot.show()"
   ]
  },
  {
   "cell_type": "markdown",
   "id": "8e39253d",
   "metadata": {},
   "source": [
    "By analyzing the mean accuracies of the models created to evaluate the 'education' variable, we saw that random forest and XGBoost had, essentially, the same accuracy of 77%. These models performed significantly better than the k-NN model which had an accuracy of 57%. "
   ]
  },
  {
   "cell_type": "markdown",
   "id": "6411803d",
   "metadata": {},
   "source": [
    "### Part 3\n",
    "\n",
    "***Create three different classification/regression models for each task (e.g., random forest, KNN, and SVM for task one and the same or different algorithms for task two). Two modeling techniques must be new (but the third could be SVM or logistic regression). Adjust parameters as appropriate to increase generalization performance using your chosen metric. You must investigate different parameters of the algorithms!***"
   ]
  },
  {
   "cell_type": "markdown",
   "id": "c6ef86ee",
   "metadata": {},
   "source": [
    "#### Random Forest: Term Deposit"
   ]
  },
  {
   "cell_type": "markdown",
   "id": "d465e382",
   "metadata": {},
   "source": [
    "The baseline random forest model for predicting the first target variable 'y' (term deposit) showed that the model was overfit based on the training set precision value of 98%. When the test samples were applied to the model the precision dropped to 44%, confirming that the model was overfit. The next step was to hypertune the model and attempt to address the overfitting issue."
   ]
  },
  {
   "cell_type": "code",
   "execution_count": 14,
   "id": "cf5534cb",
   "metadata": {
    "scrolled": false
   },
   "outputs": [
    {
     "data": {
      "text/plain": [
       "RandomForestClassifier(random_state=10)"
      ]
     },
     "execution_count": 14,
     "metadata": {},
     "output_type": "execute_result"
    }
   ],
   "source": [
    "# Baseline Model with no Tuning\n",
    "rf=RandomForestClassifier(random_state=10)\n",
    "rf.fit(xTrain, yTrainBin)"
   ]
  },
  {
   "cell_type": "code",
   "execution_count": 15,
   "id": "1f6faed4",
   "metadata": {},
   "outputs": [
    {
     "data": {
      "image/png": "[encoded data removed]",
      "text/plain": [
       "<Figure size 720x504 with 2 Axes>"
      ]
     },
     "metadata": {},
     "output_type": "display_data"
    }
   ],
   "source": [
    "make_confusion_matrix(rf,yTestBin,xTest,labels=[0,1])"
   ]
  },
  {
   "cell_type": "code",
   "execution_count": 16,
   "id": "22e95fa7",
   "metadata": {
    "scrolled": true
   },
   "outputs": [
    {
     "name": "stdout",
     "output_type": "stream",
     "text": [
      "Accuracy on training set :  0.9925170945684428\n",
      "Accuracy on test set :  0.8958575300038715\n",
      "\n",
      "Recall on training set :  0.9421166306695464\n",
      "Recall on test set :  0.16342412451361868\n",
      "\n",
      "Precision on training set :  0.9819900945520036\n",
      "Precision on test set :  0.4375\n"
     ]
    },
    {
     "data": {
      "text/plain": [
       "[0.9925170945684428,\n",
       " 0.8958575300038715,\n",
       " 0.9421166306695464,\n",
       " 0.16342412451361868,\n",
       " 0.9819900945520036,\n",
       " 0.4375]"
      ]
     },
     "execution_count": 16,
     "metadata": {},
     "output_type": "execute_result"
    }
   ],
   "source": [
    "get_metrics_score(rf, yTrainSet = yTrainBin, yTestSet = yTestBin, yesLabel = 1)"
   ]
  },
  {
   "cell_type": "markdown",
   "id": "6f2c0335",
   "metadata": {},
   "source": [
    "#### Random Forest Tuned: Term Deposit"
   ]
  },
  {
   "cell_type": "markdown",
   "id": "752526ed",
   "metadata": {},
   "source": [
    "The following code shows the results of the random forest model after hypertuning via grid search. For the hypertuning itself, we chose to modify the number of trees in the forest (n_estimators), the minimum number of samples required to for leaf node creation (min_samples_leaf), the max number of features to consider when determining the best splits (max_features), and the max number of samples required for the base estimator (max_samples) in order to account for more variation and improve performance. The results of the grid search hypertuning showed that our model was no longer overfitted since the precision for the training set (61%) was almost equal to the precision of our test set (63%). However, the hypertuning did increase computation time from a few seconds to over 13 minutes."
   ]
  },
  {
   "cell_type": "code",
   "execution_count": 17,
   "id": "02fc578b",
   "metadata": {
    "scrolled": false
   },
   "outputs": [
    {
     "name": "stdout",
     "output_type": "stream",
     "text": [
      "CPU times: user 13min 7s, sys: 11 s, total: 13min 18s\n",
      "Wall time: 13min 26s\n"
     ]
    }
   ],
   "source": [
    "%%time\n",
    "with warnings.catch_warnings(record=True):\n",
    "    # Choose the type of classifier. \n",
    "    rf_tuned = RandomForestClassifier(random_state=10)\n",
    "\n",
    "    # Grid of parameters to choose from\n",
    "\n",
    "    parameters = {\n",
    "        \"n_estimators\": [100,150,200],\n",
    "        \"min_samples_leaf\": np.arange(5, 15, 5),\n",
    "        \"max_features\": np.arange(0.2, 0.6, 0.1),\n",
    "        \"max_samples\": np.arange(0.2, 0.6, 0.1),\n",
    "                 }\n",
    "\n",
    "    # Type of scoring used to compare parameter combinations\n",
    "    acc_scorer = mt.make_scorer(mt.precision_score)\n",
    "\n",
    "    # Run the grid search\n",
    "    grid_obj = GridSearchCV(rf_tuned, parameters, scoring=acc_scorer,cv=5)\n",
    "    grid_obj = grid_obj.fit(xTrain, yTrainBin)\n",
    "\n",
    "    # Set the clf to the best combination of parameters\n",
    "    rf_tuned = grid_obj.best_estimator_\n",
    "\n",
    "    # Fit the best algorithm to the data.\n",
    "    rf_tuned.fit(xTrain, yTrainBin)"
   ]
  },
  {
   "cell_type": "code",
   "execution_count": 18,
   "id": "342e0b53",
   "metadata": {},
   "outputs": [
    {
     "data": {
      "image/png": "[encoded data removed]",
      "text/plain": [
       "<Figure size 720x504 with 2 Axes>"
      ]
     },
     "metadata": {},
     "output_type": "display_data"
    }
   ],
   "source": [
    "make_confusion_matrix(rf_tuned,yTestBin,xTest,labels=[0,1])"
   ]
  },
  {
   "cell_type": "code",
   "execution_count": 19,
   "id": "54535fcf",
   "metadata": {},
   "outputs": [
    {
     "name": "stdout",
     "output_type": "stream",
     "text": [
      "Accuracy on training set :  0.904399432331312\n",
      "Accuracy on test set :  0.9059233449477352\n",
      "\n",
      "Recall on training set :  0.10971922246220302\n",
      "Recall on test set :  0.13229571984435798\n",
      "\n",
      "Precision on training set :  0.6105769230769231\n",
      "Precision on test set :  0.6296296296296297\n"
     ]
    },
    {
     "data": {
      "text/plain": [
       "[0.904399432331312,\n",
       " 0.9059233449477352,\n",
       " 0.10971922246220302,\n",
       " 0.13229571984435798,\n",
       " 0.6105769230769231,\n",
       " 0.6296296296296297]"
      ]
     },
     "execution_count": 19,
     "metadata": {},
     "output_type": "execute_result"
    }
   ],
   "source": [
    "get_metrics_score(rf_tuned, yTrainSet = yTrainBin, yTestSet = yTestBin, yesLabel = 1)"
   ]
  },
  {
   "cell_type": "markdown",
   "id": "7830b672",
   "metadata": {},
   "source": [
    "#### Random Forest: Education"
   ]
  },
  {
   "cell_type": "markdown",
   "id": "c7d2a3c2",
   "metadata": {},
   "source": [
    "The baseline random forest model for predicting the second target variable 'education' showed that the model had an accuracy of 77%. We hoped to improve this value through hypertuning, which is shown below."
   ]
  },
  {
   "cell_type": "code",
   "execution_count": 20,
   "id": "97bde310",
   "metadata": {},
   "outputs": [
    {
     "data": {
      "text/plain": [
       "RandomForestClassifier(random_state=10)"
      ]
     },
     "execution_count": 20,
     "metadata": {},
     "output_type": "execute_result"
    }
   ],
   "source": [
    "# Baseline Model with no Tuning\n",
    "rfEduc=RandomForestClassifier(random_state=10)\n",
    "rfEduc.fit(educXTrain,educYTrainBin)"
   ]
  },
  {
   "cell_type": "code",
   "execution_count": 21,
   "id": "34827370",
   "metadata": {
    "scrolled": false
   },
   "outputs": [
    {
     "data": {
      "image/png": "[encoded data removed]",
      "text/plain": [
       "<Figure size 720x504 with 2 Axes>"
      ]
     },
     "metadata": {},
     "output_type": "display_data"
    }
   ],
   "source": [
    "make_confusion_matrix(rfEduc,educYTestBin,educXTest,labels=[0, 1], noLabel = \" < College\", yesLabel = \" >= College\")"
   ]
  },
  {
   "cell_type": "code",
   "execution_count": 22,
   "id": "4f6a9042",
   "metadata": {},
   "outputs": [
    {
     "name": "stdout",
     "output_type": "stream",
     "text": [
      "Untuned Random Forest Accuracy for Education: 76.81%\n",
      "Untuned Random Forest Recall for Education: 77.63%\n",
      "Untuned Random Forest Precision for Education: 75.16%\n"
     ]
    }
   ],
   "source": [
    "# Printing Metric Scores - Accuracy is metric of choice for education\n",
    "y_predrfEduc = rfEduc.predict(educXTest)\n",
    "accuracy = mt.accuracy_score(educYTestBin, y_predrfEduc)\n",
    "recall = mt.recall_score(educYTestBin, y_predrfEduc, pos_label = 1)\n",
    "precision = mt.precision_score(educYTestBin, y_predrfEduc, pos_label = 1)\n",
    "print(\"Untuned Random Forest Accuracy for Education: %.2f%%\" % (accuracy * 100.0))\n",
    "print(\"Untuned Random Forest Recall for Education: %.2f%%\" % (recall * 100.0))\n",
    "print(\"Untuned Random Forest Precision for Education: %.2f%%\" % (precision * 100.0))"
   ]
  },
  {
   "cell_type": "markdown",
   "id": "b14356bd",
   "metadata": {},
   "source": [
    "#### Random Forest Tuned: Education"
   ]
  },
  {
   "cell_type": "markdown",
   "id": "83e1e865",
   "metadata": {},
   "source": [
    "We applied hypertuning via grid search in the code below. For this model, we tuned the same parameters that were adjusted for the hypertuned random forest model. The results of the hypertuning showed that the accuracy actually decreased after hypertuning from 77% to 76%, which was surprising after seeing the results of the first target variable."
   ]
  },
  {
   "cell_type": "code",
   "execution_count": 23,
   "id": "59c51732",
   "metadata": {},
   "outputs": [
    {
     "name": "stdout",
     "output_type": "stream",
     "text": [
      "CPU times: user 2min 54s, sys: 2.68 s, total: 2min 56s\n",
      "Wall time: 2min 58s\n"
     ]
    }
   ],
   "source": [
    "%%time\n",
    "with warnings.catch_warnings(record=True):\n",
    "    \n",
    "    # Choose the type of classifier. \n",
    "    rfEduc_tuned = RandomForestClassifier(random_state=10)\n",
    "\n",
    "    # Grid of parameters to choose from\n",
    "\n",
    "    parameters = {\n",
    "        \"n_estimators\": [150,200,250],\n",
    "        \"min_samples_leaf\": np.arange(5, 20, 5),\n",
    "        \"max_features\": np.arange(0.2, 0.5, 0.1),\n",
    "        \"max_samples\": np.arange(0.1, 0.3, 0.1),\n",
    "                 }\n",
    "\n",
    "    # Type of scoring used to compare parameter combinations\n",
    "    acc_scorer = mt.make_scorer(mt.accuracy_score)\n",
    "\n",
    "    # Run the grid search\n",
    "    grid_obj = GridSearchCV(rfEduc_tuned, parameters, scoring=acc_scorer,cv=3)\n",
    "    grid_obj = grid_obj.fit(educXTrain,educYTrainBin)\n",
    "\n",
    "    # Set the clf to the best combination of parameters\n",
    "    rfEduc_tuned = grid_obj.best_estimator_\n",
    "\n",
    "    # Fit the best algorithm to the data.\n",
    "    rfEduc_tuned.fit(educXTrain,educYTrainBin)"
   ]
  },
  {
   "cell_type": "code",
   "execution_count": 24,
   "id": "1c0510bf",
   "metadata": {},
   "outputs": [
    {
     "data": {
      "image/png": "[encoded data removed]",
      "text/plain": [
       "<Figure size 720x504 with 2 Axes>"
      ]
     },
     "metadata": {},
     "output_type": "display_data"
    }
   ],
   "source": [
    "make_confusion_matrix(rfEduc_tuned,educYTestBin,educXTest,labels=[0, 1], noLabel = \" < College\", yesLabel = \" >= College\")"
   ]
  },
  {
   "cell_type": "code",
   "execution_count": 25,
   "id": "d93462af",
   "metadata": {},
   "outputs": [
    {
     "name": "stdout",
     "output_type": "stream",
     "text": [
      "Tuned Random Forest Accuracy for Education: 75.84%\n",
      "Tuned Random Forest Recall for Education: 80.75%\n",
      "Tuned Random Forest Precision for Education: 72.39%\n"
     ]
    }
   ],
   "source": [
    "# Printing Metric Scores - Accuracy is metric of choice for education\n",
    "y_predrfEduc_tuned = rfEduc_tuned.predict(educXTest)\n",
    "accuracy = mt.accuracy_score(educYTestBin, y_predrfEduc_tuned)\n",
    "recall = mt.recall_score(educYTestBin, y_predrfEduc_tuned, pos_label = 1)\n",
    "precision = mt.precision_score(educYTestBin, y_predrfEduc_tuned, pos_label = 1)\n",
    "print(\"Tuned Random Forest Accuracy for Education: %.2f%%\" % (accuracy * 100.0))\n",
    "print(\"Tuned Random Forest Recall for Education: %.2f%%\" % (recall * 100.0))\n",
    "print(\"Tuned Random Forest Precision for Education: %.2f%%\" % (precision * 100.0))"
   ]
  },
  {
   "cell_type": "markdown",
   "id": "b567ec94",
   "metadata": {},
   "source": [
    "#### XGBoost: Term Deposit"
   ]
  },
  {
   "cell_type": "markdown",
   "id": "d10e6cce",
   "metadata": {},
   "source": [
    "Analysis of the XGBoost baseline model for predicting 'y' (term deposit) showed that, similar to the random forest model, we suffered from overfitting with a training set precision of 90% and a test set precision of 50%. We chose to apply hypertuning again in order to create a more realistic model."
   ]
  },
  {
   "cell_type": "code",
   "execution_count": 26,
   "id": "41615b7b",
   "metadata": {},
   "outputs": [
    {
     "data": {
      "image/png": "[encoded data removed]",
      "text/plain": [
       "<Figure size 720x504 with 2 Axes>"
      ]
     },
     "metadata": {},
     "output_type": "display_data"
    }
   ],
   "source": [
    "# Baseline Model before Tuning\n",
    "xgb = XGBClassifier(random_state=10, eval_metric='logloss')\n",
    "xgb.fit(xTrain,yTrainBin)\n",
    "make_confusion_matrix(xgb,yTestBin,xTest,labels=[0,1])"
   ]
  },
  {
   "cell_type": "code",
   "execution_count": 27,
   "id": "e90dadf1",
   "metadata": {},
   "outputs": [
    {
     "name": "stdout",
     "output_type": "stream",
     "text": [
      "Accuracy on training set :  0.9324388250978368\n",
      "Accuracy on test set :  0.9001161440185831\n",
      "\n",
      "Recall on training set :  0.36285097192224625\n",
      "Recall on test set :  0.17120622568093385\n",
      "\n",
      "Precision on training set :  0.8974358974358975\n",
      "Precision on test set :  0.4943820224719101\n"
     ]
    },
    {
     "data": {
      "text/plain": [
       "[0.9324388250978368,\n",
       " 0.9001161440185831,\n",
       " 0.36285097192224625,\n",
       " 0.17120622568093385,\n",
       " 0.8974358974358975,\n",
       " 0.4943820224719101]"
      ]
     },
     "execution_count": 27,
     "metadata": {},
     "output_type": "execute_result"
    }
   ],
   "source": [
    "get_metrics_score(xgb, yTrainSet = yTrainBin, yTestSet = yTestBin, yesLabel = 1)"
   ]
  },
  {
   "cell_type": "markdown",
   "id": "d5a38209",
   "metadata": {},
   "source": [
    "#### Tuned XG Boost: Term Deposit"
   ]
  },
  {
   "cell_type": "markdown",
   "id": "f7fa137e",
   "metadata": {},
   "source": [
    "After hypertuning the parameters of the baseline XGBoost model, we found that precision had decreased to a more realistic 61% for the training set, while the more test set had increased to 80%. Since the test set is the better gauge of the performance of the model, we were satisfied that our model was performing better. "
   ]
  },
  {
   "cell_type": "code",
   "execution_count": 32,
   "id": "9d7e5dac",
   "metadata": {
    "scrolled": false
   },
   "outputs": [
    {
     "name": "stdout",
     "output_type": "stream",
     "text": [
      "CPU times: user 2min 12s, sys: 2.94 s, total: 2min 15s\n",
      "Wall time: 18.4 s\n"
     ]
    }
   ],
   "source": [
    "%%time\n",
    "with warnings.catch_warnings(record=True):\n",
    "    # Choose the type of classifier. \n",
    "    xgb_tuned = XGBClassifier(random_state=10, eval_metric = 'logloss')\n",
    "\n",
    "    # Grid of parameters to choose from\n",
    "    ## add from\n",
    "    parameters = {\n",
    "        \"n_estimators\": np.arange(1,4,2),\n",
    "        #\"scale_pos_weight\":[0,1,2],\n",
    "        \"subsample\":[0.25,0.5],\n",
    "        \"learning_rate\":[0.0001,0.001],\n",
    "        \"gamma\":[0,1,3],\n",
    "        \"colsample_bytree\":[0.3,0.5,0.7,0.9],\n",
    "        \"colsample_bylevel\":[0.5,1]\n",
    "    }\n",
    "\n",
    "    # Type of scoring used to compare parameter combinations\n",
    "    acc_scorer = mt.make_scorer(mt.precision_score)\n",
    "\n",
    "    # Run the grid search\n",
    "    grid_obj = GridSearchCV(xgb_tuned, parameters,scoring=acc_scorer,cv=3)\n",
    "    grid_obj = grid_obj.fit(xTrain, yTrainBin)\n",
    "\n",
    "    # Set the clf to the best combination of parameters\n",
    "    xgb_tuned = grid_obj.best_estimator_\n",
    "\n",
    "    # Fit the best algorithm to the data.\n",
    "    xgb_tuned.fit(xTrain, yTrainBin)"
   ]
  },
  {
   "cell_type": "code",
   "execution_count": 29,
   "id": "25c2b95d",
   "metadata": {
    "scrolled": false
   },
   "outputs": [
    {
     "data": {
      "image/png": "[encoded data removed]",
      "text/plain": [
       "<Figure size 720x504 with 2 Axes>"
      ]
     },
     "metadata": {},
     "output_type": "display_data"
    }
   ],
   "source": [
    "make_confusion_matrix(xgb_tuned,yTestBin,xTest,labels=[0,1])"
   ]
  },
  {
   "cell_type": "code",
   "execution_count": 34,
   "id": "97ce3a86",
   "metadata": {},
   "outputs": [
    {
     "name": "stdout",
     "output_type": "stream",
     "text": [
      "Accuracy on training set :  0.9021201565389412\n",
      "Accuracy on test set :  0.9039876113046845\n",
      "\n",
      "Recall on training set :  0.045788336933045355\n",
      "Recall on test set :  0.04669260700389105\n",
      "\n",
      "Precision on training set :  0.6127167630057804\n",
      "Precision on test set :  0.8\n"
     ]
    },
    {
     "data": {
      "text/plain": [
       "[0.9021201565389412,\n",
       " 0.9039876113046845,\n",
       " 0.045788336933045355,\n",
       " 0.04669260700389105,\n",
       " 0.6127167630057804,\n",
       " 0.8]"
      ]
     },
     "execution_count": 34,
     "metadata": {},
     "output_type": "execute_result"
    }
   ],
   "source": [
    "get_metrics_score(xgb_tuned, yTestSet = yTestBin, yTrainSet = yTrainBin, yesLabel = 1)"
   ]
  },
  {
   "cell_type": "markdown",
   "id": "cab61ce9",
   "metadata": {},
   "source": [
    "#### XGBoost: College Education"
   ]
  },
  {
   "cell_type": "markdown",
   "id": "6d0ba6f1",
   "metadata": {},
   "source": [
    "The baseline XGBoost model for predicting the level of education produced an accuracy value of 77%. Once again, we chose to apply grid search in order to hypertune the parameters; the approach taken was the same described for the random forest model for predicting the term deposit variable. "
   ]
  },
  {
   "cell_type": "code",
   "execution_count": 35,
   "id": "5cb38b0b",
   "metadata": {},
   "outputs": [
    {
     "name": "stdout",
     "output_type": "stream",
     "text": [
      "CPU times: user 10.9 s, sys: 199 ms, total: 11.1 s\n",
      "Wall time: 1.69 s\n"
     ]
    },
    {
     "data": {
      "text/plain": [
       "XGBClassifier(base_score=0.5, booster='gbtree', callbacks=None,\n",
       "              colsample_bylevel=1, colsample_bynode=1, colsample_bytree=1,\n",
       "              early_stopping_rounds=None, enable_categorical=False,\n",
       "              eval_metric='logloss', gamma=0, gpu_id=-1,\n",
       "              grow_policy='depthwise', importance_type=None,\n",
       "              interaction_constraints='', learning_rate=0.300000012,\n",
       "              max_bin=256, max_cat_to_onehot=4, max_delta_step=0, max_depth=6,\n",
       "              max_leaves=0, min_child_weight=1, missing=nan,\n",
       "              monotone_constraints='()', n_estimators=100, n_jobs=0,\n",
       "              num_parallel_tree=1, predictor='auto', random_state=10,\n",
       "              reg_alpha=0, reg_lambda=1, ...)"
      ]
     },
     "execution_count": 35,
     "metadata": {},
     "output_type": "execute_result"
    }
   ],
   "source": [
    "%%time\n",
    "# Baseline Model before Tuning\n",
    "xgbEduc = XGBClassifier(random_state=10, eval_metric='logloss')\n",
    "xgbEduc.fit(educXTrain,educYTrainBin)"
   ]
  },
  {
   "cell_type": "code",
   "execution_count": 36,
   "id": "78180912",
   "metadata": {
    "scrolled": false
   },
   "outputs": [
    {
     "data": {
      "image/png": "[encoded data removed]",
      "text/plain": [
       "<Figure size 720x504 with 2 Axes>"
      ]
     },
     "metadata": {},
     "output_type": "display_data"
    }
   ],
   "source": [
    "make_confusion_matrix(xgbEduc,educYTestBin,educXTest,labels=[0, 1], noLabel = \" < College\", yesLabel = \" >= College\")"
   ]
  },
  {
   "cell_type": "code",
   "execution_count": 37,
   "id": "5b47e009",
   "metadata": {},
   "outputs": [
    {
     "name": "stdout",
     "output_type": "stream",
     "text": [
      "Untuned XGB Accuracy for Education: 77.35%\n",
      "Untuned XGB Recall for Education: 81.88%\n",
      "Untuned XGB Precision for Education: 73.99%\n"
     ]
    }
   ],
   "source": [
    "y_predxgbEduc = xgbEduc.predict(educXTest)\n",
    "accuracy = mt.accuracy_score(educYTestBin, y_predxgbEduc)\n",
    "recall = mt.recall_score(educYTestBin, y_predxgbEduc, pos_label = 1)\n",
    "precision = mt.precision_score(educYTestBin, y_predxgbEduc, pos_label = 1)\n",
    "print(\"Untuned XGB Accuracy for Education: %.2f%%\" % (accuracy * 100.0))\n",
    "print(\"Untuned XGB Recall for Education: %.2f%%\" % (recall * 100.0))\n",
    "print(\"Untuned XGB Precision for Education: %.2f%%\" % (precision * 100.0))"
   ]
  },
  {
   "cell_type": "markdown",
   "id": "2cf8cdca",
   "metadata": {},
   "source": [
    "#### Tuned XGBoost: College Education"
   ]
  },
  {
   "cell_type": "markdown",
   "id": "dd090a0c",
   "metadata": {},
   "source": [
    "Unfortunately, hypertuning the XGBoost model for predicting the education level decreased the accuracy of the model from 77% to 73%, indicating that hypertuning was not beneficial to improving the outcome of the model."
   ]
  },
  {
   "cell_type": "code",
   "execution_count": 40,
   "id": "2f6c9588",
   "metadata": {},
   "outputs": [
    {
     "name": "stdout",
     "output_type": "stream",
     "text": [
      "CPU times: user 2min 7s, sys: 3.52 s, total: 2min 10s\n",
      "Wall time: 18.5 s\n"
     ]
    },
    {
     "data": {
      "text/plain": [
       "XGBClassifier(base_score=0.5, booster='gbtree', callbacks=None,\n",
       "              colsample_bylevel=0.5, colsample_bynode=1, colsample_bytree=0.9,\n",
       "              early_stopping_rounds=None, enable_categorical=False,\n",
       "              eval_metric='logloss', gamma=0, gpu_id=-1,\n",
       "              grow_policy='depthwise', importance_type=None,\n",
       "              interaction_constraints='', learning_rate=0.0001, max_bin=256,\n",
       "              max_cat_to_onehot=4, max_delta_step=0, max_depth=6, max_leaves=0,\n",
       "              min_child_weight=1, missing=nan, monotone_constraints='()',\n",
       "              n_estimators=1, n_jobs=0, num_parallel_tree=1, predictor='auto',\n",
       "              random_state=10, reg_alpha=0, reg_lambda=1, ...)"
      ]
     },
     "execution_count": 40,
     "metadata": {},
     "output_type": "execute_result"
    }
   ],
   "source": [
    "%%time\n",
    "    # Choose the type of classifier. \n",
    "    xgbEducTuned = XGBClassifier(random_state=10,eval_metric='logloss')\n",
    "\n",
    "    # Grid of parameters to choose from\n",
    "    ## add from\n",
    "    parameters = {\n",
    "        \"n_estimators\": np.arange(1,4,2),\n",
    "        #\"scale_pos_weight\":[0,1,2],\n",
    "        \"subsample\":[0.25,0.5],\n",
    "        \"learning_rate\":[0.0001,0.001],\n",
    "        \"gamma\":[0,1,3],\n",
    "        \"colsample_bytree\":[0.3,0.5,0.7,0.9],\n",
    "        \"colsample_bylevel\":[0.5,1]\n",
    "    }\n",
    "\n",
    "    # Type of scoring used to compare parameter combinations\n",
    "    acc_scorer = mt.make_scorer(mt.accuracy_score)\n",
    "\n",
    "    # Run the grid search\n",
    "    grid_obj = GridSearchCV(xgbEducTuned, parameters,scoring=acc_scorer,cv=3)\n",
    "    grid_obj = grid_obj.fit(educXTrain, educYTrainBin)\n",
    "\n",
    "    # Set the clf to the best combination of parameters\n",
    "    xgbEducTuned = grid_obj.best_estimator_\n",
    "\n",
    "# Fit the best algorithm to the data.\n",
    "xgbEducTuned.fit(educXTrain, educYTrainBin)"
   ]
  },
  {
   "cell_type": "code",
   "execution_count": 41,
   "id": "297c333f",
   "metadata": {},
   "outputs": [
    {
     "data": {
      "image/png": "[encoded data removed]",
      "text/plain": [
       "<Figure size 720x504 with 2 Axes>"
      ]
     },
     "metadata": {},
     "output_type": "display_data"
    }
   ],
   "source": [
    "make_confusion_matrix(xgbEducTuned,educYTestBin,educXTest,labels=[0,1], \n",
    "                      noLabel = ' < College', yesLabel = ' >= College')"
   ]
  },
  {
   "cell_type": "code",
   "execution_count": 42,
   "id": "e428dfd2",
   "metadata": {},
   "outputs": [
    {
     "name": "stdout",
     "output_type": "stream",
     "text": [
      "Tuned XGB Accuracy for Education: 72.82%\n",
      "Tuned XGB Recall for Education: 93.91%\n",
      "Tuned XGB Precision for Education: 65.16%\n"
     ]
    }
   ],
   "source": [
    "y_predxgbEduc = xgbEducTuned.predict(educXTest)\n",
    "accuracy = mt.accuracy_score(educYTestBin, y_predxgbEduc)\n",
    "recall = mt.recall_score(educYTestBin, y_predxgbEduc, pos_label = 1)\n",
    "precision = mt.precision_score(educYTestBin, y_predxgbEduc, pos_label = 1)\n",
    "print(\"Tuned XGB Accuracy for Education: %.2f%%\" % (accuracy * 100.0))\n",
    "print(\"Tuned XGB Recall for Education: %.2f%%\" % (recall * 100.0))\n",
    "print(\"Tuned XGB Precision for Education: %.2f%%\" % (precision * 100.0))"
   ]
  },
  {
   "cell_type": "markdown",
   "id": "c168ef4b",
   "metadata": {},
   "source": [
    "#### KNN: Term Deposit"
   ]
  },
  {
   "cell_type": "markdown",
   "id": "d03904a6",
   "metadata": {},
   "source": [
    "Finally, the baseline model for the k-NN model for predicting the term deposit variable \n",
    "\n",
    "\n",
    "The maximum accuracy in the range of 51 to 101 neighbors is 0.90708479\n",
    "The mean accuracy for the selected neighbor range is: 0.90502516453736 .\n",
    "\n",
    "The maximum precision score in the range of 51 to 101 neighbors is 0.72972973\n",
    "The mean precision score for the selected neighbor range is: 0.90502516453736 .\n",
    "The accuracy of the model with the highest precision is 0.90708479\n",
    "\n",
    "The maximum recall score in the range of 51 to 101 neighbors is 0.10505837\n",
    "The mean recall score for the selected neighbor range is: 0.08809338521400777 .\n",
    "The accuracy of the model with the highest recall is 0.90708479 "
   ]
  },
  {
   "cell_type": "code",
   "execution_count": 43,
   "id": "c82947d6",
   "metadata": {},
   "outputs": [
    {
     "name": "stdout",
     "output_type": "stream",
     "text": [
      "The maximum accuracy in the range of 51 to 101 neighbors is 0.90708479\n",
      "The mean accuracy for the selected neighbor range is: 0.90502516453736 .\n",
      "\n",
      "The maximum precision score in the range of 51 to 101 neighbors is 0.72972973\n",
      "The mean precision score for the selected neighbor range is: 0.90502516453736 .\n",
      "The accuracy of the model with the highest precision is 0.90708479\n",
      "\n",
      "The maximum recall score in the range of 51 to 101 neighbors is 0.10505837\n",
      "The mean recall score for the selected neighbor range is: 0.08809338521400777 .\n",
      "The accuracy of the model with the highest recall is 0.90708479 \n",
      "\n",
      "CPU times: user 41 s, sys: 8.96 s, total: 50 s\n",
      "Wall time: 28.1 s\n"
     ]
    },
    {
     "data": {
      "text/plain": [
       "<matplotlib.legend.Legend at 0x7faf9abb7bb0>"
      ]
     },
     "execution_count": 43,
     "metadata": {},
     "output_type": "execute_result"
    },
    {
     "data": {
      "image/png": "[encoded data removed]",
      "text/plain": [
       "<Figure size 842.4x595.44 with 1 Axes>"
      ]
     },
     "metadata": {},
     "output_type": "display_data"
    }
   ],
   "source": [
    "%%time\n",
    "#Creating empty arrays for storing accuracies and precisions\n",
    "knnAccs = []\n",
    "knnPrecisions = []\n",
    "knnRecalls = []\n",
    "\n",
    "#setting neighbor range for future for loop to calculate best k\n",
    "minNeighbors = 51\n",
    "maxNeighbors = 101\n",
    "\n",
    "modelcount = 1\n",
    "modeliter = 2\n",
    "\n",
    "#For loop to iterate through k values\n",
    "for i in range(minNeighbors,maxNeighbors,modeliter):\n",
    "    knn = KNeighborsClassifier(n_neighbors = i)\n",
    "    knn.fit(xTrain, yTrain) \n",
    "    yHatKnn = knn.predict(xTest)\n",
    "    knnAccs.append(mt.accuracy_score(yTest,yHatKnn))\n",
    "    knnPrecisions.append(mt.precision_score(yTest,yHatKnn,pos_label='yes'))\n",
    "    knnRecalls.append(mt.recall_score(yTest,yHatKnn, pos_label='yes'))\n",
    "    modelcount += 1\n",
    "\n",
    "#Printing mean and max accuracy and index of max accuracy\n",
    "knnAccs = pd.Series(data = knnAccs)\n",
    "knnAccs.index = np.arange(minNeighbors, minNeighbors + len(knnPrecisions))\n",
    "print(\"The maximum accuracy in the range of\",minNeighbors,\n",
    "      \"to\",maxNeighbors,\"neighbors is\",round(knnAccs.max(),8))\n",
    "print(\"The mean accuracy for the selected neighbor range is:\",knnAccs.mean(),\".\\n\")\n",
    "\n",
    "#Printing mean and max precision and index of max precision\n",
    "knnPrecisions = pd.Series(data = knnPrecisions)\n",
    "knnPrecisions.index = np.arange(minNeighbors, minNeighbors + len(knnPrecisions))\n",
    "print(\"The maximum precision score in the range of\",minNeighbors,\n",
    "      \"to\",maxNeighbors,\"neighbors is\",round(knnPrecisions.max(),8))\n",
    "print(\"The mean precision score for the selected neighbor range is:\", knnAccs.mean(),\".\")\n",
    "print(\"The accuracy of the model with the highest precision is\", round(knnAccs[knnPrecisions.idxmax()], 8))\n",
    "\n",
    "#Printing mean and max recall and index of max recall\n",
    "knnRecalls = pd.Series(data = knnRecalls)\n",
    "knnRecalls.index = np.arange(minNeighbors, minNeighbors + len(knnPrecisions))\n",
    "print(\"\\nThe maximum recall score in the range of\",minNeighbors,\n",
    "      \"to\",maxNeighbors,\"neighbors is\",round(knnRecalls.max(),8))\n",
    "print(\"The mean recall score for the selected neighbor range is:\",knnRecalls.mean(),\".\")\n",
    "print(\"The accuracy of the model with the highest recall is\", round(knnAccs[knnRecalls.idxmax()], 8),\"\\n\")\n",
    "\n",
    "#Plotting accuracies and precision scores for different neighbor values\n",
    "normalPlot = plt.figure(1)\n",
    "\n",
    "#K plots\n",
    "knnAccs.plot()\n",
    "knnPrecisions.plot()\n",
    "knnRecalls.plot()\n",
    "\n",
    "plt.title(\"Accuracy and Precision of Different k Neighbors\")\n",
    "plt.legend(loc=\"upper right\", labels = ['Accuracy', 'Precision Score', 'Recall Score'], prop={'size': 15})"
   ]
  },
  {
   "cell_type": "code",
   "execution_count": 44,
   "id": "e162cf26",
   "metadata": {
    "scrolled": false
   },
   "outputs": [
    {
     "name": "stdout",
     "output_type": "stream",
     "text": [
      "KNeighborsClassifier(metric='euclidean', n_neighbors=169, p=1)\n",
      "\n",
      " 0.9039876113046845\n",
      "CPU times: user 3min 16s, sys: 26.8 s, total: 3min 43s\n",
      "Wall time: 3min 9s\n"
     ]
    }
   ],
   "source": [
    "%%time\n",
    "with warnings.catch_warnings(record=True):\n",
    "    # Choose the type of classifier. \n",
    "    knnTuned = KNeighborsClassifier(n_neighbors = 169)\n",
    "\n",
    "    # Grid of parameters to choose from\n",
    "    ## add from\n",
    "    parameters = {\n",
    "        \"metric\":['euclidean', 'cityblock','cosine',\n",
    "                  'haversine','l1','l2','manhattan','nan_euclidean'],\n",
    "        \"p\": np.arange(1,3,1)\n",
    "    }\n",
    "\n",
    "    # Type of scoring used to compare parameter combinations\n",
    "    acc_scorer = mt.make_scorer(mt.accuracy_score, pos_label=\"College or Above\")\n",
    "\n",
    "    # Run the grid search\n",
    "    grid_obj = GridSearchCV(knnTuned, parameters,scoring=acc_scorer,cv=2)\n",
    "    grid_obj = grid_obj.fit(xTrain, yTrainBin)\n",
    "\n",
    "    # Set the clf to the best combination of parameters\n",
    "    knnTuned = grid_obj.best_estimator_\n",
    "\n",
    "# Fit the best algorithm to the data.\n",
    "print(knnTuned.fit(xTrain,yTrainBin))\n",
    "print(\"\\n\",mt.accuracy_score(yTest,yHatKnn))"
   ]
  },
  {
   "cell_type": "markdown",
   "id": "05bc5f06",
   "metadata": {},
   "source": [
    "Final k-NN model for Term Deposit prediction displayed above"
   ]
  },
  {
   "cell_type": "markdown",
   "id": "a4e67e5c",
   "metadata": {},
   "source": [
    "#### KNN: College Education"
   ]
  },
  {
   "cell_type": "code",
   "execution_count": 45,
   "id": "caff63b0",
   "metadata": {},
   "outputs": [
    {
     "name": "stdout",
     "output_type": "stream",
     "text": [
      "The maximum accuracy in the range of 101 to 201 neighbors is 0.61633759\n",
      "The mean accuracy for the selected neighbor range is: 0.6128300425861402 .\n",
      "\n",
      "The maximum precision score in the range of 101 to 201 neighbors is 0.64035088\n",
      "The mean precision score for the selected neighbor range is: 0.6128300425861402 .\n",
      "The accuracy of the model with the highest precision is 0.61633759\n",
      "\n",
      "The maximum recall score in the range of 101 to 201 neighbors is 0.4755413\n",
      "The mean recall score for the selected neighbor range is: 0.4676663993584604 .\n",
      "The accuracy of the model with the highest recall is 0.61595045 \n",
      "\n",
      "CPU times: user 1min 35s, sys: 15.8 s, total: 1min 51s\n",
      "Wall time: 1min 9s\n"
     ]
    },
    {
     "data": {
      "text/plain": [
       "<matplotlib.legend.Legend at 0x7fb03bb45dc0>"
      ]
     },
     "execution_count": 45,
     "metadata": {},
     "output_type": "execute_result"
    },
    {
     "data": {
      "image/png": "[encoded data removed]",
      "text/plain": [
       "<Figure size 842.4x595.44 with 1 Axes>"
      ]
     },
     "metadata": {},
     "output_type": "display_data"
    }
   ],
   "source": [
    "%%time\n",
    "#Creating empty arrays for storing accuracies and precisions\n",
    "knnAccs = []\n",
    "knnPrecisions = []\n",
    "knnRecalls = []\n",
    "\n",
    "#setting neighbor range for future for loop to calculate best k\n",
    "minNeighbors = 101\n",
    "maxNeighbors = 201\n",
    "\n",
    "modeliter = 2\n",
    "\n",
    "#For loop to iterate through k values\n",
    "for i in range(minNeighbors,maxNeighbors,modeliter):\n",
    "    knn = KNeighborsClassifier(n_neighbors = i)\n",
    "    knn.fit(educXTrain, educYTrain) \n",
    "    yHatKnn = knn.predict(educXTest)\n",
    "    knnAccs.append(mt.accuracy_score(educYTest,yHatKnn))\n",
    "    knnPrecisions.append(mt.precision_score(educYTest,yHatKnn,pos_label='College or Above'))\n",
    "    knnRecalls.append(mt.recall_score(educYTest,yHatKnn, pos_label='College or Above'))\n",
    "\n",
    "#Printing mean and max accuracy and index of max accuracy\n",
    "knnAccs = pd.Series(data = knnAccs)\n",
    "knnAccs.index = np.arange(1, 1 + len(knnPrecisions))\n",
    "print(\"The maximum accuracy in the range of\",minNeighbors,\n",
    "      \"to\",maxNeighbors,\"neighbors is\",round(knnAccs.max(),8))\n",
    "print(\"The mean accuracy for the selected neighbor range is:\",knnAccs.mean(),\".\\n\")\n",
    "\n",
    "#Printing mean and max precision and index of max precision\n",
    "knnPrecisions = pd.Series(data = knnPrecisions)\n",
    "knnPrecisions.index = np.arange(1, 1 + len(knnPrecisions))\n",
    "print(\"The maximum precision score in the range of\",minNeighbors,\n",
    "      \"to\",maxNeighbors,\"neighbors is\",round(knnPrecisions.max(),8))\n",
    "print(\"The mean precision score for the selected neighbor range is:\", knnAccs.mean(),\".\")\n",
    "print(\"The accuracy of the model with the highest precision is\", round(knnAccs[knnPrecisions.idxmax()], 8))\n",
    "\n",
    "#Printing mean and max recall and index of max recall\n",
    "knnRecalls = pd.Series(data = knnRecalls)\n",
    "knnRecalls.index = np.arange(1, 1 + len(knnPrecisions))\n",
    "print(\"\\nThe maximum recall score in the range of\",minNeighbors,\n",
    "      \"to\",maxNeighbors,\"neighbors is\",round(knnRecalls.max(),8))\n",
    "print(\"The mean recall score for the selected neighbor range is:\",knnRecalls.mean(),\".\")\n",
    "print(\"The accuracy of the model with the highest recall is\", round(knnAccs[knnRecalls.idxmax()], 8),\"\\n\")\n",
    "\n",
    "#Plotting accuracies and precision scores for different neighbor values\n",
    "normalPlot = plt.figure(1)\n",
    "\n",
    "#K plots\n",
    "knnAccs.plot()\n",
    "knnPrecisions.plot()\n",
    "knnRecalls.plot()\n",
    "\n",
    "plt.title(\"Accuracy and Precision of Different k Neighbors\")\n",
    "plt.legend(loc=\"best\", labels = ['Accuracy', 'Precision Score', 'Recall Score'], prop={'size': 15})\n"
   ]
  },
  {
   "cell_type": "markdown",
   "id": "5d2e6f3c",
   "metadata": {},
   "source": [
    "Ideal K number is 23"
   ]
  },
  {
   "cell_type": "code",
   "execution_count": 46,
   "id": "be6f5d23",
   "metadata": {},
   "outputs": [
    {
     "name": "stdout",
     "output_type": "stream",
     "text": [
      "CPU times: user 1.91 s, sys: 323 ms, total: 2.23 s\n",
      "Wall time: 1.38 s\n"
     ]
    },
    {
     "data": {
      "text/plain": [
       "0.616337591947348"
      ]
     },
     "execution_count": 46,
     "metadata": {},
     "output_type": "execute_result"
    }
   ],
   "source": [
    "%%time\n",
    "knn = KNeighborsClassifier(n_neighbors = 169)\n",
    "knn.fit(educXTrain, educYTrain) \n",
    "yHatKnn = knn.predict(educXTest)\n",
    "mt.accuracy_score(educYTest,yHatKnn)"
   ]
  },
  {
   "cell_type": "code",
   "execution_count": 47,
   "id": "e85630a4",
   "metadata": {},
   "outputs": [
    {
     "name": "stdout",
     "output_type": "stream",
     "text": [
      "KNeighborsClassifier(metric='euclidean', n_neighbors=169, p=1)\n",
      "\n",
      " 0.616337591947348\n",
      "CPU times: user 3min 18s, sys: 26.5 s, total: 3min 44s\n",
      "Wall time: 3min 10s\n"
     ]
    }
   ],
   "source": [
    "%%time\n",
    "with warnings.catch_warnings(record=True):\n",
    "    # Choose the type of classifier. \n",
    "    knnTuned = KNeighborsClassifier(n_neighbors = 169)\n",
    "\n",
    "    # Grid of parameters to choose from\n",
    "    ## add from\n",
    "    parameters = {\n",
    "        \"metric\":['euclidean', 'cityblock','cosine',\n",
    "                  'haversine','l1','l2','manhattan','nan_euclidean'],\n",
    "        \"p\": np.arange(1,3,1)\n",
    "    }\n",
    "\n",
    "    # Type of scoring used to compare parameter combinations\n",
    "    acc_scorer = mt.make_scorer(mt.accuracy_score, pos_label=\"College or Above\")\n",
    "\n",
    "    # Run the grid search\n",
    "    grid_obj = GridSearchCV(knnTuned, parameters,scoring=acc_scorer,cv=2)\n",
    "    grid_obj = grid_obj.fit(educXTrain, educYTrainBin)\n",
    "\n",
    "    # Set the clf to the best combination of parameters\n",
    "    knnTuned = grid_obj.best_estimator_\n",
    "\n",
    "# Fit the best algorithm to the data.\n",
    "knnTuned.fit(educXTrain, educYTrainBin)\n",
    "yHatKnn = knn.predict(educXTest)\n",
    "print(knnTuned.fit(educXTrain,educYTrainBin))\n",
    "print(\"\\n\",mt.accuracy_score(educYTest,yHatKnn))"
   ]
  },
  {
   "cell_type": "markdown",
   "id": "b34c26f8",
   "metadata": {},
   "source": [
    "The best distance metric is the default metric, minkowski."
   ]
  },
  {
   "cell_type": "markdown",
   "id": "a765eb98",
   "metadata": {},
   "source": [
    "### Part 4\n",
    "\n",
    "***Analyze the results using your chosen method of evaluation. Use visualizations of the results to bolster the analysis. Explain any visuals and analyze why they are interesting to someone that might use this model.***"
   ]
  },
  {
   "cell_type": "markdown",
   "id": "f45cc977",
   "metadata": {},
   "source": [
    "##### First target variable: y - term deposit decision\n",
    "On average, the best performing model was k-NN.\n",
    "\n",
    "\n",
    "##### Second target variable: Education\n",
    "On average, the best performing models were random forest with a mean accuracy of 77.1% and XGBoost with a mean accuracy of 76.7%"
   ]
  },
  {
   "cell_type": "markdown",
   "id": "75097d2a",
   "metadata": {},
   "source": [
    "### Part 5\n",
    "\n",
    "***Discuss the advantages of each model for each classification task, if any. If there are not advantages, explain why. Is any model better than another? Is the difference significant with 95% confidence? Use proper statistical comparison methods. You must use statistical comparison techniques—be sure they are appropriate for your chosen method of validation as discussed in unit 7 of the course.***"
   ]
  },
  {
   "cell_type": "markdown",
   "id": "30f99eee",
   "metadata": {},
   "source": [
    "# are we all ok with the following (i.e., can we skip 95% CI)?:\n",
    "\n",
    "For the first target variable, 'y', we found that k-NN performed best based on the precision metric. Given that the difference between the mean precision results for k-NN (91%) and random forest (40%) and XGBoost (48%), we feel that we can safely say that there was a statistically significant difference between precision results at the 95% confidence level. \n",
    "\n",
    "For the second target variable, 'education', we found that random forest and XGBoost performed similarly based on accuracy. The k-NN mean accuracy was 57%, while the mean accuracy for random forest and XGBoost was 77%. Akin to the first target variable analysis, we feel that we can confidently say that there is a difference at the 95% confidence level.\n",
    "\n",
    "In terms of time length, the random forest models took more time to run than k-NN or "
   ]
  },
  {
   "cell_type": "markdown",
   "id": "5479830f",
   "metadata": {},
   "source": [
    "## Part 6\n",
    "\n",
    "***Which attributes from your analysis are most important? Use proper methods discussed in class to evaluate the importance of different attributes. Discuss the results and hypothesize about why certain attributes are more important than others for a given classification task.***"
   ]
  },
  {
   "cell_type": "markdown",
   "id": "cbbb56df",
   "metadata": {},
   "source": [
    "Because the data set is so skewed towards \"no\" responses we know that a lot of people were not accepting term deposits from the get go, however, we did not want all of the variables to be \"no\" answers because we would only have a ~10% \"yes\" rate. By removing those variables that we found to be unnecessary, 'duration', 'default', 'pdays', and 'poutcome', we improved our likelihood of increasing our models' affectiveness at predicting \"yes\". However, the models that we chose to use do not ascribe weights to individual variables, so knowing which variables were \"most important\" is difficult to evaluate. "
   ]
  },
  {
   "cell_type": "markdown",
   "id": "72933e7e",
   "metadata": {},
   "source": [
    "## Deployment\n",
    "\n",
    "***How useful is your model for interested parties (i.e., the companies or organizations that might want to use it for prediction)? How would you measure the model's value if it was used by these parties? How would your deploy your model for interested parties? What other data should be collected? How often would the model need to be updated, etc.?***"
   ]
  },
  {
   "cell_type": "markdown",
   "id": "5d74372e",
   "metadata": {},
   "source": [
    "The initial purpose of the dataset was to predict whether a customer would subscribe to a long-term deposit, which would allow the institution to better pursue those customers specifically. We believe that our models would assist them by helping banks maximize their returns by focusing on those customers who were prediced to take on a term deposit while helping to reduce the funding spent on those customers who would were not likely to do so.\n",
    "\n",
    "We would deploy our model/s by showing bank management the results from previous projects, such as this one, and explaining how we were able to assist their marketing department by statistically selecting those customers who were most likely willing to invest in a term deposit. \n",
    "\n",
    "Answering the question of what other data should be collected, we feel that adding variables for gender, experience of the caller (salesperson), and social and economic variables such as neighborhood and income, tax bracket, net worth, and quarterly capital gains would be beneficial. The gender and experience variables would provide insight into the customer's willingness to take a term deposit, while the social and economic variables seem like they would be strong indicators of whether or not a customer could afford a term deposit.\n",
    "\n",
    "The model would need to be updated yearly, after each marketing campaign was was completed. This would ensure that our models were accurate and accounted for any customers who had changed their minds about taking a term deposit, thereby allowing us to remain on top of our prediction models.\n"
   ]
  },
  {
   "cell_type": "markdown",
   "id": "49c47d47",
   "metadata": {},
   "source": [
    "## Exceptional Work\n",
    "\n",
    "You have free reign to provide additional analyses. One idea: grid search parameters in a parallelized fashion and visualize the performances across attributes. Which parameters are most significant for making a good model for each classification algorithm?"
   ]
  }
 ],
 "metadata": {
  "kernelspec": {
   "display_name": "Python 3 (ipykernel)",
   "language": "python",
   "name": "python3"
  },
  "language_info": {
   "codemirror_mode": {
    "name": "ipython",
    "version": 3
   },
   "file_extension": ".py",
   "mimetype": "text/x-python",
   "name": "python",
   "nbconvert_exporter": "python",
   "pygments_lexer": "ipython3",
   "version": "3.9.12"
  }
 },
 "nbformat": 4,
 "nbformat_minor": 5
}
