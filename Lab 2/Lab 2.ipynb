{
 "cells": [
  {
   "cell_type": "markdown",
   "id": "f07c2778",
   "metadata": {},
   "source": [
    "# Lab 2\n",
    "\n",
    "##### Team Members: Alex Lopez, Chris Haub, Erin McClure-Price"
   ]
  },
  {
   "cell_type": "markdown",
   "id": "3912e85b",
   "metadata": {},
   "source": [
    "## Data Preparation"
   ]
  },
  {
   "cell_type": "markdown",
   "id": "4dd0422c",
   "metadata": {},
   "source": [
    "## Modeling and Evaluation"
   ]
  },
  {
   "cell_type": "markdown",
   "id": "72933e7e",
   "metadata": {},
   "source": [
    "## Deployment"
   ]
  },
  {
   "cell_type": "markdown",
   "id": "49c47d47",
   "metadata": {},
   "source": [
    "## Exceptional Work"
   ]
  }
 ],
 "metadata": {
  "kernelspec": {
   "display_name": "Python 3",
   "language": "python",
   "name": "python3"
  },
  "language_info": {
   "codemirror_mode": {
    "name": "ipython",
    "version": 3
   },
   "file_extension": ".py",
   "mimetype": "text/x-python",
   "name": "python",
   "nbconvert_exporter": "python",
   "pygments_lexer": "ipython3",
   "version": "3.8.8"
  }
 },
 "nbformat": 4,
 "nbformat_minor": 5
}
