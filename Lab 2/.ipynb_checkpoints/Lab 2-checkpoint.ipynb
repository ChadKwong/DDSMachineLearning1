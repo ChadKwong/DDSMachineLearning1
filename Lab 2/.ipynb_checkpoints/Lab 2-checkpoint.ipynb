{
 "cells": [
  {
   "cell_type": "markdown",
   "id": "f07c2778",
   "metadata": {},
   "source": [
    "# Lab 2\n",
    "\n",
    "##### Team Members: Alex Lopez, Chris Haub, Erin McClure-Price"
   ]
  },
  {
   "cell_type": "markdown",
   "id": "d860ac35",
   "metadata": {},
   "source": [
    "Loading packages needed for the project."
   ]
  },
  {
   "cell_type": "code",
<<<<<<< Updated upstream
   "execution_count": 1,
=======
   "execution_count": 44,
>>>>>>> Stashed changes
   "id": "7f63f164",
   "metadata": {},
   "outputs": [],
   "source": [
    "# Importing all packages and modules\n",
    "import pandas as pd\n",
    "import numpy as np\n",
    "import matplotlib.pyplot as plt\n",
    "import seaborn as sns\n",
    "import warnings\n",
    "from sklearn import linear_model\n",
    "from sklearn.linear_model import LogisticRegression\n",
    "from sklearn.preprocessing import StandardScaler\n",
    "from sklearn.model_selection import ShuffleSplit\n",
    "from sklearn.model_selection import ShuffleSplit\n",
    "from sklearn import metrics as mt\n",
    "from sklearn.metrics import mean_absolute_error, make_scorer, mean_squared_error\n",
    "from sklearn.preprocessing import StandardScaler\n",
    "from sklearn import svm\n",
    "from sklearn.svm import SVC\n",
    "from sklearn.metrics import log_loss\n",
    "from sklearn.model_selection import cross_val_score\n",
    "import glob\n",
    "import os\n",
    "import seaborn as sns #may not use\n",
    "from sklearn.model_selection import StratifiedKFold\n",
    "from sklearn.ensemble import GradientBoostingClassifier\n",
    "from sklearn.model_selection import KFold\n",
    "from sklearn.neighbors import KNeighborsClassifier\n",
    "from sklearn.ensemble import RandomForestClassifier\n",
    "from xgboost import XGBClassifier\n",
    "\n",
    "#Suppress futurewarnings\n",
    "warnings.simplefilter(action='ignore', category=FutureWarning)\n",
    "\n",
    "#Suppress convergence warnings\n",
    "from sklearn.exceptions import ConvergenceWarning\n",
    "warnings.simplefilter(action='ignore', category=ConvergenceWarning)\n",
    "\n",
    "#Set Figure Size\n",
    "plt.rcParams[\"figure.figsize\"] = (20,10)"
   ]
  },
  {
   "cell_type": "markdown",
   "id": "598ab0a5",
   "metadata": {},
   "source": [
    "The following cell establishes functions to be used in the file:"
   ]
  },
  {
   "cell_type": "code",
   "execution_count": 29,
   "id": "dbcaedda",
   "metadata": {},
   "outputs": [],
   "source": [
    "## setting up function to create confusion matrix\n",
    "def make_confusion_matrix(model,y_actual, x_test, labels=[1, 0]):\n",
    "    '''\n",
    "    model : classifier to predict values of X\n",
    "    y_actual : ground truth  \n",
    "    \n",
    "    '''\n",
    "    y_predict = model.predict(x_test)\n",
    "    cm=mt.confusion_matrix( y_actual, y_predict, labels=labels)\n",
    "    df_cm = pd.DataFrame(cm, index = [i for i in [\"Actual - No\",\"Actual - Yes\"]],\n",
    "                  columns = [i for i in ['Predicted - No','Predicted - Yes']])\n",
    "    group_counts = [\"{0:0.0f}\".format(value) for value in\n",
    "                cm.flatten()]\n",
    "    group_percentages = [\"{0:.2%}\".format(value) for value in\n",
    "                         cm.flatten()/np.sum(cm)]\n",
    "    labels = [f\"{v1}\\n{v2}\" for v1, v2 in\n",
    "              zip(group_counts,group_percentages)]\n",
    "    labels = np.asarray(labels).reshape(2,2)\n",
    "    plt.figure(figsize = (10,7))\n",
    "    sns.heatmap(df_cm, annot=labels,fmt='')\n",
    "    plt.ylabel('True label')\n",
    "    plt.xlabel('Predicted label')\n",
    "\n",
    "#Function for generating metric scores\n",
    "def get_metrics_score(model,flag=True):    #model : classifier to predict values of X\n",
    "    \n",
    "    # defining an empty list to store train and test results\n",
    "    score_list=[]\n",
    "    \n",
    "    #Predicting on train and tests\n",
    "    pred_train = model.predict(xTrain)\n",
    "    pred_test = model.predict(xTest)\n",
    "    \n",
    "    #Accuracy of the model\n",
    "    train_acc = model.score(xTrain,yTrain)\n",
    "    test_acc = model.score(xTest,yTest)\n",
    "    \n",
    "    #Recall of the model\n",
    "    train_recall = mt.recall_score(yTrain,pred_train,pos_label=\"no\")\n",
    "    test_recall = mt.recall_score(yTest,pred_test,pos_label=\"no\")\n",
    "    \n",
    "    #Precision of the model\n",
    "    train_precision = mt.precision_score(yTrain,pred_train,pos_label=\"no\")\n",
    "    test_precision = mt.precision_score(yTest,pred_test,pos_label=\"no\")\n",
    "\n",
    "    \n",
    "    score_list.extend((train_acc,test_acc,train_recall,test_recall,train_precision,test_precision))\n",
    "        \n",
    "    # If the flag is set to True then only the following print statements will be dispayed. The default value is set to True.\n",
    "    if flag == True:\n",
    "        print(\"Accuracy on training set : \",model.score(xTrain,yTrain))\n",
    "        print(\"Accuracy on test set : \",model.score(xTest,yTest))\n",
    "        print(\"\\nRecall on training set : \",mt.recall_score(yTrain,pred_train,pos_label=\"no\"))\n",
    "        print(\"Recall on test set : \",mt.recall_score(yTest,pred_test,pos_label=\"no\"))\n",
    "        print(\"\\nPrecision on training set : \",mt.precision_score(yTrain,pred_train,pos_label=\"no\"))\n",
    "        print(\"Precision on test set : \",mt.precision_score(yTest,pred_test,pos_label=\"no\"))\n",
    "    \n",
    "    return score_list # returning the list with train and test scores\n",
    "\n",
    "def getCP(column):\n",
    "    xCount = column.value_counts()\n",
    "    xPercentages = xCount/len(column)\n",
    "    outData = pd.DataFrame()\n",
    "    outData['Counts'] = xCount\n",
    "    outData['Percent of Total'] = xPercentages\n",
    "    return outData"
   ]
  },
  {
   "cell_type": "markdown",
   "id": "3912e85b",
   "metadata": {},
   "source": [
    "## Data Preparation"
   ]
  },
  {
   "cell_type": "markdown",
   "id": "5db728c1",
   "metadata": {},
   "source": [
    "### Part 1\n",
    "\n",
    "***Define and prepare your class variables. Use proper variable representations (int, float, one-hot, etc.). Use pre-processing methods (as needed) for dimensionality reduction, scaling, etc. Remove variables that are not needed/useful for the analysis.***"
   ]
  },
  {
   "cell_type": "markdown",
   "id": "d4828ca4",
   "metadata": {},
   "source": [
    "The first step was to load necessary packages and our dataset, UCI's \"Bank Marketing Data Set\" (https://archive.ics.uci.edu/ml/datasets/bank+marketing). In addition, we created variables for indexing both the continuous and categorical variables within the dataset."
   ]
  },
  {
   "cell_type": "code",
<<<<<<< Updated upstream
   "execution_count": 3,
=======
   "execution_count": 46,
>>>>>>> Stashed changes
   "id": "492e9c34",
   "metadata": {},
   "outputs": [],
   "source": [
    "#Import Dataset from github repo\n",
    "bankData = pd.read_csv('bank-additional-full.csv', sep=';', na_values=\"unknown\")\n",
    "#Optional: Add in index column\n",
    "#bankData.insert(0, 'Sample_ID', range(1,len(bankData)+1))\n",
    "\n",
    "#Creating variables for indexing continuous and categorical variables\n",
    "conCol = ['age', 'duration', 'campaign', 'previous', 'emp.var.rate', \n",
    "          'cons.price.idx', 'cons.conf.idx', 'euribor3m', 'nr.employed']\n",
    "\n",
    "catCol = ['job', 'marital', 'education', 'housing', 'loan', \n",
    "          'contact', 'month', 'day_of_week'] # Default is removed from this list because it is not used "
   ]
  },
  {
   "cell_type": "markdown",
   "id": "8c67bc1e",
   "metadata": {},
   "source": [
    "The next step was to drop entries with missing values, this removed 10,701 rows leaving 30,488 rows which, as discussed in previous assignments, was sufficient for the analysis requirements. In addition, we removed those columns that were unbalanced or appeared to have little to no importance within the model. The removed columns included 'duration', 'default', and 'pdays'.\n",
    "\n",
    "The reasoning for removing the 'duration' and 'default' columns was that the former's distribution was highly skewed and just describes the time spent on the call, which cannot be known until after the call is ended. Obviously, those callers who take out a long-term deposit will naturally spend more time on a call, which indicates that this variable is likely to bias the results of a model. The latter was removed due to its consisting of almost entirely \"no\" responses with a total of 3 \"yes\" responses, making it highly unbalanced which infers that it would also bias any results. We ultimately chose to remove 'pdays' because it refers to how many days had passed since a customer had been contacted during the previous campaign, and did not appear to be relevant. In addition, the dataset is skewed since the majority of the customers in this dataset chose \"no\" to a short term deposit and we wanted to dedicate our resources to those customers who had said \"yes\".\n",
    "\n",
    "Finally, we chose to refine the 'poutcome' variable by excluding those customers who had never been contacted in a previous campaign. Our reasoning was that we would want to focus our resources on those customers who had previously been contacted since we knew their responses.\n"
   ]
  },
  {
   "cell_type": "code",
<<<<<<< Updated upstream
   "execution_count": 4,
=======
   "execution_count": 51,
>>>>>>> Stashed changes
   "id": "8296d5b0",
   "metadata": {
    "scrolled": false
   },
   "outputs": [
    {
     "name": "stdout",
     "output_type": "stream",
     "text": [
<<<<<<< Updated upstream
      "             Counts  Percent of Total\n",
      "nonexistent   25836          0.847415\n",
      "failure        3461          0.113520\n",
      "success        1191          0.039065\n",
      "             Counts  Percent of Total\n",
      "nonexistent   25836               1.0\n",
      "(25836, 17)\n"
=======
      "(29178, 19)\n"
>>>>>>> Stashed changes
     ]
    },
    {
     "data": {
      "text/html": [
       "<div>\n",
       "<style scoped>\n",
       "    .dataframe tbody tr th:only-of-type {\n",
       "        vertical-align: middle;\n",
       "    }\n",
       "\n",
       "    .dataframe tbody tr th {\n",
       "        vertical-align: top;\n",
       "    }\n",
       "\n",
       "    .dataframe thead th {\n",
       "        text-align: right;\n",
       "    }\n",
       "</style>\n",
       "<table border=\"1\" class=\"dataframe\">\n",
       "  <thead>\n",
       "    <tr style=\"text-align: right;\">\n",
       "      <th></th>\n",
       "      <th>age</th>\n",
       "      <th>job</th>\n",
       "      <th>marital</th>\n",
       "      <th>education</th>\n",
       "      <th>housing</th>\n",
       "      <th>loan</th>\n",
       "      <th>contact</th>\n",
       "      <th>month</th>\n",
       "      <th>day_of_week</th>\n",
       "      <th>campaign</th>\n",
       "      <th>previous</th>\n",
       "      <th>emp.var.rate</th>\n",
       "      <th>cons.price.idx</th>\n",
       "      <th>cons.conf.idx</th>\n",
       "      <th>euribor3m</th>\n",
       "      <th>nr.employed</th>\n",
       "      <th>y</th>\n",
       "    </tr>\n",
       "  </thead>\n",
       "  <tbody>\n",
       "    <tr>\n",
       "      <th>0</th>\n",
       "      <td>56</td>\n",
       "      <td>housemaid</td>\n",
       "      <td>married</td>\n",
       "      <td>basic.4y</td>\n",
       "      <td>no</td>\n",
       "      <td>no</td>\n",
       "      <td>telephone</td>\n",
       "      <td>may</td>\n",
       "      <td>mon</td>\n",
       "      <td>1</td>\n",
       "      <td>0</td>\n",
       "      <td>1.1</td>\n",
       "      <td>93.994</td>\n",
       "      <td>-36.4</td>\n",
       "      <td>4.857</td>\n",
       "      <td>5191.0</td>\n",
       "      <td>no</td>\n",
       "    </tr>\n",
       "    <tr>\n",
       "      <th>2</th>\n",
       "      <td>37</td>\n",
       "      <td>services</td>\n",
       "      <td>married</td>\n",
       "      <td>high.school</td>\n",
       "      <td>yes</td>\n",
       "      <td>no</td>\n",
       "      <td>telephone</td>\n",
       "      <td>may</td>\n",
       "      <td>mon</td>\n",
       "      <td>1</td>\n",
       "      <td>0</td>\n",
       "      <td>1.1</td>\n",
       "      <td>93.994</td>\n",
       "      <td>-36.4</td>\n",
       "      <td>4.857</td>\n",
       "      <td>5191.0</td>\n",
       "      <td>no</td>\n",
       "    </tr>\n",
       "    <tr>\n",
       "      <th>3</th>\n",
       "      <td>40</td>\n",
       "      <td>admin.</td>\n",
       "      <td>married</td>\n",
       "      <td>basic.6y</td>\n",
       "      <td>no</td>\n",
       "      <td>no</td>\n",
       "      <td>telephone</td>\n",
       "      <td>may</td>\n",
       "      <td>mon</td>\n",
       "      <td>1</td>\n",
       "      <td>0</td>\n",
       "      <td>1.1</td>\n",
       "      <td>93.994</td>\n",
       "      <td>-36.4</td>\n",
       "      <td>4.857</td>\n",
       "      <td>5191.0</td>\n",
       "      <td>no</td>\n",
       "    </tr>\n",
       "    <tr>\n",
       "      <th>4</th>\n",
       "      <td>56</td>\n",
       "      <td>services</td>\n",
       "      <td>married</td>\n",
       "      <td>high.school</td>\n",
       "      <td>no</td>\n",
       "      <td>yes</td>\n",
       "      <td>telephone</td>\n",
       "      <td>may</td>\n",
       "      <td>mon</td>\n",
       "      <td>1</td>\n",
       "      <td>0</td>\n",
       "      <td>1.1</td>\n",
       "      <td>93.994</td>\n",
       "      <td>-36.4</td>\n",
       "      <td>4.857</td>\n",
       "      <td>5191.0</td>\n",
       "      <td>no</td>\n",
       "    </tr>\n",
       "    <tr>\n",
       "      <th>6</th>\n",
       "      <td>59</td>\n",
       "      <td>admin.</td>\n",
       "      <td>married</td>\n",
       "      <td>professional.course</td>\n",
       "      <td>no</td>\n",
       "      <td>no</td>\n",
       "      <td>telephone</td>\n",
       "      <td>may</td>\n",
       "      <td>mon</td>\n",
       "      <td>1</td>\n",
       "      <td>0</td>\n",
       "      <td>1.1</td>\n",
       "      <td>93.994</td>\n",
       "      <td>-36.4</td>\n",
       "      <td>4.857</td>\n",
       "      <td>5191.0</td>\n",
       "      <td>no</td>\n",
       "    </tr>\n",
       "  </tbody>\n",
       "</table>\n",
       "</div>"
      ],
      "text/plain": [
       "   age        job  marital            education housing loan    contact month  \\\n",
       "0   56  housemaid  married             basic.4y      no   no  telephone   may   \n",
       "2   37   services  married          high.school     yes   no  telephone   may   \n",
       "3   40     admin.  married             basic.6y      no   no  telephone   may   \n",
       "4   56   services  married          high.school      no  yes  telephone   may   \n",
       "6   59     admin.  married  professional.course      no   no  telephone   may   \n",
       "\n",
       "  day_of_week  campaign  previous  emp.var.rate  cons.price.idx  \\\n",
       "0         mon         1         0           1.1          93.994   \n",
       "2         mon         1         0           1.1          93.994   \n",
       "3         mon         1         0           1.1          93.994   \n",
       "4         mon         1         0           1.1          93.994   \n",
       "6         mon         1         0           1.1          93.994   \n",
       "\n",
       "   cons.conf.idx  euribor3m  nr.employed   y  \n",
       "0          -36.4      4.857       5191.0  no  \n",
       "2          -36.4      4.857       5191.0  no  \n",
       "3          -36.4      4.857       5191.0  no  \n",
       "4          -36.4      4.857       5191.0  no  \n",
       "6          -36.4      4.857       5191.0  no  "
      ]
     },
<<<<<<< Updated upstream
     "execution_count": 4,
=======
     "execution_count": 51,
>>>>>>> Stashed changes
     "metadata": {},
     "output_type": "execute_result"
    }
   ],
   "source": [
    "#Removing missing values\n",
    "bankData2 = bankData.dropna()\n",
<<<<<<< Updated upstream
    "\n",
    "print(getCP(bankData2.poutcome))\n",
    "\n",
    "#Refining dataframe to focus on population that has no previous campaigns\n",
    "bankData2 = bankData2.drop(bankData2[(bankData2.poutcome!='nonexistent') ].index)\n",
    "print(getCP(bankData2.poutcome))\n",
    "\n",
    "#Creating df of removed rows for optional analysis\n",
    "previousCampaigns = bankData2.drop(bankData2[(bankData2.poutcome == 'nonexistent') ].index)\n",
    "\n",
    "#Removing default, duration, pdays, and poutcome columns\n",
    "bankData2 = bankData2.drop(['default','duration', 'pdays', 'poutcome'], axis=1)\n",
=======
    "#Remove 'default' column\n",
    "bankData2 = bankData2.drop(['default','duration'], axis=1)\n",
    "bankData2 = bankData2.drop(bankData2[(bankData2.previous!=0) & (bankData2.pdays !=999)].index)\n",
>>>>>>> Stashed changes
    "print(bankData2.shape)\n",
    "bankData2.head()"
   ]
  },
  {
   "cell_type": "markdown",
<<<<<<< Updated upstream
=======
   "id": "1857a7c8",
   "metadata": {},
   "source": [
    "Double checking the shape of the data showed that we had, indeed, a total of 30,488 rows and 19 attributes in our cleaned dataset."
   ]
  },
  {
   "cell_type": "code",
   "execution_count": 48,
   "id": "678904e3",
   "metadata": {
    "scrolled": true
   },
   "outputs": [
    {
     "data": {
      "text/plain": [
       "(29178, 19)"
      ]
     },
     "execution_count": 48,
     "metadata": {},
     "output_type": "execute_result"
    }
   ],
   "source": [
    "bankData2.shape"
   ]
  },
  {
   "cell_type": "markdown",
>>>>>>> Stashed changes
   "id": "0d3e23e1",
   "metadata": {},
   "source": [
    "We looked at the simple statistics of the continuous variables and noted that the means were close to the median, indicating that their distributions were fairly symmetrical and would not require any mathematical treatments prior to analysis."
   ]
  },
  {
   "cell_type": "code",
<<<<<<< Updated upstream
   "execution_count": 5,
=======
   "execution_count": 52,
>>>>>>> Stashed changes
   "id": "037546ac",
   "metadata": {},
   "outputs": [
    {
     "data": {
      "text/html": [
       "<div>\n",
       "<style scoped>\n",
       "    .dataframe tbody tr th:only-of-type {\n",
       "        vertical-align: middle;\n",
       "    }\n",
       "\n",
       "    .dataframe tbody tr th {\n",
       "        vertical-align: top;\n",
       "    }\n",
       "\n",
       "    .dataframe thead th {\n",
       "        text-align: right;\n",
       "    }\n",
       "</style>\n",
       "<table border=\"1\" class=\"dataframe\">\n",
       "  <thead>\n",
       "    <tr style=\"text-align: right;\">\n",
       "      <th></th>\n",
       "      <th>age</th>\n",
       "      <th>campaign</th>\n",
       "      <th>previous</th>\n",
       "      <th>emp.var.rate</th>\n",
       "      <th>cons.price.idx</th>\n",
       "      <th>cons.conf.idx</th>\n",
       "      <th>euribor3m</th>\n",
       "      <th>nr.employed</th>\n",
       "    </tr>\n",
       "  </thead>\n",
       "  <tbody>\n",
       "    <tr>\n",
       "      <th>count</th>\n",
<<<<<<< Updated upstream
       "      <td>25836.000000</td>\n",
       "      <td>25836.000000</td>\n",
       "      <td>25836.0</td>\n",
       "      <td>25836.000000</td>\n",
       "      <td>25836.000000</td>\n",
       "      <td>25836.000000</td>\n",
       "      <td>25836.000000</td>\n",
       "      <td>25836.000000</td>\n",
       "    </tr>\n",
       "    <tr>\n",
       "      <th>mean</th>\n",
       "      <td>38.842081</td>\n",
       "      <td>2.624361</td>\n",
       "      <td>0.0</td>\n",
       "      <td>0.238470</td>\n",
       "      <td>93.592630</td>\n",
       "      <td>-40.452427</td>\n",
       "      <td>3.814680</td>\n",
       "      <td>5176.048192</td>\n",
       "    </tr>\n",
       "    <tr>\n",
       "      <th>std</th>\n",
       "      <td>9.904549</td>\n",
       "      <td>2.880938</td>\n",
       "      <td>0.0</td>\n",
       "      <td>1.512054</td>\n",
       "      <td>0.557312</td>\n",
       "      <td>4.458733</td>\n",
       "      <td>1.643046</td>\n",
       "      <td>66.103034</td>\n",
       "    </tr>\n",
       "    <tr>\n",
       "      <th>min</th>\n",
       "      <td>18.000000</td>\n",
       "      <td>1.000000</td>\n",
       "      <td>0.0</td>\n",
=======
       "      <td>29178.000000</td>\n",
       "      <td>29178.000000</td>\n",
       "      <td>29178.0</td>\n",
       "      <td>29178.000000</td>\n",
       "      <td>29178.000000</td>\n",
       "      <td>29178.000000</td>\n",
       "      <td>29178.000000</td>\n",
       "      <td>29178.000000</td>\n",
       "      <td>29178.000000</td>\n",
       "    </tr>\n",
       "    <tr>\n",
       "      <th>mean</th>\n",
       "      <td>38.918740</td>\n",
       "      <td>2.552745</td>\n",
       "      <td>999.0</td>\n",
       "      <td>0.128898</td>\n",
       "      <td>0.020176</td>\n",
       "      <td>93.531724</td>\n",
       "      <td>-40.706056</td>\n",
       "      <td>3.571104</td>\n",
       "      <td>5166.720327</td>\n",
       "    </tr>\n",
       "    <tr>\n",
       "      <th>std</th>\n",
       "      <td>10.087607</td>\n",
       "      <td>2.765066</td>\n",
       "      <td>0.0</td>\n",
       "      <td>0.384174</td>\n",
       "      <td>1.575674</td>\n",
       "      <td>0.573170</td>\n",
       "      <td>4.661528</td>\n",
       "      <td>1.732183</td>\n",
       "      <td>70.490820</td>\n",
       "    </tr>\n",
       "    <tr>\n",
       "      <th>min</th>\n",
       "      <td>17.000000</td>\n",
       "      <td>1.000000</td>\n",
       "      <td>999.0</td>\n",
       "      <td>0.000000</td>\n",
>>>>>>> Stashed changes
       "      <td>-3.400000</td>\n",
       "      <td>92.201000</td>\n",
       "      <td>-50.800000</td>\n",
       "      <td>0.634000</td>\n",
       "      <td>4963.600000</td>\n",
       "    </tr>\n",
       "    <tr>\n",
       "      <th>25%</th>\n",
       "      <td>31.000000</td>\n",
       "      <td>1.000000</td>\n",
<<<<<<< Updated upstream
       "      <td>0.0</td>\n",
=======
       "      <td>999.0</td>\n",
       "      <td>0.000000</td>\n",
>>>>>>> Stashed changes
       "      <td>-1.800000</td>\n",
       "      <td>93.200000</td>\n",
       "      <td>-42.700000</td>\n",
<<<<<<< Updated upstream
       "      <td>1.410000</td>\n",
=======
       "      <td>1.344000</td>\n",
>>>>>>> Stashed changes
       "      <td>5099.100000</td>\n",
       "    </tr>\n",
       "    <tr>\n",
       "      <th>50%</th>\n",
       "      <td>37.000000</td>\n",
       "      <td>2.000000</td>\n",
<<<<<<< Updated upstream
       "      <td>0.0</td>\n",
=======
       "      <td>999.0</td>\n",
       "      <td>0.000000</td>\n",
>>>>>>> Stashed changes
       "      <td>1.100000</td>\n",
       "      <td>93.876000</td>\n",
       "      <td>-41.800000</td>\n",
<<<<<<< Updated upstream
       "      <td>4.858000</td>\n",
       "      <td>5195.800000</td>\n",
=======
       "      <td>4.857000</td>\n",
       "      <td>5191.000000</td>\n",
>>>>>>> Stashed changes
       "    </tr>\n",
       "    <tr>\n",
       "      <th>75%</th>\n",
       "      <td>45.000000</td>\n",
       "      <td>3.000000</td>\n",
<<<<<<< Updated upstream
       "      <td>0.0</td>\n",
=======
       "      <td>999.0</td>\n",
       "      <td>0.000000</td>\n",
>>>>>>> Stashed changes
       "      <td>1.400000</td>\n",
       "      <td>93.994000</td>\n",
       "      <td>-36.400000</td>\n",
       "      <td>4.962000</td>\n",
       "      <td>5228.100000</td>\n",
       "    </tr>\n",
       "    <tr>\n",
       "      <th>max</th>\n",
       "      <td>95.000000</td>\n",
       "      <td>43.000000</td>\n",
<<<<<<< Updated upstream
       "      <td>0.0</td>\n",
=======
       "      <td>999.0</td>\n",
       "      <td>6.000000</td>\n",
>>>>>>> Stashed changes
       "      <td>1.400000</td>\n",
       "      <td>94.767000</td>\n",
       "      <td>-26.900000</td>\n",
       "      <td>5.045000</td>\n",
       "      <td>5228.100000</td>\n",
       "    </tr>\n",
       "  </tbody>\n",
       "</table>\n",
       "</div>"
      ],
      "text/plain": [
<<<<<<< Updated upstream
       "                age      campaign  previous  emp.var.rate  cons.price.idx  \\\n",
       "count  25836.000000  25836.000000   25836.0  25836.000000    25836.000000   \n",
       "mean      38.842081      2.624361       0.0      0.238470       93.592630   \n",
       "std        9.904549      2.880938       0.0      1.512054        0.557312   \n",
       "min       18.000000      1.000000       0.0     -3.400000       92.201000   \n",
       "25%       31.000000      1.000000       0.0     -1.800000       93.200000   \n",
       "50%       37.000000      2.000000       0.0      1.100000       93.876000   \n",
       "75%       45.000000      3.000000       0.0      1.400000       93.994000   \n",
       "max       95.000000     43.000000       0.0      1.400000       94.767000   \n",
       "\n",
       "       cons.conf.idx     euribor3m   nr.employed  \n",
       "count   25836.000000  25836.000000  25836.000000  \n",
       "mean      -40.452427      3.814680   5176.048192  \n",
       "std         4.458733      1.643046     66.103034  \n",
       "min       -50.800000      0.634000   4963.600000  \n",
       "25%       -42.700000      1.410000   5099.100000  \n",
       "50%       -41.800000      4.858000   5195.800000  \n",
       "75%       -36.400000      4.962000   5228.100000  \n",
       "max       -26.900000      5.045000   5228.100000  "
      ]
     },
     "execution_count": 5,
=======
       "                age      campaign    pdays      previous  emp.var.rate  \\\n",
       "count  29178.000000  29178.000000  29178.0  29178.000000  29178.000000   \n",
       "mean      38.918740      2.552745    999.0      0.128898      0.020176   \n",
       "std       10.087607      2.765066      0.0      0.384174      1.575674   \n",
       "min       17.000000      1.000000    999.0      0.000000     -3.400000   \n",
       "25%       31.000000      1.000000    999.0      0.000000     -1.800000   \n",
       "50%       37.000000      2.000000    999.0      0.000000      1.100000   \n",
       "75%       45.000000      3.000000    999.0      0.000000      1.400000   \n",
       "max       95.000000     43.000000    999.0      6.000000      1.400000   \n",
       "\n",
       "       cons.price.idx  cons.conf.idx     euribor3m   nr.employed  \n",
       "count    29178.000000   29178.000000  29178.000000  29178.000000  \n",
       "mean        93.531724     -40.706056      3.571104   5166.720327  \n",
       "std          0.573170       4.661528      1.732183     70.490820  \n",
       "min         92.201000     -50.800000      0.634000   4963.600000  \n",
       "25%         93.075000     -42.700000      1.344000   5099.100000  \n",
       "50%         93.444000     -41.800000      4.857000   5191.000000  \n",
       "75%         93.994000     -36.400000      4.961000   5228.100000  \n",
       "max         94.767000     -26.900000      5.045000   5228.100000  "
      ]
     },
     "execution_count": 52,
>>>>>>> Stashed changes
     "metadata": {},
     "output_type": "execute_result"
    }
   ],
   "source": [
    "#Getting basic statistical overview of continuous variables using the describe function\n",
    "bankData2.describe()"
   ]
  },
  {
   "cell_type": "markdown",
   "id": "1e1b7fec",
   "metadata": {},
   "source": [
    "Looking at the first target variable, y, we see that it is remarkably unbalanced with over 25,000 \"no\" responses and less than 5,000 \"yes\" responses. While we could balance the target variable to even out the responses, we felt that increasing the \"yes\" answers would bias the outcomes of the models. Since the \"no\" responses are real we chose not to balance the variable in order to obtain more realistic models."
   ]
  },
  {
   "cell_type": "code",
<<<<<<< Updated upstream
   "execution_count": 6,
=======
   "execution_count": 34,
>>>>>>> Stashed changes
   "id": "e5bd655a",
   "metadata": {},
   "outputs": [
    {
     "name": "stdout",
     "output_type": "stream",
     "text": [
      "Percentages for  Y  : \n",
      "      Counts  Percent of Total\n",
      "no    23264          0.900449\n",
      "yes    2572          0.099551 \n",
      "\n",
      "\n"
     ]
    },
    {
     "data": {
      "text/plain": [
<<<<<<< Updated upstream
       "<seaborn.axisgrid.FacetGrid at 0x7fd8cca9eb20>"
      ]
     },
     "execution_count": 6,
=======
       "<seaborn.axisgrid.FacetGrid at 0x1ebb94a5d90>"
      ]
     },
     "execution_count": 34,
>>>>>>> Stashed changes
     "metadata": {},
     "output_type": "execute_result"
    },
    {
     "data": {
<<<<<<< Updated upstream
      "image/png": "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\n",
=======
      "image/png": "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\n",
>>>>>>> Stashed changes
      "text/plain": [
       "<Figure size 360x360 with 1 Axes>"
      ]
     },
     "metadata": {},
     "output_type": "display_data"
    }
   ],
   "source": [
    "print(\"Percentages for \",'Y',\" : \\n\",getCP(bankData2['y']),\"\\n\\n\")\n",
    "sns.catplot(x='y', data = bankData2, kind = 'count')"
   ]
  },
  {
   "cell_type": "markdown",
   "id": "2cc0c1c4",
   "metadata": {},
   "source": [
    "Our second target variable, education, consists of seven levels: illiterate, basic 4, 6, and 9 years, highschool, university degree, and professional course. We noted that the majority of customers had a university degree (34%), followed by highschool (25%). The basic 9 year (14%) and professional course (14.1%) were fairly close followed by basic 4 year (8%) and then basic 6 year (5%). The illiterate level was 0.0004%. Since the diferences between the levels was less than 30%, with the exception of 'illiterate', we chose to keep the data as is."
   ]
  },
  {
   "cell_type": "code",
<<<<<<< Updated upstream
   "execution_count": 7,
=======
   "execution_count": 58,
>>>>>>> Stashed changes
   "id": "4887f140",
   "metadata": {},
   "outputs": [
    {
     "name": "stdout",
     "output_type": "stream",
     "text": [
      "The following is a breakdown of the class counts of the Education Variable:\n",
      "\n",
<<<<<<< Updated upstream
      " university.degree      8777\n",
      "high.school            6458\n",
      "professional.course    3699\n",
      "basic.9y               3682\n",
      "basic.4y               2008\n",
      "basic.6y               1202\n",
      "illiterate               10\n",
=======
      " university.degree      9865\n",
      "high.school            7389\n",
      "basic.9y               4169\n",
      "professional.course    4137\n",
      "basic.4y               2256\n",
      "basic.6y               1351\n",
      "illiterate               11\n",
>>>>>>> Stashed changes
      "Name: education, dtype: int64\n"
     ]
    },
    {
     "data": {
      "text/plain": [
<<<<<<< Updated upstream
       "<seaborn.axisgrid.FacetGrid at 0x7fd8ce30efa0>"
      ]
     },
     "execution_count": 7,
=======
       "<seaborn.axisgrid.FacetGrid at 0x1ebbfd5a790>"
      ]
     },
     "execution_count": 58,
>>>>>>> Stashed changes
     "metadata": {},
     "output_type": "execute_result"
    },
    {
     "data": {
<<<<<<< Updated upstream
      "image/png": "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\n",
=======
      "image/png": "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\n",
>>>>>>> Stashed changes
      "text/plain": [
       "<Figure size 713.035x504 with 1 Axes>"
      ]
     },
     "metadata": {},
     "output_type": "display_data"
    }
   ],
   "source": [
    "print(\"The following is a breakdown of the class counts of the Education Variable:\\n\\n\",bankData2.education.value_counts())\n",
    "sns.set(rc={'figure.figsize':(11.7,8.27)})\n",
    "sns.catplot(x='education', data = bankData2, kind = 'count', height=7, aspect=11.7/8.27)"
   ]
  },
  {
   "cell_type": "markdown",
   "id": "6672317a",
   "metadata": {},
   "source": [
    "The code below returns the counts and percentages of each level in the categorical variables. For jobs, most customers are in admin (28%) followed by blue-collar (19%) and technician (18%). The marital status for the majority of customers is married (57%), followed by single (31%), and divorced (12%). There were more customers with university degrees (34%) than all other levels of education, while the those customers who had housing loans (54%) were close to those without housing loans (46%).\n",
    "\n",
    "From looking at the loan variable, we noted that only 16% of customers had taken out a personal loan, and from the contact variable we saw that the majority of customers used cellphones (67%) over telephones.\n",
    "\n",
    "Interestingly, significantly more customers were contacted in the month of May (32%) than any other month, though we cannot make any inferences about why this would be the case since it is likely due to the bank's protocols. The day of the week did not appear to have any influence on customer count, while the variable for outcome of the previous marketing campaign, poutcome, did show that the majority of customers had nonexistent outcomes (85%).\n"
   ]
  },
  {
   "cell_type": "code",
<<<<<<< Updated upstream
   "execution_count": 8,
=======
   "execution_count": 59,
>>>>>>> Stashed changes
   "id": "7d85f5d6",
   "metadata": {},
   "outputs": [
    {
     "name": "stdout",
     "output_type": "stream",
     "text": [
<<<<<<< Updated upstream
      "Percentages for  job  : \n",
      "                Counts  Percent of Total\n",
      "admin.           7368          0.285183\n",
      "blue-collar      4944          0.191361\n",
      "technician       4739          0.183426\n",
      "services         2439          0.094403\n",
      "management       1945          0.075283\n",
      "self-employed     943          0.036499\n",
      "entrepreneur      941          0.036422\n",
      "retired           895          0.034642\n",
      "unemployed        607          0.023494\n",
      "housemaid         600          0.023223\n",
      "student           415          0.016063 \n",
      "\n",
      "\n",
      "Percentages for  marital  : \n",
      "           Counts  Percent of Total\n",
      "married    14969          0.579385\n",
      "single      7838          0.303375\n",
      "divorced    3029          0.117240 \n",
      "\n",
      "\n",
      "Percentages for  education  : \n",
      "                      Counts  Percent of Total\n",
      "university.degree      8777          0.339720\n",
      "high.school            6458          0.249961\n",
      "professional.course    3699          0.143172\n",
      "basic.9y               3682          0.142514\n",
      "basic.4y               2008          0.077721\n",
      "basic.6y               1202          0.046524\n",
      "illiterate               10          0.000387 \n",
      "\n",
      "\n",
      "Percentages for  housing  : \n",
      "      Counts  Percent of Total\n",
      "yes   13863          0.536577\n",
      "no    11973          0.463423 \n",
      "\n",
      "\n",
      "Percentages for  loan  : \n",
      "      Counts  Percent of Total\n",
      "no    21793          0.843513\n",
      "yes    4043          0.156487 \n",
      "\n",
      "\n",
      "Percentages for  contact  : \n",
      "            Counts  Percent of Total\n",
      "cellular    16133          0.624439\n",
      "telephone    9703          0.375561 \n",
      "\n",
      "\n",
      "Percentages for  month  : \n",
      "      Counts  Percent of Total\n",
      "may    8140          0.315064\n",
      "jul    4878          0.188806\n",
      "aug    4273          0.165389\n",
      "jun    3338          0.129200\n",
      "nov    2632          0.101873\n",
      "apr    1523          0.058949\n",
      "oct     374          0.014476\n",
      "mar     336          0.013005\n",
      "sep     255          0.009870\n",
      "dec      87          0.003367 \n",
      "\n",
      "\n",
      "Percentages for  day_of_week  : \n",
      "      Counts  Percent of Total\n",
      "thu    5411          0.209436\n",
      "mon    5338          0.206611\n",
      "wed    5224          0.202198\n",
      "tue    5045          0.195270\n",
      "fri    4818          0.186484 \n",
=======
      "Percentages for  Pdays  : \n",
      "      Counts  Percent of Total\n",
      "999   29178               1.0 \n",
>>>>>>> Stashed changes
      "\n",
      "\n"
     ]
    }
   ],
   "source": [
<<<<<<< Updated upstream
    "for i in catCol:\n",
    "    print(\"Percentages for \",i,\" : \\n\",getCP(bankData2[i]),\"\\n\\n\")"
=======
    "def getCP(column):\n",
    "    xCount = column.value_counts()\n",
    "    xPercentages = xCount/len(column)\n",
    "    outData = pd.DataFrame()\n",
    "    outData['Counts'] = xCount\n",
    "    outData['Percent of Total'] = xPercentages\n",
    "    return outData\n",
    "\n",
    "# for i in catCol:\n",
    "#     print(\"Percentages for \",i,\" : \\n\",getCP(bankData2[i]),\"\\n\\n\")\n",
    "print(\"Percentages for \",'Pdays',\" : \\n\",getCP(bankData2['pdays']),\"\\n\\n\")"
>>>>>>> Stashed changes
   ]
  },
  {
   "cell_type": "markdown",
   "id": "ee28989c",
   "metadata": {},
   "source": [
    "We performed a One Hot encoding on the categorical variables and stored the resulting dataset as a separate dataset before concatenating it with the continuous variables from the cleaned dataset."
   ]
  },
  {
   "cell_type": "code",
<<<<<<< Updated upstream
   "execution_count": 9,
=======
   "execution_count": 60,
>>>>>>> Stashed changes
   "id": "f4f27f28",
   "metadata": {
    "scrolled": false
   },
<<<<<<< Updated upstream
   "outputs": [
    {
     "data": {
      "text/html": [
       "<div>\n",
       "<style scoped>\n",
       "    .dataframe tbody tr th:only-of-type {\n",
       "        vertical-align: middle;\n",
       "    }\n",
       "\n",
       "    .dataframe tbody tr th {\n",
       "        vertical-align: top;\n",
       "    }\n",
       "\n",
       "    .dataframe thead th {\n",
       "        text-align: right;\n",
       "    }\n",
       "</style>\n",
       "<table border=\"1\" class=\"dataframe\">\n",
       "  <thead>\n",
       "    <tr style=\"text-align: right;\">\n",
       "      <th></th>\n",
       "      <th>age</th>\n",
       "      <th>campaign</th>\n",
       "      <th>previous</th>\n",
       "      <th>emp.var.rate</th>\n",
       "      <th>cons.price.idx</th>\n",
       "      <th>cons.conf.idx</th>\n",
       "      <th>euribor3m</th>\n",
       "      <th>nr.employed</th>\n",
       "      <th>job_admin.</th>\n",
       "      <th>job_blue-collar</th>\n",
       "      <th>...</th>\n",
       "      <th>month_mar</th>\n",
       "      <th>month_may</th>\n",
       "      <th>month_nov</th>\n",
       "      <th>month_oct</th>\n",
       "      <th>month_sep</th>\n",
       "      <th>day_of_week_fri</th>\n",
       "      <th>day_of_week_mon</th>\n",
       "      <th>day_of_week_thu</th>\n",
       "      <th>day_of_week_tue</th>\n",
       "      <th>day_of_week_wed</th>\n",
       "    </tr>\n",
       "  </thead>\n",
       "  <tbody>\n",
       "    <tr>\n",
       "      <th>0</th>\n",
       "      <td>1.732361</td>\n",
       "      <td>-0.563842</td>\n",
       "      <td>0.0</td>\n",
       "      <td>0.569786</td>\n",
       "      <td>0.720204</td>\n",
       "      <td>0.908892</td>\n",
       "      <td>0.634395</td>\n",
       "      <td>0.226194</td>\n",
       "      <td>0</td>\n",
       "      <td>0</td>\n",
       "      <td>...</td>\n",
       "      <td>0</td>\n",
       "      <td>1</td>\n",
       "      <td>0</td>\n",
       "      <td>0</td>\n",
       "      <td>0</td>\n",
       "      <td>0</td>\n",
       "      <td>1</td>\n",
       "      <td>0</td>\n",
       "      <td>0</td>\n",
       "      <td>0</td>\n",
       "    </tr>\n",
       "    <tr>\n",
       "      <th>1</th>\n",
       "      <td>-0.185987</td>\n",
       "      <td>-0.563842</td>\n",
       "      <td>0.0</td>\n",
       "      <td>0.569786</td>\n",
       "      <td>0.720204</td>\n",
       "      <td>0.908892</td>\n",
       "      <td>0.634395</td>\n",
       "      <td>0.226194</td>\n",
       "      <td>0</td>\n",
       "      <td>0</td>\n",
       "      <td>...</td>\n",
       "      <td>0</td>\n",
       "      <td>1</td>\n",
       "      <td>0</td>\n",
       "      <td>0</td>\n",
       "      <td>0</td>\n",
       "      <td>0</td>\n",
       "      <td>1</td>\n",
       "      <td>0</td>\n",
       "      <td>0</td>\n",
       "      <td>0</td>\n",
       "    </tr>\n",
       "    <tr>\n",
       "      <th>2</th>\n",
       "      <td>0.116910</td>\n",
       "      <td>-0.563842</td>\n",
       "      <td>0.0</td>\n",
       "      <td>0.569786</td>\n",
       "      <td>0.720204</td>\n",
       "      <td>0.908892</td>\n",
       "      <td>0.634395</td>\n",
       "      <td>0.226194</td>\n",
       "      <td>1</td>\n",
       "      <td>0</td>\n",
       "      <td>...</td>\n",
       "      <td>0</td>\n",
       "      <td>1</td>\n",
       "      <td>0</td>\n",
       "      <td>0</td>\n",
       "      <td>0</td>\n",
       "      <td>0</td>\n",
       "      <td>1</td>\n",
       "      <td>0</td>\n",
       "      <td>0</td>\n",
       "      <td>0</td>\n",
       "    </tr>\n",
       "    <tr>\n",
       "      <th>3</th>\n",
       "      <td>1.732361</td>\n",
       "      <td>-0.563842</td>\n",
       "      <td>0.0</td>\n",
       "      <td>0.569786</td>\n",
       "      <td>0.720204</td>\n",
       "      <td>0.908892</td>\n",
       "      <td>0.634395</td>\n",
       "      <td>0.226194</td>\n",
       "      <td>0</td>\n",
       "      <td>0</td>\n",
       "      <td>...</td>\n",
       "      <td>0</td>\n",
       "      <td>1</td>\n",
       "      <td>0</td>\n",
       "      <td>0</td>\n",
       "      <td>0</td>\n",
       "      <td>0</td>\n",
       "      <td>1</td>\n",
       "      <td>0</td>\n",
       "      <td>0</td>\n",
       "      <td>0</td>\n",
       "    </tr>\n",
       "    <tr>\n",
       "      <th>4</th>\n",
       "      <td>2.035258</td>\n",
       "      <td>-0.563842</td>\n",
       "      <td>0.0</td>\n",
       "      <td>0.569786</td>\n",
       "      <td>0.720204</td>\n",
       "      <td>0.908892</td>\n",
       "      <td>0.634395</td>\n",
       "      <td>0.226194</td>\n",
       "      <td>1</td>\n",
       "      <td>0</td>\n",
       "      <td>...</td>\n",
       "      <td>0</td>\n",
       "      <td>1</td>\n",
       "      <td>0</td>\n",
       "      <td>0</td>\n",
       "      <td>0</td>\n",
       "      <td>0</td>\n",
       "      <td>1</td>\n",
       "      <td>0</td>\n",
       "      <td>0</td>\n",
       "      <td>0</td>\n",
       "    </tr>\n",
       "  </tbody>\n",
       "</table>\n",
       "<p>5 rows × 50 columns</p>\n",
       "</div>"
      ],
      "text/plain": [
       "        age  campaign  previous  emp.var.rate  cons.price.idx  cons.conf.idx  \\\n",
       "0  1.732361 -0.563842       0.0      0.569786        0.720204       0.908892   \n",
       "1 -0.185987 -0.563842       0.0      0.569786        0.720204       0.908892   \n",
       "2  0.116910 -0.563842       0.0      0.569786        0.720204       0.908892   \n",
       "3  1.732361 -0.563842       0.0      0.569786        0.720204       0.908892   \n",
       "4  2.035258 -0.563842       0.0      0.569786        0.720204       0.908892   \n",
       "\n",
       "   euribor3m  nr.employed  job_admin.  job_blue-collar  ...  month_mar  \\\n",
       "0   0.634395     0.226194           0                0  ...          0   \n",
       "1   0.634395     0.226194           0                0  ...          0   \n",
       "2   0.634395     0.226194           1                0  ...          0   \n",
       "3   0.634395     0.226194           0                0  ...          0   \n",
       "4   0.634395     0.226194           1                0  ...          0   \n",
       "\n",
       "   month_may  month_nov  month_oct  month_sep  day_of_week_fri  \\\n",
       "0          1          0          0          0                0   \n",
       "1          1          0          0          0                0   \n",
       "2          1          0          0          0                0   \n",
       "3          1          0          0          0                0   \n",
       "4          1          0          0          0                0   \n",
       "\n",
       "   day_of_week_mon  day_of_week_thu  day_of_week_tue  day_of_week_wed  \n",
       "0                1                0                0                0  \n",
       "1                1                0                0                0  \n",
       "2                1                0                0                0  \n",
       "3                1                0                0                0  \n",
       "4                1                0                0                0  \n",
       "\n",
       "[5 rows x 50 columns]"
      ]
     },
     "execution_count": 9,
     "metadata": {},
     "output_type": "execute_result"
    }
   ],
   "source": [
    "#Declaring Scalar object\n",
    "scl_obj = StandardScaler()\n",
    "\n",
    "#One hot encoding of ALL categorical variables\n",
    "OneHotDF = pd.get_dummies(bankData2[catCol],drop_first=False)\n",
    "\n",
    "#Scaling non-encoded data\n",
    "conVar = bankData2.select_dtypes(exclude='object')\n",
    "colnames = pd.Series(conVar.columns)\n",
    "conVarScaled = scl_obj.fit_transform(conVar)\n",
    "conVarScaled = pd.DataFrame(data = conVarScaled, columns= colnames)\n",
    "\n",
    "#Combining with continuous variables from cleaned dataset\n",
    "OneHotDF = OneHotDF.reset_index()\n",
    "OneHotDF.pop('index')\n",
    "OneHotDF = pd.concat([conVarScaled,OneHotDF], axis = 1)\n",
    "OneHotDF.head()\n",
    "\n",
    "#https://github.com/jakemdrew/DataMiningNotebooks/blob/master/01.%20Pandas.ipynb"
   ]
  },
  {
   "cell_type": "code",
   "execution_count": 10,
   "id": "6fbb0920",
   "metadata": {},
=======
>>>>>>> Stashed changes
   "outputs": [
    {
     "data": {
      "text/html": [
       "<div>\n",
       "<style scoped>\n",
       "    .dataframe tbody tr th:only-of-type {\n",
       "        vertical-align: middle;\n",
       "    }\n",
       "\n",
       "    .dataframe tbody tr th {\n",
       "        vertical-align: top;\n",
       "    }\n",
       "\n",
       "    .dataframe thead th {\n",
       "        text-align: right;\n",
       "    }\n",
       "</style>\n",
       "<table border=\"1\" class=\"dataframe\">\n",
       "  <thead>\n",
       "    <tr style=\"text-align: right;\">\n",
       "      <th></th>\n",
       "      <th>age</th>\n",
       "      <th>campaign</th>\n",
       "      <th>previous</th>\n",
       "      <th>emp.var.rate</th>\n",
       "      <th>cons.price.idx</th>\n",
       "      <th>cons.conf.idx</th>\n",
       "      <th>euribor3m</th>\n",
       "      <th>nr.employed</th>\n",
<<<<<<< Updated upstream
       "      <th>index</th>\n",
=======
>>>>>>> Stashed changes
       "      <th>job_admin.</th>\n",
       "      <th>...</th>\n",
       "      <th>month_nov</th>\n",
       "      <th>month_oct</th>\n",
       "      <th>month_sep</th>\n",
       "      <th>day_of_week_fri</th>\n",
       "      <th>day_of_week_mon</th>\n",
       "      <th>day_of_week_thu</th>\n",
       "      <th>day_of_week_tue</th>\n",
       "      <th>day_of_week_wed</th>\n",
<<<<<<< Updated upstream
       "      <th>y_no</th>\n",
       "      <th>y_yes</th>\n",
=======
       "      <th>poutcome_failure</th>\n",
       "      <th>poutcome_nonexistent</th>\n",
>>>>>>> Stashed changes
       "    </tr>\n",
       "  </thead>\n",
       "  <tbody>\n",
       "    <tr>\n",
       "      <th>0</th>\n",
<<<<<<< Updated upstream
       "      <td>1.732361</td>\n",
       "      <td>-0.563842</td>\n",
       "      <td>0.0</td>\n",
       "      <td>0.569786</td>\n",
       "      <td>0.720204</td>\n",
       "      <td>0.908892</td>\n",
       "      <td>0.634395</td>\n",
       "      <td>0.226194</td>\n",
       "      <td>0</td>\n",
=======
       "      <td>1.693321</td>\n",
       "      <td>-0.561568</td>\n",
       "      <td>0.0</td>\n",
       "      <td>-0.335527</td>\n",
       "      <td>0.685321</td>\n",
       "      <td>0.80654</td>\n",
       "      <td>0.923759</td>\n",
       "      <td>0.742368</td>\n",
       "      <td>0.344443</td>\n",
>>>>>>> Stashed changes
       "      <td>0</td>\n",
       "      <td>...</td>\n",
       "      <td>0</td>\n",
       "      <td>0</td>\n",
       "      <td>0</td>\n",
       "      <td>0</td>\n",
       "      <td>1</td>\n",
       "      <td>0</td>\n",
       "      <td>0</td>\n",
       "      <td>0</td>\n",
<<<<<<< Updated upstream
       "      <td>1</td>\n",
       "      <td>0</td>\n",
       "    </tr>\n",
       "    <tr>\n",
       "      <th>1</th>\n",
       "      <td>-0.185987</td>\n",
       "      <td>-0.563842</td>\n",
       "      <td>0.0</td>\n",
       "      <td>0.569786</td>\n",
       "      <td>0.720204</td>\n",
       "      <td>0.908892</td>\n",
       "      <td>0.634395</td>\n",
       "      <td>0.226194</td>\n",
       "      <td>2</td>\n",
       "      <td>0</td>\n",
=======
       "      <td>0</td>\n",
       "      <td>1</td>\n",
       "    </tr>\n",
       "    <tr>\n",
       "      <th>1</th>\n",
       "      <td>-0.190211</td>\n",
       "      <td>-0.561568</td>\n",
       "      <td>0.0</td>\n",
       "      <td>-0.335527</td>\n",
       "      <td>0.685321</td>\n",
       "      <td>0.80654</td>\n",
       "      <td>0.923759</td>\n",
       "      <td>0.742368</td>\n",
       "      <td>0.344443</td>\n",
       "      <td>0</td>\n",
       "      <td>...</td>\n",
       "      <td>0</td>\n",
       "      <td>0</td>\n",
       "      <td>0</td>\n",
       "      <td>0</td>\n",
       "      <td>1</td>\n",
       "      <td>0</td>\n",
       "      <td>0</td>\n",
       "      <td>0</td>\n",
       "      <td>0</td>\n",
       "      <td>1</td>\n",
       "    </tr>\n",
       "    <tr>\n",
       "      <th>2</th>\n",
       "      <td>0.107189</td>\n",
       "      <td>-0.561568</td>\n",
       "      <td>0.0</td>\n",
       "      <td>-0.335527</td>\n",
       "      <td>0.685321</td>\n",
       "      <td>0.80654</td>\n",
       "      <td>0.923759</td>\n",
       "      <td>0.742368</td>\n",
       "      <td>0.344443</td>\n",
       "      <td>1</td>\n",
>>>>>>> Stashed changes
       "      <td>...</td>\n",
       "      <td>0</td>\n",
       "      <td>0</td>\n",
       "      <td>0</td>\n",
       "      <td>0</td>\n",
       "      <td>1</td>\n",
       "      <td>0</td>\n",
       "      <td>0</td>\n",
       "      <td>0</td>\n",
<<<<<<< Updated upstream
       "      <td>1</td>\n",
       "      <td>0</td>\n",
       "    </tr>\n",
       "    <tr>\n",
       "      <th>2</th>\n",
       "      <td>0.116910</td>\n",
       "      <td>-0.563842</td>\n",
       "      <td>0.0</td>\n",
       "      <td>0.569786</td>\n",
       "      <td>0.720204</td>\n",
       "      <td>0.908892</td>\n",
       "      <td>0.634395</td>\n",
       "      <td>0.226194</td>\n",
       "      <td>3</td>\n",
       "      <td>1</td>\n",
       "      <td>...</td>\n",
       "      <td>0</td>\n",
       "      <td>0</td>\n",
       "      <td>0</td>\n",
       "      <td>0</td>\n",
       "      <td>1</td>\n",
       "      <td>0</td>\n",
       "      <td>0</td>\n",
       "      <td>0</td>\n",
       "      <td>1</td>\n",
       "      <td>0</td>\n",
       "    </tr>\n",
       "    <tr>\n",
       "      <th>3</th>\n",
       "      <td>1.732361</td>\n",
       "      <td>-0.563842</td>\n",
       "      <td>0.0</td>\n",
       "      <td>0.569786</td>\n",
       "      <td>0.720204</td>\n",
       "      <td>0.908892</td>\n",
       "      <td>0.634395</td>\n",
       "      <td>0.226194</td>\n",
       "      <td>4</td>\n",
=======
       "      <td>0</td>\n",
       "      <td>1</td>\n",
       "    </tr>\n",
       "    <tr>\n",
       "      <th>3</th>\n",
       "      <td>1.693321</td>\n",
       "      <td>-0.561568</td>\n",
       "      <td>0.0</td>\n",
       "      <td>-0.335527</td>\n",
       "      <td>0.685321</td>\n",
       "      <td>0.80654</td>\n",
       "      <td>0.923759</td>\n",
       "      <td>0.742368</td>\n",
       "      <td>0.344443</td>\n",
>>>>>>> Stashed changes
       "      <td>0</td>\n",
       "      <td>...</td>\n",
       "      <td>0</td>\n",
       "      <td>0</td>\n",
       "      <td>0</td>\n",
       "      <td>0</td>\n",
       "      <td>1</td>\n",
       "      <td>0</td>\n",
       "      <td>0</td>\n",
       "      <td>0</td>\n",
<<<<<<< Updated upstream
       "      <td>1</td>\n",
       "      <td>0</td>\n",
       "    </tr>\n",
       "    <tr>\n",
       "      <th>4</th>\n",
       "      <td>2.035258</td>\n",
       "      <td>-0.563842</td>\n",
       "      <td>0.0</td>\n",
       "      <td>0.569786</td>\n",
       "      <td>0.720204</td>\n",
       "      <td>0.908892</td>\n",
       "      <td>0.634395</td>\n",
       "      <td>0.226194</td>\n",
       "      <td>6</td>\n",
=======
       "      <td>0</td>\n",
       "      <td>1</td>\n",
       "    </tr>\n",
       "    <tr>\n",
       "      <th>4</th>\n",
       "      <td>1.990720</td>\n",
       "      <td>-0.561568</td>\n",
       "      <td>0.0</td>\n",
       "      <td>-0.335527</td>\n",
       "      <td>0.685321</td>\n",
       "      <td>0.80654</td>\n",
       "      <td>0.923759</td>\n",
       "      <td>0.742368</td>\n",
       "      <td>0.344443</td>\n",
>>>>>>> Stashed changes
       "      <td>1</td>\n",
       "      <td>...</td>\n",
       "      <td>0</td>\n",
       "      <td>0</td>\n",
       "      <td>0</td>\n",
       "      <td>0</td>\n",
       "      <td>1</td>\n",
       "      <td>0</td>\n",
       "      <td>0</td>\n",
       "      <td>0</td>\n",
<<<<<<< Updated upstream
       "      <td>1</td>\n",
       "      <td>0</td>\n",
       "    </tr>\n",
       "  </tbody>\n",
       "</table>\n",
       "<p>5 rows × 46 columns</p>\n",
       "</div>"
      ],
      "text/plain": [
       "        age  campaign  previous  emp.var.rate  cons.price.idx  cons.conf.idx  \\\n",
       "0  1.732361 -0.563842       0.0      0.569786        0.720204       0.908892   \n",
       "1 -0.185987 -0.563842       0.0      0.569786        0.720204       0.908892   \n",
       "2  0.116910 -0.563842       0.0      0.569786        0.720204       0.908892   \n",
       "3  1.732361 -0.563842       0.0      0.569786        0.720204       0.908892   \n",
       "4  2.035258 -0.563842       0.0      0.569786        0.720204       0.908892   \n",
       "\n",
       "   euribor3m  nr.employed  index  job_admin.  ...  month_nov  month_oct  \\\n",
       "0   0.634395     0.226194      0           0  ...          0          0   \n",
       "1   0.634395     0.226194      2           0  ...          0          0   \n",
       "2   0.634395     0.226194      3           1  ...          0          0   \n",
       "3   0.634395     0.226194      4           0  ...          0          0   \n",
       "4   0.634395     0.226194      6           1  ...          0          0   \n",
       "\n",
       "   month_sep  day_of_week_fri  day_of_week_mon  day_of_week_thu  \\\n",
       "0          0                0                1                0   \n",
       "1          0                0                1                0   \n",
       "2          0                0                1                0   \n",
       "3          0                0                1                0   \n",
       "4          0                0                1                0   \n",
       "\n",
       "   day_of_week_tue  day_of_week_wed  y_no  y_yes  \n",
       "0                0                0     1      0  \n",
       "1                0                0     1      0  \n",
       "2                0                0     1      0  \n",
       "3                0                0     1      0  \n",
       "4                0                0     1      0  \n",
       "\n",
       "[5 rows x 46 columns]"
      ]
     },
     "execution_count": 10,
=======
       "      <td>0</td>\n",
       "      <td>1</td>\n",
       "    </tr>\n",
       "  </tbody>\n",
       "</table>\n",
       "<p>5 rows × 53 columns</p>\n",
       "</div>"
      ],
      "text/plain": [
       "        age  campaign  pdays  previous  emp.var.rate  cons.price.idx  \\\n",
       "0  1.693321 -0.561568    0.0 -0.335527      0.685321         0.80654   \n",
       "1 -0.190211 -0.561568    0.0 -0.335527      0.685321         0.80654   \n",
       "2  0.107189 -0.561568    0.0 -0.335527      0.685321         0.80654   \n",
       "3  1.693321 -0.561568    0.0 -0.335527      0.685321         0.80654   \n",
       "4  1.990720 -0.561568    0.0 -0.335527      0.685321         0.80654   \n",
       "\n",
       "   cons.conf.idx  euribor3m  nr.employed  job_admin.  ...  month_nov  \\\n",
       "0       0.923759   0.742368     0.344443           0  ...          0   \n",
       "1       0.923759   0.742368     0.344443           0  ...          0   \n",
       "2       0.923759   0.742368     0.344443           1  ...          0   \n",
       "3       0.923759   0.742368     0.344443           0  ...          0   \n",
       "4       0.923759   0.742368     0.344443           1  ...          0   \n",
       "\n",
       "   month_oct  month_sep  day_of_week_fri  day_of_week_mon  day_of_week_thu  \\\n",
       "0          0          0                0                1                0   \n",
       "1          0          0                0                1                0   \n",
       "2          0          0                0                1                0   \n",
       "3          0          0                0                1                0   \n",
       "4          0          0                0                1                0   \n",
       "\n",
       "   day_of_week_tue  day_of_week_wed  poutcome_failure  poutcome_nonexistent  \n",
       "0                0                0                 0                     1  \n",
       "1                0                0                 0                     1  \n",
       "2                0                0                 0                     1  \n",
       "3                0                0                 0                     1  \n",
       "4                0                0                 0                     1  \n",
       "\n",
       "[5 rows x 53 columns]"
      ]
     },
     "execution_count": 60,
>>>>>>> Stashed changes
     "metadata": {},
     "output_type": "execute_result"
    }
   ],
   "source": [
<<<<<<< Updated upstream
    "# Creating separate dataset for predicting education\n",
    "educData = bankData2\n",
    "educTarget = educData.education\n",
    "educData = educData.drop(columns='education')\n",
    "\n",
    "catCol = ['job', 'marital', 'housing', 'loan', \n",
    "          'contact', 'month', 'day_of_week','y']\n",
=======
    "#Declaring Scalar object\n",
    "scl_obj = StandardScaler()\n",
    "\n",
    "#One hot encoding of ALL categorical variables\n",
    "OneHotDF = pd.get_dummies(bankData2[catCol],drop_first=False)\n",
    "\n",
    "#Scaling non-encoded data\n",
    "conVar = bankData2.select_dtypes(exclude='object')\n",
    "colnames = pd.Series(conVar.columns)\n",
    "conVarScaled = scl_obj.fit_transform(conVar)\n",
    "conVarScaled = pd.DataFrame(data = conVarScaled, columns= colnames)\n",
    "\n",
    "#Combining with continuous variables from cleaned dataset\n",
    "OneHotDF = OneHotDF.reset_index()\n",
    "OneHotDF.pop('index')\n",
    "OneHotDF = pd.concat([conVarScaled,OneHotDF], axis = 1)\n",
    "OneHotDF.head()\n",
>>>>>>> Stashed changes
    "\n",
    "oneHotEduc = pd.get_dummies(educData[catCol],drop_first=False)\n",
    "oneHotEduc = oneHotEduc.reset_index()\n",
    "oneHotEduc = pd.concat([conVarScaled,oneHotEduc], axis = 1)\n",
    "oneHotEduc.head()\n"
   ]
  },
  {
   "cell_type": "markdown",
   "id": "60f2bad1",
   "metadata": {},
   "source": [
    "The next step was to normalize and finalize preparing the dataset. We used SciKit's StandardScaler, which would fix any non-Gaussian curves to center around zero and force all standard deviations to one.\n",
    "\n",
    "https://scikit-learn.org/stable/modules/generated/sklearn.preprocessing.StandardScaler.html"
   ]
  },
  {
   "cell_type": "markdown",
   "id": "2c21f6c2",
   "metadata": {},
   "source": [
    "### Part 2\n",
    "\n",
    "***Describe the final dataset that is used for classification/regression (include a description of any newly formed variables you created).***"
   ]
  },
  {
   "cell_type": "markdown",
   "id": "5b1f7261",
   "metadata": {},
   "source": [
    "As previously stated, the final, cleaned, dataset we used had all rows with missing data removed removed mainly because the large size of the original data set allowed us to do so while maintaining the assignment's requirements. This meant that rather than trying to impute categorical variables, we could simply remove those rows while still meeting our instance size requirements.\n",
    "\n",
    "After the missing variables were removed, we one-hot-encoded the categorical features so that we could work with only numeric features. This format is required for certain modeling algorithms that we planned to utilize for the analyses.\n",
    "\n",
    "Next, the data set was converted from a data frame to a list format. This was done in order to satisfy the cross validation training algorithim that requires this type of data input.\n",
    "\n",
    "Finally, the numeric, list format data set was scaled. This is required for many classifiers including, but not limited to, Random Forest and k-Nearest Neighbor."
   ]
  },
  {
   "cell_type": "markdown",
   "id": "4dd0422c",
   "metadata": {},
   "source": [
    "## Modeling and Evaluation"
   ]
  },
  {
   "cell_type": "markdown",
   "id": "2602296d",
   "metadata": {},
   "source": [
    "### Part 1\n",
    "\n",
    "***Choose and explain your evaluation metrics that you will use (i.e., accuracy,\n",
    "precision, recall, F-measure, or any metric we have discussed). Why are the measure(s) appropriate for analyzing the results of your modeling? Give a detailed explanation backing up any assertions.***"
   ]
  },
  {
   "cell_type": "markdown",
   "id": "357065e2",
   "metadata": {},
   "source": [
    "For the goal of predicting the target variable, \"y\", we chose to focus on precision because our goal was to minimize the number of false positives which, in turn, means minimizing the potential loss of funds spend towards marketing. This last point is especially important because, we would not want to direct a client to waste resources on customers who we predict will say \"yes\" to a loan when they will actually just say \"no\". Alternatively, if the marketing budget of a client was not a concern, focusing on recall would maximize potential customers saying \"yes\". In short, precision focuses on those customers who are most likely to choose \"yes\" to a short term loan, while recall focuses on maximizing potential returns. The reason why we chose precision over accuracy for this goal was because, as we previously showed, our target variable is unbalanced with approximately 87% \"no\" responses which infers that the accuracy of the model would be high but would also be biased towards over-predicting \"no\" responses.\n",
    "\n",
    "For the goal of predicting the level of education a customer has that will make them more likely to say \"yes\" to a loan we chose to use accuracy. Our reasoning for using accuracy was that the target variable in this case, education, was not greatly unbalanced with a reasonable differences between levels. Since we did not have to worry about unbalanced data, we chose accuracy because we wanted to know the percentage of correct predictions.\n"
   ]
  },
  {
   "cell_type": "markdown",
   "id": "bf7a6dde",
   "metadata": {},
   "source": [
    "### Part 2\n",
    "\n",
    "***Choose the method you will use for dividing your data into training and\n",
    "testing splits (i.e., are you using Stratified 10-fold cross validation? Why?). Explain why\n",
    "your chosen method is appropriate or use more than one method as appropriate. For example, if you are using time series data then you should be using continuous training and testing sets across time.***"
   ]
  },
  {
   "cell_type": "markdown",
   "id": "baaf353d",
   "metadata": {},
   "source": [
    "An important aspect of choosing our method for training/testing splitting was analyzing the balance of our target variable. We did so by comparing the number of responses of each level within the target variable."
   ]
  },
  {
   "cell_type": "code",
<<<<<<< Updated upstream
   "execution_count": 11,
=======
   "execution_count": 61,
>>>>>>> Stashed changes
   "id": "f0b93d87",
   "metadata": {},
   "outputs": [
    {
     "name": "stdout",
     "output_type": "stream",
     "text": [
      "Percentages for Target variable, Y: \n",
      "\n",
      "      Counts  Percent of Total\n",
<<<<<<< Updated upstream
      "no    23264          0.900449\n",
      "yes    2572          0.099551 \n",
=======
      "no    26158          0.896497\n",
      "yes    3020          0.103503 \n",
>>>>>>> Stashed changes
      "\n",
      "\n"
     ]
    }
   ],
   "source": [
    "def getCP(column):\n",
    "    xCount = column.value_counts()\n",
    "    xPercentages = xCount/len(column)\n",
    "    outData = pd.DataFrame()\n",
    "    outData['Counts'] = xCount\n",
    "    outData['Percent of Total'] = xPercentages\n",
    "    return outData\n",
    "\n",
    "print(\"Percentages for Target variable, Y: \\n\\n\",getCP(bankData2['y']),\"\\n\\n\")"
   ]
  },
  {
   "cell_type": "markdown",
   "id": "104773f9",
   "metadata": {},
   "source": [
    "As seen above, the target variable of our data set is imbalanced with ~87% \"no\" responses. With this imbalance in mind, we chose to proceed with stratified sampling which allows for a uniform distribution of the target variable between the training and test splits. In combination with this sampling strategy, we chose to perform stratified k-fold cross validation.\n",
    "\n",
    "\n",
    "https://towardsdatascience.com/stratified-sampling-you-may-have-been-splitting-your-dataset-all-wrong-8cfdd0d32502"
   ]
  },
  {
   "cell_type": "code",
<<<<<<< Updated upstream
   "execution_count": 18,
=======
   "execution_count": 62,
   "id": "ec9def30",
   "metadata": {},
   "outputs": [
    {
     "data": {
      "text/html": [
       "<div>\n",
       "<style scoped>\n",
       "    .dataframe tbody tr th:only-of-type {\n",
       "        vertical-align: middle;\n",
       "    }\n",
       "\n",
       "    .dataframe tbody tr th {\n",
       "        vertical-align: top;\n",
       "    }\n",
       "\n",
       "    .dataframe thead th {\n",
       "        text-align: right;\n",
       "    }\n",
       "</style>\n",
       "<table border=\"1\" class=\"dataframe\">\n",
       "  <thead>\n",
       "    <tr style=\"text-align: right;\">\n",
       "      <th></th>\n",
       "      <th>age</th>\n",
       "      <th>job</th>\n",
       "      <th>marital</th>\n",
       "      <th>housing</th>\n",
       "      <th>loan</th>\n",
       "      <th>contact</th>\n",
       "      <th>month</th>\n",
       "      <th>day_of_week</th>\n",
       "      <th>campaign</th>\n",
       "      <th>pdays</th>\n",
       "      <th>previous</th>\n",
       "      <th>poutcome</th>\n",
       "      <th>emp.var.rate</th>\n",
       "      <th>cons.price.idx</th>\n",
       "      <th>cons.conf.idx</th>\n",
       "      <th>euribor3m</th>\n",
       "      <th>nr.employed</th>\n",
       "      <th>y</th>\n",
       "    </tr>\n",
       "  </thead>\n",
       "  <tbody>\n",
       "    <tr>\n",
       "      <th>0</th>\n",
       "      <td>56</td>\n",
       "      <td>housemaid</td>\n",
       "      <td>married</td>\n",
       "      <td>no</td>\n",
       "      <td>no</td>\n",
       "      <td>telephone</td>\n",
       "      <td>may</td>\n",
       "      <td>mon</td>\n",
       "      <td>1</td>\n",
       "      <td>999</td>\n",
       "      <td>0</td>\n",
       "      <td>nonexistent</td>\n",
       "      <td>1.1</td>\n",
       "      <td>93.994</td>\n",
       "      <td>-36.4</td>\n",
       "      <td>4.857</td>\n",
       "      <td>5191.0</td>\n",
       "      <td>no</td>\n",
       "    </tr>\n",
       "    <tr>\n",
       "      <th>2</th>\n",
       "      <td>37</td>\n",
       "      <td>services</td>\n",
       "      <td>married</td>\n",
       "      <td>yes</td>\n",
       "      <td>no</td>\n",
       "      <td>telephone</td>\n",
       "      <td>may</td>\n",
       "      <td>mon</td>\n",
       "      <td>1</td>\n",
       "      <td>999</td>\n",
       "      <td>0</td>\n",
       "      <td>nonexistent</td>\n",
       "      <td>1.1</td>\n",
       "      <td>93.994</td>\n",
       "      <td>-36.4</td>\n",
       "      <td>4.857</td>\n",
       "      <td>5191.0</td>\n",
       "      <td>no</td>\n",
       "    </tr>\n",
       "    <tr>\n",
       "      <th>3</th>\n",
       "      <td>40</td>\n",
       "      <td>admin.</td>\n",
       "      <td>married</td>\n",
       "      <td>no</td>\n",
       "      <td>no</td>\n",
       "      <td>telephone</td>\n",
       "      <td>may</td>\n",
       "      <td>mon</td>\n",
       "      <td>1</td>\n",
       "      <td>999</td>\n",
       "      <td>0</td>\n",
       "      <td>nonexistent</td>\n",
       "      <td>1.1</td>\n",
       "      <td>93.994</td>\n",
       "      <td>-36.4</td>\n",
       "      <td>4.857</td>\n",
       "      <td>5191.0</td>\n",
       "      <td>no</td>\n",
       "    </tr>\n",
       "    <tr>\n",
       "      <th>4</th>\n",
       "      <td>56</td>\n",
       "      <td>services</td>\n",
       "      <td>married</td>\n",
       "      <td>no</td>\n",
       "      <td>yes</td>\n",
       "      <td>telephone</td>\n",
       "      <td>may</td>\n",
       "      <td>mon</td>\n",
       "      <td>1</td>\n",
       "      <td>999</td>\n",
       "      <td>0</td>\n",
       "      <td>nonexistent</td>\n",
       "      <td>1.1</td>\n",
       "      <td>93.994</td>\n",
       "      <td>-36.4</td>\n",
       "      <td>4.857</td>\n",
       "      <td>5191.0</td>\n",
       "      <td>no</td>\n",
       "    </tr>\n",
       "    <tr>\n",
       "      <th>6</th>\n",
       "      <td>59</td>\n",
       "      <td>admin.</td>\n",
       "      <td>married</td>\n",
       "      <td>no</td>\n",
       "      <td>no</td>\n",
       "      <td>telephone</td>\n",
       "      <td>may</td>\n",
       "      <td>mon</td>\n",
       "      <td>1</td>\n",
       "      <td>999</td>\n",
       "      <td>0</td>\n",
       "      <td>nonexistent</td>\n",
       "      <td>1.1</td>\n",
       "      <td>93.994</td>\n",
       "      <td>-36.4</td>\n",
       "      <td>4.857</td>\n",
       "      <td>5191.0</td>\n",
       "      <td>no</td>\n",
       "    </tr>\n",
       "  </tbody>\n",
       "</table>\n",
       "</div>"
      ],
      "text/plain": [
       "   age        job  marital housing loan    contact month day_of_week  \\\n",
       "0   56  housemaid  married      no   no  telephone   may         mon   \n",
       "2   37   services  married     yes   no  telephone   may         mon   \n",
       "3   40     admin.  married      no   no  telephone   may         mon   \n",
       "4   56   services  married      no  yes  telephone   may         mon   \n",
       "6   59     admin.  married      no   no  telephone   may         mon   \n",
       "\n",
       "   campaign  pdays  previous     poutcome  emp.var.rate  cons.price.idx  \\\n",
       "0         1    999         0  nonexistent           1.1          93.994   \n",
       "2         1    999         0  nonexistent           1.1          93.994   \n",
       "3         1    999         0  nonexistent           1.1          93.994   \n",
       "4         1    999         0  nonexistent           1.1          93.994   \n",
       "6         1    999         0  nonexistent           1.1          93.994   \n",
       "\n",
       "   cons.conf.idx  euribor3m  nr.employed   y  \n",
       "0          -36.4      4.857       5191.0  no  \n",
       "2          -36.4      4.857       5191.0  no  \n",
       "3          -36.4      4.857       5191.0  no  \n",
       "4          -36.4      4.857       5191.0  no  \n",
       "6          -36.4      4.857       5191.0  no  "
      ]
     },
     "execution_count": 62,
     "metadata": {},
     "output_type": "execute_result"
    }
   ],
   "source": [
    "# Creating separate dataset for predicting education\n",
    "educData = bankData2\n",
    "educTarget = educData.education\n",
    "educData = educData.drop(columns='education')\n",
    "educData.head()"
   ]
  },
  {
   "cell_type": "markdown",
   "id": "216b2a25",
   "metadata": {},
   "source": [
    "The following code is a loop that consecutively trains and tests models for kNN, XGBoost, and random forest. In addition, a visualization of Accuracy vs Split for each model can be found below. "
   ]
  },
  {
   "cell_type": "code",
   "execution_count": 57,
>>>>>>> Stashed changes
   "id": "c4a7185a",
   "metadata": {
    "scrolled": false
   },
   "outputs": [
    {
     "name": "stdout",
     "output_type": "stream",
     "text": [
<<<<<<< Updated upstream
      "CPU times: user 4min, sys: 8.35 s, total: 4min 8s\n",
      "Wall time: 1min 11s\n"
=======
      "CPU times: total: 2min 58s\n",
      "Wall time: 1min 3s\n"
>>>>>>> Stashed changes
     ]
    },
    {
     "data": {
<<<<<<< Updated upstream
      "image/png": "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\n",
=======
      "image/png": "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\n",
>>>>>>> Stashed changes
      "text/plain": [
       "<Figure size 842.4x595.44 with 1 Axes>"
      ]
     },
     "metadata": {},
     "output_type": "display_data"
    }
   ],
   "source": [
    "%%time\n",
    "\n",
    "#Separating X values\n",
    "x = OneHotDF\n",
    "xVal = x.values\n",
<<<<<<< Updated upstream
    "educVal = oneHotEduc.values\n",
    "#educY = educTarget.ravel()\n",
=======
>>>>>>> Stashed changes
    "\n",
    "#Setting Parameters\n",
    "randomState = 777\n",
    "splits = 15\n",
    "neighbors = 5\n",
    "\n",
    "#Declaring CV object\n",
    "cvStrat = StratifiedKFold(n_splits= splits, shuffle = True, random_state = randomState)\n",
    "\n",
    "#Setting up basic models\n",
    "lrClf = LogisticRegression(random_state=randomState)\n",
    "knn = KNeighborsClassifier(n_neighbors = neighbors)\n",
    "rf = RandomForestClassifier(random_state=randomState)\n",
    "xgb = XGBClassifier(random_state=randomState, eval_metric='logloss')\n",
    "\n",
    "#Separating target variable\n",
    "y = bankData2['y']\n",
    "y = y.ravel()\n",
    "\n",
    "#Creating lists to store accuracy scores\n",
<<<<<<< Updated upstream
=======
    "lrAccs = []\n",
>>>>>>> Stashed changes
    "knnAccs = []\n",
    "rfAccs = []\n",
    "xgbAccs = []\n",
    "\n",
    "#Designating labels\n",
    "labels = ['no', 'yes']\n",
    "\n",
    "for trainIndices, testIndices in cvStrat.split(xVal,y): \n",
    "    \n",
    "    #Term Subscription Prediction Testing/Training Splits\n",
    "    xTrain = xVal[trainIndices]\n",
    "    yTrain = y[trainIndices]\n",
    "    yTrainBin = yTrain\n",
    "    yTrainBin = (yTrainBin=='yes').astype(int)\n",
    "    \n",
    "    xTest = xVal[testIndices]\n",
    "    yTest = y[testIndices]\n",
    "    yTestBin = yTest\n",
    "    yTestBin = (yTestBin=='yes').astype(int)\n",
    "    \n",
<<<<<<< Updated upstream
=======
    "#     xTrain2 = xVal[trainIndices]\n",
    "#     xTest2 = x[testIndices]\n",
    "    \n",
    "#     educXTrain = \n",
    "#     educXTest = \n",
    "#     educYTrain = educ[trainIndices]\n",
    "#     educYTest = educ[testIndices]\n",
    "    \n",
    "    #Scaled LR training\n",
    "    lrClf.fit(xTrain, yTrain)\n",
    "    yHatLR = lrClf.predict(xTest)\n",
    "    lrAccs.append(mt.accuracy_score(yTest, yHatLR))\n",
    "    \n",
>>>>>>> Stashed changes
    "    #Scaled KNN training\n",
    "    knn.fit(xTrain, yTrain) \n",
    "    yHatKnn = knn.predict(xTest)\n",
    "    knnAccs.append(mt.accuracy_score(yTest,yHatKnn))\n",
    "    \n",
    "    #Scaled XGBoost training\n",
    "    xgb.fit(xTrain, yTrainBin)\n",
    "    yHatXgb = xgb.predict(xTest)\n",
    "    xgbAccs.append(mt.accuracy_score(yTestBin, yHatXgb))\n",
    "    \n",
    "    #Scaled Random Forrest Training\n",
    "    rf.fit(xTrain, yTrainBin)\n",
    "    rfAccs.append(rf.score(xTest, yTestBin))\n",
    "\n",
    "    \n",
    "with warnings.catch_warnings(record=True):\n",
    "    normalPlot = plt.figure(1)\n",
    "    \n",
    "    knnAccs = pd.Series(data = knnAccs)\n",
    "    knnAccs.plot()\n",
    "    \n",
    "    rfAccs = pd.Series(data = rfAccs)\n",
    "    rfAccs.plot()\n",
    "    \n",
    "    xgbAccs = pd.Series(data = xgbAccs)\n",
    "    xgbAccs.plot()\n",
    "    \n",
    "    plt.xticks(np.arange(0, splits, 1))\n",
    "    plt.title(\"Accuracy of Different Models\")\n",
    "    plt.legend(loc=\"upper left\", labels = ['k-NN', 'Random Forest','XGBoost'], prop={'size': 15})\n",
    "    \n",
    "    normalPlot.show()"
   ]
  },
  {
   "cell_type": "markdown",
   "id": "ac3e6176",
   "metadata": {},
   "source": [
    "The figure above indicated that accuracy for the XGBoost model was consistently higher than random forest and k-NN. "
   ]
  },
  {
   "cell_type": "markdown",
   "id": "6270b941",
   "metadata": {},
   "source": [
    "Given the performance shown in the figure above, it was clear that the scaled data"
   ]
  },
  {
   "cell_type": "code",
<<<<<<< Updated upstream
   "execution_count": 13,
=======
   "execution_count": 41,
>>>>>>> Stashed changes
   "id": "585a0a6f",
   "metadata": {},
   "outputs": [
    {
     "name": "stdout",
     "output_type": "stream",
     "text": [
<<<<<<< Updated upstream
      "Accuracy on training set :  0.9023803599568715\n",
      "Accuracy on test set :  0.9018583042973287\n",
      "\n",
      "Recall on training set :  0.9929999078935249\n",
      "Recall on test set :  0.9929032258064516\n",
      "\n",
      "Precision on training set :  0.9073388318464904\n",
      "Precision on test set :  0.9068945197407189\n"
=======
      "Accuracy on training set :  0.8977190510643159\n",
      "Accuracy on test set :  0.8964689749742887\n",
      "\n",
      "Recall on training set :  0.992821645499724\n",
      "Recall on test set :  0.994263862332696\n",
      "\n",
      "Precision on training set :  0.9027847514580356\n",
      "Precision on test set :  0.9005888465535158\n"
>>>>>>> Stashed changes
     ]
    },
    {
     "data": {
      "text/plain": [
<<<<<<< Updated upstream
       "[0.9023803599568715,\n",
       " 0.9018583042973287,\n",
       " 0.9929999078935249,\n",
       " 0.9929032258064516,\n",
       " 0.9073388318464904,\n",
       " 0.9068945197407189]"
      ]
     },
     "execution_count": 13,
=======
       "[0.8977190510643159,\n",
       " 0.8964689749742887,\n",
       " 0.992821645499724,\n",
       " 0.994263862332696,\n",
       " 0.9027847514580356,\n",
       " 0.9005888465535158]"
      ]
     },
     "execution_count": 41,
>>>>>>> Stashed changes
     "metadata": {},
     "output_type": "execute_result"
    }
   ],
   "source": [
    "get_metrics_score(lrClf, flag=True)"
   ]
  },
  {
   "cell_type": "code",
<<<<<<< Updated upstream
   "execution_count": 14,
=======
   "execution_count": 45,
>>>>>>> Stashed changes
   "id": "a41c8953",
   "metadata": {},
   "outputs": [
    {
<<<<<<< Updated upstream
     "data": {
      "image/png": "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\n",
      "text/plain": [
       "<Figure size 720x504 with 2 Axes>"
      ]
     },
     "metadata": {},
     "output_type": "display_data"
=======
     "ename": "NameError",
     "evalue": "name 'xTestScaled' is not defined",
     "output_type": "error",
     "traceback": [
      "\u001b[1;31m---------------------------------------------------------------------------\u001b[0m",
      "\u001b[1;31mNameError\u001b[0m                                 Traceback (most recent call last)",
      "Input \u001b[1;32mIn [45]\u001b[0m, in \u001b[0;36m<cell line: 1>\u001b[1;34m()\u001b[0m\n\u001b[1;32m----> 1\u001b[0m make_confusion_matrix(lrClf, yTest, \u001b[43mxTestScaled\u001b[49m, labels \u001b[38;5;241m=\u001b[39m [\u001b[38;5;124m'\u001b[39m\u001b[38;5;124mno\u001b[39m\u001b[38;5;124m'\u001b[39m, \u001b[38;5;124m'\u001b[39m\u001b[38;5;124myes\u001b[39m\u001b[38;5;124m'\u001b[39m])\n",
      "\u001b[1;31mNameError\u001b[0m: name 'xTestScaled' is not defined"
     ]
>>>>>>> Stashed changes
    }
   ],
   "source": [
    "make_confusion_matrix(lrClf, yTest, xTest, labels = ['no', 'yes'])"
   ]
  },
  {
   "cell_type": "code",
<<<<<<< Updated upstream
   "execution_count": 15,
=======
   "execution_count": 43,
>>>>>>> Stashed changes
   "id": "6ffdfe3b",
   "metadata": {},
   "outputs": [
    {
<<<<<<< Updated upstream
     "data": {
      "image/png": "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\n",
      "text/plain": [
       "<Figure size 720x504 with 2 Axes>"
      ]
     },
     "metadata": {},
     "output_type": "display_data"
    }
   ],
   "source": [
    "make_confusion_matrix(knn, yTest, xTest, labels = ['no','yes'])"
   ]
  },
  {
   "cell_type": "code",
   "execution_count": null,
   "id": "841b5270",
   "metadata": {},
   "outputs": [],
=======
     "ename": "NameError",
     "evalue": "name 'xTestScaled' is not defined",
     "output_type": "error",
     "traceback": [
      "\u001b[1;31m---------------------------------------------------------------------------\u001b[0m",
      "\u001b[1;31mNameError\u001b[0m                                 Traceback (most recent call last)",
      "Input \u001b[1;32mIn [43]\u001b[0m, in \u001b[0;36m<cell line: 1>\u001b[1;34m()\u001b[0m\n\u001b[1;32m----> 1\u001b[0m make_confusion_matrix(knn, yTest, \u001b[43mxTestScaled\u001b[49m, labels \u001b[38;5;241m=\u001b[39m [\u001b[38;5;124m'\u001b[39m\u001b[38;5;124mno\u001b[39m\u001b[38;5;124m'\u001b[39m,\u001b[38;5;124m'\u001b[39m\u001b[38;5;124myes\u001b[39m\u001b[38;5;124m'\u001b[39m])\n",
      "\u001b[1;31mNameError\u001b[0m: name 'xTestScaled' is not defined"
     ]
    }
   ],
>>>>>>> Stashed changes
   "source": [
    "#Creating lists to store accuracy scores\n",
    "knnAccs = []\n",
    "rfAccs = []\n",
    "xgbAccs = []\n",
    "\n",
    "for trainIndices, testIndices in cvStrat.split(educVal,y):     \n",
    "    #Education Prediction Testing/Training Splits\n",
    "    educXTrain = educVal[trainIndices]\n",
    "    educXTest = educVal[testIndices]\n",
    "\n",
    "    educYTrain = educY[trainIndices]\n",
    "    educYTest = educY[testIndices]\n",
    "    educYTrainBin = educYTrain\n",
    "    educYTrainBin = (educYTrainBin=='yes').astype(int)\n",
    "    educYTestBin = educYTest\n",
    "    educYTestBin = (yTestBin=='yes').astype(int)\n",
    "    \n",
    "    #k-NN training\n",
    "    knn.fit(educXTrain, educYTrain) \n",
    "    yHatKnn = knn.predict(educXTest)\n",
    "    knnAccs.append(mt.accuracy_score(educYTest,yHatKnn))\n",
    "    \n",
    "    #XGBoost training\n",
    "    xgb.fit(educXTrain, yTrainBin)\n",
    "    yHatXgb = xgb.predict(xTest)\n",
    "    xgbAccs.append(mt.accuracy_score(yTestBin, yHatXgb))\n",
    "    \n",
    "    #Random Forrest Training\n",
    "    rf.fit(xTrain, yTrainBin)\n",
    "    rfAccs.append(rf.score(xTest, yTestBin))"
   ]
  },
  {
   "cell_type": "markdown",
   "id": "6411803d",
   "metadata": {},
   "source": [
    "### Part 3\n",
    "\n",
    "***Create three different classification/regression models for each task (e.g., random forest, KNN, and SVM for task one and the same or different algorithms for task two). Two modeling techniques must be new (but the third could be SVM or logistic regression). Adjust parameters as appropriate to increase generalization performance using your chosen metric. You must investigate different parameters of the algorithms!***"
   ]
  },
  {
   "cell_type": "markdown",
   "id": "c6ef86ee",
   "metadata": {},
   "source": [
    "#### Random Forest"
   ]
  },
  {
   "cell_type": "code",
   "execution_count": null,
   "id": "83c2461f",
   "metadata": {},
   "outputs": [],
   "source": []
  },
  {
   "cell_type": "markdown",
   "id": "b567ec94",
   "metadata": {},
   "source": [
    "#### XGBoost"
   ]
  },
  {
   "cell_type": "code",
<<<<<<< Updated upstream
   "execution_count": 16,
   "id": "cf5534cb",
   "metadata": {},
   "outputs": [
    {
     "data": {
      "text/plain": [
       "XGBClassifier(base_score=0.5, booster='gbtree', callbacks=None,\n",
       "              colsample_bylevel=1, colsample_bynode=1, colsample_bytree=1,\n",
       "              early_stopping_rounds=None, enable_categorical=False,\n",
       "              eval_metric='logloss', gamma=0, gpu_id=-1,\n",
       "              grow_policy='depthwise', importance_type=None,\n",
       "              interaction_constraints='', learning_rate=0.300000012,\n",
       "              max_bin=256, max_cat_to_onehot=4, max_delta_step=0, max_depth=6,\n",
       "              max_leaves=0, min_child_weight=1, missing=nan,\n",
       "              monotone_constraints='()', n_estimators=100, n_jobs=0,\n",
       "              num_parallel_tree=1, predictor='auto', random_state=10,\n",
       "              reg_alpha=0, reg_lambda=1, ...)"
      ]
     },
     "execution_count": 16,
     "metadata": {},
     "output_type": "execute_result"
    }
   ],
=======
   "execution_count": null,
   "id": "cf5534cb",
   "metadata": {},
   "outputs": [],
>>>>>>> Stashed changes
   "source": [
    "xgb = XGBClassifier(random_state=10, eval_metric='logloss')\n",
    "xgb.fit(xTrain,yTrainBin)"
   ]
  },
  {
   "cell_type": "markdown",
   "id": "c168ef4b",
   "metadata": {},
   "source": [
    "#### KNN"
   ]
  },
  {
   "cell_type": "code",
   "execution_count": null,
   "id": "095ecc31",
   "metadata": {},
   "outputs": [],
   "source": []
  },
  {
   "cell_type": "markdown",
   "id": "a765eb98",
   "metadata": {},
   "source": [
    "### Part 4\n",
    "\n",
    "***Analyze the results using your chosen method of evaluation. Use visualizations of the results to bolster the analysis. Explain any visuals and analyze why they are interesting to someone that might use this model.***"
   ]
  },
  {
   "cell_type": "code",
   "execution_count": null,
   "id": "75138842",
   "metadata": {},
   "outputs": [],
   "source": []
  },
  {
   "cell_type": "markdown",
   "id": "75097d2a",
   "metadata": {},
   "source": [
    "### Part 5\n",
    "\n",
    "***Discuss the advantages of each model for each classification task, if any. If there are not advantages, explain why. Is any model better than another? Is the difference significant with 95% confidence? Use proper statistical comparison methods. You must use statistical comparison techniques—be sure they are appropriate for your chosen method of validation as discussed in unit 7 of the course.***"
   ]
  },
  {
   "cell_type": "markdown",
   "id": "30f99eee",
   "metadata": {},
   "source": [
    "\n",
    "because the data set is so skewed, a lot of people are not accepting short term deposit, we don't want all of the variables to be \"no\" answers because we only have a 10% \"yes\" rate."
   ]
  },
  {
   "cell_type": "markdown",
   "id": "5479830f",
   "metadata": {},
   "source": [
    "## Part 6\n",
    "\n",
    "***Which attributes from your analysis are most important? Use proper methods discussed in class to evaluate the importance of different attributes. Discuss the results and hypothesize about why certain attributes are more important than others for a given classification task.***"
   ]
  },
  {
   "cell_type": "code",
   "execution_count": null,
   "id": "01034c38",
   "metadata": {},
   "outputs": [],
   "source": []
  },
  {
   "cell_type": "markdown",
   "id": "72933e7e",
   "metadata": {},
   "source": [
    "## Deployment\n",
    "\n",
    "***How useful is your model for interested parties (i.e., the companies or organizations that might want to use it for prediction)? How would you measure the model's value if it was used by these parties? How would your deploy your model for interested parties? What other data should be collected? How often would the model need to be updated, etc.?***"
   ]
  },
  {
   "cell_type": "code",
   "execution_count": null,
   "id": "e06dcc3c",
   "metadata": {},
   "outputs": [],
   "source": []
  },
  {
   "cell_type": "markdown",
   "id": "49c47d47",
   "metadata": {},
   "source": [
    "## Exceptional Work\n",
    "\n",
    "You have free reign to provide additional analyses. One idea: grid search parameters in a parallelized fashion and visualize the performances across attributes. Which parameters are most significant for making a good model for each classification algorithm?"
   ]
  }
 ],
 "metadata": {
  "kernelspec": {
   "display_name": "Python 3 (ipykernel)",
   "language": "python",
   "name": "python3"
  },
  "language_info": {
   "codemirror_mode": {
    "name": "ipython",
    "version": 3
   },
   "file_extension": ".py",
   "mimetype": "text/x-python",
   "name": "python",
   "nbconvert_exporter": "python",
   "pygments_lexer": "ipython3",
   "version": "3.9.12"
  }
 },
 "nbformat": 4,
 "nbformat_minor": 5
}
